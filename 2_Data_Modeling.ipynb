{
 "cells": [
  {
   "cell_type": "code",
   "execution_count": 1,
   "id": "493b0b84",
   "metadata": {},
   "outputs": [],
   "source": [
    "import os"
   ]
  },
  {
   "cell_type": "code",
   "execution_count": 6,
   "id": "4b2f845c",
   "metadata": {},
   "outputs": [],
   "source": [
    "import pandas as pd\n",
    "import numpy as np\n",
    "import nltk"
   ]
  },
  {
   "cell_type": "code",
   "execution_count": 3,
   "id": "89d93a04",
   "metadata": {},
   "outputs": [],
   "source": [
    "from sklearn.model_selection import train_test_split"
   ]
  },
  {
   "cell_type": "code",
   "execution_count": 9,
   "id": "6760fc49",
   "metadata": {},
   "outputs": [],
   "source": [
    "DATA_DIR = os.path.abspath('./datasets/output/data.csv')"
   ]
  },
  {
   "cell_type": "code",
   "execution_count": 10,
   "id": "c4f75337",
   "metadata": {},
   "outputs": [],
   "source": [
    "#nltk.download('stopwords')"
   ]
  },
  {
   "cell_type": "markdown",
   "id": "31e023fe",
   "metadata": {},
   "source": [
    "## Loading Data"
   ]
  },
  {
   "cell_type": "code",
   "execution_count": 12,
   "id": "b3926ca5",
   "metadata": {},
   "outputs": [
    {
     "data": {
      "text/html": [
       "<div>\n",
       "<style scoped>\n",
       "    .dataframe tbody tr th:only-of-type {\n",
       "        vertical-align: middle;\n",
       "    }\n",
       "\n",
       "    .dataframe tbody tr th {\n",
       "        vertical-align: top;\n",
       "    }\n",
       "\n",
       "    .dataframe thead th {\n",
       "        text-align: right;\n",
       "    }\n",
       "</style>\n",
       "<table border=\"1\" class=\"dataframe\">\n",
       "  <thead>\n",
       "    <tr style=\"text-align: right;\">\n",
       "      <th></th>\n",
       "      <th>class</th>\n",
       "      <th>text</th>\n",
       "    </tr>\n",
       "    <tr>\n",
       "      <th>id</th>\n",
       "      <th></th>\n",
       "      <th></th>\n",
       "    </tr>\n",
       "  </thead>\n",
       "  <tbody>\n",
       "    <tr>\n",
       "      <th>182</th>\n",
       "      <td>Interview</td>\n",
       "      <td>﻿विडम्बना, ओलीको सत्ता सवारी पनि सिंहदरबारमा फ...</td>\n",
       "    </tr>\n",
       "    <tr>\n",
       "      <th>127</th>\n",
       "      <td>Interview</td>\n",
       "      <td>﻿नेपाली कांग्रेसको सभापतिमा रामचन्द्र पौडेलको ...</td>\n",
       "    </tr>\n",
       "    <tr>\n",
       "      <th>85</th>\n",
       "      <td>Interview</td>\n",
       "      <td>﻿\\nदुर्भाग्य नै भन्नुपर्छ हाम्रो प्राथमिकता पे...</td>\n",
       "    </tr>\n",
       "    <tr>\n",
       "      <th>162</th>\n",
       "      <td>Interview</td>\n",
       "      <td>﻿नयनराज पाण्डे, लेखक\\nविमोचन हुनै लागेको तपाईं...</td>\n",
       "    </tr>\n",
       "    <tr>\n",
       "      <th>13</th>\n",
       "      <td>Interview</td>\n",
       "      <td>﻿- भवन भट्ट, उपाध्यक्ष, गैर आवासीय नेपाली संघ\\...</td>\n",
       "    </tr>\n",
       "  </tbody>\n",
       "</table>\n",
       "</div>"
      ],
      "text/plain": [
       "         class                                               text\n",
       "id                                                               \n",
       "182  Interview  ﻿विडम्बना, ओलीको सत्ता सवारी पनि सिंहदरबारमा फ...\n",
       "127  Interview  ﻿नेपाली कांग्रेसको सभापतिमा रामचन्द्र पौडेलको ...\n",
       "85   Interview  ﻿\\nदुर्भाग्य नै भन्नुपर्छ हाम्रो प्राथमिकता पे...\n",
       "162  Interview  ﻿नयनराज पाण्डे, लेखक\\nविमोचन हुनै लागेको तपाईं...\n",
       "13   Interview  ﻿- भवन भट्ट, उपाध्यक्ष, गैर आवासीय नेपाली संघ\\..."
      ]
     },
     "execution_count": 12,
     "metadata": {},
     "output_type": "execute_result"
    }
   ],
   "source": [
    "df = pd.read_csv(DATA_DIR,index_col=0)\n",
    "df.head()"
   ]
  },
  {
   "cell_type": "code",
   "execution_count": 30,
   "id": "c77c8390",
   "metadata": {},
   "outputs": [],
   "source": [
    "df.dropna(inplace=True)"
   ]
  },
  {
   "cell_type": "code",
   "execution_count": 31,
   "id": "a2604766",
   "metadata": {},
   "outputs": [],
   "source": [
    "y = df['class']\n",
    "X = df['text']"
   ]
  },
  {
   "cell_type": "code",
   "execution_count": 128,
   "id": "f713fd1c",
   "metadata": {},
   "outputs": [
    {
     "data": {
      "text/plain": [
       "['Agriculture',\n",
       " 'Automobiles',\n",
       " 'Bank',\n",
       " 'Sports',\n",
       " 'Employment',\n",
       " 'Entertainment',\n",
       " 'Literature',\n",
       " 'Society',\n",
       " 'Tourism',\n",
       " 'Blog',\n",
       " 'Opinion',\n",
       " 'Migration',\n",
       " 'Politics',\n",
       " 'Technology',\n",
       " 'Education',\n",
       " 'World',\n",
       " 'Interview',\n",
       " 'Economy',\n",
       " 'Business']"
      ]
     },
     "execution_count": 128,
     "metadata": {},
     "output_type": "execute_result"
    }
   ],
   "source": [
    "labels=list(set(df['class']))\n",
    "labels"
   ]
  },
  {
   "cell_type": "markdown",
   "id": "f5a4e257",
   "metadata": {},
   "source": [
    "### Processing Data"
   ]
  },
  {
   "cell_type": "code",
   "execution_count": 147,
   "id": "4f1f6d3d",
   "metadata": {},
   "outputs": [],
   "source": [
    "from nltk.corpus import stopwords\n",
    "from sklearn.feature_extraction.text import TfidfVectorizer"
   ]
  },
  {
   "cell_type": "code",
   "execution_count": 148,
   "id": "99897569",
   "metadata": {},
   "outputs": [],
   "source": [
    "nepali_stop_words = set(stopwords.words('nepali'))"
   ]
  },
  {
   "cell_type": "code",
   "execution_count": 149,
   "id": "5cb42f54",
   "metadata": {},
   "outputs": [],
   "source": [
    "tfidfVectorizer = TfidfVectorizer(stop_words=nepali_stop_words,encoding='utf-8',decode_error='ignore')"
   ]
  },
  {
   "cell_type": "code",
   "execution_count": 150,
   "id": "c5afe6f4",
   "metadata": {},
   "outputs": [],
   "source": [
    "tfidfVectorizer = TfidfVectorizer(tokenizer= lambda x: x.split(\" \"),\n",
    "                                  sublinear_tf=True, encoding='utf-8',\n",
    "                                  decode_error='ignore',\n",
    "                                  max_df=0.5,\n",
    "                                  min_df=10,\n",
    "                                  stop_words=nepali_stop_words)"
   ]
  },
  {
   "cell_type": "code",
   "execution_count": 151,
   "id": "cb386c01",
   "metadata": {},
   "outputs": [
    {
     "name": "stderr",
     "output_type": "stream",
     "text": [
      "/home/ash/Desktop/projects/nepali_news_classifier_recommender/venv/lib/python3.9/site-packages/sklearn/feature_extraction/text.py:388: UserWarning: Your stop_words may be inconsistent with your preprocessing. Tokenizing the stop words generated tokens ['कम', 'से'] not in stop_words.\n",
      "  warnings.warn('Your stop_words may be inconsistent with '\n"
     ]
    }
   ],
   "source": [
    "X_vectorized = tfidfVectorizer.fit_transform(X)"
   ]
  },
  {
   "cell_type": "code",
   "execution_count": 156,
   "id": "0603b0d0",
   "metadata": {},
   "outputs": [
    {
     "data": {
      "text/plain": [
       "<5475x14431 sparse matrix of type '<class 'numpy.float64'>'\n",
       "\twith 740939 stored elements in Compressed Sparse Row format>"
      ]
     },
     "execution_count": 156,
     "metadata": {},
     "output_type": "execute_result"
    }
   ],
   "source": [
    "X_vectorized"
   ]
  },
  {
   "cell_type": "code",
   "execution_count": 157,
   "id": "f62fc056",
   "metadata": {},
   "outputs": [],
   "source": [
    "X_train,X_test,y_train,y_test = train_test_split(X,y,test_size=0.2)"
   ]
  },
  {
   "cell_type": "code",
   "execution_count": 158,
   "id": "58c5a51d",
   "metadata": {},
   "outputs": [
    {
     "data": {
      "text/plain": [
       "((4380,), (4380,))"
      ]
     },
     "execution_count": 158,
     "metadata": {},
     "output_type": "execute_result"
    }
   ],
   "source": [
    "X_train.shape, y_train.shape"
   ]
  },
  {
   "cell_type": "code",
   "execution_count": 159,
   "id": "f30ad99c",
   "metadata": {},
   "outputs": [
    {
     "data": {
      "text/plain": [
       "((1095,), (1095,))"
      ]
     },
     "execution_count": 159,
     "metadata": {},
     "output_type": "execute_result"
    }
   ],
   "source": [
    "X_test.shape, y_test.shape"
   ]
  },
  {
   "cell_type": "markdown",
   "id": "1fbefd89",
   "metadata": {},
   "source": [
    "## SVC Classifier"
   ]
  },
  {
   "cell_type": "code",
   "execution_count": 48,
   "id": "5d1ed8c5",
   "metadata": {},
   "outputs": [],
   "source": [
    "from sklearn.pipeline import Pipeline\n",
    "from sklearn.svm import SVC\n",
    "from sklearn.feature_selection import SelectKBest, chi2"
   ]
  },
  {
   "cell_type": "code",
   "execution_count": 81,
   "id": "d4fe36a1",
   "metadata": {},
   "outputs": [],
   "source": [
    "svc_clf = Pipeline([\n",
    "    ('vectorizer',tfidfVectorizer),\n",
    "    ('chi2',SelectKBest(chi2,k=5000)),\n",
    "    ('clf',SVC())\n",
    "])\n",
    "svc_clf_no_feat_sel = Pipeline([\n",
    "    ('vectorizer',tfidfVectorizer),\n",
    "\n",
    "    ('clf',SVC())\n",
    "])"
   ]
  },
  {
   "cell_type": "code",
   "execution_count": 82,
   "id": "f9419b91",
   "metadata": {},
   "outputs": [
    {
     "data": {
      "text/plain": [
       "Pipeline(steps=[('vectorizer',\n",
       "                 TfidfVectorizer(decode_error='ignore',\n",
       "                                 stop_words={'अक्सर', 'अगाडी', 'अझै', 'अनुसार',\n",
       "                                             'अन्तर्गत', 'अन्य', 'अन्यत्र',\n",
       "                                             'अन्यथा', 'अब', 'अरु', 'अरुलाई',\n",
       "                                             'अर्को', 'अर्थात', 'अर्थात्',\n",
       "                                             'अलग', 'आए', 'आजको', 'आत्म', 'आदि',\n",
       "                                             'आफू', 'आफूलाई', 'आफ्नै', 'आफ्नो',\n",
       "                                             'आयो', 'उदाहरण', 'उनको', 'उनले',\n",
       "                                             'उप', 'उहालाई', 'एउटै', ...})),\n",
       "                ('chi2',\n",
       "                 SelectKBest(k=5000,\n",
       "                             score_func=<function chi2 at 0x7f425e595160>)),\n",
       "                ('clf', SVC())])"
      ]
     },
     "execution_count": 82,
     "metadata": {},
     "output_type": "execute_result"
    }
   ],
   "source": [
    "svc_clf.fit(X_train,y_train)"
   ]
  },
  {
   "cell_type": "code",
   "execution_count": 86,
   "id": "8fd02fab",
   "metadata": {},
   "outputs": [
    {
     "data": {
      "text/plain": [
       "Pipeline(steps=[('vectorizer',\n",
       "                 TfidfVectorizer(decode_error='ignore',\n",
       "                                 stop_words={'अक्सर', 'अगाडी', 'अझै', 'अनुसार',\n",
       "                                             'अन्तर्गत', 'अन्य', 'अन्यत्र',\n",
       "                                             'अन्यथा', 'अब', 'अरु', 'अरुलाई',\n",
       "                                             'अर्को', 'अर्थात', 'अर्थात्',\n",
       "                                             'अलग', 'आए', 'आजको', 'आत्म', 'आदि',\n",
       "                                             'आफू', 'आफूलाई', 'आफ्नै', 'आफ्नो',\n",
       "                                             'आयो', 'उदाहरण', 'उनको', 'उनले',\n",
       "                                             'उप', 'उहालाई', 'एउटै', ...})),\n",
       "                ('clf', SVC())])"
      ]
     },
     "execution_count": 86,
     "metadata": {},
     "output_type": "execute_result"
    }
   ],
   "source": [
    "svc_clf_no_feat_sel.fit(X_train,y_train)"
   ]
  },
  {
   "cell_type": "code",
   "execution_count": 87,
   "id": "a43b35f0",
   "metadata": {},
   "outputs": [
    {
     "name": "stdout",
     "output_type": "stream",
     "text": [
      "Accuracy on train Set :  0.9472602739726027\n",
      "Accuracy on test Set :  0.6365296803652968\n"
     ]
    }
   ],
   "source": [
    "print(\"Accuracy on train Set : \", svc_clf.score(X_train,y_train))\n",
    "print(\"Accuracy on test Set : \", svc_clf.score(X_test,y_test))\n"
   ]
  },
  {
   "cell_type": "code",
   "execution_count": 88,
   "id": "f9ea179b",
   "metadata": {},
   "outputs": [
    {
     "name": "stdout",
     "output_type": "stream",
     "text": [
      "Accuracy on train Set :  0.9490867579908676\n",
      "Accuracy on test Set :  0.6401826484018265\n"
     ]
    }
   ],
   "source": [
    "print(\"Accuracy on train Set : \", svc_clf_no_feat_sel.score(X_train,y_train))\n",
    "print(\"Accuracy on test Set : \", svc_clf_no_feat_sel.score(X_test,y_test))"
   ]
  },
  {
   "cell_type": "code",
   "execution_count": null,
   "id": "a462812b",
   "metadata": {},
   "outputs": [],
   "source": []
  },
  {
   "cell_type": "code",
   "execution_count": null,
   "id": "d30bb445",
   "metadata": {},
   "outputs": [],
   "source": []
  },
  {
   "cell_type": "code",
   "execution_count": null,
   "id": "07221d4a",
   "metadata": {},
   "outputs": [],
   "source": []
  },
  {
   "cell_type": "code",
   "execution_count": null,
   "id": "be12b03b",
   "metadata": {},
   "outputs": [],
   "source": []
  },
  {
   "cell_type": "markdown",
   "id": "7926a31d",
   "metadata": {},
   "source": [
    "### Random Forest Classifier"
   ]
  },
  {
   "cell_type": "code",
   "execution_count": 67,
   "id": "81139fea",
   "metadata": {},
   "outputs": [],
   "source": [
    "from sklearn.ensemble import RandomForestClassifier"
   ]
  },
  {
   "cell_type": "code",
   "execution_count": 89,
   "id": "bb6718d0",
   "metadata": {},
   "outputs": [],
   "source": [
    "rf_clf = Pipeline([\n",
    "    ('vectorizer',tfidfVectorizer),\n",
    "    ('chi2',SelectKBest(chi2,k=5000)),\n",
    "    ('clf',RandomForestClassifier(\n",
    "            n_estimators=2000, \n",
    "            max_depth=20, \n",
    "            min_samples_split=6, \n",
    "            min_samples_leaf=5, \n",
    "            bootstrap=True,\n",
    "            verbose=1,\n",
    "            n_jobs = -1\n",
    "        )\n",
    "    )\n",
    "])\n",
    "rf_clf_no_feat_sel = Pipeline([\n",
    "    ('vectorizer',tfidfVectorizer),\n",
    "    ('clf',RandomForestClassifier(\n",
    "            n_estimators=2000, \n",
    "            max_depth=20, \n",
    "            min_samples_split=6, \n",
    "            min_samples_leaf=5, \n",
    "            bootstrap=True,\n",
    "            verbose=1,\n",
    "            n_jobs = -1\n",
    "        )\n",
    "    )\n",
    "])"
   ]
  },
  {
   "cell_type": "code",
   "execution_count": 90,
   "id": "e220f744",
   "metadata": {},
   "outputs": [
    {
     "name": "stderr",
     "output_type": "stream",
     "text": [
      "[Parallel(n_jobs=-1)]: Using backend ThreadingBackend with 8 concurrent workers.\n",
      "[Parallel(n_jobs=-1)]: Done  34 tasks      | elapsed:    0.2s\n",
      "[Parallel(n_jobs=-1)]: Done 184 tasks      | elapsed:    0.8s\n",
      "[Parallel(n_jobs=-1)]: Done 434 tasks      | elapsed:    1.7s\n",
      "[Parallel(n_jobs=-1)]: Done 784 tasks      | elapsed:    3.2s\n",
      "[Parallel(n_jobs=-1)]: Done 1234 tasks      | elapsed:    5.3s\n",
      "[Parallel(n_jobs=-1)]: Done 1784 tasks      | elapsed:    7.4s\n",
      "[Parallel(n_jobs=-1)]: Done 2000 out of 2000 | elapsed:    8.4s finished\n",
      "[Parallel(n_jobs=-1)]: Using backend ThreadingBackend with 8 concurrent workers.\n",
      "[Parallel(n_jobs=-1)]: Done  34 tasks      | elapsed:    0.1s\n",
      "[Parallel(n_jobs=-1)]: Done 184 tasks      | elapsed:    0.6s\n",
      "[Parallel(n_jobs=-1)]: Done 434 tasks      | elapsed:    1.4s\n",
      "[Parallel(n_jobs=-1)]: Done 784 tasks      | elapsed:    2.5s\n",
      "[Parallel(n_jobs=-1)]: Done 1234 tasks      | elapsed:    4.0s\n",
      "[Parallel(n_jobs=-1)]: Done 1784 tasks      | elapsed:    5.8s\n",
      "[Parallel(n_jobs=-1)]: Done 2000 out of 2000 | elapsed:    6.5s finished\n"
     ]
    },
    {
     "data": {
      "text/plain": [
       "Pipeline(steps=[('vectorizer',\n",
       "                 TfidfVectorizer(decode_error='ignore',\n",
       "                                 stop_words={'अक्सर', 'अगाडी', 'अझै', 'अनुसार',\n",
       "                                             'अन्तर्गत', 'अन्य', 'अन्यत्र',\n",
       "                                             'अन्यथा', 'अब', 'अरु', 'अरुलाई',\n",
       "                                             'अर्को', 'अर्थात', 'अर्थात्',\n",
       "                                             'अलग', 'आए', 'आजको', 'आत्म', 'आदि',\n",
       "                                             'आफू', 'आफूलाई', 'आफ्नै', 'आफ्नो',\n",
       "                                             'आयो', 'उदाहरण', 'उनको', 'उनले',\n",
       "                                             'उप', 'उहालाई', 'एउटै', ...})),\n",
       "                ('clf',\n",
       "                 RandomForestClassifier(max_depth=20, min_samples_leaf=5,\n",
       "                                        min_samples_split=6, n_estimators=2000,\n",
       "                                        n_jobs=-1, verbose=1))])"
      ]
     },
     "execution_count": 90,
     "metadata": {},
     "output_type": "execute_result"
    }
   ],
   "source": [
    "rf_clf.fit(X_train,y_train)\n",
    "rf_clf_no_feat_sel.fit(X_train,y_train)"
   ]
  },
  {
   "cell_type": "code",
   "execution_count": 91,
   "id": "f01952c5",
   "metadata": {},
   "outputs": [
    {
     "name": "stderr",
     "output_type": "stream",
     "text": [
      "[Parallel(n_jobs=8)]: Using backend ThreadingBackend with 8 concurrent workers.\n",
      "[Parallel(n_jobs=8)]: Done  34 tasks      | elapsed:    0.0s\n",
      "[Parallel(n_jobs=8)]: Done 184 tasks      | elapsed:    0.2s\n",
      "[Parallel(n_jobs=8)]: Done 434 tasks      | elapsed:    0.4s\n",
      "[Parallel(n_jobs=8)]: Done 784 tasks      | elapsed:    0.6s\n",
      "[Parallel(n_jobs=8)]: Done 1234 tasks      | elapsed:    0.9s\n",
      "[Parallel(n_jobs=8)]: Done 1784 tasks      | elapsed:    1.3s\n",
      "[Parallel(n_jobs=8)]: Done 2000 out of 2000 | elapsed:    1.5s finished\n"
     ]
    },
    {
     "name": "stdout",
     "output_type": "stream",
     "text": [
      "Accuracy on train Set :  0.7474885844748859\n"
     ]
    },
    {
     "name": "stderr",
     "output_type": "stream",
     "text": [
      "[Parallel(n_jobs=8)]: Using backend ThreadingBackend with 8 concurrent workers.\n",
      "[Parallel(n_jobs=8)]: Done  34 tasks      | elapsed:    0.0s\n",
      "[Parallel(n_jobs=8)]: Done 184 tasks      | elapsed:    0.0s\n",
      "[Parallel(n_jobs=8)]: Done 434 tasks      | elapsed:    0.1s\n",
      "[Parallel(n_jobs=8)]: Done 784 tasks      | elapsed:    0.2s\n",
      "[Parallel(n_jobs=8)]: Done 1234 tasks      | elapsed:    0.4s\n"
     ]
    },
    {
     "name": "stdout",
     "output_type": "stream",
     "text": [
      "Accuracy on test Set :  0.5132420091324201\n"
     ]
    },
    {
     "name": "stderr",
     "output_type": "stream",
     "text": [
      "[Parallel(n_jobs=8)]: Done 1784 tasks      | elapsed:    0.6s\n",
      "[Parallel(n_jobs=8)]: Done 2000 out of 2000 | elapsed:    0.7s finished\n"
     ]
    }
   ],
   "source": [
    "print(\"Accuracy on train Set : \", rf_clf.score(X_train,y_train))\n",
    "print(\"Accuracy on test Set : \", rf_clf.score(X_test,y_test))"
   ]
  },
  {
   "cell_type": "code",
   "execution_count": 92,
   "id": "784a0138",
   "metadata": {},
   "outputs": [
    {
     "name": "stderr",
     "output_type": "stream",
     "text": [
      "[Parallel(n_jobs=8)]: Using backend ThreadingBackend with 8 concurrent workers.\n",
      "[Parallel(n_jobs=8)]: Done  34 tasks      | elapsed:    0.0s\n",
      "[Parallel(n_jobs=8)]: Done 184 tasks      | elapsed:    0.2s\n",
      "[Parallel(n_jobs=8)]: Done 434 tasks      | elapsed:    0.4s\n",
      "[Parallel(n_jobs=8)]: Done 784 tasks      | elapsed:    0.6s\n",
      "[Parallel(n_jobs=8)]: Done 1234 tasks      | elapsed:    1.1s\n",
      "[Parallel(n_jobs=8)]: Done 1784 tasks      | elapsed:    1.5s\n",
      "[Parallel(n_jobs=8)]: Done 2000 out of 2000 | elapsed:    1.7s finished\n"
     ]
    },
    {
     "name": "stdout",
     "output_type": "stream",
     "text": [
      "Accuracy on train Set :  0.689041095890411\n"
     ]
    },
    {
     "name": "stderr",
     "output_type": "stream",
     "text": [
      "[Parallel(n_jobs=8)]: Using backend ThreadingBackend with 8 concurrent workers.\n",
      "[Parallel(n_jobs=8)]: Done  34 tasks      | elapsed:    0.0s\n",
      "[Parallel(n_jobs=8)]: Done 184 tasks      | elapsed:    0.1s\n",
      "[Parallel(n_jobs=8)]: Done 434 tasks      | elapsed:    0.1s\n",
      "[Parallel(n_jobs=8)]: Done 784 tasks      | elapsed:    0.2s\n",
      "[Parallel(n_jobs=8)]: Done 1234 tasks      | elapsed:    0.4s\n"
     ]
    },
    {
     "name": "stdout",
     "output_type": "stream",
     "text": [
      "Accuracy on test Set :  0.5013698630136987\n"
     ]
    },
    {
     "name": "stderr",
     "output_type": "stream",
     "text": [
      "[Parallel(n_jobs=8)]: Done 1784 tasks      | elapsed:    0.5s\n",
      "[Parallel(n_jobs=8)]: Done 2000 out of 2000 | elapsed:    0.6s finished\n"
     ]
    }
   ],
   "source": [
    "print(\"Accuracy on train Set : \", rf_clf_no_feat_sel.score(X_train,y_train))\n",
    "print(\"Accuracy on test Set : \", rf_clf_no_feat_sel.score(X_test,y_test))"
   ]
  },
  {
   "cell_type": "markdown",
   "id": "f2459c22",
   "metadata": {},
   "source": [
    "### Naive Bayes"
   ]
  },
  {
   "cell_type": "code",
   "execution_count": 160,
   "id": "2c2dbdeb",
   "metadata": {},
   "outputs": [],
   "source": [
    "from sklearn.naive_bayes import MultinomialNB,BernoulliNB"
   ]
  },
  {
   "cell_type": "code",
   "execution_count": 161,
   "id": "3db5fcd0",
   "metadata": {},
   "outputs": [],
   "source": [
    "bnb_clf = Pipeline([\n",
    "    ('vect', tfidfVectorizer),\n",
    "    ('clf', BernoulliNB(alpha=0.01))\n",
    "])\n",
    "\n",
    "mnb_clf = Pipeline([\n",
    "    ('vect', tfidfVectorizer),\n",
    "    ('clf', MultinomialNB(alpha=0.01, fit_prior=True))\n",
    "])"
   ]
  },
  {
   "cell_type": "code",
   "execution_count": 162,
   "id": "76838959",
   "metadata": {},
   "outputs": [
    {
     "data": {
      "text/plain": [
       "Pipeline(steps=[('vect',\n",
       "                 TfidfVectorizer(decode_error='ignore', max_df=0.5, min_df=10,\n",
       "                                 stop_words={'अक्सर', 'अगाडी', 'अझै', 'अनुसार',\n",
       "                                             'अन्तर्गत', 'अन्य', 'अन्यत्र',\n",
       "                                             'अन्यथा', 'अब', 'अरु', 'अरुलाई',\n",
       "                                             'अर्को', 'अर्थात', 'अर्थात्',\n",
       "                                             'अलग', 'आए', 'आजको', 'आत्म', 'आदि',\n",
       "                                             'आफू', 'आफूलाई', 'आफ्नै', 'आफ्नो',\n",
       "                                             'आयो', 'उदाहरण', 'उनको', 'उनले',\n",
       "                                             'उप', 'उहालाई', 'एउटै', ...},\n",
       "                                 sublinear_tf=True,\n",
       "                                 tokenizer=<function <lambda> at 0x7f42498d4820>)),\n",
       "                ('clf', BernoulliNB(alpha=0.01))])"
      ]
     },
     "execution_count": 162,
     "metadata": {},
     "output_type": "execute_result"
    }
   ],
   "source": [
    "bnb_clf.fit(X_train,y_train)"
   ]
  },
  {
   "cell_type": "code",
   "execution_count": 163,
   "id": "4875f95d",
   "metadata": {},
   "outputs": [
    {
     "name": "stdout",
     "output_type": "stream",
     "text": [
      "Accuracy on train Set :  0.9123287671232877\n",
      "Accuracy on test Set :  0.634703196347032\n"
     ]
    }
   ],
   "source": [
    "print(\"Accuracy on train Set : \", bnb_clf.score(X_train,y_train))\n",
    "print(\"Accuracy on test Set : \", bnb_clf.score(X_test,y_test))"
   ]
  },
  {
   "cell_type": "code",
   "execution_count": 164,
   "id": "e5f40750",
   "metadata": {},
   "outputs": [
    {
     "data": {
      "text/plain": [
       "Pipeline(steps=[('vect',\n",
       "                 TfidfVectorizer(decode_error='ignore', max_df=0.5, min_df=10,\n",
       "                                 stop_words={'अक्सर', 'अगाडी', 'अझै', 'अनुसार',\n",
       "                                             'अन्तर्गत', 'अन्य', 'अन्यत्र',\n",
       "                                             'अन्यथा', 'अब', 'अरु', 'अरुलाई',\n",
       "                                             'अर्को', 'अर्थात', 'अर्थात्',\n",
       "                                             'अलग', 'आए', 'आजको', 'आत्म', 'आदि',\n",
       "                                             'आफू', 'आफूलाई', 'आफ्नै', 'आफ्नो',\n",
       "                                             'आयो', 'उदाहरण', 'उनको', 'उनले',\n",
       "                                             'उप', 'उहालाई', 'एउटै', ...},\n",
       "                                 sublinear_tf=True,\n",
       "                                 tokenizer=<function <lambda> at 0x7f42498d4820>)),\n",
       "                ('clf', MultinomialNB(alpha=0.01))])"
      ]
     },
     "execution_count": 164,
     "metadata": {},
     "output_type": "execute_result"
    }
   ],
   "source": [
    "mnb_clf.fit(X_train,y_train)"
   ]
  },
  {
   "cell_type": "code",
   "execution_count": 165,
   "id": "b944510c",
   "metadata": {},
   "outputs": [
    {
     "name": "stdout",
     "output_type": "stream",
     "text": [
      "Accuracy on train Set :  0.9424657534246575\n",
      "Accuracy on test Set :  0.6894977168949772\n"
     ]
    }
   ],
   "source": [
    "print(\"Accuracy on train Set : \", mnb_clf.score(X_train,y_train))\n",
    "print(\"Accuracy on test Set : \", mnb_clf.score(X_test,y_test))"
   ]
  },
  {
   "cell_type": "markdown",
   "id": "666c5084",
   "metadata": {},
   "source": [
    "## Classification Report\n"
   ]
  },
  {
   "cell_type": "code",
   "execution_count": 127,
   "id": "59e88d9c",
   "metadata": {},
   "outputs": [],
   "source": [
    "from sklearn.metrics import classification_report"
   ]
  },
  {
   "cell_type": "markdown",
   "id": "53743b0b",
   "metadata": {},
   "source": [
    "#### SVM"
   ]
  },
  {
   "cell_type": "code",
   "execution_count": null,
   "id": "ee007ead",
   "metadata": {},
   "outputs": [],
   "source": []
  },
  {
   "cell_type": "code",
   "execution_count": 144,
   "id": "cf3ff1da",
   "metadata": {},
   "outputs": [
    {
     "name": "stdout",
     "output_type": "stream",
     "text": [
      "               precision    recall  f1-score   support\n",
      "\n",
      "  Agriculture       1.00      0.70      0.82        20\n",
      "  Automobiles       1.00      0.83      0.91        24\n",
      "         Bank       0.95      0.97      0.96       102\n",
      "         Blog       0.88      0.71      0.79        49\n",
      "     Business       0.95      0.38      0.54        48\n",
      "      Economy       0.77      0.89      0.82        87\n",
      "    Education       0.96      0.87      0.92        31\n",
      "   Employment       0.97      0.88      0.92        41\n",
      "Entertainment       0.92      0.90      0.91       124\n",
      "    Interview       0.51      0.71      0.59        45\n",
      "   Literature       0.91      0.94      0.93        34\n",
      "    Migration       0.92      0.86      0.89        14\n",
      "      Opinion       0.87      0.94      0.90        99\n",
      "     Politics       0.91      1.00      0.95       100\n",
      "      Society       0.90      0.76      0.83        34\n",
      "       Sports       0.85      0.95      0.90       125\n",
      "   Technology       1.00      0.86      0.92        14\n",
      "      Tourism       0.94      0.91      0.92        65\n",
      "        World       0.92      0.92      0.92        39\n",
      "\n",
      "     accuracy                           0.88      1095\n",
      "    macro avg       0.90      0.84      0.86      1095\n",
      " weighted avg       0.89      0.88      0.87      1095\n",
      "\n"
     ]
    }
   ],
   "source": [
    "y_pred = svc_clf.predict(X_test)\n",
    "print(classification_report(y_test,y_pred))"
   ]
  },
  {
   "cell_type": "code",
   "execution_count": 145,
   "id": "4bbe5cbf",
   "metadata": {},
   "outputs": [
    {
     "name": "stdout",
     "output_type": "stream",
     "text": [
      "               precision    recall  f1-score   support\n",
      "\n",
      "  Agriculture       1.00      0.70      0.82        20\n",
      "  Automobiles       1.00      0.83      0.91        24\n",
      "         Bank       0.96      0.96      0.96       102\n",
      "         Blog       0.90      0.73      0.81        49\n",
      "     Business       0.95      0.38      0.54        48\n",
      "      Economy       0.78      0.90      0.83        87\n",
      "    Education       0.96      0.84      0.90        31\n",
      "   Employment       0.97      0.90      0.94        41\n",
      "Entertainment       0.93      0.91      0.92       124\n",
      "    Interview       0.50      0.69      0.58        45\n",
      "   Literature       0.91      0.94      0.93        34\n",
      "    Migration       0.92      0.86      0.89        14\n",
      "      Opinion       0.86      0.94      0.90        99\n",
      "     Politics       0.91      1.00      0.95       100\n",
      "      Society       0.90      0.79      0.84        34\n",
      "       Sports       0.84      0.95      0.89       125\n",
      "   Technology       1.00      0.86      0.92        14\n",
      "      Tourism       0.94      0.91      0.92        65\n",
      "        World       0.95      0.92      0.94        39\n",
      "\n",
      "     accuracy                           0.88      1095\n",
      "    macro avg       0.90      0.84      0.86      1095\n",
      " weighted avg       0.89      0.88      0.87      1095\n",
      "\n"
     ]
    }
   ],
   "source": [
    "y_pred = svc_clf_no_feat_sel.predict(X_test)\n",
    "print(classification_report(y_test,y_pred))"
   ]
  },
  {
   "cell_type": "markdown",
   "id": "d843856f",
   "metadata": {},
   "source": [
    "### Naive Bayes"
   ]
  },
  {
   "cell_type": "code",
   "execution_count": 166,
   "id": "f84455d3",
   "metadata": {},
   "outputs": [
    {
     "name": "stdout",
     "output_type": "stream",
     "text": [
      "               precision    recall  f1-score   support\n",
      "\n",
      "  Agriculture       0.73      0.52      0.61        21\n",
      "  Automobiles       0.82      0.54      0.65        26\n",
      "         Bank       0.78      0.83      0.80        99\n",
      "         Blog       0.40      0.33      0.37        51\n",
      "     Business       0.07      0.04      0.05        45\n",
      "      Economy       0.55      0.73      0.63        99\n",
      "    Education       0.73      0.57      0.64        28\n",
      "   Employment       0.77      0.50      0.61        40\n",
      "Entertainment       0.55      0.65      0.60       117\n",
      "    Interview       0.07      0.08      0.08        38\n",
      "   Literature       0.77      0.28      0.41        36\n",
      "    Migration       0.86      0.33      0.48        18\n",
      "      Opinion       0.67      0.89      0.77        85\n",
      "     Politics       0.91      0.91      0.91        98\n",
      "      Society       0.51      0.47      0.49        45\n",
      "       Sports       0.66      0.77      0.71       137\n",
      "   Technology       0.80      0.57      0.67        21\n",
      "      Tourism       0.75      0.64      0.69        56\n",
      "        World       0.72      0.74      0.73        35\n",
      "\n",
      "     accuracy                           0.63      1095\n",
      "    macro avg       0.64      0.55      0.57      1095\n",
      " weighted avg       0.64      0.63      0.62      1095\n",
      "\n"
     ]
    }
   ],
   "source": [
    "y_pred = bnb_clf.predict(X_test)\n",
    "print(classification_report(y_test,y_pred))"
   ]
  },
  {
   "cell_type": "code",
   "execution_count": 167,
   "id": "e332a5a4",
   "metadata": {},
   "outputs": [
    {
     "name": "stdout",
     "output_type": "stream",
     "text": [
      "               precision    recall  f1-score   support\n",
      "\n",
      "  Agriculture       0.70      0.67      0.68        21\n",
      "  Automobiles       0.83      0.58      0.68        26\n",
      "         Bank       0.85      0.89      0.87        99\n",
      "         Blog       0.80      0.24      0.36        51\n",
      "     Business       0.39      0.31      0.35        45\n",
      "      Economy       0.52      0.71      0.60        99\n",
      "    Education       0.82      0.64      0.72        28\n",
      "   Employment       0.73      0.60      0.66        40\n",
      "Entertainment       0.72      0.72      0.72       117\n",
      "    Interview       0.10      0.13      0.11        38\n",
      "   Literature       0.65      0.78      0.71        36\n",
      "    Migration       0.80      0.44      0.57        18\n",
      "      Opinion       0.58      0.91      0.71        85\n",
      "     Politics       0.90      0.92      0.91        98\n",
      "      Society       0.55      0.64      0.59        45\n",
      "       Sports       0.94      0.74      0.83       137\n",
      "   Technology       0.85      0.52      0.65        21\n",
      "      Tourism       0.76      0.75      0.76        56\n",
      "        World       0.78      0.71      0.75        35\n",
      "\n",
      "     accuracy                           0.69      1095\n",
      "    macro avg       0.70      0.63      0.64      1095\n",
      " weighted avg       0.72      0.69      0.69      1095\n",
      "\n"
     ]
    }
   ],
   "source": [
    "y_pred = mnb_clf.predict(X_test)\n",
    "print(classification_report(y_test,y_pred))"
   ]
  },
  {
   "cell_type": "markdown",
   "id": "888d7e01",
   "metadata": {},
   "source": [
    "### Random Forest"
   ]
  },
  {
   "cell_type": "code",
   "execution_count": 168,
   "id": "541baddb",
   "metadata": {},
   "outputs": [
    {
     "name": "stderr",
     "output_type": "stream",
     "text": [
      "[Parallel(n_jobs=8)]: Using backend ThreadingBackend with 8 concurrent workers.\n",
      "[Parallel(n_jobs=8)]: Done  34 tasks      | elapsed:    0.0s\n",
      "[Parallel(n_jobs=8)]: Done 184 tasks      | elapsed:    0.1s\n",
      "[Parallel(n_jobs=8)]: Done 434 tasks      | elapsed:    0.1s\n",
      "[Parallel(n_jobs=8)]: Done 784 tasks      | elapsed:    0.2s\n",
      "[Parallel(n_jobs=8)]: Done 1234 tasks      | elapsed:    0.4s\n"
     ]
    },
    {
     "name": "stdout",
     "output_type": "stream",
     "text": [
      "               precision    recall  f1-score   support\n",
      "\n",
      "  Agriculture       1.00      0.24      0.38        21\n",
      "  Automobiles       1.00      0.65      0.79        26\n",
      "         Bank       0.87      0.95      0.91        99\n",
      "         Blog       1.00      0.08      0.15        51\n",
      "     Business       0.75      0.27      0.39        45\n",
      "      Economy       0.64      0.88      0.74        99\n",
      "    Education       1.00      0.32      0.49        28\n",
      "   Employment       1.00      0.45      0.62        40\n",
      "Entertainment       0.84      0.62      0.71       117\n",
      "    Interview       0.45      0.66      0.53        38\n",
      "   Literature       1.00      0.61      0.76        36\n",
      "    Migration       1.00      0.44      0.62        18\n",
      "      Opinion       0.77      0.99      0.87        85\n",
      "     Politics       0.75      0.93      0.83        98\n",
      "      Society       1.00      0.29      0.45        45\n",
      "       Sports       0.45      0.97      0.61       137\n",
      "   Technology       1.00      0.10      0.17        21\n",
      "      Tourism       0.96      0.82      0.88        56\n",
      "        World       1.00      0.54      0.70        35\n",
      "\n",
      "     accuracy                           0.69      1095\n",
      "    macro avg       0.87      0.57      0.61      1095\n",
      " weighted avg       0.80      0.69      0.67      1095\n",
      "\n"
     ]
    },
    {
     "name": "stderr",
     "output_type": "stream",
     "text": [
      "[Parallel(n_jobs=8)]: Done 1784 tasks      | elapsed:    0.5s\n",
      "[Parallel(n_jobs=8)]: Done 2000 out of 2000 | elapsed:    0.6s finished\n"
     ]
    }
   ],
   "source": [
    "y_pred = rf_clf.predict(X_test)\n",
    "print(classification_report(y_test,y_pred))"
   ]
  },
  {
   "cell_type": "code",
   "execution_count": 169,
   "id": "6e4e775d",
   "metadata": {},
   "outputs": [
    {
     "name": "stderr",
     "output_type": "stream",
     "text": [
      "[Parallel(n_jobs=8)]: Using backend ThreadingBackend with 8 concurrent workers.\n",
      "[Parallel(n_jobs=8)]: Done  34 tasks      | elapsed:    0.0s\n",
      "[Parallel(n_jobs=8)]: Done 184 tasks      | elapsed:    0.0s\n",
      "[Parallel(n_jobs=8)]: Done 434 tasks      | elapsed:    0.1s\n",
      "[Parallel(n_jobs=8)]: Done 784 tasks      | elapsed:    0.2s\n",
      "[Parallel(n_jobs=8)]: Done 1234 tasks      | elapsed:    0.4s\n"
     ]
    },
    {
     "name": "stdout",
     "output_type": "stream",
     "text": [
      "               precision    recall  f1-score   support\n",
      "\n",
      "  Agriculture       0.00      0.00      0.00        21\n",
      "  Automobiles       1.00      0.38      0.56        26\n",
      "         Bank       0.89      0.92      0.91        99\n",
      "         Blog       1.00      0.04      0.08        51\n",
      "     Business       0.75      0.20      0.32        45\n",
      "      Economy       0.57      0.86      0.69        99\n",
      "    Education       1.00      0.18      0.30        28\n",
      "   Employment       1.00      0.38      0.55        40\n",
      "Entertainment       0.79      0.53      0.64       117\n",
      "    Interview       0.44      0.63      0.52        38\n",
      "   Literature       1.00      0.44      0.62        36\n",
      "    Migration       1.00      0.28      0.43        18\n",
      "      Opinion       0.72      0.99      0.83        85\n",
      "     Politics       0.70      0.94      0.80        98\n",
      "      Society       1.00      0.16      0.27        45\n",
      "       Sports       0.40      0.97      0.57       137\n",
      "   Technology       0.00      0.00      0.00        21\n",
      "      Tourism       0.96      0.77      0.85        56\n",
      "        World       1.00      0.43      0.60        35\n",
      "\n",
      "     accuracy                           0.64      1095\n",
      "    macro avg       0.75      0.48      0.50      1095\n",
      " weighted avg       0.74      0.64      0.60      1095\n",
      "\n"
     ]
    },
    {
     "name": "stderr",
     "output_type": "stream",
     "text": [
      "[Parallel(n_jobs=8)]: Done 1784 tasks      | elapsed:    0.5s\n",
      "[Parallel(n_jobs=8)]: Done 2000 out of 2000 | elapsed:    0.6s finished\n",
      "/home/ash/Desktop/projects/nepali_news_classifier_recommender/venv/lib/python3.9/site-packages/sklearn/metrics/_classification.py:1248: UndefinedMetricWarning: Precision and F-score are ill-defined and being set to 0.0 in labels with no predicted samples. Use `zero_division` parameter to control this behavior.\n",
      "  _warn_prf(average, modifier, msg_start, len(result))\n",
      "/home/ash/Desktop/projects/nepali_news_classifier_recommender/venv/lib/python3.9/site-packages/sklearn/metrics/_classification.py:1248: UndefinedMetricWarning: Precision and F-score are ill-defined and being set to 0.0 in labels with no predicted samples. Use `zero_division` parameter to control this behavior.\n",
      "  _warn_prf(average, modifier, msg_start, len(result))\n",
      "/home/ash/Desktop/projects/nepali_news_classifier_recommender/venv/lib/python3.9/site-packages/sklearn/metrics/_classification.py:1248: UndefinedMetricWarning: Precision and F-score are ill-defined and being set to 0.0 in labels with no predicted samples. Use `zero_division` parameter to control this behavior.\n",
      "  _warn_prf(average, modifier, msg_start, len(result))\n"
     ]
    }
   ],
   "source": [
    "y_pred = rf_clf_no_feat_sel.predict(X_test)\n",
    "print(classification_report(y_test,y_pred))"
   ]
  },
  {
   "cell_type": "code",
   "execution_count": null,
   "id": "cba5abd9",
   "metadata": {},
   "outputs": [],
   "source": []
  }
 ],
 "metadata": {
  "kernelspec": {
   "display_name": "Python 3",
   "language": "python",
   "name": "python3"
  },
  "language_info": {
   "codemirror_mode": {
    "name": "ipython",
    "version": 3
   },
   "file_extension": ".py",
   "mimetype": "text/x-python",
   "name": "python",
   "nbconvert_exporter": "python",
   "pygments_lexer": "ipython3",
   "version": "3.9.3"
  }
 },
 "nbformat": 4,
 "nbformat_minor": 5
}
