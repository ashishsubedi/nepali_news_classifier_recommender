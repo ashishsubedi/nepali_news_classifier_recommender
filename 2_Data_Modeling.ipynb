{
 "cells": [
  {
   "cell_type": "code",
   "execution_count": 1,
   "id": "493b0b84",
   "metadata": {},
   "outputs": [],
   "source": [
    "import os"
   ]
  },
  {
   "cell_type": "code",
   "execution_count": 2,
   "id": "4b2f845c",
   "metadata": {},
   "outputs": [],
   "source": [
    "import pandas as pd\n",
    "import numpy as np\n",
    "import nltk"
   ]
  },
  {
   "cell_type": "code",
   "execution_count": 3,
   "id": "89d93a04",
   "metadata": {},
   "outputs": [],
   "source": [
    "from sklearn.model_selection import train_test_split"
   ]
  },
  {
   "cell_type": "code",
   "execution_count": 4,
   "id": "6760fc49",
   "metadata": {},
   "outputs": [],
   "source": [
    "DATA_DIR = os.path.abspath('./datasets/output/data.csv')"
   ]
  },
  {
   "cell_type": "code",
   "execution_count": 5,
   "id": "c4f75337",
   "metadata": {},
   "outputs": [],
   "source": [
    "#nltk.download('stopwords')"
   ]
  },
  {
   "cell_type": "markdown",
   "id": "31e023fe",
   "metadata": {},
   "source": [
    "## Loading Data"
   ]
  },
  {
   "cell_type": "code",
   "execution_count": 6,
   "id": "b3926ca5",
   "metadata": {},
   "outputs": [
    {
     "data": {
      "text/html": [
       "<div>\n",
       "<style scoped>\n",
       "    .dataframe tbody tr th:only-of-type {\n",
       "        vertical-align: middle;\n",
       "    }\n",
       "\n",
       "    .dataframe tbody tr th {\n",
       "        vertical-align: top;\n",
       "    }\n",
       "\n",
       "    .dataframe thead th {\n",
       "        text-align: right;\n",
       "    }\n",
       "</style>\n",
       "<table border=\"1\" class=\"dataframe\">\n",
       "  <thead>\n",
       "    <tr style=\"text-align: right;\">\n",
       "      <th></th>\n",
       "      <th>class</th>\n",
       "      <th>text</th>\n",
       "    </tr>\n",
       "    <tr>\n",
       "      <th>id</th>\n",
       "      <th></th>\n",
       "      <th></th>\n",
       "    </tr>\n",
       "  </thead>\n",
       "  <tbody>\n",
       "    <tr>\n",
       "      <th>182</th>\n",
       "      <td>Interview</td>\n",
       "      <td>﻿विडम्बना, ओलीको सत्ता सवारी पनि सिंहदरबारमा फ...</td>\n",
       "    </tr>\n",
       "    <tr>\n",
       "      <th>127</th>\n",
       "      <td>Interview</td>\n",
       "      <td>﻿नेपाली कांग्रेसको सभापतिमा रामचन्द्र पौडेलको ...</td>\n",
       "    </tr>\n",
       "    <tr>\n",
       "      <th>85</th>\n",
       "      <td>Interview</td>\n",
       "      <td>﻿\\nदुर्भाग्य नै भन्नुपर्छ हाम्रो प्राथमिकता पे...</td>\n",
       "    </tr>\n",
       "    <tr>\n",
       "      <th>162</th>\n",
       "      <td>Interview</td>\n",
       "      <td>﻿नयनराज पाण्डे, लेखक\\nविमोचन हुनै लागेको तपाईं...</td>\n",
       "    </tr>\n",
       "    <tr>\n",
       "      <th>13</th>\n",
       "      <td>Interview</td>\n",
       "      <td>﻿- भवन भट्ट, उपाध्यक्ष, गैर आवासीय नेपाली संघ\\...</td>\n",
       "    </tr>\n",
       "  </tbody>\n",
       "</table>\n",
       "</div>"
      ],
      "text/plain": [
       "         class                                               text\n",
       "id                                                               \n",
       "182  Interview  ﻿विडम्बना, ओलीको सत्ता सवारी पनि सिंहदरबारमा फ...\n",
       "127  Interview  ﻿नेपाली कांग्रेसको सभापतिमा रामचन्द्र पौडेलको ...\n",
       "85   Interview  ﻿\\nदुर्भाग्य नै भन्नुपर्छ हाम्रो प्राथमिकता पे...\n",
       "162  Interview  ﻿नयनराज पाण्डे, लेखक\\nविमोचन हुनै लागेको तपाईं...\n",
       "13   Interview  ﻿- भवन भट्ट, उपाध्यक्ष, गैर आवासीय नेपाली संघ\\..."
      ]
     },
     "execution_count": 6,
     "metadata": {},
     "output_type": "execute_result"
    }
   ],
   "source": [
    "df = pd.read_csv(DATA_DIR,index_col=0)\n",
    "df.head()"
   ]
  },
  {
   "cell_type": "code",
   "execution_count": 7,
   "id": "c77c8390",
   "metadata": {},
   "outputs": [],
   "source": [
    "df.dropna(inplace=True)"
   ]
  },
  {
   "cell_type": "code",
   "execution_count": 8,
   "id": "a2604766",
   "metadata": {},
   "outputs": [],
   "source": [
    "y = df['class']\n",
    "X = df['text']"
   ]
  },
  {
   "cell_type": "code",
   "execution_count": 64,
   "id": "345e3f4c",
   "metadata": {},
   "outputs": [
    {
     "data": {
      "text/plain": [
       "'\\ufeffविडम्बना, ओलीको सत्ता सवारी पनि सिंहदरबारमा फोटो झुण्ड्याउने मार्गतिरै अघि बढिरहेको छ।\\nकल्पना गर्नुुस्, कसैले तपाईंको कन्चटमा पेस्तोल राख्दै तत्काल ‘एमाले अध्यक्ष तथा प्रधानमन्त्री केपी शर्मा ओली, एनेकपा माओवादीका अध्यक्ष पुष्पकमल दाहाल र नेपाली कांग्रेसका सभापति शेरबहादुर देउवामध्ये उत्कृष्ट को हो?’ भनी सोध्यो। के तपाईं निमेषभरमै एकजनाको नाम भन्न सक्नुहोला? जवाफ सहज छैन।\\nहामीले माने पनि नमाने पनि वर्तमान नेपाली राजनीतिका त्रिमूर्ति यिनै हुन्। यिनकै विवेक, बेवकूफी, बेहोशीले नै नेपालको दशा र दिशा निर्धारित गरिरहेको छ।\\nअहिले एमाले अध्यक्ष ओली सत्ता राजनीतिको केन्द्रमा छन्। पार्टी प्रमुख र प्रधानमन्त्रीमा उनलाई प्राप्त यो पहिलो मौका संभवतः अन्तिम पनि हो, जसमा उनकै स्वीकारोक्ति पटकपटक सुनिएकै छ।\\nपार्टी नेतृत्वमा चुनिंदा अरूहरू जस्तो आफूसँग प्रशस्त समय नभएका कारण छिटोछिटो गर्ने, निःसन्तान रहेकाले धन सञ्चित गर्नु नपर्ने जस्ता भनाइले उनले चर्चा कमाएका थिए। पार्टी अध्यक्षका रूपमा संविधानलेखनमा देखाएको जुझारु भूमिकाले पनि नागरिकले स्वाभाविक रूपमा उनीबाट केही अपेक्षा राखेका थिए।\\nतर, प्रधानमन्त्रीत्वको सात महीना वितिसक्दा ओली अंग्रेजी कवि टीएस इलियटको ‘द हलो म्यान’ कविताको एक पंक्ति झैं बन्न पुगेका छन्, जसमा लेखिएको छ– बिटवीन द आइडिया एण्ड द रियालिटी, बिटवीन द मोसन एण्ड द याक्ट, फल्स द स्याडो। लाग्छ, ओलीको बोली र व्यवहारबीच छायाँ खसेको छ।\\nछायाँ यति अँध्यारो छ कि हिजोसम्म उनका तुक्का र खिसिटिउरीमा तुष्टि लिनेहरू समेत पीडाबोध गर्न बाध्य छन्। पछिल्लो साता आँधीहुरी र वर्षाले भूकम्पपीडितका टहरा र पाल उडाइरहँदा उनी हिन्द र प्रशान्त महासागरमा नेपाली झ्ण्डासहितका पानीजहाज चलाउने कुरा गरिरहेका छन्।\\nदेउवाको दायित्व\\nतुक्कावाजीलाई छाडौं, ओलीले सत्तामा टाँसिइरहन एमाओवादीसँगको नौबुँदे सहमतिको ‘फेविकोल’ ले लोकतन्त्रको मुटु न्यायिक राज्यको मर्मलाई नै निमोठेको छ। हिजो माओवादी हिंसाका कटु आलोचक तिनै ओली आज ‘अभयदाता’ बन्न खोजेका छन्।\\nभूकम्पबाट तहसनहस संरचनाको पुनःनिर्माण तथा भूकम्पपीडितको सम्मानित पुनर्वासदेखि संविधान कार्यान्वयनका लागि ऐन–नियम तर्जुमा गर्नुपर्ने ओली सरकारले हालै संशोधन गरेको एउटा ऐनबाट नै प्राथमिकता आकलन गर्न सकिन्छ। कालोबजारी नियन्त्रण गर्न नसकेको भन्दै आलोचना खेपिरहेको सरकार कालोबजारीप्रति उल्टै उदार देखिएको छ।\\nसरकारले ‘कालोबजार तथा केही अन्य सामाजिक अपराध तथा सजाय ऐन २०३२’ संशोधन गरी कालोबजारीमा संलग्नलाई तोकिएको कैदको समय १० वर्षबाट एक वर्षमा झारेको छ। यसबाट कालोबजारीका अभिभावक कतै सरकार नै त होइन भन्ने संशय उत्पन्न गराएको छ।\\nयतिवेला कुनै वेलाका कट्टर आलोचक एमालेका ओली र एमाओवादीका दाहाल सत्ताका नाविक छन्। तर, जिम्मेवार प्रतिपक्षको नेतृत्व गर्नुपर्ने कांग्रेसका देउवाको ध्येय नौकाबाट ओलीलाई खसाल्ने षडयन्त्रमै सीमित देखिन्छ। सरकार गठनको पछिल्लो घटनाक्रमबाट देउवा स्वयं आफैं नराम्ररी डुबेका छन्। यसले मुलुकको सबैभन्दा ठूलो दलको नेताका रूपमा देउवाको नेतृत्व क्षमता र सुझ्बुझमाथि अनेकौं प्रश्न खडा भएको छ।\\nयी तीन दलका तीन नेतामध्ये देउवा र दाहालको राष्ट्रको कार्यकारी प्रमुखको रूपमा परीक्षण भइसकेको छ। बहालवाला प्रम ओलीको मूल्याङ्कन अहिल्यै गरिहाल्नु हतार हुने भए पनि उनको नियति पनि सिंहदरबारको भित्तामा फोटो झुन्ड्याउनुमै सीमित हुने देखिन्छ।\\nएमाओवादीका दाहालको आगत फेरि प्रधानमन्त्री हुने भन्दा पनि संभावित युद्धअपराधको मुद्दाबाट जोगिनेतर्फ नै लक्षित हुने निश्चित छ। जसलाई उनी र ओलीबीचको नौ बुँदे सम्झौताले नै पुष्टि गर्छ।\\nइतिहासको यस कठिन मोडमा मुख्य भूमिकामा पुगेका तीन नेतामध्ये सुझबुझ र संयम देखाउन सके देउवाले अहम् भूमिका खेल्न सक्छन्।\\nनेपाली सत्ता राजनीतिमा विकृति भित्र्याएको आलोचनाबाट उन्मुक्ति नपाएका उनले आफूलाई बदल्दै गतिलो नेता सावित गर्न सक्नेछन्। र, यसका लागि उनीसँग योभन्दा अपूर्व मौका अर्को नहुने निश्चित छ।\\n  तन्नम त्रिमूर्ति'"
      ]
     },
     "execution_count": 64,
     "metadata": {},
     "output_type": "execute_result"
    }
   ],
   "source": [
    "X[0]"
   ]
  },
  {
   "cell_type": "code",
   "execution_count": 9,
   "id": "f713fd1c",
   "metadata": {},
   "outputs": [
    {
     "data": {
      "text/plain": [
       "['Sports',\n",
       " 'Interview',\n",
       " 'Employment',\n",
       " 'Literature',\n",
       " 'World',\n",
       " 'Technology',\n",
       " 'Automobiles',\n",
       " 'Society',\n",
       " 'Opinion',\n",
       " 'Economy',\n",
       " 'Education',\n",
       " 'Bank',\n",
       " 'Agriculture',\n",
       " 'Tourism',\n",
       " 'Blog',\n",
       " 'Migration',\n",
       " 'Entertainment',\n",
       " 'Politics',\n",
       " 'Business']"
      ]
     },
     "execution_count": 9,
     "metadata": {},
     "output_type": "execute_result"
    }
   ],
   "source": [
    "labels=list(set(df['class']))\n",
    "labels"
   ]
  },
  {
   "cell_type": "markdown",
   "id": "f5a4e257",
   "metadata": {},
   "source": [
    "### Processing Data"
   ]
  },
  {
   "cell_type": "code",
   "execution_count": 10,
   "id": "4f1f6d3d",
   "metadata": {},
   "outputs": [],
   "source": [
    "from nltk.corpus import stopwords\n",
    "from sklearn.feature_extraction.text import TfidfVectorizer"
   ]
  },
  {
   "cell_type": "code",
   "execution_count": 11,
   "id": "99897569",
   "metadata": {},
   "outputs": [],
   "source": [
    "nepali_stop_words = set(stopwords.words('nepali'))"
   ]
  },
  {
   "cell_type": "code",
   "execution_count": 12,
   "id": "5cb42f54",
   "metadata": {},
   "outputs": [],
   "source": [
    "tfidfVectorizer = TfidfVectorizer(stop_words=nepali_stop_words,encoding='utf-8',decode_error='ignore')"
   ]
  },
  {
   "cell_type": "code",
   "execution_count": 13,
   "id": "c5afe6f4",
   "metadata": {},
   "outputs": [],
   "source": [
    "tfidfVectorizer = TfidfVectorizer(tokenizer= lambda x: x.split(\" \"),\n",
    "                                  sublinear_tf=True, encoding='utf-8',\n",
    "                                  decode_error='ignore',\n",
    "                                  max_df=0.5,\n",
    "                                  min_df=10,\n",
    "                                  stop_words=nepali_stop_words)"
   ]
  },
  {
   "cell_type": "code",
   "execution_count": 14,
   "id": "cb386c01",
   "metadata": {},
   "outputs": [
    {
     "name": "stderr",
     "output_type": "stream",
     "text": [
      "/home/ash/Desktop/projects/nepali_news_classifier_recommender/venv/lib/python3.9/site-packages/sklearn/feature_extraction/text.py:388: UserWarning: Your stop_words may be inconsistent with your preprocessing. Tokenizing the stop words generated tokens ['कम', 'से'] not in stop_words.\n",
      "  warnings.warn('Your stop_words may be inconsistent with '\n"
     ]
    }
   ],
   "source": [
    "X_vectorized = tfidfVectorizer.fit_transform(X)"
   ]
  },
  {
   "cell_type": "code",
   "execution_count": 15,
   "id": "0603b0d0",
   "metadata": {},
   "outputs": [
    {
     "data": {
      "text/plain": [
       "<5475x14431 sparse matrix of type '<class 'numpy.float64'>'\n",
       "\twith 740939 stored elements in Compressed Sparse Row format>"
      ]
     },
     "execution_count": 15,
     "metadata": {},
     "output_type": "execute_result"
    }
   ],
   "source": [
    "X_vectorized"
   ]
  },
  {
   "cell_type": "code",
   "execution_count": 16,
   "id": "f62fc056",
   "metadata": {},
   "outputs": [],
   "source": [
    "X_train,X_test,y_train,y_test = train_test_split(X,y,test_size=0.2)"
   ]
  },
  {
   "cell_type": "code",
   "execution_count": 17,
   "id": "58c5a51d",
   "metadata": {},
   "outputs": [
    {
     "data": {
      "text/plain": [
       "((4380,), (4380,))"
      ]
     },
     "execution_count": 17,
     "metadata": {},
     "output_type": "execute_result"
    }
   ],
   "source": [
    "X_train.shape, y_train.shape"
   ]
  },
  {
   "cell_type": "code",
   "execution_count": 18,
   "id": "f30ad99c",
   "metadata": {},
   "outputs": [
    {
     "data": {
      "text/plain": [
       "((1095,), (1095,))"
      ]
     },
     "execution_count": 18,
     "metadata": {},
     "output_type": "execute_result"
    }
   ],
   "source": [
    "X_test.shape, y_test.shape"
   ]
  },
  {
   "cell_type": "markdown",
   "id": "1fbefd89",
   "metadata": {},
   "source": [
    "## SVC Classifier"
   ]
  },
  {
   "cell_type": "code",
   "execution_count": 19,
   "id": "5d1ed8c5",
   "metadata": {},
   "outputs": [],
   "source": [
    "from sklearn.pipeline import Pipeline\n",
    "from sklearn.svm import SVC\n",
    "from sklearn.feature_selection import SelectKBest, chi2"
   ]
  },
  {
   "cell_type": "code",
   "execution_count": 20,
   "id": "d4fe36a1",
   "metadata": {},
   "outputs": [],
   "source": [
    "svc_clf = Pipeline([\n",
    "    ('vectorizer',tfidfVectorizer),\n",
    "    ('chi2',SelectKBest(chi2,k=5000)),\n",
    "    ('clf',SVC())\n",
    "])\n",
    "svc_clf_no_feat_sel = Pipeline([\n",
    "    ('vectorizer',tfidfVectorizer),\n",
    "\n",
    "    ('clf',SVC())\n",
    "])"
   ]
  },
  {
   "cell_type": "code",
   "execution_count": 21,
   "id": "f9419b91",
   "metadata": {},
   "outputs": [
    {
     "data": {
      "text/plain": [
       "Pipeline(steps=[('vectorizer',\n",
       "                 TfidfVectorizer(decode_error='ignore', max_df=0.5, min_df=10,\n",
       "                                 stop_words={'अक्सर', 'अगाडी', 'अझै', 'अनुसार',\n",
       "                                             'अन्तर्गत', 'अन्य', 'अन्यत्र',\n",
       "                                             'अन्यथा', 'अब', 'अरु', 'अरुलाई',\n",
       "                                             'अर्को', 'अर्थात', 'अर्थात्',\n",
       "                                             'अलग', 'आए', 'आजको', 'आत्म', 'आदि',\n",
       "                                             'आफू', 'आफूलाई', 'आफ्नै', 'आफ्नो',\n",
       "                                             'आयो', 'उदाहरण', 'उनको', 'उनले',\n",
       "                                             'उप', 'उहालाई', 'एउटै', ...},\n",
       "                                 sublinear_tf=True,\n",
       "                                 tokenizer=<function <lambda> at 0x7f540c4823a0>)),\n",
       "                ('chi2',\n",
       "                 SelectKBest(k=5000,\n",
       "                             score_func=<function chi2 at 0x7f540c432e50>)),\n",
       "                ('clf', SVC())])"
      ]
     },
     "execution_count": 21,
     "metadata": {},
     "output_type": "execute_result"
    }
   ],
   "source": [
    "svc_clf.fit(X_train,y_train)"
   ]
  },
  {
   "cell_type": "code",
   "execution_count": 22,
   "id": "8fd02fab",
   "metadata": {},
   "outputs": [
    {
     "data": {
      "text/plain": [
       "Pipeline(steps=[('vectorizer',\n",
       "                 TfidfVectorizer(decode_error='ignore', max_df=0.5, min_df=10,\n",
       "                                 stop_words={'अक्सर', 'अगाडी', 'अझै', 'अनुसार',\n",
       "                                             'अन्तर्गत', 'अन्य', 'अन्यत्र',\n",
       "                                             'अन्यथा', 'अब', 'अरु', 'अरुलाई',\n",
       "                                             'अर्को', 'अर्थात', 'अर्थात्',\n",
       "                                             'अलग', 'आए', 'आजको', 'आत्म', 'आदि',\n",
       "                                             'आफू', 'आफूलाई', 'आफ्नै', 'आफ्नो',\n",
       "                                             'आयो', 'उदाहरण', 'उनको', 'उनले',\n",
       "                                             'उप', 'उहालाई', 'एउटै', ...},\n",
       "                                 sublinear_tf=True,\n",
       "                                 tokenizer=<function <lambda> at 0x7f540c4823a0>)),\n",
       "                ('clf', SVC())])"
      ]
     },
     "execution_count": 22,
     "metadata": {},
     "output_type": "execute_result"
    }
   ],
   "source": [
    "svc_clf_no_feat_sel.fit(X_train,y_train)"
   ]
  },
  {
   "cell_type": "code",
   "execution_count": 23,
   "id": "a43b35f0",
   "metadata": {},
   "outputs": [
    {
     "name": "stdout",
     "output_type": "stream",
     "text": [
      "Accuracy on train Set :  0.9648401826484019\n",
      "Accuracy on test Set :  0.7287671232876712\n"
     ]
    }
   ],
   "source": [
    "print(\"Accuracy on train Set : \", svc_clf.score(X_train,y_train))\n",
    "print(\"Accuracy on test Set : \", svc_clf.score(X_test,y_test))\n"
   ]
  },
  {
   "cell_type": "code",
   "execution_count": 24,
   "id": "f9ea179b",
   "metadata": {},
   "outputs": [
    {
     "name": "stdout",
     "output_type": "stream",
     "text": [
      "Accuracy on train Set :  0.9719178082191781\n",
      "Accuracy on test Set :  0.6958904109589041\n"
     ]
    }
   ],
   "source": [
    "print(\"Accuracy on train Set : \", svc_clf_no_feat_sel.score(X_train,y_train))\n",
    "print(\"Accuracy on test Set : \", svc_clf_no_feat_sel.score(X_test,y_test))"
   ]
  },
  {
   "cell_type": "code",
   "execution_count": null,
   "id": "a462812b",
   "metadata": {},
   "outputs": [],
   "source": []
  },
  {
   "cell_type": "code",
   "execution_count": null,
   "id": "d30bb445",
   "metadata": {},
   "outputs": [],
   "source": []
  },
  {
   "cell_type": "code",
   "execution_count": null,
   "id": "07221d4a",
   "metadata": {},
   "outputs": [],
   "source": []
  },
  {
   "cell_type": "code",
   "execution_count": null,
   "id": "be12b03b",
   "metadata": {},
   "outputs": [],
   "source": []
  },
  {
   "cell_type": "markdown",
   "id": "7926a31d",
   "metadata": {},
   "source": [
    "### Random Forest Classifier"
   ]
  },
  {
   "cell_type": "code",
   "execution_count": 25,
   "id": "81139fea",
   "metadata": {},
   "outputs": [],
   "source": [
    "from sklearn.ensemble import RandomForestClassifier"
   ]
  },
  {
   "cell_type": "code",
   "execution_count": 26,
   "id": "bb6718d0",
   "metadata": {},
   "outputs": [],
   "source": [
    "rf_clf = Pipeline([\n",
    "    ('vectorizer',tfidfVectorizer),\n",
    "    ('chi2',SelectKBest(chi2,k=5000)),\n",
    "    ('clf',RandomForestClassifier(\n",
    "            n_estimators=2000, \n",
    "            max_depth=20, \n",
    "            min_samples_split=6, \n",
    "            min_samples_leaf=5, \n",
    "            bootstrap=True,\n",
    "            verbose=1,\n",
    "            n_jobs = -1\n",
    "        )\n",
    "    )\n",
    "])\n",
    "rf_clf_no_feat_sel = Pipeline([\n",
    "    ('vectorizer',tfidfVectorizer),\n",
    "    ('clf',RandomForestClassifier(\n",
    "            n_estimators=2000, \n",
    "            max_depth=20, \n",
    "            min_samples_split=6, \n",
    "            min_samples_leaf=5, \n",
    "            bootstrap=True,\n",
    "            verbose=1,\n",
    "            n_jobs = -1\n",
    "        )\n",
    "    )\n",
    "])"
   ]
  },
  {
   "cell_type": "code",
   "execution_count": 27,
   "id": "e220f744",
   "metadata": {},
   "outputs": [
    {
     "name": "stderr",
     "output_type": "stream",
     "text": [
      "[Parallel(n_jobs=-1)]: Using backend ThreadingBackend with 8 concurrent workers.\n",
      "[Parallel(n_jobs=-1)]: Done  34 tasks      | elapsed:    0.1s\n",
      "[Parallel(n_jobs=-1)]: Done 184 tasks      | elapsed:    0.9s\n",
      "[Parallel(n_jobs=-1)]: Done 434 tasks      | elapsed:    2.4s\n",
      "[Parallel(n_jobs=-1)]: Done 784 tasks      | elapsed:    4.0s\n",
      "[Parallel(n_jobs=-1)]: Done 1234 tasks      | elapsed:    6.2s\n",
      "[Parallel(n_jobs=-1)]: Done 1784 tasks      | elapsed:    8.8s\n",
      "[Parallel(n_jobs=-1)]: Done 2000 out of 2000 | elapsed:   10.1s finished\n",
      "[Parallel(n_jobs=-1)]: Using backend ThreadingBackend with 8 concurrent workers.\n",
      "[Parallel(n_jobs=-1)]: Done  34 tasks      | elapsed:    0.2s\n",
      "[Parallel(n_jobs=-1)]: Done 184 tasks      | elapsed:    1.0s\n",
      "[Parallel(n_jobs=-1)]: Done 434 tasks      | elapsed:    2.3s\n",
      "[Parallel(n_jobs=-1)]: Done 784 tasks      | elapsed:    4.1s\n",
      "[Parallel(n_jobs=-1)]: Done 1234 tasks      | elapsed:    6.5s\n",
      "[Parallel(n_jobs=-1)]: Done 1784 tasks      | elapsed:    9.1s\n",
      "[Parallel(n_jobs=-1)]: Done 2000 out of 2000 | elapsed:   10.0s finished\n"
     ]
    },
    {
     "data": {
      "text/plain": [
       "Pipeline(steps=[('vectorizer',\n",
       "                 TfidfVectorizer(decode_error='ignore', max_df=0.5, min_df=10,\n",
       "                                 stop_words={'अक्सर', 'अगाडी', 'अझै', 'अनुसार',\n",
       "                                             'अन्तर्गत', 'अन्य', 'अन्यत्र',\n",
       "                                             'अन्यथा', 'अब', 'अरु', 'अरुलाई',\n",
       "                                             'अर्को', 'अर्थात', 'अर्थात्',\n",
       "                                             'अलग', 'आए', 'आजको', 'आत्म', 'आदि',\n",
       "                                             'आफू', 'आफूलाई', 'आफ्नै', 'आफ्नो',\n",
       "                                             'आयो', 'उदाहरण', 'उनको', 'उनले',\n",
       "                                             'उप', 'उहालाई', 'एउटै', ...},\n",
       "                                 sublinear_tf=True,\n",
       "                                 tokenizer=<function <lambda> at 0x7f540c4823a0>)),\n",
       "                ('clf',\n",
       "                 RandomForestClassifier(max_depth=20, min_samples_leaf=5,\n",
       "                                        min_samples_split=6, n_estimators=2000,\n",
       "                                        n_jobs=-1, verbose=1))])"
      ]
     },
     "execution_count": 27,
     "metadata": {},
     "output_type": "execute_result"
    }
   ],
   "source": [
    "rf_clf.fit(X_train,y_train)\n",
    "rf_clf_no_feat_sel.fit(X_train,y_train)"
   ]
  },
  {
   "cell_type": "code",
   "execution_count": 28,
   "id": "f01952c5",
   "metadata": {},
   "outputs": [
    {
     "name": "stderr",
     "output_type": "stream",
     "text": [
      "[Parallel(n_jobs=8)]: Using backend ThreadingBackend with 8 concurrent workers.\n",
      "[Parallel(n_jobs=8)]: Done  34 tasks      | elapsed:    0.0s\n",
      "[Parallel(n_jobs=8)]: Done 184 tasks      | elapsed:    0.2s\n",
      "[Parallel(n_jobs=8)]: Done 434 tasks      | elapsed:    0.5s\n",
      "[Parallel(n_jobs=8)]: Done 784 tasks      | elapsed:    0.8s\n",
      "[Parallel(n_jobs=8)]: Done 1234 tasks      | elapsed:    1.1s\n",
      "[Parallel(n_jobs=8)]: Done 1784 tasks      | elapsed:    1.7s\n",
      "[Parallel(n_jobs=8)]: Done 2000 out of 2000 | elapsed:    2.0s finished\n"
     ]
    },
    {
     "name": "stdout",
     "output_type": "stream",
     "text": [
      "Accuracy on train Set :  0.6769406392694064\n"
     ]
    },
    {
     "name": "stderr",
     "output_type": "stream",
     "text": [
      "[Parallel(n_jobs=8)]: Using backend ThreadingBackend with 8 concurrent workers.\n",
      "[Parallel(n_jobs=8)]: Done  34 tasks      | elapsed:    0.0s\n",
      "[Parallel(n_jobs=8)]: Done 184 tasks      | elapsed:    0.1s\n",
      "[Parallel(n_jobs=8)]: Done 434 tasks      | elapsed:    0.3s\n",
      "[Parallel(n_jobs=8)]: Done 784 tasks      | elapsed:    0.4s\n",
      "[Parallel(n_jobs=8)]: Done 1234 tasks      | elapsed:    0.6s\n"
     ]
    },
    {
     "name": "stdout",
     "output_type": "stream",
     "text": [
      "Accuracy on test Set :  0.5762557077625571\n"
     ]
    },
    {
     "name": "stderr",
     "output_type": "stream",
     "text": [
      "[Parallel(n_jobs=8)]: Done 1784 tasks      | elapsed:    0.9s\n",
      "[Parallel(n_jobs=8)]: Done 2000 out of 2000 | elapsed:    1.0s finished\n"
     ]
    }
   ],
   "source": [
    "print(\"Accuracy on train Set : \", rf_clf.score(X_train,y_train))\n",
    "print(\"Accuracy on test Set : \", rf_clf.score(X_test,y_test))"
   ]
  },
  {
   "cell_type": "code",
   "execution_count": 29,
   "id": "784a0138",
   "metadata": {},
   "outputs": [
    {
     "name": "stderr",
     "output_type": "stream",
     "text": [
      "[Parallel(n_jobs=8)]: Using backend ThreadingBackend with 8 concurrent workers.\n",
      "[Parallel(n_jobs=8)]: Done  34 tasks      | elapsed:    0.1s\n",
      "[Parallel(n_jobs=8)]: Done 184 tasks      | elapsed:    0.3s\n",
      "[Parallel(n_jobs=8)]: Done 434 tasks      | elapsed:    0.7s\n",
      "[Parallel(n_jobs=8)]: Done 784 tasks      | elapsed:    1.1s\n",
      "[Parallel(n_jobs=8)]: Done 1234 tasks      | elapsed:    1.8s\n",
      "[Parallel(n_jobs=8)]: Done 1784 tasks      | elapsed:    2.7s\n",
      "[Parallel(n_jobs=8)]: Done 2000 out of 2000 | elapsed:    3.0s finished\n"
     ]
    },
    {
     "name": "stdout",
     "output_type": "stream",
     "text": [
      "Accuracy on train Set :  0.6559360730593607\n"
     ]
    },
    {
     "name": "stderr",
     "output_type": "stream",
     "text": [
      "[Parallel(n_jobs=8)]: Using backend ThreadingBackend with 8 concurrent workers.\n",
      "[Parallel(n_jobs=8)]: Done  34 tasks      | elapsed:    0.0s\n",
      "[Parallel(n_jobs=8)]: Done 184 tasks      | elapsed:    0.1s\n",
      "[Parallel(n_jobs=8)]: Done 434 tasks      | elapsed:    0.4s\n",
      "[Parallel(n_jobs=8)]: Done 784 tasks      | elapsed:    0.6s\n",
      "[Parallel(n_jobs=8)]: Done 1234 tasks      | elapsed:    0.9s\n"
     ]
    },
    {
     "name": "stdout",
     "output_type": "stream",
     "text": [
      "Accuracy on test Set :  0.5570776255707762\n"
     ]
    },
    {
     "name": "stderr",
     "output_type": "stream",
     "text": [
      "[Parallel(n_jobs=8)]: Done 1784 tasks      | elapsed:    1.3s\n",
      "[Parallel(n_jobs=8)]: Done 2000 out of 2000 | elapsed:    1.4s finished\n"
     ]
    }
   ],
   "source": [
    "print(\"Accuracy on train Set : \", rf_clf_no_feat_sel.score(X_train,y_train))\n",
    "print(\"Accuracy on test Set : \", rf_clf_no_feat_sel.score(X_test,y_test))"
   ]
  },
  {
   "cell_type": "markdown",
   "id": "f2459c22",
   "metadata": {},
   "source": [
    "### Naive Bayes"
   ]
  },
  {
   "cell_type": "code",
   "execution_count": 30,
   "id": "2c2dbdeb",
   "metadata": {},
   "outputs": [],
   "source": [
    "from sklearn.naive_bayes import MultinomialNB,BernoulliNB"
   ]
  },
  {
   "cell_type": "code",
   "execution_count": 31,
   "id": "3db5fcd0",
   "metadata": {},
   "outputs": [],
   "source": [
    "bnb_clf = Pipeline([\n",
    "    ('vect', tfidfVectorizer),\n",
    "    ('clf', BernoulliNB(alpha=0.01))\n",
    "])\n",
    "\n",
    "mnb_clf = Pipeline([\n",
    "    ('vect', tfidfVectorizer),\n",
    "    ('clf', MultinomialNB(alpha=0.01, fit_prior=True))\n",
    "])"
   ]
  },
  {
   "cell_type": "code",
   "execution_count": 32,
   "id": "76838959",
   "metadata": {},
   "outputs": [
    {
     "data": {
      "text/plain": [
       "Pipeline(steps=[('vect',\n",
       "                 TfidfVectorizer(decode_error='ignore', max_df=0.5, min_df=10,\n",
       "                                 stop_words={'अक्सर', 'अगाडी', 'अझै', 'अनुसार',\n",
       "                                             'अन्तर्गत', 'अन्य', 'अन्यत्र',\n",
       "                                             'अन्यथा', 'अब', 'अरु', 'अरुलाई',\n",
       "                                             'अर्को', 'अर्थात', 'अर्थात्',\n",
       "                                             'अलग', 'आए', 'आजको', 'आत्म', 'आदि',\n",
       "                                             'आफू', 'आफूलाई', 'आफ्नै', 'आफ्नो',\n",
       "                                             'आयो', 'उदाहरण', 'उनको', 'उनले',\n",
       "                                             'उप', 'उहालाई', 'एउटै', ...},\n",
       "                                 sublinear_tf=True,\n",
       "                                 tokenizer=<function <lambda> at 0x7f540c4823a0>)),\n",
       "                ('clf', BernoulliNB(alpha=0.01))])"
      ]
     },
     "execution_count": 32,
     "metadata": {},
     "output_type": "execute_result"
    }
   ],
   "source": [
    "bnb_clf.fit(X_train,y_train)"
   ]
  },
  {
   "cell_type": "code",
   "execution_count": 33,
   "id": "4875f95d",
   "metadata": {},
   "outputs": [
    {
     "name": "stdout",
     "output_type": "stream",
     "text": [
      "Accuracy on train Set :  0.9011415525114155\n",
      "Accuracy on test Set :  0.6675799086757991\n"
     ]
    }
   ],
   "source": [
    "print(\"Accuracy on train Set : \", bnb_clf.score(X_train,y_train))\n",
    "print(\"Accuracy on test Set : \", bnb_clf.score(X_test,y_test))"
   ]
  },
  {
   "cell_type": "code",
   "execution_count": 34,
   "id": "e5f40750",
   "metadata": {},
   "outputs": [
    {
     "data": {
      "text/plain": [
       "Pipeline(steps=[('vect',\n",
       "                 TfidfVectorizer(decode_error='ignore', max_df=0.5, min_df=10,\n",
       "                                 stop_words={'अक्सर', 'अगाडी', 'अझै', 'अनुसार',\n",
       "                                             'अन्तर्गत', 'अन्य', 'अन्यत्र',\n",
       "                                             'अन्यथा', 'अब', 'अरु', 'अरुलाई',\n",
       "                                             'अर्को', 'अर्थात', 'अर्थात्',\n",
       "                                             'अलग', 'आए', 'आजको', 'आत्म', 'आदि',\n",
       "                                             'आफू', 'आफूलाई', 'आफ्नै', 'आफ्नो',\n",
       "                                             'आयो', 'उदाहरण', 'उनको', 'उनले',\n",
       "                                             'उप', 'उहालाई', 'एउटै', ...},\n",
       "                                 sublinear_tf=True,\n",
       "                                 tokenizer=<function <lambda> at 0x7f540c4823a0>)),\n",
       "                ('clf', MultinomialNB(alpha=0.01))])"
      ]
     },
     "execution_count": 34,
     "metadata": {},
     "output_type": "execute_result"
    }
   ],
   "source": [
    "mnb_clf.fit(X_train,y_train)"
   ]
  },
  {
   "cell_type": "code",
   "execution_count": 35,
   "id": "b944510c",
   "metadata": {},
   "outputs": [
    {
     "name": "stdout",
     "output_type": "stream",
     "text": [
      "Accuracy on train Set :  0.9408675799086758\n",
      "Accuracy on test Set :  0.6794520547945205\n"
     ]
    }
   ],
   "source": [
    "print(\"Accuracy on train Set : \", mnb_clf.score(X_train,y_train))\n",
    "print(\"Accuracy on test Set : \", mnb_clf.score(X_test,y_test))"
   ]
  },
  {
   "cell_type": "markdown",
   "id": "666c5084",
   "metadata": {},
   "source": [
    "## Classification Report\n"
   ]
  },
  {
   "cell_type": "code",
   "execution_count": 36,
   "id": "59e88d9c",
   "metadata": {},
   "outputs": [],
   "source": [
    "from sklearn.metrics import classification_report"
   ]
  },
  {
   "cell_type": "markdown",
   "id": "53743b0b",
   "metadata": {},
   "source": [
    "#### SVM"
   ]
  },
  {
   "cell_type": "code",
   "execution_count": null,
   "id": "ee007ead",
   "metadata": {},
   "outputs": [],
   "source": []
  },
  {
   "cell_type": "code",
   "execution_count": 37,
   "id": "cf3ff1da",
   "metadata": {},
   "outputs": [
    {
     "name": "stdout",
     "output_type": "stream",
     "text": [
      "               precision    recall  f1-score   support\n",
      "\n",
      "  Agriculture       0.79      0.58      0.67        19\n",
      "  Automobiles       0.95      0.80      0.87        25\n",
      "         Bank       0.90      0.87      0.89        86\n",
      "         Blog       0.83      0.34      0.48        59\n",
      "     Business       0.32      0.23      0.27        39\n",
      "      Economy       0.65      0.84      0.73       107\n",
      "    Education       0.59      0.54      0.57        24\n",
      "   Employment       0.79      0.50      0.61        30\n",
      "Entertainment       0.51      0.84      0.64       112\n",
      "    Interview       0.23      0.20      0.21        46\n",
      "   Literature       1.00      0.59      0.74        49\n",
      "    Migration       0.89      0.36      0.52        22\n",
      "      Opinion       0.83      0.97      0.90       102\n",
      "     Politics       0.96      0.97      0.96       111\n",
      "      Society       0.71      0.65      0.68        31\n",
      "       Sports       0.77      0.88      0.82       134\n",
      "   Technology       0.75      0.25      0.38        12\n",
      "      Tourism       0.80      0.62      0.70        52\n",
      "        World       0.96      0.71      0.82        35\n",
      "\n",
      "     accuracy                           0.73      1095\n",
      "    macro avg       0.75      0.62      0.65      1095\n",
      " weighted avg       0.75      0.73      0.72      1095\n",
      "\n"
     ]
    }
   ],
   "source": [
    "y_pred = svc_clf.predict(X_test)\n",
    "print(classification_report(y_test,y_pred))"
   ]
  },
  {
   "cell_type": "code",
   "execution_count": 38,
   "id": "4bbe5cbf",
   "metadata": {},
   "outputs": [
    {
     "name": "stdout",
     "output_type": "stream",
     "text": [
      "               precision    recall  f1-score   support\n",
      "\n",
      "  Agriculture       0.83      0.53      0.65        19\n",
      "  Automobiles       1.00      0.76      0.86        25\n",
      "         Bank       0.93      0.83      0.88        86\n",
      "         Blog       0.80      0.14      0.23        59\n",
      "     Business       0.30      0.23      0.26        39\n",
      "      Economy       0.59      0.88      0.71       107\n",
      "    Education       0.67      0.50      0.57        24\n",
      "   Employment       0.93      0.43      0.59        30\n",
      "Entertainment       0.43      0.80      0.56       112\n",
      "    Interview       0.14      0.11      0.12        46\n",
      "   Literature       1.00      0.53      0.69        49\n",
      "    Migration       0.83      0.23      0.36        22\n",
      "      Opinion       0.80      0.97      0.88       102\n",
      "     Politics       0.95      0.98      0.96       111\n",
      "      Society       0.76      0.52      0.62        31\n",
      "       Sports       0.75      0.90      0.82       134\n",
      "   Technology       0.50      0.08      0.14        12\n",
      "      Tourism       0.84      0.60      0.70        52\n",
      "        World       0.96      0.69      0.80        35\n",
      "\n",
      "     accuracy                           0.70      1095\n",
      "    macro avg       0.74      0.56      0.60      1095\n",
      " weighted avg       0.74      0.70      0.68      1095\n",
      "\n"
     ]
    }
   ],
   "source": [
    "y_pred = svc_clf_no_feat_sel.predict(X_test)\n",
    "print(classification_report(y_test,y_pred))"
   ]
  },
  {
   "cell_type": "markdown",
   "id": "d843856f",
   "metadata": {},
   "source": [
    "### Naive Bayes"
   ]
  },
  {
   "cell_type": "code",
   "execution_count": 39,
   "id": "f84455d3",
   "metadata": {},
   "outputs": [
    {
     "name": "stdout",
     "output_type": "stream",
     "text": [
      "               precision    recall  f1-score   support\n",
      "\n",
      "  Agriculture       0.67      0.63      0.65        19\n",
      "  Automobiles       0.95      0.84      0.89        25\n",
      "         Bank       0.79      0.76      0.77        86\n",
      "         Blog       0.55      0.51      0.53        59\n",
      "     Business       0.03      0.03      0.03        39\n",
      "      Economy       0.65      0.76      0.70       107\n",
      "    Education       0.61      0.58      0.60        24\n",
      "   Employment       0.79      0.50      0.61        30\n",
      "Entertainment       0.50      0.59      0.54       112\n",
      "    Interview       0.10      0.09      0.09        46\n",
      "   Literature       0.86      0.24      0.38        49\n",
      "    Migration       0.79      0.50      0.61        22\n",
      "      Opinion       0.67      0.95      0.79       102\n",
      "     Politics       0.94      0.92      0.93       111\n",
      "      Society       0.68      0.68      0.68        31\n",
      "       Sports       0.75      0.86      0.80       134\n",
      "   Technology       0.62      0.42      0.50        12\n",
      "      Tourism       0.78      0.67      0.72        52\n",
      "        World       0.77      0.69      0.73        35\n",
      "\n",
      "     accuracy                           0.67      1095\n",
      "    macro avg       0.66      0.59      0.61      1095\n",
      " weighted avg       0.67      0.67      0.66      1095\n",
      "\n"
     ]
    }
   ],
   "source": [
    "y_pred = bnb_clf.predict(X_test)\n",
    "print(classification_report(y_test,y_pred))"
   ]
  },
  {
   "cell_type": "code",
   "execution_count": 40,
   "id": "e332a5a4",
   "metadata": {},
   "outputs": [
    {
     "name": "stdout",
     "output_type": "stream",
     "text": [
      "               precision    recall  f1-score   support\n",
      "\n",
      "  Agriculture       0.67      0.74      0.70        19\n",
      "  Automobiles       0.91      0.84      0.87        25\n",
      "         Bank       0.86      0.83      0.84        86\n",
      "         Blog       0.60      0.10      0.17        59\n",
      "     Business       0.33      0.31      0.32        39\n",
      "      Economy       0.57      0.77      0.65       107\n",
      "    Education       0.65      0.54      0.59        24\n",
      "   Employment       0.73      0.53      0.62        30\n",
      "Entertainment       0.69      0.61      0.65       112\n",
      "    Interview       0.13      0.15      0.14        46\n",
      "   Literature       0.73      0.73      0.73        49\n",
      "    Migration       0.81      0.59      0.68        22\n",
      "      Opinion       0.53      0.91      0.67       102\n",
      "     Politics       0.90      0.93      0.92       111\n",
      "      Society       0.58      0.61      0.59        31\n",
      "       Sports       0.94      0.82      0.88       134\n",
      "   Technology       0.67      0.33      0.44        12\n",
      "      Tourism       0.73      0.63      0.68        52\n",
      "        World       0.79      0.66      0.72        35\n",
      "\n",
      "     accuracy                           0.68      1095\n",
      "    macro avg       0.68      0.61      0.63      1095\n",
      " weighted avg       0.70      0.68      0.67      1095\n",
      "\n"
     ]
    }
   ],
   "source": [
    "y_pred = mnb_clf.predict(X_test)\n",
    "print(classification_report(y_test,y_pred))"
   ]
  },
  {
   "cell_type": "markdown",
   "id": "888d7e01",
   "metadata": {},
   "source": [
    "### Random Forest"
   ]
  },
  {
   "cell_type": "code",
   "execution_count": 41,
   "id": "541baddb",
   "metadata": {},
   "outputs": [
    {
     "name": "stderr",
     "output_type": "stream",
     "text": [
      "[Parallel(n_jobs=8)]: Using backend ThreadingBackend with 8 concurrent workers.\n",
      "[Parallel(n_jobs=8)]: Done  34 tasks      | elapsed:    0.0s\n",
      "[Parallel(n_jobs=8)]: Done 184 tasks      | elapsed:    0.1s\n",
      "[Parallel(n_jobs=8)]: Done 434 tasks      | elapsed:    0.2s\n",
      "[Parallel(n_jobs=8)]: Done 784 tasks      | elapsed:    0.5s\n",
      "[Parallel(n_jobs=8)]: Done 1234 tasks      | elapsed:    0.7s\n"
     ]
    },
    {
     "name": "stdout",
     "output_type": "stream",
     "text": [
      "               precision    recall  f1-score   support\n",
      "\n",
      "  Agriculture       0.75      0.16      0.26        19\n",
      "  Automobiles       1.00      0.60      0.75        25\n",
      "         Bank       0.76      0.86      0.80        86\n",
      "         Blog       0.00      0.00      0.00        59\n",
      "     Business       0.12      0.08      0.10        39\n",
      "      Economy       0.58      0.71      0.64       107\n",
      "    Education       0.83      0.21      0.33        24\n",
      "   Employment       1.00      0.30      0.46        30\n",
      "Entertainment       0.54      0.50      0.52       112\n",
      "    Interview       0.10      0.07      0.08        46\n",
      "   Literature       1.00      0.12      0.22        49\n",
      "    Migration       0.00      0.00      0.00        22\n",
      "      Opinion       0.64      0.98      0.78       102\n",
      "     Politics       0.81      0.97      0.88       111\n",
      "      Society       0.67      0.06      0.12        31\n",
      "       Sports       0.41      1.00      0.58       134\n",
      "   Technology       0.00      0.00      0.00        12\n",
      "      Tourism       0.81      0.67      0.74        52\n",
      "        World       1.00      0.06      0.11        35\n",
      "\n",
      "     accuracy                           0.58      1095\n",
      "    macro avg       0.58      0.39      0.39      1095\n",
      " weighted avg       0.59      0.58      0.51      1095\n",
      "\n"
     ]
    },
    {
     "name": "stderr",
     "output_type": "stream",
     "text": [
      "[Parallel(n_jobs=8)]: Done 1784 tasks      | elapsed:    1.1s\n",
      "[Parallel(n_jobs=8)]: Done 2000 out of 2000 | elapsed:    1.2s finished\n",
      "/home/ash/Desktop/projects/nepali_news_classifier_recommender/venv/lib/python3.9/site-packages/sklearn/metrics/_classification.py:1248: UndefinedMetricWarning: Precision and F-score are ill-defined and being set to 0.0 in labels with no predicted samples. Use `zero_division` parameter to control this behavior.\n",
      "  _warn_prf(average, modifier, msg_start, len(result))\n",
      "/home/ash/Desktop/projects/nepali_news_classifier_recommender/venv/lib/python3.9/site-packages/sklearn/metrics/_classification.py:1248: UndefinedMetricWarning: Precision and F-score are ill-defined and being set to 0.0 in labels with no predicted samples. Use `zero_division` parameter to control this behavior.\n",
      "  _warn_prf(average, modifier, msg_start, len(result))\n",
      "/home/ash/Desktop/projects/nepali_news_classifier_recommender/venv/lib/python3.9/site-packages/sklearn/metrics/_classification.py:1248: UndefinedMetricWarning: Precision and F-score are ill-defined and being set to 0.0 in labels with no predicted samples. Use `zero_division` parameter to control this behavior.\n",
      "  _warn_prf(average, modifier, msg_start, len(result))\n"
     ]
    }
   ],
   "source": [
    "y_pred = rf_clf.predict(X_test)\n",
    "print(classification_report(y_test,y_pred))"
   ]
  },
  {
   "cell_type": "code",
   "execution_count": 42,
   "id": "6e4e775d",
   "metadata": {},
   "outputs": [
    {
     "name": "stderr",
     "output_type": "stream",
     "text": [
      "[Parallel(n_jobs=8)]: Using backend ThreadingBackend with 8 concurrent workers.\n",
      "[Parallel(n_jobs=8)]: Done  34 tasks      | elapsed:    0.0s\n",
      "[Parallel(n_jobs=8)]: Done 184 tasks      | elapsed:    0.1s\n",
      "[Parallel(n_jobs=8)]: Done 434 tasks      | elapsed:    0.2s\n",
      "[Parallel(n_jobs=8)]: Done 784 tasks      | elapsed:    0.4s\n",
      "[Parallel(n_jobs=8)]: Done 1234 tasks      | elapsed:    0.7s\n"
     ]
    },
    {
     "name": "stdout",
     "output_type": "stream",
     "text": [
      "               precision    recall  f1-score   support\n",
      "\n",
      "  Agriculture       0.00      0.00      0.00        19\n",
      "  Automobiles       1.00      0.52      0.68        25\n",
      "         Bank       0.76      0.87      0.81        86\n",
      "         Blog       0.00      0.00      0.00        59\n",
      "     Business       0.12      0.08      0.10        39\n",
      "      Economy       0.57      0.71      0.63       107\n",
      "    Education       0.67      0.08      0.15        24\n",
      "   Employment       1.00      0.27      0.42        30\n",
      "Entertainment       0.65      0.46      0.53       112\n",
      "    Interview       0.07      0.04      0.05        46\n",
      "   Literature       1.00      0.08      0.15        49\n",
      "    Migration       0.00      0.00      0.00        22\n",
      "      Opinion       0.63      0.98      0.77       102\n",
      "     Politics       0.81      0.97      0.89       111\n",
      "      Society       1.00      0.03      0.06        31\n",
      "       Sports       0.36      1.00      0.53       134\n",
      "   Technology       0.00      0.00      0.00        12\n",
      "      Tourism       0.86      0.60      0.70        52\n",
      "        World       1.00      0.06      0.11        35\n",
      "\n",
      "     accuracy                           0.56      1095\n",
      "    macro avg       0.55      0.36      0.35      1095\n",
      " weighted avg       0.58      0.56      0.49      1095\n",
      "\n"
     ]
    },
    {
     "name": "stderr",
     "output_type": "stream",
     "text": [
      "[Parallel(n_jobs=8)]: Done 1784 tasks      | elapsed:    1.1s\n",
      "[Parallel(n_jobs=8)]: Done 2000 out of 2000 | elapsed:    1.2s finished\n",
      "/home/ash/Desktop/projects/nepali_news_classifier_recommender/venv/lib/python3.9/site-packages/sklearn/metrics/_classification.py:1248: UndefinedMetricWarning: Precision and F-score are ill-defined and being set to 0.0 in labels with no predicted samples. Use `zero_division` parameter to control this behavior.\n",
      "  _warn_prf(average, modifier, msg_start, len(result))\n",
      "/home/ash/Desktop/projects/nepali_news_classifier_recommender/venv/lib/python3.9/site-packages/sklearn/metrics/_classification.py:1248: UndefinedMetricWarning: Precision and F-score are ill-defined and being set to 0.0 in labels with no predicted samples. Use `zero_division` parameter to control this behavior.\n",
      "  _warn_prf(average, modifier, msg_start, len(result))\n",
      "/home/ash/Desktop/projects/nepali_news_classifier_recommender/venv/lib/python3.9/site-packages/sklearn/metrics/_classification.py:1248: UndefinedMetricWarning: Precision and F-score are ill-defined and being set to 0.0 in labels with no predicted samples. Use `zero_division` parameter to control this behavior.\n",
      "  _warn_prf(average, modifier, msg_start, len(result))\n"
     ]
    }
   ],
   "source": [
    "y_pred = rf_clf_no_feat_sel.predict(X_test)\n",
    "print(classification_report(y_test,y_pred))"
   ]
  },
  {
   "cell_type": "code",
   "execution_count": 43,
   "id": "cba5abd9",
   "metadata": {},
   "outputs": [],
   "source": [
    "from sklearn.metrics import confusion_matrix, plot_confusion_matrix"
   ]
  },
  {
   "cell_type": "code",
   "execution_count": 44,
   "id": "d1912131",
   "metadata": {
    "scrolled": false
   },
   "outputs": [
    {
     "name": "stderr",
     "output_type": "stream",
     "text": [
      "[Parallel(n_jobs=8)]: Using backend ThreadingBackend with 8 concurrent workers.\n",
      "[Parallel(n_jobs=8)]: Done  34 tasks      | elapsed:    0.0s\n",
      "[Parallel(n_jobs=8)]: Done 184 tasks      | elapsed:    0.1s\n",
      "[Parallel(n_jobs=8)]: Done 434 tasks      | elapsed:    0.3s\n",
      "[Parallel(n_jobs=8)]: Done 784 tasks      | elapsed:    0.5s\n",
      "[Parallel(n_jobs=8)]: Done 1234 tasks      | elapsed:    0.7s\n",
      "[Parallel(n_jobs=8)]: Done 1784 tasks      | elapsed:    1.0s\n",
      "[Parallel(n_jobs=8)]: Done 2000 out of 2000 | elapsed:    1.1s finished\n"
     ]
    },
    {
     "data": {
      "text/plain": [
       "<sklearn.metrics._plot.confusion_matrix.ConfusionMatrixDisplay at 0x7f540b7b6070>"
      ]
     },
     "execution_count": 44,
     "metadata": {},
     "output_type": "execute_result"
    },
    {
     "data": {
      "image/png": "[encoded data removed]",
      "text/plain": [
       "<Figure size 432x288 with 2 Axes>"
      ]
     },
     "metadata": {
      "needs_background": "light"
     },
     "output_type": "display_data"
    }
   ],
   "source": [
    "plot_confusion_matrix(rf_clf_no_feat_sel,y_test,y_pred)"
   ]
  },
  {
   "cell_type": "code",
   "execution_count": 51,
   "id": "18b20d7a",
   "metadata": {},
   "outputs": [],
   "source": [
    "best_classifier = svc_clf"
   ]
  },
  {
   "cell_type": "code",
   "execution_count": 55,
   "id": "79b9c173",
   "metadata": {},
   "outputs": [
    {
     "data": {
      "text/plain": [
       "SVC()"
      ]
     },
     "execution_count": 55,
     "metadata": {},
     "output_type": "execute_result"
    }
   ],
   "source": [
    "best_classifier.named_steps['clf']"
   ]
  },
  {
   "cell_type": "code",
   "execution_count": 57,
   "id": "de36ffd5",
   "metadata": {},
   "outputs": [],
   "source": [
    "import pickle\n",
    "with open('svc_clf_test_set_72_acc.pkl','wb') as f:\n",
    "    pickle.dump(best_classifier.named_steps['clf'], f) \n"
   ]
  },
  {
   "cell_type": "code",
   "execution_count": 59,
   "id": "73ed458f",
   "metadata": {},
   "outputs": [],
   "source": [
    "with open('svc_clf_test_set_72_acc.pkl','rb') as f:\n",
    "    model = pickle.load(f)"
   ]
  },
  {
   "cell_type": "code",
   "execution_count": 60,
   "id": "a8e424d5",
   "metadata": {},
   "outputs": [
    {
     "data": {
      "text/plain": [
       "SVC()"
      ]
     },
     "execution_count": 60,
     "metadata": {},
     "output_type": "execute_result"
    }
   ],
   "source": [
    "model"
   ]
  },
  {
   "cell_type": "markdown",
   "id": "f80aaa7f",
   "metadata": {},
   "source": [
    "### Classification Task"
   ]
  },
  {
   "cell_type": "code",
   "execution_count": 80,
   "id": "2bc55d24",
   "metadata": {},
   "outputs": [],
   "source": [
    "text = '''\n",
    "९ असार, काठमाडौं । युरोकप २०२० अन्तर्गत आज समूह चरणका अन्तिम चार खेल हुँदैछ । आजको खेलहरु पनि समूह चरणका खेल सकिनेछ र अन्तिम १६ को समीकरण तय हुनेछ ।\n",
    "अहिले चार समूहको विजेता र समूह विजेता अनि दुई उत्कृष्ट उपविजेताले अन्तिम १६ मा स्थान बनाएका छन् ।\n",
    "यस्तै समूह इ र एफबाट पनि अन्तिम १६ मा पुग्ने एक एक टिमको टुङ्गो लागेको छ ।\n",
    "आजको खेलपछि दुवै समूहको विजेता र उपविजेता अनि तेस्रो हुने मध्ये उत्कृष्ट चार टोलीको टुङ्गो लाग्नेछ ।\n",
    "आज समूह इ अन्तर्गत स्लोभाकिया र स्पेन तथा पोल्याण्ड र स्वीडेनबीचको खेल राति ९:४५ बजे सुरु हुनेछ ।\n",
    "स्पेनले घरेलु मैदान सेभियामा स्लोभाकियासँग खेल्नेछ । यसअघिका दुई खेल बराबरी खेलेको स्पेनलाई शीर्ष दुईमा रहन जितको आवश्यकता छ । स्लोभाकिया भने बराबरीले पनि नकआउट चरणमा पुग्न सक्नेछ ।\n",
    "उता स्वीडेन र पोल्याण्ड रुसको सेन्ट पिटर्सवर्गमा भिड्नेछन् । २ खेलबाट ४ अंक जोडेको स्वीडेनले नकआउटमा स्थानमा पक्का गरिसकेको छ । पोल्याण्डमा पराजित गरेमा स्वीडेन समूह विजेता बन्नेछ।\n",
    "यसैगरी राति १२:४५ बजे समूह एफको दुई महत्वपूर्ण खेल हुनेछ ।\n",
    "ग्रुप अफ डेथको रुपमा रहेको यस समूहमा विश्वकप विजेतार य रोपेली विजेतासहित तीन पूर्व विजेता छन् ।\n",
    "आज राति विश्व विजेता फ्रान्स र युरोपेली विजेता पोर्चुगलबीच बहुप्रतिक्षित भिडन्त हुनेछ । गत संस्करणमा फाइनल खेलेका यी दुई टोली यस पटक समूह चरणमै भिड्दैछन् ।\n",
    "यस्तै जर्मनीले घरेलु मैदानमा हंगेरीसँग खेल्नेछ ।\n",
    "फ्रान्स ४ अंकसहित शीर्ष स्थानमा छ र जस्तो नतिजा आए पनि नकआउटमा प्रवेश गर्नेछ । जर्मनी र पोर्चुगलको समान ३ र हंगेरीको १ अंक छ ।\n",
    "पोर्चुगललाई पराजित गरेमा फ्रान्स समूह विजेता बन्नेछ । यस्तै पोर्चुगललाई पनि फ्रान्सलाई हराउँदै समूह विजेता बन्ने अवसर छ तर त्यसका लागि जर्मनी र हंगेरीबीचको खेलको नतिजा कुर्नुपर्नेछ ।\n",
    "यदि फ्रान्स र हंगेरी विजयी भएमा भने पोर्चुगल अन्तिम स्थानमा हुनेछ । जर्मनीले हंगेरीलाई पराजित गरेमा र फ्रान्ससँग एक गोल अन्तरले हारेमा पनि पोर्चुगल उत्कृष्ट तेस्रो टिममध्ये एक हुँदै नकआउट चरणमा प्रवेश गर्नेछ।\n",
    "'''\n",
    "label = 'sports'"
   ]
  },
  {
   "cell_type": "code",
   "execution_count": 82,
   "id": "1b72f340",
   "metadata": {},
   "outputs": [
    {
     "data": {
      "text/plain": [
       "array(['Sports'], dtype=object)"
      ]
     },
     "execution_count": 82,
     "metadata": {},
     "output_type": "execute_result"
    }
   ],
   "source": [
    "svc_clf.predict([text])"
   ]
  },
  {
   "cell_type": "code",
   "execution_count": 84,
   "id": "79b9d88a",
   "metadata": {},
   "outputs": [
    {
     "data": {
      "text/plain": [
       "array(['Sports'], dtype='<U13')"
      ]
     },
     "execution_count": 84,
     "metadata": {},
     "output_type": "execute_result"
    }
   ],
   "source": [
    "mnb_clf.predict([text])"
   ]
  },
  {
   "cell_type": "code",
   "execution_count": 86,
   "id": "928a8438",
   "metadata": {},
   "outputs": [
    {
     "data": {
      "text/plain": [
       "array(['Sports'], dtype='<U13')"
      ]
     },
     "execution_count": 86,
     "metadata": {},
     "output_type": "execute_result"
    }
   ],
   "source": [
    "bnb_clf.predict([text])"
   ]
  },
  {
   "cell_type": "code",
   "execution_count": 85,
   "id": "99878bf5",
   "metadata": {},
   "outputs": [
    {
     "name": "stderr",
     "output_type": "stream",
     "text": [
      "[Parallel(n_jobs=8)]: Using backend ThreadingBackend with 8 concurrent workers.\n",
      "[Parallel(n_jobs=8)]: Done  34 tasks      | elapsed:    0.0s\n",
      "[Parallel(n_jobs=8)]: Done 184 tasks      | elapsed:    0.0s\n",
      "[Parallel(n_jobs=8)]: Done 434 tasks      | elapsed:    0.1s\n",
      "[Parallel(n_jobs=8)]: Done 784 tasks      | elapsed:    0.1s\n",
      "[Parallel(n_jobs=8)]: Done 1234 tasks      | elapsed:    0.2s\n",
      "[Parallel(n_jobs=8)]: Done 1784 tasks      | elapsed:    0.3s\n",
      "[Parallel(n_jobs=8)]: Done 2000 out of 2000 | elapsed:    0.3s finished\n"
     ]
    },
    {
     "data": {
      "text/plain": [
       "array(['Sports'], dtype=object)"
      ]
     },
     "execution_count": 85,
     "metadata": {},
     "output_type": "execute_result"
    }
   ],
   "source": [
    "rf_clf.predict([text])"
   ]
  },
  {
   "cell_type": "code",
   "execution_count": null,
   "id": "7fad0bd1",
   "metadata": {},
   "outputs": [],
   "source": []
  },
  {
   "cell_type": "code",
   "execution_count": 109,
   "id": "c5768e21",
   "metadata": {},
   "outputs": [],
   "source": [
    "text = '''\n",
    "९ असार, काठमाडौं । नेपाल स्टक एक्सचेञ्ज (नेप्से) को दुई वटा वेवसाइटहरु सञ्चालनमा छन् । दुबै वेवसाइट (नयाँ र पुरानो) मा सेयर बजार प्रत्यक्ष हेर्न सकिन्छ । दुई वेवसाइटमा देखिने तथ्यांक एउटै हुन् ।\n",
    "तर बुधबारको कारोबारमा भने फरक देखियो । नेप्सेकेा पुरानो वेवसाइटमा सेयर कारोबार मापक नेप्से परिसूचक ५१.६५ अंकले बजार घट्यो । बधबार बजार २ हजार ८ सय ६२ दशमलव १८ विन्दुमा पुगेर बन्द भएको देखिन्छ । उता नयाँ वेवसाइटमा भने ५३.८८ अंकले घटेर २ हजार ८ सय ५९ दशमलव ९६ अंकमा झरेको छ \n",
    "यी दुई वेवसाइटमा कसरी फरक तथ्यांक देखियो त ? नेप्सको प्रवक्ता मुराहरी पराजुली भन्छन्, ‘यो प्राविधिक समस्या हो, सिस्टममा रिफ्रेस नभएर त्यस्तो देखिएको हुनसक्छ ।’ कारोबार बन्द हुने वित्तिकै र केहि मिनेटपछि भने तथ्यांक तलमाथि हुन्छ । अपडेट हुनलाई केही समय लाग्ने भएकाले यस्तो हुने गरेको उनले बताए ।\n",
    "तर बुधबार कारोबार बन्द भएको ४० मिनेटसम्म पनि यस्तो देखिनु प्राविधिक समस्या भएको र पुरानो वेवसाइटलाई विस्वास गर्नु पर्ने उनले बताए ।\n",
    "‘खासमा आधिकारिक भनेको नयाँ होइन पुरानै हो, यसरी तथ्यांक फरक परेको अवस्थामा पुरानोलाई आधार मान्नुपर्छ’ प्रवक्ता पराजुलीले भने । बुधबार आज सबै समूहका परिसूचक नकारात्मक रहे । यसमा पनि सबैभन्दा बढी गुमाउनेमा विकास बैंक समुहका लगानीकर्ता परे । जलविद्युत, जीवन बिमा र होटेल समुहमा समेत पहिरो गयो । सेन्सेटिभ इन्डेक्समा ७.३७ अंकको करेक्सन देखियो ।\n",
    "बुधबार कुल २१८ कम्पनीको ९१ हजार ७५ वटा कारोबार भएको छ । कुल १ करोड ९४ लाख १७ हजार ५ सय ३२ कित्ता सेयर किनबेच भएको दिन बुधबार कारोबार रकम भने साढे ८ अर्बमा खुम्चिएको छ ।\n",
    "बजार लगातार घटेको समयमा पनि कारोबार रकम १० अर्ब भन्दामाथि हुने गरेको थियो । आज ८ अर्ब ३६ करोड २६ लाख ७१ हजार ६ सय ८१ रुपैयाँ बराबरको कारोबार भएको छ ।\n",
    "'''\n",
    "label = 'Economy'"
   ]
  },
  {
   "cell_type": "code",
   "execution_count": null,
   "id": "b1fd0047",
   "metadata": {},
   "outputs": [],
   "source": []
  },
  {
   "cell_type": "code",
   "execution_count": 105,
   "id": "ed2ff41b",
   "metadata": {},
   "outputs": [
    {
     "data": {
      "text/plain": [
       "array(['Economy'], dtype=object)"
      ]
     },
     "execution_count": 105,
     "metadata": {},
     "output_type": "execute_result"
    }
   ],
   "source": [
    "svc_clf.predict([text])"
   ]
  },
  {
   "cell_type": "code",
   "execution_count": 106,
   "id": "f61b85b1",
   "metadata": {},
   "outputs": [
    {
     "data": {
      "text/plain": [
       "array(['Bank'], dtype='<U13')"
      ]
     },
     "execution_count": 106,
     "metadata": {},
     "output_type": "execute_result"
    }
   ],
   "source": [
    "mnb_clf.predict([text])"
   ]
  },
  {
   "cell_type": "code",
   "execution_count": 107,
   "id": "8f5ec530",
   "metadata": {},
   "outputs": [
    {
     "data": {
      "text/plain": [
       "array(['Bank'], dtype='<U13')"
      ]
     },
     "execution_count": 107,
     "metadata": {},
     "output_type": "execute_result"
    }
   ],
   "source": [
    "bnb_clf.predict([text])"
   ]
  },
  {
   "cell_type": "code",
   "execution_count": 108,
   "id": "4cadc3fb",
   "metadata": {},
   "outputs": [
    {
     "name": "stderr",
     "output_type": "stream",
     "text": [
      "[Parallel(n_jobs=8)]: Using backend ThreadingBackend with 8 concurrent workers.\n",
      "[Parallel(n_jobs=8)]: Done  34 tasks      | elapsed:    0.0s\n",
      "[Parallel(n_jobs=8)]: Done 184 tasks      | elapsed:    0.0s\n",
      "[Parallel(n_jobs=8)]: Done 434 tasks      | elapsed:    0.1s\n",
      "[Parallel(n_jobs=8)]: Done 784 tasks      | elapsed:    0.1s\n",
      "[Parallel(n_jobs=8)]: Done 1234 tasks      | elapsed:    0.2s\n",
      "[Parallel(n_jobs=8)]: Done 1784 tasks      | elapsed:    0.3s\n",
      "[Parallel(n_jobs=8)]: Done 2000 out of 2000 | elapsed:    0.3s finished\n"
     ]
    },
    {
     "data": {
      "text/plain": [
       "array(['Bank'], dtype=object)"
      ]
     },
     "execution_count": 108,
     "metadata": {},
     "output_type": "execute_result"
    }
   ],
   "source": [
    "rf_clf.predict([text])"
   ]
  },
  {
   "cell_type": "code",
   "execution_count": null,
   "id": "fa131568",
   "metadata": {},
   "outputs": [],
   "source": []
  },
  {
   "cell_type": "code",
   "execution_count": null,
   "id": "b3706bd6",
   "metadata": {},
   "outputs": [],
   "source": []
  }
 ],
 "metadata": {
  "kernelspec": {
   "display_name": "Python 3",
   "language": "python",
   "name": "python3"
  },
  "language_info": {
   "codemirror_mode": {
    "name": "ipython",
    "version": 3
   },
   "file_extension": ".py",
   "mimetype": "text/x-python",
   "name": "python",
   "nbconvert_exporter": "python",
   "pygments_lexer": "ipython3",
   "version": "3.9.5"
  }
 },
 "nbformat": 4,
 "nbformat_minor": 5
}
