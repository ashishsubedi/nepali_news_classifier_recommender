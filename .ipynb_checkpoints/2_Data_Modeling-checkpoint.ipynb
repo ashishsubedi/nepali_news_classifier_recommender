{
 "cells": [
  {
   "cell_type": "code",
   "execution_count": 1,
   "id": "cde5e4b2",
   "metadata": {},
   "outputs": [],
   "source": [
    "import os"
   ]
  },
  {
   "cell_type": "code",
   "execution_count": 2,
   "id": "708c4b14",
   "metadata": {},
   "outputs": [],
   "source": [
    "import pandas as pd\n",
    "import numpy as np\n",
    "import nltk"
   ]
  },
  {
   "cell_type": "code",
   "execution_count": 3,
   "id": "0f4fcb1d",
   "metadata": {},
   "outputs": [],
   "source": [
    "from sklearn.model_selection import train_test_split"
   ]
  },
  {
   "cell_type": "code",
   "execution_count": 4,
   "id": "4430e987",
   "metadata": {},
   "outputs": [],
   "source": [
    "DATA_DIR = os.path.abspath('./datasets/output/data_2.csv')"
   ]
  },
  {
   "cell_type": "code",
   "execution_count": 5,
   "id": "0d40bd9d",
   "metadata": {},
   "outputs": [],
   "source": [
    "#nltk.download('stopwords')"
   ]
  },
  {
   "cell_type": "markdown",
   "id": "dc38f35e",
   "metadata": {},
   "source": [
    "## Loading Data"
   ]
  },
  {
   "cell_type": "code",
   "execution_count": 6,
   "id": "49420a6b",
   "metadata": {},
   "outputs": [
    {
     "data": {
      "text/html": [
       "<div>\n",
       "<style scoped>\n",
       "    .dataframe tbody tr th:only-of-type {\n",
       "        vertical-align: middle;\n",
       "    }\n",
       "\n",
       "    .dataframe tbody tr th {\n",
       "        vertical-align: top;\n",
       "    }\n",
       "\n",
       "    .dataframe thead th {\n",
       "        text-align: right;\n",
       "    }\n",
       "</style>\n",
       "<table border=\"1\" class=\"dataframe\">\n",
       "  <thead>\n",
       "    <tr style=\"text-align: right;\">\n",
       "      <th></th>\n",
       "      <th>class</th>\n",
       "      <th>text</th>\n",
       "    </tr>\n",
       "    <tr>\n",
       "      <th>id</th>\n",
       "      <th></th>\n",
       "      <th></th>\n",
       "    </tr>\n",
       "  </thead>\n",
       "  <tbody>\n",
       "    <tr>\n",
       "      <th>0</th>\n",
       "      <td>Interview</td>\n",
       "      <td>﻿विडम्बना, ओलीको सत्ता सवारी पनि सिंहदरबारमा फ...</td>\n",
       "    </tr>\n",
       "    <tr>\n",
       "      <th>1</th>\n",
       "      <td>Interview</td>\n",
       "      <td>﻿नेपाली कांग्रेसको सभापतिमा रामचन्द्र पौडेलको ...</td>\n",
       "    </tr>\n",
       "    <tr>\n",
       "      <th>2</th>\n",
       "      <td>Interview</td>\n",
       "      <td>﻿\\nदुर्भाग्य नै भन्नुपर्छ हाम्रो प्राथमिकता पे...</td>\n",
       "    </tr>\n",
       "    <tr>\n",
       "      <th>3</th>\n",
       "      <td>Interview</td>\n",
       "      <td>﻿नयनराज पाण्डे, लेखक\\nविमोचन हुनै लागेको तपाईं...</td>\n",
       "    </tr>\n",
       "    <tr>\n",
       "      <th>4</th>\n",
       "      <td>Interview</td>\n",
       "      <td>﻿- भवन भट्ट, उपाध्यक्ष, गैर आवासीय नेपाली संघ\\...</td>\n",
       "    </tr>\n",
       "  </tbody>\n",
       "</table>\n",
       "</div>"
      ],
      "text/plain": [
       "        class                                               text\n",
       "id                                                              \n",
       "0   Interview  ﻿विडम्बना, ओलीको सत्ता सवारी पनि सिंहदरबारमा फ...\n",
       "1   Interview  ﻿नेपाली कांग्रेसको सभापतिमा रामचन्द्र पौडेलको ...\n",
       "2   Interview  ﻿\\nदुर्भाग्य नै भन्नुपर्छ हाम्रो प्राथमिकता पे...\n",
       "3   Interview  ﻿नयनराज पाण्डे, लेखक\\nविमोचन हुनै लागेको तपाईं...\n",
       "4   Interview  ﻿- भवन भट्ट, उपाध्यक्ष, गैर आवासीय नेपाली संघ\\..."
      ]
     },
     "execution_count": 6,
     "metadata": {},
     "output_type": "execute_result"
    }
   ],
   "source": [
    "df = pd.read_csv(DATA_DIR,index_col=0)\n",
    "df.head()"
   ]
  },
  {
   "cell_type": "code",
   "execution_count": 7,
   "id": "11f0ceba",
   "metadata": {},
   "outputs": [],
   "source": [
    "df.dropna(inplace=True)"
   ]
  },
  {
   "cell_type": "code",
   "execution_count": 8,
   "id": "8f9f12a5",
   "metadata": {},
   "outputs": [],
   "source": [
    "y = df['class']\n",
    "X = df['text']"
   ]
  },
  {
   "cell_type": "code",
   "execution_count": 9,
   "id": "e978a678",
   "metadata": {},
   "outputs": [
    {
     "data": {
      "text/plain": [
       "'\\ufeffविडम्बना, ओलीको सत्ता सवारी पनि सिंहदरबारमा फोटो झुण्ड्याउने मार्गतिरै अघि बढिरहेको छ।\\nकल्पना गर्नुुस्, कसैले तपाईंको कन्चटमा पेस्तोल राख्दै तत्काल ‘एमाले अध्यक्ष तथा प्रधानमन्त्री केपी शर्मा ओली, एनेकपा माओवादीका अध्यक्ष पुष्पकमल दाहाल र नेपाली कांग्रेसका सभापति शेरबहादुर देउवामध्ये उत्कृष्ट को हो?’ भनी सोध्यो। के तपाईं निमेषभरमै एकजनाको नाम भन्न सक्नुहोला? जवाफ सहज छैन।\\nहामीले माने पनि नमाने पनि वर्तमान नेपाली राजनीतिका त्रिमूर्ति यिनै हुन्। यिनकै विवेक, बेवकूफी, बेहोशीले नै नेपालको दशा र दिशा निर्धारित गरिरहेको छ।\\nअहिले एमाले अध्यक्ष ओली सत्ता राजनीतिको केन्द्रमा छन्। पार्टी प्रमुख र प्रधानमन्त्रीमा उनलाई प्राप्त यो पहिलो मौका संभवतः अन्तिम पनि हो, जसमा उनकै स्वीकारोक्ति पटकपटक सुनिएकै छ।\\nपार्टी नेतृत्वमा चुनिंदा अरूहरू जस्तो आफूसँग प्रशस्त समय नभएका कारण छिटोछिटो गर्ने, निःसन्तान रहेकाले धन सञ्चित गर्नु नपर्ने जस्ता भनाइले उनले चर्चा कमाएका थिए। पार्टी अध्यक्षका रूपमा संविधानलेखनमा देखाएको जुझारु भूमिकाले पनि नागरिकले स्वाभाविक रूपमा उनीबाट केही अपेक्षा राखेका थिए।\\nतर, प्रधानमन्त्रीत्वको सात महीना वितिसक्दा ओली अंग्रेजी कवि टीएस इलियटको ‘द हलो म्यान’ कविताको एक पंक्ति झैं बन्न पुगेका छन्, जसमा लेखिएको छ– बिटवीन द आइडिया एण्ड द रियालिटी, बिटवीन द मोसन एण्ड द याक्ट, फल्स द स्याडो। लाग्छ, ओलीको बोली र व्यवहारबीच छायाँ खसेको छ।\\nछायाँ यति अँध्यारो छ कि हिजोसम्म उनका तुक्का र खिसिटिउरीमा तुष्टि लिनेहरू समेत पीडाबोध गर्न बाध्य छन्। पछिल्लो साता आँधीहुरी र वर्षाले भूकम्पपीडितका टहरा र पाल उडाइरहँदा उनी हिन्द र प्रशान्त महासागरमा नेपाली झ्ण्डासहितका पानीजहाज चलाउने कुरा गरिरहेका छन्।\\nदेउवाको दायित्व\\nतुक्कावाजीलाई छाडौं, ओलीले सत्तामा टाँसिइरहन एमाओवादीसँगको नौबुँदे सहमतिको ‘फेविकोल’ ले लोकतन्त्रको मुटु न्यायिक राज्यको मर्मलाई नै निमोठेको छ। हिजो माओवादी हिंसाका कटु आलोचक तिनै ओली आज ‘अभयदाता’ बन्न खोजेका छन्।\\nभूकम्पबाट तहसनहस संरचनाको पुनःनिर्माण तथा भूकम्पपीडितको सम्मानित पुनर्वासदेखि संविधान कार्यान्वयनका लागि ऐन–नियम तर्जुमा गर्नुपर्ने ओली सरकारले हालै संशोधन गरेको एउटा ऐनबाट नै प्राथमिकता आकलन गर्न सकिन्छ। कालोबजारी नियन्त्रण गर्न नसकेको भन्दै आलोचना खेपिरहेको सरकार कालोबजारीप्रति उल्टै उदार देखिएको छ।\\nसरकारले ‘कालोबजार तथा केही अन्य सामाजिक अपराध तथा सजाय ऐन २०३२’ संशोधन गरी कालोबजारीमा संलग्नलाई तोकिएको कैदको समय १० वर्षबाट एक वर्षमा झारेको छ। यसबाट कालोबजारीका अभिभावक कतै सरकार नै त होइन भन्ने संशय उत्पन्न गराएको छ।\\nयतिवेला कुनै वेलाका कट्टर आलोचक एमालेका ओली र एमाओवादीका दाहाल सत्ताका नाविक छन्। तर, जिम्मेवार प्रतिपक्षको नेतृत्व गर्नुपर्ने कांग्रेसका देउवाको ध्येय नौकाबाट ओलीलाई खसाल्ने षडयन्त्रमै सीमित देखिन्छ। सरकार गठनको पछिल्लो घटनाक्रमबाट देउवा स्वयं आफैं नराम्ररी डुबेका छन्। यसले मुलुकको सबैभन्दा ठूलो दलको नेताका रूपमा देउवाको नेतृत्व क्षमता र सुझ्बुझमाथि अनेकौं प्रश्न खडा भएको छ।\\nयी तीन दलका तीन नेतामध्ये देउवा र दाहालको राष्ट्रको कार्यकारी प्रमुखको रूपमा परीक्षण भइसकेको छ। बहालवाला प्रम ओलीको मूल्याङ्कन अहिल्यै गरिहाल्नु हतार हुने भए पनि उनको नियति पनि सिंहदरबारको भित्तामा फोटो झुन्ड्याउनुमै सीमित हुने देखिन्छ।\\nएमाओवादीका दाहालको आगत फेरि प्रधानमन्त्री हुने भन्दा पनि संभावित युद्धअपराधको मुद्दाबाट जोगिनेतर्फ नै लक्षित हुने निश्चित छ। जसलाई उनी र ओलीबीचको नौ बुँदे सम्झौताले नै पुष्टि गर्छ।\\nइतिहासको यस कठिन मोडमा मुख्य भूमिकामा पुगेका तीन नेतामध्ये सुझबुझ र संयम देखाउन सके देउवाले अहम् भूमिका खेल्न सक्छन्।\\nनेपाली सत्ता राजनीतिमा विकृति भित्र्याएको आलोचनाबाट उन्मुक्ति नपाएका उनले आफूलाई बदल्दै गतिलो नेता सावित गर्न सक्नेछन्। र, यसका लागि उनीसँग योभन्दा अपूर्व मौका अर्को नहुने निश्चित छ।\\n  तन्नम त्रिमूर्ति'"
      ]
     },
     "execution_count": 9,
     "metadata": {},
     "output_type": "execute_result"
    }
   ],
   "source": [
    "X[0]"
   ]
  },
  {
   "cell_type": "code",
   "execution_count": 10,
   "id": "e6dbe9e8",
   "metadata": {},
   "outputs": [
    {
     "data": {
      "text/plain": [
       "['Bank',\n",
       " 'Literature',\n",
       " 'Employment',\n",
       " 'Interview',\n",
       " 'Technology',\n",
       " 'Business',\n",
       " 'Automobiles',\n",
       " 'Opinion',\n",
       " 'Politics',\n",
       " 'Sports',\n",
       " 'Agriculture',\n",
       " 'Economy',\n",
       " 'Society',\n",
       " 'Tourism',\n",
       " 'Education',\n",
       " 'Migration',\n",
       " 'Entertainment',\n",
       " 'Blog',\n",
       " 'World']"
      ]
     },
     "execution_count": 10,
     "metadata": {},
     "output_type": "execute_result"
    }
   ],
   "source": [
    "labels=list(set(df['class']))\n",
    "labels"
   ]
  },
  {
   "cell_type": "code",
   "execution_count": 11,
   "id": "b0a64690",
   "metadata": {},
   "outputs": [
    {
     "data": {
      "text/plain": [
       "19"
      ]
     },
     "execution_count": 11,
     "metadata": {},
     "output_type": "execute_result"
    }
   ],
   "source": [
    "len(labels)"
   ]
  },
  {
   "cell_type": "markdown",
   "id": "cc5e6e75",
   "metadata": {},
   "source": [
    "### Processing Data"
   ]
  },
  {
   "cell_type": "code",
   "execution_count": 12,
   "id": "d20932b3",
   "metadata": {},
   "outputs": [],
   "source": [
    "from nltk.corpus import stopwords\n",
    "from sklearn.feature_extraction.text import TfidfVectorizer"
   ]
  },
  {
   "cell_type": "code",
   "execution_count": 13,
   "id": "011345a4",
   "metadata": {},
   "outputs": [],
   "source": [
    "nepali_stop_words = set(stopwords.words('nepali'))"
   ]
  },
  {
   "cell_type": "code",
   "execution_count": 14,
   "id": "7c4b667c",
   "metadata": {},
   "outputs": [],
   "source": [
    "# tfidfVectorizer = TfidfVectorizer(stop_words=nepali_stop_words,encoding='utf-8',decode_error='ignore')"
   ]
  },
  {
   "cell_type": "code",
   "execution_count": 15,
   "id": "22fed630",
   "metadata": {},
   "outputs": [],
   "source": [
    "tfidfVectorizer = TfidfVectorizer(tokenizer= lambda x: x.split(\" \"),\n",
    "                                  sublinear_tf=True, encoding='utf-8',\n",
    "                                  decode_error='ignore',\n",
    "                                  max_df=0.5,\n",
    "                                  min_df=10,\n",
    "                                  stop_words=nepali_stop_words)"
   ]
  },
  {
   "cell_type": "code",
   "execution_count": 16,
   "id": "4ed71c99",
   "metadata": {},
   "outputs": [
    {
     "name": "stderr",
     "output_type": "stream",
     "text": [
      "/home/ash/Desktop/projects/nepali_news_classifier_recommender/venv/lib/python3.9/site-packages/sklearn/feature_extraction/text.py:388: UserWarning: Your stop_words may be inconsistent with your preprocessing. Tokenizing the stop words generated tokens ['कम', 'से'] not in stop_words.\n",
      "  warnings.warn('Your stop_words may be inconsistent with '\n"
     ]
    }
   ],
   "source": [
    "X_vectorized = tfidfVectorizer.fit_transform(X)"
   ]
  },
  {
   "cell_type": "code",
   "execution_count": 17,
   "id": "9b3b58f8",
   "metadata": {},
   "outputs": [
    {
     "data": {
      "text/plain": [
       "<5475x14431 sparse matrix of type '<class 'numpy.float64'>'\n",
       "\twith 740939 stored elements in Compressed Sparse Row format>"
      ]
     },
     "execution_count": 17,
     "metadata": {},
     "output_type": "execute_result"
    }
   ],
   "source": [
    "X_vectorized"
   ]
  },
  {
   "cell_type": "code",
   "execution_count": 18,
   "id": "90e86cf0",
   "metadata": {},
   "outputs": [],
   "source": [
    "X_train,X_test,y_train,y_test = train_test_split(X,y,test_size=0.2)"
   ]
  },
  {
   "cell_type": "code",
   "execution_count": 19,
   "id": "e38636d1",
   "metadata": {},
   "outputs": [
    {
     "data": {
      "text/plain": [
       "((4380,), (4380,))"
      ]
     },
     "execution_count": 19,
     "metadata": {},
     "output_type": "execute_result"
    }
   ],
   "source": [
    "X_train.shape, y_train.shape"
   ]
  },
  {
   "cell_type": "code",
   "execution_count": 20,
   "id": "40e9b38c",
   "metadata": {},
   "outputs": [
    {
     "data": {
      "text/plain": [
       "((1095,), (1095,))"
      ]
     },
     "execution_count": 20,
     "metadata": {},
     "output_type": "execute_result"
    }
   ],
   "source": [
    "X_test.shape, y_test.shape"
   ]
  },
  {
   "cell_type": "markdown",
   "id": "568313c1",
   "metadata": {},
   "source": [
    "## SVC Classifier"
   ]
  },
  {
   "cell_type": "code",
   "execution_count": 21,
   "id": "0ecc2f26",
   "metadata": {},
   "outputs": [],
   "source": [
    "from sklearn.pipeline import Pipeline\n",
    "from sklearn.svm import SVC\n",
    "from sklearn.feature_selection import SelectKBest, chi2"
   ]
  },
  {
   "cell_type": "code",
   "execution_count": 22,
   "id": "18a99ad4",
   "metadata": {},
   "outputs": [],
   "source": [
    "svc_clf = Pipeline([\n",
    "    ('vectorizer',tfidfVectorizer),\n",
    "    ('chi2',SelectKBest(chi2,k=5000)),\n",
    "    ('clf',SVC())\n",
    "])\n",
    "svc_clf_no_feat_sel = Pipeline([\n",
    "    ('vectorizer',tfidfVectorizer),\n",
    "\n",
    "    ('clf',SVC())\n",
    "])"
   ]
  },
  {
   "cell_type": "code",
   "execution_count": 23,
   "id": "89281106",
   "metadata": {},
   "outputs": [
    {
     "data": {
      "text/plain": [
       "Pipeline(steps=[('vectorizer',\n",
       "                 TfidfVectorizer(decode_error='ignore', max_df=0.5, min_df=10,\n",
       "                                 stop_words={'अक्सर', 'अगाडी', 'अझै', 'अनुसार',\n",
       "                                             'अन्तर्गत', 'अन्य', 'अन्यत्र',\n",
       "                                             'अन्यथा', 'अब', 'अरु', 'अरुलाई',\n",
       "                                             'अर्को', 'अर्थात', 'अर्थात्',\n",
       "                                             'अलग', 'आए', 'आजको', 'आत्म', 'आदि',\n",
       "                                             'आफू', 'आफूलाई', 'आफ्नै', 'आफ्नो',\n",
       "                                             'आयो', 'उदाहरण', 'उनको', 'उनले',\n",
       "                                             'उप', 'उहालाई', 'एउटै', ...},\n",
       "                                 sublinear_tf=True,\n",
       "                                 tokenizer=<function <lambda> at 0x7f01e23ef550>)),\n",
       "                ('chi2',\n",
       "                 SelectKBest(k=5000,\n",
       "                             score_func=<function chi2 at 0x7f01e02c6e50>)),\n",
       "                ('clf', SVC())])"
      ]
     },
     "execution_count": 23,
     "metadata": {},
     "output_type": "execute_result"
    }
   ],
   "source": [
    "svc_clf.fit(X_train,y_train)"
   ]
  },
  {
   "cell_type": "code",
   "execution_count": 24,
   "id": "b99c5423",
   "metadata": {},
   "outputs": [
    {
     "data": {
      "text/plain": [
       "Pipeline(steps=[('vectorizer',\n",
       "                 TfidfVectorizer(decode_error='ignore', max_df=0.5, min_df=10,\n",
       "                                 stop_words={'अक्सर', 'अगाडी', 'अझै', 'अनुसार',\n",
       "                                             'अन्तर्गत', 'अन्य', 'अन्यत्र',\n",
       "                                             'अन्यथा', 'अब', 'अरु', 'अरुलाई',\n",
       "                                             'अर्को', 'अर्थात', 'अर्थात्',\n",
       "                                             'अलग', 'आए', 'आजको', 'आत्म', 'आदि',\n",
       "                                             'आफू', 'आफूलाई', 'आफ्नै', 'आफ्नो',\n",
       "                                             'आयो', 'उदाहरण', 'उनको', 'उनले',\n",
       "                                             'उप', 'उहालाई', 'एउटै', ...},\n",
       "                                 sublinear_tf=True,\n",
       "                                 tokenizer=<function <lambda> at 0x7f01e23ef550>)),\n",
       "                ('clf', SVC())])"
      ]
     },
     "execution_count": 24,
     "metadata": {},
     "output_type": "execute_result"
    }
   ],
   "source": [
    "svc_clf_no_feat_sel.fit(X_train,y_train)"
   ]
  },
  {
   "cell_type": "code",
   "execution_count": 25,
   "id": "4ee2752e",
   "metadata": {},
   "outputs": [
    {
     "name": "stdout",
     "output_type": "stream",
     "text": [
      "Accuracy on train Set :  0.9650684931506849\n",
      "Accuracy on test Set :  0.6986301369863014\n"
     ]
    }
   ],
   "source": [
    "print(\"Accuracy on train Set : \", svc_clf.score(X_train,y_train))\n",
    "print(\"Accuracy on test Set : \", svc_clf.score(X_test,y_test))\n"
   ]
  },
  {
   "cell_type": "code",
   "execution_count": 26,
   "id": "5b9ddcb0",
   "metadata": {},
   "outputs": [
    {
     "name": "stdout",
     "output_type": "stream",
     "text": [
      "Accuracy on train Set :  0.9707762557077626\n",
      "Accuracy on test Set :  0.6602739726027397\n"
     ]
    }
   ],
   "source": [
    "print(\"Accuracy on train Set : \", svc_clf_no_feat_sel.score(X_train,y_train))\n",
    "print(\"Accuracy on test Set : \", svc_clf_no_feat_sel.score(X_test,y_test))"
   ]
  },
  {
   "cell_type": "code",
   "execution_count": null,
   "id": "45f394c3",
   "metadata": {},
   "outputs": [],
   "source": []
  },
  {
   "cell_type": "code",
   "execution_count": null,
   "id": "a04148a4",
   "metadata": {},
   "outputs": [],
   "source": []
  },
  {
   "cell_type": "code",
   "execution_count": null,
   "id": "f8fa835a",
   "metadata": {},
   "outputs": [],
   "source": []
  },
  {
   "cell_type": "code",
   "execution_count": null,
   "id": "1a3e1a0d",
   "metadata": {},
   "outputs": [],
   "source": []
  },
  {
   "cell_type": "markdown",
   "id": "43f76c80",
   "metadata": {},
   "source": [
    "### Random Forest Classifier"
   ]
  },
  {
   "cell_type": "code",
   "execution_count": 26,
   "id": "e50ac9dc",
   "metadata": {},
   "outputs": [],
   "source": [
    "from sklearn.ensemble import RandomForestClassifier"
   ]
  },
  {
   "cell_type": "code",
   "execution_count": 27,
   "id": "8b5cc65a",
   "metadata": {},
   "outputs": [],
   "source": [
    "rf_clf = Pipeline([\n",
    "    ('vectorizer',tfidfVectorizer),\n",
    "    ('chi2',SelectKBest(chi2,k=5000)),\n",
    "    ('clf',RandomForestClassifier(\n",
    "            n_estimators=2000, \n",
    "            max_depth=20, \n",
    "            min_samples_split=6, \n",
    "            min_samples_leaf=5, \n",
    "            bootstrap=True,\n",
    "            verbose=1,\n",
    "            n_jobs = -1\n",
    "        )\n",
    "    )\n",
    "])\n",
    "rf_clf_no_feat_sel = Pipeline([\n",
    "    ('vectorizer',tfidfVectorizer),\n",
    "    ('clf',RandomForestClassifier(\n",
    "            n_estimators=2000, \n",
    "            max_depth=20, \n",
    "            min_samples_split=6, \n",
    "            min_samples_leaf=5, \n",
    "            bootstrap=True,\n",
    "            verbose=1,\n",
    "            n_jobs = -1\n",
    "        )\n",
    "    )\n",
    "])"
   ]
  },
  {
   "cell_type": "code",
   "execution_count": 28,
   "id": "38685b79",
   "metadata": {},
   "outputs": [
    {
     "name": "stderr",
     "output_type": "stream",
     "text": [
      "[Parallel(n_jobs=-1)]: Using backend ThreadingBackend with 8 concurrent workers.\n",
      "[Parallel(n_jobs=-1)]: Done  34 tasks      | elapsed:    0.2s\n",
      "[Parallel(n_jobs=-1)]: Done 184 tasks      | elapsed:    0.9s\n",
      "[Parallel(n_jobs=-1)]: Done 434 tasks      | elapsed:    1.8s\n",
      "[Parallel(n_jobs=-1)]: Done 784 tasks      | elapsed:    2.8s\n",
      "[Parallel(n_jobs=-1)]: Done 1234 tasks      | elapsed:    4.6s\n",
      "[Parallel(n_jobs=-1)]: Done 1784 tasks      | elapsed:    6.5s\n",
      "[Parallel(n_jobs=-1)]: Done 2000 out of 2000 | elapsed:    7.2s finished\n",
      "[Parallel(n_jobs=-1)]: Using backend ThreadingBackend with 8 concurrent workers.\n",
      "[Parallel(n_jobs=-1)]: Done  34 tasks      | elapsed:    0.1s\n",
      "[Parallel(n_jobs=-1)]: Done 184 tasks      | elapsed:    0.5s\n",
      "[Parallel(n_jobs=-1)]: Done 434 tasks      | elapsed:    1.3s\n",
      "[Parallel(n_jobs=-1)]: Done 784 tasks      | elapsed:    2.5s\n",
      "[Parallel(n_jobs=-1)]: Done 1234 tasks      | elapsed:    3.9s\n",
      "[Parallel(n_jobs=-1)]: Done 1784 tasks      | elapsed:    5.7s\n",
      "[Parallel(n_jobs=-1)]: Done 2000 out of 2000 | elapsed:    6.6s finished\n"
     ]
    },
    {
     "data": {
      "text/plain": [
       "Pipeline(steps=[('vectorizer',\n",
       "                 TfidfVectorizer(decode_error='ignore', max_df=0.5, min_df=10,\n",
       "                                 stop_words={'अक्सर', 'अगाडी', 'अझै', 'अनुसार',\n",
       "                                             'अन्तर्गत', 'अन्य', 'अन्यत्र',\n",
       "                                             'अन्यथा', 'अब', 'अरु', 'अरुलाई',\n",
       "                                             'अर्को', 'अर्थात', 'अर्थात्',\n",
       "                                             'अलग', 'आए', 'आजको', 'आत्म', 'आदि',\n",
       "                                             'आफू', 'आफूलाई', 'आफ्नै', 'आफ्नो',\n",
       "                                             'आयो', 'उदाहरण', 'उनको', 'उनले',\n",
       "                                             'उप', 'उहालाई', 'एउटै', ...},\n",
       "                                 sublinear_tf=True,\n",
       "                                 tokenizer=<function <lambda> at 0x7fb5f3efc310>)),\n",
       "                ('clf',\n",
       "                 RandomForestClassifier(max_depth=20, min_samples_leaf=5,\n",
       "                                        min_samples_split=6, n_estimators=2000,\n",
       "                                        n_jobs=-1, verbose=1))])"
      ]
     },
     "execution_count": 28,
     "metadata": {},
     "output_type": "execute_result"
    }
   ],
   "source": [
    "rf_clf.fit(X_train,y_train)\n",
    "rf_clf_no_feat_sel.fit(X_train,y_train)"
   ]
  },
  {
   "cell_type": "code",
   "execution_count": 29,
   "id": "6552a599",
   "metadata": {},
   "outputs": [
    {
     "name": "stderr",
     "output_type": "stream",
     "text": [
      "[Parallel(n_jobs=8)]: Using backend ThreadingBackend with 8 concurrent workers.\n",
      "[Parallel(n_jobs=8)]: Done  34 tasks      | elapsed:    0.0s\n",
      "[Parallel(n_jobs=8)]: Done 184 tasks      | elapsed:    0.1s\n",
      "[Parallel(n_jobs=8)]: Done 434 tasks      | elapsed:    0.3s\n",
      "[Parallel(n_jobs=8)]: Done 784 tasks      | elapsed:    0.5s\n",
      "[Parallel(n_jobs=8)]: Done 1234 tasks      | elapsed:    0.8s\n",
      "[Parallel(n_jobs=8)]: Done 1784 tasks      | elapsed:    1.2s\n",
      "[Parallel(n_jobs=8)]: Done 2000 out of 2000 | elapsed:    1.3s finished\n"
     ]
    },
    {
     "name": "stdout",
     "output_type": "stream",
     "text": [
      "Accuracy on train Set :  0.6730593607305936\n"
     ]
    },
    {
     "name": "stderr",
     "output_type": "stream",
     "text": [
      "[Parallel(n_jobs=8)]: Using backend ThreadingBackend with 8 concurrent workers.\n",
      "[Parallel(n_jobs=8)]: Done  34 tasks      | elapsed:    0.0s\n",
      "[Parallel(n_jobs=8)]: Done 184 tasks      | elapsed:    0.0s\n",
      "[Parallel(n_jobs=8)]: Done 434 tasks      | elapsed:    0.1s\n",
      "[Parallel(n_jobs=8)]: Done 784 tasks      | elapsed:    0.2s\n"
     ]
    },
    {
     "name": "stdout",
     "output_type": "stream",
     "text": [
      "Accuracy on test Set :  0.5726027397260274\n"
     ]
    },
    {
     "name": "stderr",
     "output_type": "stream",
     "text": [
      "[Parallel(n_jobs=8)]: Done 1234 tasks      | elapsed:    0.3s\n",
      "[Parallel(n_jobs=8)]: Done 1784 tasks      | elapsed:    0.4s\n",
      "[Parallel(n_jobs=8)]: Done 2000 out of 2000 | elapsed:    0.4s finished\n"
     ]
    }
   ],
   "source": [
    "print(\"Accuracy on train Set : \", rf_clf.score(X_train,y_train))\n",
    "print(\"Accuracy on test Set : \", rf_clf.score(X_test,y_test))"
   ]
  },
  {
   "cell_type": "code",
   "execution_count": 30,
   "id": "42b72c51",
   "metadata": {},
   "outputs": [
    {
     "name": "stderr",
     "output_type": "stream",
     "text": [
      "[Parallel(n_jobs=8)]: Using backend ThreadingBackend with 8 concurrent workers.\n",
      "[Parallel(n_jobs=8)]: Done  34 tasks      | elapsed:    0.0s\n",
      "[Parallel(n_jobs=8)]: Done 184 tasks      | elapsed:    0.1s\n",
      "[Parallel(n_jobs=8)]: Done 434 tasks      | elapsed:    0.3s\n",
      "[Parallel(n_jobs=8)]: Done 784 tasks      | elapsed:    0.6s\n",
      "[Parallel(n_jobs=8)]: Done 1234 tasks      | elapsed:    0.9s\n",
      "[Parallel(n_jobs=8)]: Done 1784 tasks      | elapsed:    1.3s\n",
      "[Parallel(n_jobs=8)]: Done 2000 out of 2000 | elapsed:    1.6s finished\n"
     ]
    },
    {
     "name": "stdout",
     "output_type": "stream",
     "text": [
      "Accuracy on train Set :  0.6527397260273973\n"
     ]
    },
    {
     "name": "stderr",
     "output_type": "stream",
     "text": [
      "[Parallel(n_jobs=8)]: Using backend ThreadingBackend with 8 concurrent workers.\n",
      "[Parallel(n_jobs=8)]: Done  34 tasks      | elapsed:    0.0s\n",
      "[Parallel(n_jobs=8)]: Done 184 tasks      | elapsed:    0.1s\n",
      "[Parallel(n_jobs=8)]: Done 434 tasks      | elapsed:    0.1s\n",
      "[Parallel(n_jobs=8)]: Done 784 tasks      | elapsed:    0.2s\n",
      "[Parallel(n_jobs=8)]: Done 1234 tasks      | elapsed:    0.3s\n",
      "[Parallel(n_jobs=8)]: Done 1784 tasks      | elapsed:    0.5s\n"
     ]
    },
    {
     "name": "stdout",
     "output_type": "stream",
     "text": [
      "Accuracy on test Set :  0.5634703196347032\n"
     ]
    },
    {
     "name": "stderr",
     "output_type": "stream",
     "text": [
      "[Parallel(n_jobs=8)]: Done 2000 out of 2000 | elapsed:    0.5s finished\n"
     ]
    }
   ],
   "source": [
    "print(\"Accuracy on train Set : \", rf_clf_no_feat_sel.score(X_train,y_train))\n",
    "print(\"Accuracy on test Set : \", rf_clf_no_feat_sel.score(X_test,y_test))"
   ]
  },
  {
   "cell_type": "markdown",
   "id": "5d780e07",
   "metadata": {},
   "source": [
    "### Naive Bayes"
   ]
  },
  {
   "cell_type": "code",
   "execution_count": 31,
   "id": "da8ad6f4",
   "metadata": {},
   "outputs": [],
   "source": [
    "from sklearn.naive_bayes import MultinomialNB,BernoulliNB"
   ]
  },
  {
   "cell_type": "code",
   "execution_count": 32,
   "id": "6044e615",
   "metadata": {},
   "outputs": [],
   "source": [
    "bnb_clf = Pipeline([\n",
    "    ('vect', tfidfVectorizer),\n",
    "    ('clf', BernoulliNB(alpha=0.01))\n",
    "])\n",
    "\n",
    "mnb_clf = Pipeline([\n",
    "    ('vect', tfidfVectorizer),\n",
    "    ('clf', MultinomialNB(alpha=0.01, fit_prior=True))\n",
    "])"
   ]
  },
  {
   "cell_type": "code",
   "execution_count": 33,
   "id": "0fead161",
   "metadata": {},
   "outputs": [
    {
     "data": {
      "text/plain": [
       "Pipeline(steps=[('vect',\n",
       "                 TfidfVectorizer(decode_error='ignore', max_df=0.5, min_df=10,\n",
       "                                 stop_words={'अक्सर', 'अगाडी', 'अझै', 'अनुसार',\n",
       "                                             'अन्तर्गत', 'अन्य', 'अन्यत्र',\n",
       "                                             'अन्यथा', 'अब', 'अरु', 'अरुलाई',\n",
       "                                             'अर्को', 'अर्थात', 'अर्थात्',\n",
       "                                             'अलग', 'आए', 'आजको', 'आत्म', 'आदि',\n",
       "                                             'आफू', 'आफूलाई', 'आफ्नै', 'आफ्नो',\n",
       "                                             'आयो', 'उदाहरण', 'उनको', 'उनले',\n",
       "                                             'उप', 'उहालाई', 'एउटै', ...},\n",
       "                                 sublinear_tf=True,\n",
       "                                 tokenizer=<function <lambda> at 0x7fb5f3efc310>)),\n",
       "                ('clf', BernoulliNB(alpha=0.01))])"
      ]
     },
     "execution_count": 33,
     "metadata": {},
     "output_type": "execute_result"
    }
   ],
   "source": [
    "bnb_clf.fit(X_train,y_train)"
   ]
  },
  {
   "cell_type": "code",
   "execution_count": 34,
   "id": "1f4b9ab1",
   "metadata": {},
   "outputs": [
    {
     "name": "stdout",
     "output_type": "stream",
     "text": [
      "Accuracy on train Set :  0.910958904109589\n",
      "Accuracy on test Set :  0.6712328767123288\n"
     ]
    }
   ],
   "source": [
    "print(\"Accuracy on train Set : \", bnb_clf.score(X_train,y_train))\n",
    "print(\"Accuracy on test Set : \", bnb_clf.score(X_test,y_test))"
   ]
  },
  {
   "cell_type": "code",
   "execution_count": 35,
   "id": "8daf818b",
   "metadata": {},
   "outputs": [
    {
     "data": {
      "text/plain": [
       "Pipeline(steps=[('vect',\n",
       "                 TfidfVectorizer(decode_error='ignore', max_df=0.5, min_df=10,\n",
       "                                 stop_words={'अक्सर', 'अगाडी', 'अझै', 'अनुसार',\n",
       "                                             'अन्तर्गत', 'अन्य', 'अन्यत्र',\n",
       "                                             'अन्यथा', 'अब', 'अरु', 'अरुलाई',\n",
       "                                             'अर्को', 'अर्थात', 'अर्थात्',\n",
       "                                             'अलग', 'आए', 'आजको', 'आत्म', 'आदि',\n",
       "                                             'आफू', 'आफूलाई', 'आफ्नै', 'आफ्नो',\n",
       "                                             'आयो', 'उदाहरण', 'उनको', 'उनले',\n",
       "                                             'उप', 'उहालाई', 'एउटै', ...},\n",
       "                                 sublinear_tf=True,\n",
       "                                 tokenizer=<function <lambda> at 0x7fb5f3efc310>)),\n",
       "                ('clf', MultinomialNB(alpha=0.01))])"
      ]
     },
     "execution_count": 35,
     "metadata": {},
     "output_type": "execute_result"
    }
   ],
   "source": [
    "mnb_clf.fit(X_train,y_train)"
   ]
  },
  {
   "cell_type": "code",
   "execution_count": 36,
   "id": "9c6c34ac",
   "metadata": {},
   "outputs": [
    {
     "name": "stdout",
     "output_type": "stream",
     "text": [
      "Accuracy on train Set :  0.9383561643835616\n",
      "Accuracy on test Set :  0.7031963470319634\n"
     ]
    }
   ],
   "source": [
    "print(\"Accuracy on train Set : \", mnb_clf.score(X_train,y_train))\n",
    "print(\"Accuracy on test Set : \", mnb_clf.score(X_test,y_test))"
   ]
  },
  {
   "cell_type": "markdown",
   "id": "5b1f348c",
   "metadata": {},
   "source": [
    "## Classification Report\n"
   ]
  },
  {
   "cell_type": "code",
   "execution_count": 37,
   "id": "5dd6b960",
   "metadata": {},
   "outputs": [],
   "source": [
    "from sklearn.metrics import classification_report"
   ]
  },
  {
   "cell_type": "markdown",
   "id": "f46a86bd",
   "metadata": {},
   "source": [
    "#### SVM"
   ]
  },
  {
   "cell_type": "code",
   "execution_count": null,
   "id": "128b2a78",
   "metadata": {},
   "outputs": [],
   "source": []
  },
  {
   "cell_type": "code",
   "execution_count": 38,
   "id": "b57d82c6",
   "metadata": {},
   "outputs": [
    {
     "name": "stdout",
     "output_type": "stream",
     "text": [
      "               precision    recall  f1-score   support\n",
      "\n",
      "  Agriculture       0.92      0.58      0.71        19\n",
      "  Automobiles       1.00      0.95      0.98        21\n",
      "         Bank       0.85      0.91      0.88        89\n",
      "         Blog       0.61      0.27      0.38        51\n",
      "     Business       0.32      0.30      0.31        33\n",
      "      Economy       0.70      0.84      0.76       106\n",
      "    Education       0.91      0.57      0.70        35\n",
      "   Employment       0.85      0.72      0.78        40\n",
      "Entertainment       0.46      0.89      0.61        95\n",
      "    Interview       0.23      0.15      0.18        47\n",
      "   Literature       0.96      0.59      0.73        37\n",
      "    Migration       0.91      0.56      0.69        18\n",
      "      Opinion       0.82      0.93      0.87       109\n",
      "     Politics       0.89      0.98      0.93       102\n",
      "      Society       0.88      0.70      0.78        33\n",
      "       Sports       0.76      0.83      0.79       140\n",
      "   Technology       1.00      0.18      0.31        22\n",
      "      Tourism       0.78      0.56      0.65        45\n",
      "        World       0.88      0.53      0.66        53\n",
      "\n",
      "     accuracy                           0.73      1095\n",
      "    macro avg       0.78      0.63      0.67      1095\n",
      " weighted avg       0.75      0.73      0.71      1095\n",
      "\n"
     ]
    }
   ],
   "source": [
    "y_pred = svc_clf.predict(X_test)\n",
    "print(classification_report(y_test,y_pred))"
   ]
  },
  {
   "cell_type": "code",
   "execution_count": 39,
   "id": "dc9798c6",
   "metadata": {},
   "outputs": [
    {
     "name": "stdout",
     "output_type": "stream",
     "text": [
      "               precision    recall  f1-score   support\n",
      "\n",
      "  Agriculture       0.89      0.42      0.57        19\n",
      "  Automobiles       1.00      0.81      0.89        21\n",
      "         Bank       0.88      0.91      0.90        89\n",
      "         Blog       0.36      0.10      0.15        51\n",
      "     Business       0.30      0.30      0.30        33\n",
      "      Economy       0.65      0.86      0.74       106\n",
      "    Education       0.86      0.51      0.64        35\n",
      "   Employment       0.83      0.60      0.70        40\n",
      "Entertainment       0.38      0.89      0.54        95\n",
      "    Interview       0.12      0.06      0.08        47\n",
      "   Literature       1.00      0.59      0.75        37\n",
      "    Migration       0.91      0.56      0.69        18\n",
      "      Opinion       0.81      0.91      0.86       109\n",
      "     Politics       0.87      0.97      0.92       102\n",
      "      Society       0.85      0.52      0.64        33\n",
      "       Sports       0.81      0.83      0.82       140\n",
      "   Technology       1.00      0.14      0.24        22\n",
      "      Tourism       0.86      0.56      0.68        45\n",
      "        World       0.89      0.45      0.60        53\n",
      "\n",
      "     accuracy                           0.69      1095\n",
      "    macro avg       0.75      0.58      0.62      1095\n",
      " weighted avg       0.73      0.69      0.68      1095\n",
      "\n"
     ]
    }
   ],
   "source": [
    "y_pred = svc_clf_no_feat_sel.predict(X_test)\n",
    "print(classification_report(y_test,y_pred))"
   ]
  },
  {
   "cell_type": "markdown",
   "id": "eb417cdf",
   "metadata": {},
   "source": [
    "### Naive Bayes"
   ]
  },
  {
   "cell_type": "code",
   "execution_count": 40,
   "id": "185c924e",
   "metadata": {},
   "outputs": [
    {
     "name": "stdout",
     "output_type": "stream",
     "text": [
      "               precision    recall  f1-score   support\n",
      "\n",
      "  Agriculture       0.72      0.68      0.70        19\n",
      "  Automobiles       0.90      0.86      0.88        21\n",
      "         Bank       0.78      0.82      0.80        89\n",
      "         Blog       0.40      0.37      0.38        51\n",
      "     Business       0.12      0.12      0.12        33\n",
      "      Economy       0.68      0.79      0.73       106\n",
      "    Education       0.95      0.54      0.69        35\n",
      "   Employment       0.86      0.60      0.71        40\n",
      "Entertainment       0.47      0.64      0.54        95\n",
      "    Interview       0.08      0.04      0.05        47\n",
      "   Literature       0.75      0.41      0.53        37\n",
      "    Migration       0.87      0.72      0.79        18\n",
      "      Opinion       0.72      0.92      0.81       109\n",
      "     Politics       0.87      0.89      0.88       102\n",
      "      Society       0.69      0.61      0.65        33\n",
      "       Sports       0.66      0.77      0.71       140\n",
      "   Technology       0.79      0.50      0.61        22\n",
      "      Tourism       0.80      0.62      0.70        45\n",
      "        World       0.89      0.60      0.72        53\n",
      "\n",
      "     accuracy                           0.67      1095\n",
      "    macro avg       0.68      0.61      0.63      1095\n",
      " weighted avg       0.68      0.67      0.66      1095\n",
      "\n"
     ]
    }
   ],
   "source": [
    "y_pred = bnb_clf.predict(X_test)\n",
    "print(classification_report(y_test,y_pred))"
   ]
  },
  {
   "cell_type": "code",
   "execution_count": 41,
   "id": "cb459484",
   "metadata": {},
   "outputs": [
    {
     "name": "stdout",
     "output_type": "stream",
     "text": [
      "               precision    recall  f1-score   support\n",
      "\n",
      "  Agriculture       0.73      0.58      0.65        19\n",
      "  Automobiles       0.90      0.90      0.90        21\n",
      "         Bank       0.84      0.88      0.86        89\n",
      "         Blog       0.50      0.14      0.22        51\n",
      "     Business       0.33      0.39      0.36        33\n",
      "      Economy       0.66      0.79      0.72       106\n",
      "    Education       0.85      0.63      0.72        35\n",
      "   Employment       0.88      0.75      0.81        40\n",
      "Entertainment       0.65      0.71      0.68        95\n",
      "    Interview       0.18      0.13      0.15        47\n",
      "   Literature       0.59      0.73      0.65        37\n",
      "    Migration       0.70      0.78      0.74        18\n",
      "      Opinion       0.58      0.91      0.71       109\n",
      "     Politics       0.88      0.94      0.91       102\n",
      "      Society       0.59      0.70      0.64        33\n",
      "       Sports       0.93      0.74      0.82       140\n",
      "   Technology       0.92      0.55      0.69        22\n",
      "      Tourism       0.69      0.69      0.69        45\n",
      "        World       0.80      0.53      0.64        53\n",
      "\n",
      "     accuracy                           0.70      1095\n",
      "    macro avg       0.69      0.66      0.66      1095\n",
      " weighted avg       0.71      0.70      0.69      1095\n",
      "\n"
     ]
    }
   ],
   "source": [
    "y_pred = mnb_clf.predict(X_test)\n",
    "print(classification_report(y_test,y_pred))"
   ]
  },
  {
   "cell_type": "markdown",
   "id": "2c39ff5d",
   "metadata": {},
   "source": [
    "### Random Forest"
   ]
  },
  {
   "cell_type": "code",
   "execution_count": 42,
   "id": "8ce0e896",
   "metadata": {},
   "outputs": [
    {
     "name": "stderr",
     "output_type": "stream",
     "text": [
      "[Parallel(n_jobs=8)]: Using backend ThreadingBackend with 8 concurrent workers.\n",
      "[Parallel(n_jobs=8)]: Done  34 tasks      | elapsed:    0.0s\n",
      "[Parallel(n_jobs=8)]: Done 184 tasks      | elapsed:    0.0s\n",
      "[Parallel(n_jobs=8)]: Done 434 tasks      | elapsed:    0.1s\n",
      "[Parallel(n_jobs=8)]: Done 784 tasks      | elapsed:    0.2s\n",
      "[Parallel(n_jobs=8)]: Done 1234 tasks      | elapsed:    0.3s\n",
      "[Parallel(n_jobs=8)]: Done 1784 tasks      | elapsed:    0.4s\n",
      "[Parallel(n_jobs=8)]: Done 2000 out of 2000 | elapsed:    0.4s finished\n",
      "/home/ash/.local/lib/python3.9/site-packages/sklearn/metrics/_classification.py:1245: UndefinedMetricWarning: Precision and F-score are ill-defined and being set to 0.0 in labels with no predicted samples. Use `zero_division` parameter to control this behavior.\n",
      "  _warn_prf(average, modifier, msg_start, len(result))\n"
     ]
    },
    {
     "name": "stdout",
     "output_type": "stream",
     "text": [
      "               precision    recall  f1-score   support\n",
      "\n",
      "  Agriculture       1.00      0.21      0.35        19\n",
      "  Automobiles       1.00      0.67      0.80        21\n",
      "         Bank       0.82      0.87      0.84        89\n",
      "         Blog       0.00      0.00      0.00        51\n",
      "     Business       0.21      0.18      0.20        33\n",
      "      Economy       0.57      0.74      0.64       106\n",
      "    Education       0.00      0.00      0.00        35\n",
      "   Employment       0.86      0.45      0.59        40\n",
      "Entertainment       0.41      0.52      0.46        95\n",
      "    Interview       0.09      0.04      0.06        47\n",
      "   Literature       1.00      0.19      0.32        37\n",
      "    Migration       0.00      0.00      0.00        18\n",
      "      Opinion       0.68      0.96      0.80       109\n",
      "     Politics       0.77      0.99      0.86       102\n",
      "      Society       0.80      0.12      0.21        33\n",
      "       Sports       0.42      0.94      0.58       140\n",
      "   Technology       0.00      0.00      0.00        22\n",
      "      Tourism       0.74      0.62      0.67        45\n",
      "        World       1.00      0.04      0.07        53\n",
      "\n",
      "     accuracy                           0.57      1095\n",
      "    macro avg       0.54      0.40      0.39      1095\n",
      " weighted avg       0.56      0.57      0.50      1095\n",
      "\n"
     ]
    },
    {
     "name": "stderr",
     "output_type": "stream",
     "text": [
      "/home/ash/.local/lib/python3.9/site-packages/sklearn/metrics/_classification.py:1245: UndefinedMetricWarning: Precision and F-score are ill-defined and being set to 0.0 in labels with no predicted samples. Use `zero_division` parameter to control this behavior.\n",
      "  _warn_prf(average, modifier, msg_start, len(result))\n",
      "/home/ash/.local/lib/python3.9/site-packages/sklearn/metrics/_classification.py:1245: UndefinedMetricWarning: Precision and F-score are ill-defined and being set to 0.0 in labels with no predicted samples. Use `zero_division` parameter to control this behavior.\n",
      "  _warn_prf(average, modifier, msg_start, len(result))\n"
     ]
    }
   ],
   "source": [
    "y_pred = rf_clf.predict(X_test)\n",
    "print(classification_report(y_test,y_pred))"
   ]
  },
  {
   "cell_type": "code",
   "execution_count": 43,
   "id": "964e6959",
   "metadata": {},
   "outputs": [
    {
     "name": "stderr",
     "output_type": "stream",
     "text": [
      "[Parallel(n_jobs=8)]: Using backend ThreadingBackend with 8 concurrent workers.\n",
      "[Parallel(n_jobs=8)]: Done  34 tasks      | elapsed:    0.0s\n",
      "[Parallel(n_jobs=8)]: Done 184 tasks      | elapsed:    0.0s\n",
      "[Parallel(n_jobs=8)]: Done 434 tasks      | elapsed:    0.1s\n",
      "[Parallel(n_jobs=8)]: Done 784 tasks      | elapsed:    0.2s\n"
     ]
    },
    {
     "name": "stdout",
     "output_type": "stream",
     "text": [
      "               precision    recall  f1-score   support\n",
      "\n",
      "  Agriculture       1.00      0.11      0.19        19\n",
      "  Automobiles       1.00      0.57      0.73        21\n",
      "         Bank       0.81      0.88      0.84        89\n",
      "         Blog       0.00      0.00      0.00        51\n",
      "     Business       0.23      0.18      0.20        33\n",
      "      Economy       0.56      0.73      0.63       106\n",
      "    Education       0.00      0.00      0.00        35\n",
      "   Employment       0.94      0.38      0.54        40\n",
      "Entertainment       0.56      0.52      0.54        95\n",
      "    Interview       0.05      0.02      0.03        47\n",
      "   Literature       1.00      0.16      0.28        37\n",
      "    Migration       0.00      0.00      0.00        18\n",
      "      Opinion       0.65      0.97      0.78       109\n",
      "     Politics       0.74      0.99      0.85       102\n",
      "      Society       0.50      0.03      0.06        33\n",
      "       Sports       0.38      0.97      0.55       140\n",
      "   Technology       0.00      0.00      0.00        22\n",
      "      Tourism       0.79      0.58      0.67        45\n",
      "        World       1.00      0.02      0.04        53\n",
      "\n",
      "     accuracy                           0.56      1095\n",
      "    macro avg       0.54      0.37      0.36      1095\n",
      " weighted avg       0.56      0.56      0.49      1095\n",
      "\n"
     ]
    },
    {
     "name": "stderr",
     "output_type": "stream",
     "text": [
      "[Parallel(n_jobs=8)]: Done 1234 tasks      | elapsed:    0.3s\n",
      "[Parallel(n_jobs=8)]: Done 1784 tasks      | elapsed:    0.4s\n",
      "[Parallel(n_jobs=8)]: Done 2000 out of 2000 | elapsed:    0.5s finished\n",
      "/home/ash/.local/lib/python3.9/site-packages/sklearn/metrics/_classification.py:1245: UndefinedMetricWarning: Precision and F-score are ill-defined and being set to 0.0 in labels with no predicted samples. Use `zero_division` parameter to control this behavior.\n",
      "  _warn_prf(average, modifier, msg_start, len(result))\n",
      "/home/ash/.local/lib/python3.9/site-packages/sklearn/metrics/_classification.py:1245: UndefinedMetricWarning: Precision and F-score are ill-defined and being set to 0.0 in labels with no predicted samples. Use `zero_division` parameter to control this behavior.\n",
      "  _warn_prf(average, modifier, msg_start, len(result))\n",
      "/home/ash/.local/lib/python3.9/site-packages/sklearn/metrics/_classification.py:1245: UndefinedMetricWarning: Precision and F-score are ill-defined and being set to 0.0 in labels with no predicted samples. Use `zero_division` parameter to control this behavior.\n",
      "  _warn_prf(average, modifier, msg_start, len(result))\n"
     ]
    }
   ],
   "source": [
    "y_pred = rf_clf_no_feat_sel.predict(X_test)\n",
    "print(classification_report(y_test,y_pred))"
   ]
  },
  {
   "cell_type": "code",
   "execution_count": 44,
   "id": "bde2f7af",
   "metadata": {},
   "outputs": [],
   "source": [
    "from sklearn.metrics import confusion_matrix, plot_confusion_matrix"
   ]
  },
  {
   "cell_type": "code",
   "execution_count": 45,
   "id": "b83bb767",
   "metadata": {
    "scrolled": false
   },
   "outputs": [
    {
     "name": "stderr",
     "output_type": "stream",
     "text": [
      "[Parallel(n_jobs=8)]: Using backend ThreadingBackend with 8 concurrent workers.\n",
      "[Parallel(n_jobs=8)]: Done  34 tasks      | elapsed:    0.0s\n",
      "[Parallel(n_jobs=8)]: Done 184 tasks      | elapsed:    0.0s\n",
      "[Parallel(n_jobs=8)]: Done 434 tasks      | elapsed:    0.1s\n",
      "[Parallel(n_jobs=8)]: Done 784 tasks      | elapsed:    0.2s\n",
      "[Parallel(n_jobs=8)]: Done 1234 tasks      | elapsed:    0.3s\n",
      "[Parallel(n_jobs=8)]: Done 1784 tasks      | elapsed:    0.4s\n",
      "[Parallel(n_jobs=8)]: Done 2000 out of 2000 | elapsed:    0.4s finished\n"
     ]
    },
    {
     "data": {
      "text/plain": [
       "<sklearn.metrics._plot.confusion_matrix.ConfusionMatrixDisplay at 0x7fb5f3253490>"
      ]
     },
     "execution_count": 45,
     "metadata": {},
     "output_type": "execute_result"
    },
    {
     "data": {
      "image/png": "[encoded data removed]",
      "text/plain": [
       "<Figure size 432x288 with 2 Axes>"
      ]
     },
     "metadata": {
      "needs_background": "light"
     },
     "output_type": "display_data"
    }
   ],
   "source": [
    "plot_confusion_matrix(rf_clf_no_feat_sel,y_test,y_pred)"
   ]
  },
  {
   "cell_type": "code",
   "execution_count": 46,
   "id": "3bf73c95",
   "metadata": {},
   "outputs": [],
   "source": [
    "best_classifier = svc_clf"
   ]
  },
  {
   "cell_type": "code",
   "execution_count": 47,
   "id": "e3a74748",
   "metadata": {},
   "outputs": [
    {
     "data": {
      "text/plain": [
       "SVC()"
      ]
     },
     "execution_count": 47,
     "metadata": {},
     "output_type": "execute_result"
    }
   ],
   "source": [
    "best_classifier.named_steps['clf']"
   ]
  },
  {
   "cell_type": "code",
   "execution_count": 48,
   "id": "9963998a",
   "metadata": {},
   "outputs": [],
   "source": [
    "import pickle\n",
    "with open('svc_clf_test_set_72_acc.pkl','wb') as f:\n",
    "    pickle.dump(best_classifier.named_steps['clf'], f) \n"
   ]
  },
  {
   "cell_type": "code",
   "execution_count": 49,
   "id": "d1881304",
   "metadata": {},
   "outputs": [],
   "source": [
    "with open('svc_clf_test_set_72_acc.pkl','rb') as f:\n",
    "    model = pickle.load(f)"
   ]
  },
  {
   "cell_type": "code",
   "execution_count": 50,
   "id": "27ebb970",
   "metadata": {},
   "outputs": [
    {
     "data": {
      "text/plain": [
       "SVC()"
      ]
     },
     "execution_count": 50,
     "metadata": {},
     "output_type": "execute_result"
    }
   ],
   "source": [
    "model"
   ]
  },
  {
   "cell_type": "markdown",
   "id": "2b78551b",
   "metadata": {},
   "source": [
    "### Classification Task"
   ]
  },
  {
   "cell_type": "code",
   "execution_count": 29,
   "id": "0c390bcb",
   "metadata": {},
   "outputs": [],
   "source": [
    "text = '''\n",
    "९ असार, काठमाडौं । युरोकप २०२० अन्तर्गत आज समूह चरणका अन्तिम चार खेल हुँदैछ । आजको खेलहरु पनि समूह चरणका खेल सकिनेछ र अन्तिम १६ को समीकरण तय हुनेछ ।\n",
    "अहिले चार समूहको विजेता र समूह विजेता अनि दुई उत्कृष्ट उपविजेताले अन्तिम १६ मा स्थान बनाएका छन् ।\n",
    "यस्तै समूह इ र एफबाट पनि अन्तिम १६ मा पुग्ने एक एक टिमको टुङ्गो लागेको छ ।\n",
    "आजको खेलपछि दुवै समूहको विजेता र उपविजेता अनि तेस्रो हुने मध्ये उत्कृष्ट चार टोलीको टुङ्गो लाग्नेछ ।\n",
    "आज समूह इ अन्तर्गत स्लोभाकिया र स्पेन तथा पोल्याण्ड र स्वीडेनबीचको खेल राति ९:४५ बजे सुरु हुनेछ ।\n",
    "स्पेनले घरेलु मैदान सेभियामा स्लोभाकियासँग खेल्नेछ । यसअघिका दुई खेल बराबरी खेलेको स्पेनलाई शीर्ष दुईमा रहन जितको आवश्यकता छ । स्लोभाकिया भने बराबरीले पनि नकआउट चरणमा पुग्न सक्नेछ ।\n",
    "उता स्वीडेन र पोल्याण्ड रुसको सेन्ट पिटर्सवर्गमा भिड्नेछन् । २ खेलबाट ४ अंक जोडेको स्वीडेनले नकआउटमा स्थानमा पक्का गरिसकेको छ । पोल्याण्डमा पराजित गरेमा स्वीडेन समूह विजेता बन्नेछ।\n",
    "यसैगरी राति १२:४५ बजे समूह एफको दुई महत्वपूर्ण खेल हुनेछ ।\n",
    "ग्रुप अफ डेथको रुपमा रहेको यस समूहमा विश्वकप विजेतार य रोपेली विजेतासहित तीन पूर्व विजेता छन् ।\n",
    "आज राति विश्व विजेता फ्रान्स र युरोपेली विजेता पोर्चुगलबीच बहुप्रतिक्षित भिडन्त हुनेछ । गत संस्करणमा फाइनल खेलेका यी दुई टोली यस पटक समूह चरणमै भिड्दैछन् ।\n",
    "यस्तै जर्मनीले घरेलु मैदानमा हंगेरीसँग खेल्नेछ ।\n",
    "फ्रान्स ४ अंकसहित शीर्ष स्थानमा छ र जस्तो नतिजा आए पनि नकआउटमा प्रवेश गर्नेछ । जर्मनी र पोर्चुगलको समान ३ र हंगेरीको १ अंक छ ।\n",
    "पोर्चुगललाई पराजित गरेमा फ्रान्स समूह विजेता बन्नेछ । यस्तै पोर्चुगललाई पनि फ्रान्सलाई हराउँदै समूह विजेता बन्ने अवसर छ तर त्यसका लागि जर्मनी र हंगेरीबीचको खेलको नतिजा कुर्नुपर्नेछ ।\n",
    "यदि फ्रान्स र हंगेरी विजयी भएमा भने पोर्चुगल अन्तिम स्थानमा हुनेछ । जर्मनीले हंगेरीलाई पराजित गरेमा र फ्रान्ससँग एक गोल अन्तरले हारेमा पनि पोर्चुगल उत्कृष्ट तेस्रो टिममध्ये एक हुँदै नकआउट चरणमा प्रवेश गर्नेछ।\n",
    "'''\n",
    "label = 'sports'"
   ]
  },
  {
   "cell_type": "code",
   "execution_count": 30,
   "id": "8ef6d413",
   "metadata": {},
   "outputs": [
    {
     "data": {
      "text/plain": [
       "array(['Sports'], dtype=object)"
      ]
     },
     "execution_count": 30,
     "metadata": {},
     "output_type": "execute_result"
    }
   ],
   "source": [
    "svc_clf.predict([text])"
   ]
  },
  {
   "cell_type": "code",
   "execution_count": 53,
   "id": "89d0bf76",
   "metadata": {},
   "outputs": [
    {
     "data": {
      "text/plain": [
       "array(['Sports'], dtype='<U13')"
      ]
     },
     "execution_count": 53,
     "metadata": {},
     "output_type": "execute_result"
    }
   ],
   "source": [
    "mnb_clf.predict([text])"
   ]
  },
  {
   "cell_type": "code",
   "execution_count": 54,
   "id": "29c8ad2d",
   "metadata": {},
   "outputs": [
    {
     "data": {
      "text/plain": [
       "array(['Sports'], dtype='<U13')"
      ]
     },
     "execution_count": 54,
     "metadata": {},
     "output_type": "execute_result"
    }
   ],
   "source": [
    "bnb_clf.predict([text])"
   ]
  },
  {
   "cell_type": "code",
   "execution_count": 55,
   "id": "c76a0ce3",
   "metadata": {},
   "outputs": [
    {
     "name": "stderr",
     "output_type": "stream",
     "text": [
      "[Parallel(n_jobs=8)]: Using backend ThreadingBackend with 8 concurrent workers.\n",
      "[Parallel(n_jobs=8)]: Done  34 tasks      | elapsed:    0.0s\n",
      "[Parallel(n_jobs=8)]: Done 184 tasks      | elapsed:    0.0s\n",
      "[Parallel(n_jobs=8)]: Done 434 tasks      | elapsed:    0.1s\n",
      "[Parallel(n_jobs=8)]: Done 784 tasks      | elapsed:    0.1s\n",
      "[Parallel(n_jobs=8)]: Done 1234 tasks      | elapsed:    0.2s\n",
      "[Parallel(n_jobs=8)]: Done 1784 tasks      | elapsed:    0.2s\n",
      "[Parallel(n_jobs=8)]: Done 2000 out of 2000 | elapsed:    0.2s finished\n"
     ]
    },
    {
     "data": {
      "text/plain": [
       "array(['Sports'], dtype=object)"
      ]
     },
     "execution_count": 55,
     "metadata": {},
     "output_type": "execute_result"
    }
   ],
   "source": [
    "rf_clf.predict([text])"
   ]
  },
  {
   "cell_type": "code",
   "execution_count": null,
   "id": "1ad05ec2",
   "metadata": {},
   "outputs": [],
   "source": []
  },
  {
   "cell_type": "code",
   "execution_count": 27,
   "id": "2a853846",
   "metadata": {},
   "outputs": [],
   "source": [
    "text = '''\n",
    "९ असार, काठमाडौं । नेपाल स्टक एक्सचेञ्ज (नेप्से) को दुई वटा वेवसाइटहरु सञ्चालनमा छन् । दुबै वेवसाइट (नयाँ र पुरानो) मा सेयर बजार प्रत्यक्ष हेर्न सकिन्छ । दुई वेवसाइटमा देखिने तथ्यांक एउटै हुन् ।\n",
    "तर बुधबारको कारोबारमा भने फरक देखियो । नेप्सेकेा पुरानो वेवसाइटमा सेयर कारोबार मापक नेप्से परिसूचक ५१.६५ अंकले बजार घट्यो । बधबार बजार २ हजार ८ सय ६२ दशमलव १८ विन्दुमा पुगेर बन्द भएको देखिन्छ । उता नयाँ वेवसाइटमा भने ५३.८८ अंकले घटेर २ हजार ८ सय ५९ दशमलव ९६ अंकमा झरेको छ \n",
    "यी दुई वेवसाइटमा कसरी फरक तथ्यांक देखियो त ? नेप्सको प्रवक्ता मुराहरी पराजुली भन्छन्, ‘यो प्राविधिक समस्या हो, सिस्टममा रिफ्रेस नभएर त्यस्तो देखिएको हुनसक्छ ।’ कारोबार बन्द हुने वित्तिकै र केहि मिनेटपछि भने तथ्यांक तलमाथि हुन्छ । अपडेट हुनलाई केही समय लाग्ने भएकाले यस्तो हुने गरेको उनले बताए ।\n",
    "तर बुधबार कारोबार बन्द भएको ४० मिनेटसम्म पनि यस्तो देखिनु प्राविधिक समस्या भएको र पुरानो वेवसाइटलाई विस्वास गर्नु पर्ने उनले बताए ।\n",
    "‘खासमा आधिकारिक भनेको नयाँ होइन पुरानै हो, यसरी तथ्यांक फरक परेको अवस्थामा पुरानोलाई आधार मान्नुपर्छ’ प्रवक्ता पराजुलीले भने । बुधबार आज सबै समूहका परिसूचक नकारात्मक रहे । यसमा पनि सबैभन्दा बढी गुमाउनेमा विकास बैंक समुहका लगानीकर्ता परे । जलविद्युत, जीवन बिमा र होटेल समुहमा समेत पहिरो गयो । सेन्सेटिभ इन्डेक्समा ७.३७ अंकको करेक्सन देखियो ।\n",
    "बुधबार कुल २१८ कम्पनीको ९१ हजार ७५ वटा कारोबार भएको छ । कुल १ करोड ९४ लाख १७ हजार ५ सय ३२ कित्ता सेयर किनबेच भएको दिन बुधबार कारोबार रकम भने साढे ८ अर्बमा खुम्चिएको छ ।\n",
    "बजार लगातार घटेको समयमा पनि कारोबार रकम १० अर्ब भन्दामाथि हुने गरेको थियो । आज ८ अर्ब ३६ करोड २६ लाख ७१ हजार ६ सय ८१ रुपैयाँ बराबरको कारोबार भएको छ ।\n",
    "'''\n",
    "label = 'Bank'"
   ]
  },
  {
   "cell_type": "code",
   "execution_count": null,
   "id": "7c6e92ce",
   "metadata": {},
   "outputs": [],
   "source": []
  },
  {
   "cell_type": "code",
   "execution_count": 28,
   "id": "abf94090",
   "metadata": {},
   "outputs": [
    {
     "data": {
      "text/plain": [
       "array(['Bank'], dtype=object)"
      ]
     },
     "execution_count": 28,
     "metadata": {},
     "output_type": "execute_result"
    }
   ],
   "source": [
    "svc_clf.predict([text])"
   ]
  },
  {
   "cell_type": "code",
   "execution_count": 58,
   "id": "ae31bf24",
   "metadata": {},
   "outputs": [
    {
     "data": {
      "text/plain": [
       "array(['Bank'], dtype='<U13')"
      ]
     },
     "execution_count": 58,
     "metadata": {},
     "output_type": "execute_result"
    }
   ],
   "source": [
    "mnb_clf.predict([text])"
   ]
  },
  {
   "cell_type": "code",
   "execution_count": 59,
   "id": "aa9f8653",
   "metadata": {},
   "outputs": [
    {
     "data": {
      "text/plain": [
       "array(['Bank'], dtype='<U13')"
      ]
     },
     "execution_count": 59,
     "metadata": {},
     "output_type": "execute_result"
    }
   ],
   "source": [
    "bnb_clf.predict([text])"
   ]
  },
  {
   "cell_type": "code",
   "execution_count": 60,
   "id": "54d667d7",
   "metadata": {},
   "outputs": [
    {
     "name": "stderr",
     "output_type": "stream",
     "text": [
      "[Parallel(n_jobs=8)]: Using backend ThreadingBackend with 8 concurrent workers.\n",
      "[Parallel(n_jobs=8)]: Done  34 tasks      | elapsed:    0.0s\n",
      "[Parallel(n_jobs=8)]: Done 184 tasks      | elapsed:    0.0s\n",
      "[Parallel(n_jobs=8)]: Done 434 tasks      | elapsed:    0.1s\n",
      "[Parallel(n_jobs=8)]: Done 784 tasks      | elapsed:    0.1s\n",
      "[Parallel(n_jobs=8)]: Done 1234 tasks      | elapsed:    0.1s\n",
      "[Parallel(n_jobs=8)]: Done 1784 tasks      | elapsed:    0.2s\n",
      "[Parallel(n_jobs=8)]: Done 2000 out of 2000 | elapsed:    0.2s finished\n"
     ]
    },
    {
     "data": {
      "text/plain": [
       "array(['Bank'], dtype=object)"
      ]
     },
     "execution_count": 60,
     "metadata": {},
     "output_type": "execute_result"
    }
   ],
   "source": [
    "rf_clf.predict([text])"
   ]
  },
  {
   "cell_type": "code",
   "execution_count": null,
   "id": "b3be6bf4",
   "metadata": {},
   "outputs": [],
   "source": []
  }
 ],
 "metadata": {
  "kernelspec": {
   "display_name": "Python 3",
   "language": "python",
   "name": "python3"
  },
  "language_info": {
   "codemirror_mode": {
    "name": "ipython",
    "version": 3
   },
   "file_extension": ".py",
   "mimetype": "text/x-python",
   "name": "python",
   "nbconvert_exporter": "python",
   "pygments_lexer": "ipython3",
   "version": "3.9.5"
  }
 },
 "nbformat": 4,
 "nbformat_minor": 5
}
