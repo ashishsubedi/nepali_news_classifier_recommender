{
 "cells": [
  {
   "cell_type": "code",
   "execution_count": 1,
   "id": "493b0b84",
   "metadata": {},
   "outputs": [],
   "source": [
    "import os"
   ]
  },
  {
   "cell_type": "code",
   "execution_count": 2,
   "id": "4b2f845c",
   "metadata": {},
   "outputs": [],
   "source": [
    "import pandas as pd\n",
    "import numpy as np\n",
    "import nltk"
   ]
  },
  {
   "cell_type": "code",
   "execution_count": 3,
   "id": "89d93a04",
   "metadata": {},
   "outputs": [],
   "source": [
    "from sklearn.model_selection import train_test_split"
   ]
  },
  {
   "cell_type": "code",
   "execution_count": 4,
   "id": "6760fc49",
   "metadata": {},
   "outputs": [],
   "source": [
    "DATA_DIR = os.path.abspath('./datasets/output/data.csv')"
   ]
  },
  {
   "cell_type": "code",
   "execution_count": 5,
   "id": "c4f75337",
   "metadata": {},
   "outputs": [],
   "source": [
    "#nltk.download('stopwords')"
   ]
  },
  {
   "cell_type": "markdown",
   "id": "31e023fe",
   "metadata": {},
   "source": [
    "## Loading Data"
   ]
  },
  {
   "cell_type": "code",
   "execution_count": 6,
   "id": "b3926ca5",
   "metadata": {},
   "outputs": [
    {
     "data": {
      "text/html": [
       "<div>\n",
       "<style scoped>\n",
       "    .dataframe tbody tr th:only-of-type {\n",
       "        vertical-align: middle;\n",
       "    }\n",
       "\n",
       "    .dataframe tbody tr th {\n",
       "        vertical-align: top;\n",
       "    }\n",
       "\n",
       "    .dataframe thead th {\n",
       "        text-align: right;\n",
       "    }\n",
       "</style>\n",
       "<table border=\"1\" class=\"dataframe\">\n",
       "  <thead>\n",
       "    <tr style=\"text-align: right;\">\n",
       "      <th></th>\n",
       "      <th>class</th>\n",
       "      <th>text</th>\n",
       "    </tr>\n",
       "    <tr>\n",
       "      <th>id</th>\n",
       "      <th></th>\n",
       "      <th></th>\n",
       "    </tr>\n",
       "  </thead>\n",
       "  <tbody>\n",
       "    <tr>\n",
       "      <th>182</th>\n",
       "      <td>Interview</td>\n",
       "      <td>﻿विडम्बना, ओलीको सत्ता सवारी पनि सिंहदरबारमा फ...</td>\n",
       "    </tr>\n",
       "    <tr>\n",
       "      <th>127</th>\n",
       "      <td>Interview</td>\n",
       "      <td>﻿नेपाली कांग्रेसको सभापतिमा रामचन्द्र पौडेलको ...</td>\n",
       "    </tr>\n",
       "    <tr>\n",
       "      <th>85</th>\n",
       "      <td>Interview</td>\n",
       "      <td>﻿\\nदुर्भाग्य नै भन्नुपर्छ हाम्रो प्राथमिकता पे...</td>\n",
       "    </tr>\n",
       "    <tr>\n",
       "      <th>162</th>\n",
       "      <td>Interview</td>\n",
       "      <td>﻿नयनराज पाण्डे, लेखक\\nविमोचन हुनै लागेको तपाईं...</td>\n",
       "    </tr>\n",
       "    <tr>\n",
       "      <th>13</th>\n",
       "      <td>Interview</td>\n",
       "      <td>﻿- भवन भट्ट, उपाध्यक्ष, गैर आवासीय नेपाली संघ\\...</td>\n",
       "    </tr>\n",
       "  </tbody>\n",
       "</table>\n",
       "</div>"
      ],
      "text/plain": [
       "         class                                               text\n",
       "id                                                               \n",
       "182  Interview  ﻿विडम्बना, ओलीको सत्ता सवारी पनि सिंहदरबारमा फ...\n",
       "127  Interview  ﻿नेपाली कांग्रेसको सभापतिमा रामचन्द्र पौडेलको ...\n",
       "85   Interview  ﻿\\nदुर्भाग्य नै भन्नुपर्छ हाम्रो प्राथमिकता पे...\n",
       "162  Interview  ﻿नयनराज पाण्डे, लेखक\\nविमोचन हुनै लागेको तपाईं...\n",
       "13   Interview  ﻿- भवन भट्ट, उपाध्यक्ष, गैर आवासीय नेपाली संघ\\..."
      ]
     },
     "execution_count": 6,
     "metadata": {},
     "output_type": "execute_result"
    }
   ],
   "source": [
    "df = pd.read_csv(DATA_DIR,index_col=0)\n",
    "df.head()"
   ]
  },
  {
   "cell_type": "code",
   "execution_count": 7,
   "id": "c77c8390",
   "metadata": {},
   "outputs": [],
   "source": [
    "df.dropna(inplace=True)"
   ]
  },
  {
   "cell_type": "code",
   "execution_count": 8,
   "id": "a2604766",
   "metadata": {},
   "outputs": [],
   "source": [
    "y = df['class']\n",
    "X = df['text']"
   ]
  },
  {
   "cell_type": "code",
   "execution_count": 9,
   "id": "345e3f4c",
   "metadata": {},
   "outputs": [
    {
     "data": {
      "text/plain": [
       "'\\ufeffविडम्बना, ओलीको सत्ता सवारी पनि सिंहदरबारमा फोटो झुण्ड्याउने मार्गतिरै अघि बढिरहेको छ।\\nकल्पना गर्नुुस्, कसैले तपाईंको कन्चटमा पेस्तोल राख्दै तत्काल ‘एमाले अध्यक्ष तथा प्रधानमन्त्री केपी शर्मा ओली, एनेकपा माओवादीका अध्यक्ष पुष्पकमल दाहाल र नेपाली कांग्रेसका सभापति शेरबहादुर देउवामध्ये उत्कृष्ट को हो?’ भनी सोध्यो। के तपाईं निमेषभरमै एकजनाको नाम भन्न सक्नुहोला? जवाफ सहज छैन।\\nहामीले माने पनि नमाने पनि वर्तमान नेपाली राजनीतिका त्रिमूर्ति यिनै हुन्। यिनकै विवेक, बेवकूफी, बेहोशीले नै नेपालको दशा र दिशा निर्धारित गरिरहेको छ।\\nअहिले एमाले अध्यक्ष ओली सत्ता राजनीतिको केन्द्रमा छन्। पार्टी प्रमुख र प्रधानमन्त्रीमा उनलाई प्राप्त यो पहिलो मौका संभवतः अन्तिम पनि हो, जसमा उनकै स्वीकारोक्ति पटकपटक सुनिएकै छ।\\nपार्टी नेतृत्वमा चुनिंदा अरूहरू जस्तो आफूसँग प्रशस्त समय नभएका कारण छिटोछिटो गर्ने, निःसन्तान रहेकाले धन सञ्चित गर्नु नपर्ने जस्ता भनाइले उनले चर्चा कमाएका थिए। पार्टी अध्यक्षका रूपमा संविधानलेखनमा देखाएको जुझारु भूमिकाले पनि नागरिकले स्वाभाविक रूपमा उनीबाट केही अपेक्षा राखेका थिए।\\nतर, प्रधानमन्त्रीत्वको सात महीना वितिसक्दा ओली अंग्रेजी कवि टीएस इलियटको ‘द हलो म्यान’ कविताको एक पंक्ति झैं बन्न पुगेका छन्, जसमा लेखिएको छ– बिटवीन द आइडिया एण्ड द रियालिटी, बिटवीन द मोसन एण्ड द याक्ट, फल्स द स्याडो। लाग्छ, ओलीको बोली र व्यवहारबीच छायाँ खसेको छ।\\nछायाँ यति अँध्यारो छ कि हिजोसम्म उनका तुक्का र खिसिटिउरीमा तुष्टि लिनेहरू समेत पीडाबोध गर्न बाध्य छन्। पछिल्लो साता आँधीहुरी र वर्षाले भूकम्पपीडितका टहरा र पाल उडाइरहँदा उनी हिन्द र प्रशान्त महासागरमा नेपाली झ्ण्डासहितका पानीजहाज चलाउने कुरा गरिरहेका छन्।\\nदेउवाको दायित्व\\nतुक्कावाजीलाई छाडौं, ओलीले सत्तामा टाँसिइरहन एमाओवादीसँगको नौबुँदे सहमतिको ‘फेविकोल’ ले लोकतन्त्रको मुटु न्यायिक राज्यको मर्मलाई नै निमोठेको छ। हिजो माओवादी हिंसाका कटु आलोचक तिनै ओली आज ‘अभयदाता’ बन्न खोजेका छन्।\\nभूकम्पबाट तहसनहस संरचनाको पुनःनिर्माण तथा भूकम्पपीडितको सम्मानित पुनर्वासदेखि संविधान कार्यान्वयनका लागि ऐन–नियम तर्जुमा गर्नुपर्ने ओली सरकारले हालै संशोधन गरेको एउटा ऐनबाट नै प्राथमिकता आकलन गर्न सकिन्छ। कालोबजारी नियन्त्रण गर्न नसकेको भन्दै आलोचना खेपिरहेको सरकार कालोबजारीप्रति उल्टै उदार देखिएको छ।\\nसरकारले ‘कालोबजार तथा केही अन्य सामाजिक अपराध तथा सजाय ऐन २०३२’ संशोधन गरी कालोबजारीमा संलग्नलाई तोकिएको कैदको समय १० वर्षबाट एक वर्षमा झारेको छ। यसबाट कालोबजारीका अभिभावक कतै सरकार नै त होइन भन्ने संशय उत्पन्न गराएको छ।\\nयतिवेला कुनै वेलाका कट्टर आलोचक एमालेका ओली र एमाओवादीका दाहाल सत्ताका नाविक छन्। तर, जिम्मेवार प्रतिपक्षको नेतृत्व गर्नुपर्ने कांग्रेसका देउवाको ध्येय नौकाबाट ओलीलाई खसाल्ने षडयन्त्रमै सीमित देखिन्छ। सरकार गठनको पछिल्लो घटनाक्रमबाट देउवा स्वयं आफैं नराम्ररी डुबेका छन्। यसले मुलुकको सबैभन्दा ठूलो दलको नेताका रूपमा देउवाको नेतृत्व क्षमता र सुझ्बुझमाथि अनेकौं प्रश्न खडा भएको छ।\\nयी तीन दलका तीन नेतामध्ये देउवा र दाहालको राष्ट्रको कार्यकारी प्रमुखको रूपमा परीक्षण भइसकेको छ। बहालवाला प्रम ओलीको मूल्याङ्कन अहिल्यै गरिहाल्नु हतार हुने भए पनि उनको नियति पनि सिंहदरबारको भित्तामा फोटो झुन्ड्याउनुमै सीमित हुने देखिन्छ।\\nएमाओवादीका दाहालको आगत फेरि प्रधानमन्त्री हुने भन्दा पनि संभावित युद्धअपराधको मुद्दाबाट जोगिनेतर्फ नै लक्षित हुने निश्चित छ। जसलाई उनी र ओलीबीचको नौ बुँदे सम्झौताले नै पुष्टि गर्छ।\\nइतिहासको यस कठिन मोडमा मुख्य भूमिकामा पुगेका तीन नेतामध्ये सुझबुझ र संयम देखाउन सके देउवाले अहम् भूमिका खेल्न सक्छन्।\\nनेपाली सत्ता राजनीतिमा विकृति भित्र्याएको आलोचनाबाट उन्मुक्ति नपाएका उनले आफूलाई बदल्दै गतिलो नेता सावित गर्न सक्नेछन्। र, यसका लागि उनीसँग योभन्दा अपूर्व मौका अर्को नहुने निश्चित छ।\\n  तन्नम त्रिमूर्ति'"
      ]
     },
     "execution_count": 9,
     "metadata": {},
     "output_type": "execute_result"
    }
   ],
   "source": [
    "X[0]"
   ]
  },
  {
   "cell_type": "code",
   "execution_count": 10,
   "id": "f713fd1c",
   "metadata": {},
   "outputs": [
    {
     "data": {
      "text/plain": [
       "['World',\n",
       " 'Entertainment',\n",
       " 'Sports',\n",
       " 'Literature',\n",
       " 'Agriculture',\n",
       " 'Blog',\n",
       " 'Business',\n",
       " 'Education',\n",
       " 'Society',\n",
       " 'Economy',\n",
       " 'Automobiles',\n",
       " 'Migration',\n",
       " 'Bank',\n",
       " 'Interview',\n",
       " 'Opinion',\n",
       " 'Technology',\n",
       " 'Tourism',\n",
       " 'Employment',\n",
       " 'Politics']"
      ]
     },
     "execution_count": 10,
     "metadata": {},
     "output_type": "execute_result"
    }
   ],
   "source": [
    "labels=list(set(df['class']))\n",
    "labels"
   ]
  },
  {
   "cell_type": "code",
   "execution_count": 11,
   "id": "db029290",
   "metadata": {},
   "outputs": [
    {
     "data": {
      "text/plain": [
       "19"
      ]
     },
     "execution_count": 11,
     "metadata": {},
     "output_type": "execute_result"
    }
   ],
   "source": [
    "len(labels)"
   ]
  },
  {
   "cell_type": "markdown",
   "id": "f5a4e257",
   "metadata": {},
   "source": [
    "### Processing Data"
   ]
  },
  {
   "cell_type": "code",
   "execution_count": 12,
   "id": "4f1f6d3d",
   "metadata": {},
   "outputs": [],
   "source": [
    "from nltk.corpus import stopwords\n",
    "from sklearn.feature_extraction.text import TfidfVectorizer"
   ]
  },
  {
   "cell_type": "code",
   "execution_count": 13,
   "id": "99897569",
   "metadata": {},
   "outputs": [],
   "source": [
    "nepali_stop_words = set(stopwords.words('nepali'))"
   ]
  },
  {
   "cell_type": "code",
   "execution_count": 14,
   "id": "5cb42f54",
   "metadata": {},
   "outputs": [],
   "source": [
    "# tfidfVectorizer = TfidfVectorizer(stop_words=nepali_stop_words,encoding='utf-8',decode_error='ignore')"
   ]
  },
  {
   "cell_type": "code",
   "execution_count": 40,
   "id": "c5afe6f4",
   "metadata": {},
   "outputs": [],
   "source": [
    "def split_token(x):\n",
    "    return x.split(\" \")\n",
    "tfidfVectorizer = TfidfVectorizer(tokenizer= split_token,\n",
    "                                  sublinear_tf=True, encoding='utf-8',\n",
    "                                  decode_error='ignore',\n",
    "                                  max_df=0.5,\n",
    "                                  min_df=10,\n",
    "                                  stop_words=nepali_stop_words)"
   ]
  },
  {
   "cell_type": "code",
   "execution_count": 41,
   "id": "cb386c01",
   "metadata": {},
   "outputs": [
    {
     "name": "stderr",
     "output_type": "stream",
     "text": [
      "/home/ash/Desktop/projects/nepali_news_classifier_recommender/venv/lib/python3.9/site-packages/sklearn/feature_extraction/text.py:388: UserWarning: Your stop_words may be inconsistent with your preprocessing. Tokenizing the stop words generated tokens ['अक', 'अग', 'अझ', 'अन', 'अर', 'आजक', 'आत', 'आद', 'आफ', 'आय', 'ईक', 'उद', 'उनक', 'उनल', 'उह', 'एउट', 'एन', 'कत', 'कम', 'कस', 'कसर', 'कह', 'गत', 'गय', 'गर', 'चम', 'छन', 'जत', 'जबक', 'जस', 'जसक', 'जसब', 'जसम', 'जसल', 'जह', 'तत', 'तथ', 'तदन', 'तप', 'तवम', 'नज', 'नत', 'नभन', 'नय', 'पक', 'पछ', 'पन', 'पय', 'पर', 'पष', 'पह', 'बन', 'बर', 'भएक', 'भय', 'भव', 'मल', 'यत', 'यथ', 'यद', 'यप', 'यसक', 'यसपछ', 'यसब', 'यसर', 'यह', 'रण', 'रत', 'रमश', 'रह', 'लस', 'वर', 'सक', 'सट', 'सध', 'सपछ', 'सब', 'सम', 'सर', 'सह', 'हन', 'हर', 'हरण'] not in stop_words.\n",
      "  warnings.warn('Your stop_words may be inconsistent with '\n"
     ]
    }
   ],
   "source": [
    "X_vectorized = tfidfVectorizer.fit_transform(X)"
   ]
  },
  {
   "cell_type": "code",
   "execution_count": 42,
   "id": "0603b0d0",
   "metadata": {},
   "outputs": [
    {
     "data": {
      "text/plain": [
       "<5475x3170 sparse matrix of type '<class 'numpy.float64'>'\n",
       "\twith 498939 stored elements in Compressed Sparse Row format>"
      ]
     },
     "execution_count": 42,
     "metadata": {},
     "output_type": "execute_result"
    }
   ],
   "source": [
    "X_vectorized"
   ]
  },
  {
   "cell_type": "code",
   "execution_count": 18,
   "id": "f62fc056",
   "metadata": {},
   "outputs": [],
   "source": [
    "X_train,X_test,y_train,y_test = train_test_split(X,y,test_size=0.2)"
   ]
  },
  {
   "cell_type": "code",
   "execution_count": 19,
   "id": "58c5a51d",
   "metadata": {},
   "outputs": [
    {
     "data": {
      "text/plain": [
       "((4380,), (4380,))"
      ]
     },
     "execution_count": 19,
     "metadata": {},
     "output_type": "execute_result"
    }
   ],
   "source": [
    "X_train.shape, y_train.shape"
   ]
  },
  {
   "cell_type": "code",
   "execution_count": 20,
   "id": "f30ad99c",
   "metadata": {},
   "outputs": [
    {
     "data": {
      "text/plain": [
       "((1095,), (1095,))"
      ]
     },
     "execution_count": 20,
     "metadata": {},
     "output_type": "execute_result"
    }
   ],
   "source": [
    "X_test.shape, y_test.shape"
   ]
  },
  {
   "cell_type": "markdown",
   "id": "1fbefd89",
   "metadata": {},
   "source": [
    "## SVC Classifier"
   ]
  },
  {
   "cell_type": "code",
   "execution_count": 21,
   "id": "5d1ed8c5",
   "metadata": {},
   "outputs": [],
   "source": [
    "from sklearn.pipeline import Pipeline\n",
    "from sklearn.svm import SVC\n",
    "from sklearn.feature_selection import SelectKBest, chi2"
   ]
  },
  {
   "cell_type": "code",
   "execution_count": 31,
   "id": "d4fe36a1",
   "metadata": {},
   "outputs": [],
   "source": [
    "svc_clf = Pipeline([\n",
    "    ('vectorizer',tfidfVectorizer),\n",
    "    ('chi2',SelectKBest(chi2,k=5000)),\n",
    "    ('clf',SVC())\n",
    "])\n",
    "svc_clf_no_feat_sel = Pipeline([\n",
    "    ('vectorizer',tfidfVectorizer),\n",
    "\n",
    "    ('clf',SVC())\n",
    "])"
   ]
  },
  {
   "cell_type": "code",
   "execution_count": 32,
   "id": "f9419b91",
   "metadata": {},
   "outputs": [
    {
     "data": {
      "text/plain": [
       "Pipeline(steps=[('vectorizer',\n",
       "                 TfidfVectorizer(decode_error='ignore', max_df=0.5, min_df=10,\n",
       "                                 stop_words={'अक्सर', 'अगाडी', 'अझै', 'अनुसार',\n",
       "                                             'अन्तर्गत', 'अन्य', 'अन्यत्र',\n",
       "                                             'अन्यथा', 'अब', 'अरु', 'अरुलाई',\n",
       "                                             'अर्को', 'अर्थात', 'अर्थात्',\n",
       "                                             'अलग', 'आए', 'आजको', 'आत्म', 'आदि',\n",
       "                                             'आफू', 'आफूलाई', 'आफ्नै', 'आफ्नो',\n",
       "                                             'आयो', 'उदाहरण', 'उनको', 'उनले',\n",
       "                                             'उप', 'उहालाई', 'एउटै', ...},\n",
       "                                 sublinear_tf=True,\n",
       "                                 tokenizer=<function split_token at 0x7fa0670850d0>)),\n",
       "                ('chi2',\n",
       "                 SelectKBest(k=5000,\n",
       "                             score_func=<function chi2 at 0x7fa0690235e0>)),\n",
       "                ('clf', SVC())])"
      ]
     },
     "execution_count": 32,
     "metadata": {},
     "output_type": "execute_result"
    }
   ],
   "source": [
    "svc_clf.fit(X_train,y_train)"
   ]
  },
  {
   "cell_type": "code",
   "execution_count": 33,
   "id": "8fd02fab",
   "metadata": {},
   "outputs": [
    {
     "data": {
      "text/plain": [
       "Pipeline(steps=[('vectorizer',\n",
       "                 TfidfVectorizer(decode_error='ignore', max_df=0.5, min_df=10,\n",
       "                                 stop_words={'अक्सर', 'अगाडी', 'अझै', 'अनुसार',\n",
       "                                             'अन्तर्गत', 'अन्य', 'अन्यत्र',\n",
       "                                             'अन्यथा', 'अब', 'अरु', 'अरुलाई',\n",
       "                                             'अर्को', 'अर्थात', 'अर्थात्',\n",
       "                                             'अलग', 'आए', 'आजको', 'आत्म', 'आदि',\n",
       "                                             'आफू', 'आफूलाई', 'आफ्नै', 'आफ्नो',\n",
       "                                             'आयो', 'उदाहरण', 'उनको', 'उनले',\n",
       "                                             'उप', 'उहालाई', 'एउटै', ...},\n",
       "                                 sublinear_tf=True,\n",
       "                                 tokenizer=<function split_token at 0x7fa0670850d0>)),\n",
       "                ('clf', SVC())])"
      ]
     },
     "execution_count": 33,
     "metadata": {},
     "output_type": "execute_result"
    }
   ],
   "source": [
    "svc_clf_no_feat_sel.fit(X_train,y_train)"
   ]
  },
  {
   "cell_type": "code",
   "execution_count": 34,
   "id": "a43b35f0",
   "metadata": {},
   "outputs": [
    {
     "name": "stdout",
     "output_type": "stream",
     "text": [
      "Accuracy on train Set :  0.9671232876712329\n",
      "Accuracy on test Set :  0.7378995433789954\n"
     ]
    }
   ],
   "source": [
    "print(\"Accuracy on train Set : \", svc_clf.score(X_train,y_train))\n",
    "print(\"Accuracy on test Set : \", svc_clf.score(X_test,y_test))\n"
   ]
  },
  {
   "cell_type": "code",
   "execution_count": 35,
   "id": "f9ea179b",
   "metadata": {},
   "outputs": [
    {
     "ename": "KeyboardInterrupt",
     "evalue": "",
     "output_type": "error",
     "traceback": [
      "\u001b[0;31m---------------------------------------------------------------------------\u001b[0m",
      "\u001b[0;31mKeyboardInterrupt\u001b[0m                         Traceback (most recent call last)",
      "\u001b[0;32m<ipython-input-35-7c45dcc7437e>\u001b[0m in \u001b[0;36m<module>\u001b[0;34m\u001b[0m\n\u001b[0;32m----> 1\u001b[0;31m \u001b[0mprint\u001b[0m\u001b[0;34m(\u001b[0m\u001b[0;34m\"Accuracy on train Set : \"\u001b[0m\u001b[0;34m,\u001b[0m \u001b[0msvc_clf_no_feat_sel\u001b[0m\u001b[0;34m.\u001b[0m\u001b[0mscore\u001b[0m\u001b[0;34m(\u001b[0m\u001b[0mX_train\u001b[0m\u001b[0;34m,\u001b[0m\u001b[0my_train\u001b[0m\u001b[0;34m)\u001b[0m\u001b[0;34m)\u001b[0m\u001b[0;34m\u001b[0m\u001b[0;34m\u001b[0m\u001b[0m\n\u001b[0m\u001b[1;32m      2\u001b[0m \u001b[0mprint\u001b[0m\u001b[0;34m(\u001b[0m\u001b[0;34m\"Accuracy on test Set : \"\u001b[0m\u001b[0;34m,\u001b[0m \u001b[0msvc_clf_no_feat_sel\u001b[0m\u001b[0;34m.\u001b[0m\u001b[0mscore\u001b[0m\u001b[0;34m(\u001b[0m\u001b[0mX_test\u001b[0m\u001b[0;34m,\u001b[0m\u001b[0my_test\u001b[0m\u001b[0;34m)\u001b[0m\u001b[0;34m)\u001b[0m\u001b[0;34m\u001b[0m\u001b[0;34m\u001b[0m\u001b[0m\n",
      "\u001b[0;32m~/Desktop/projects/nepali_news_classifier_recommender/venv/lib/python3.9/site-packages/sklearn/utils/metaestimators.py\u001b[0m in \u001b[0;36m<lambda>\u001b[0;34m(*args, **kwargs)\u001b[0m\n\u001b[1;32m    118\u001b[0m \u001b[0;34m\u001b[0m\u001b[0m\n\u001b[1;32m    119\u001b[0m         \u001b[0;31m# lambda, but not partial, allows help() to work with update_wrapper\u001b[0m\u001b[0;34m\u001b[0m\u001b[0;34m\u001b[0m\u001b[0;34m\u001b[0m\u001b[0m\n\u001b[0;32m--> 120\u001b[0;31m         \u001b[0mout\u001b[0m \u001b[0;34m=\u001b[0m \u001b[0;32mlambda\u001b[0m \u001b[0;34m*\u001b[0m\u001b[0margs\u001b[0m\u001b[0;34m,\u001b[0m \u001b[0;34m**\u001b[0m\u001b[0mkwargs\u001b[0m\u001b[0;34m:\u001b[0m \u001b[0mself\u001b[0m\u001b[0;34m.\u001b[0m\u001b[0mfn\u001b[0m\u001b[0;34m(\u001b[0m\u001b[0mobj\u001b[0m\u001b[0;34m,\u001b[0m \u001b[0;34m*\u001b[0m\u001b[0margs\u001b[0m\u001b[0;34m,\u001b[0m \u001b[0;34m**\u001b[0m\u001b[0mkwargs\u001b[0m\u001b[0;34m)\u001b[0m\u001b[0;34m\u001b[0m\u001b[0;34m\u001b[0m\u001b[0m\n\u001b[0m\u001b[1;32m    121\u001b[0m         \u001b[0;31m# update the docstring of the returned function\u001b[0m\u001b[0;34m\u001b[0m\u001b[0;34m\u001b[0m\u001b[0;34m\u001b[0m\u001b[0m\n\u001b[1;32m    122\u001b[0m         \u001b[0mupdate_wrapper\u001b[0m\u001b[0;34m(\u001b[0m\u001b[0mout\u001b[0m\u001b[0;34m,\u001b[0m \u001b[0mself\u001b[0m\u001b[0;34m.\u001b[0m\u001b[0mfn\u001b[0m\u001b[0;34m)\u001b[0m\u001b[0;34m\u001b[0m\u001b[0;34m\u001b[0m\u001b[0m\n",
      "\u001b[0;32m~/Desktop/projects/nepali_news_classifier_recommender/venv/lib/python3.9/site-packages/sklearn/pipeline.py\u001b[0m in \u001b[0;36mscore\u001b[0;34m(self, X, y, sample_weight)\u001b[0m\n\u001b[1;32m    620\u001b[0m         \u001b[0;32mif\u001b[0m \u001b[0msample_weight\u001b[0m \u001b[0;32mis\u001b[0m \u001b[0;32mnot\u001b[0m \u001b[0;32mNone\u001b[0m\u001b[0;34m:\u001b[0m\u001b[0;34m\u001b[0m\u001b[0;34m\u001b[0m\u001b[0m\n\u001b[1;32m    621\u001b[0m             \u001b[0mscore_params\u001b[0m\u001b[0;34m[\u001b[0m\u001b[0;34m'sample_weight'\u001b[0m\u001b[0;34m]\u001b[0m \u001b[0;34m=\u001b[0m \u001b[0msample_weight\u001b[0m\u001b[0;34m\u001b[0m\u001b[0;34m\u001b[0m\u001b[0m\n\u001b[0;32m--> 622\u001b[0;31m         \u001b[0;32mreturn\u001b[0m \u001b[0mself\u001b[0m\u001b[0;34m.\u001b[0m\u001b[0msteps\u001b[0m\u001b[0;34m[\u001b[0m\u001b[0;34m-\u001b[0m\u001b[0;36m1\u001b[0m\u001b[0;34m]\u001b[0m\u001b[0;34m[\u001b[0m\u001b[0;34m-\u001b[0m\u001b[0;36m1\u001b[0m\u001b[0;34m]\u001b[0m\u001b[0;34m.\u001b[0m\u001b[0mscore\u001b[0m\u001b[0;34m(\u001b[0m\u001b[0mXt\u001b[0m\u001b[0;34m,\u001b[0m \u001b[0my\u001b[0m\u001b[0;34m,\u001b[0m \u001b[0;34m**\u001b[0m\u001b[0mscore_params\u001b[0m\u001b[0;34m)\u001b[0m\u001b[0;34m\u001b[0m\u001b[0;34m\u001b[0m\u001b[0m\n\u001b[0m\u001b[1;32m    623\u001b[0m \u001b[0;34m\u001b[0m\u001b[0m\n\u001b[1;32m    624\u001b[0m     \u001b[0;34m@\u001b[0m\u001b[0mproperty\u001b[0m\u001b[0;34m\u001b[0m\u001b[0;34m\u001b[0m\u001b[0m\n",
      "\u001b[0;32m~/Desktop/projects/nepali_news_classifier_recommender/venv/lib/python3.9/site-packages/sklearn/base.py\u001b[0m in \u001b[0;36mscore\u001b[0;34m(self, X, y, sample_weight)\u001b[0m\n\u001b[1;32m    498\u001b[0m         \"\"\"\n\u001b[1;32m    499\u001b[0m         \u001b[0;32mfrom\u001b[0m \u001b[0;34m.\u001b[0m\u001b[0mmetrics\u001b[0m \u001b[0;32mimport\u001b[0m \u001b[0maccuracy_score\u001b[0m\u001b[0;34m\u001b[0m\u001b[0;34m\u001b[0m\u001b[0m\n\u001b[0;32m--> 500\u001b[0;31m         \u001b[0;32mreturn\u001b[0m \u001b[0maccuracy_score\u001b[0m\u001b[0;34m(\u001b[0m\u001b[0my\u001b[0m\u001b[0;34m,\u001b[0m \u001b[0mself\u001b[0m\u001b[0;34m.\u001b[0m\u001b[0mpredict\u001b[0m\u001b[0;34m(\u001b[0m\u001b[0mX\u001b[0m\u001b[0;34m)\u001b[0m\u001b[0;34m,\u001b[0m \u001b[0msample_weight\u001b[0m\u001b[0;34m=\u001b[0m\u001b[0msample_weight\u001b[0m\u001b[0;34m)\u001b[0m\u001b[0;34m\u001b[0m\u001b[0;34m\u001b[0m\u001b[0m\n\u001b[0m\u001b[1;32m    501\u001b[0m \u001b[0;34m\u001b[0m\u001b[0m\n\u001b[1;32m    502\u001b[0m     \u001b[0;32mdef\u001b[0m \u001b[0m_more_tags\u001b[0m\u001b[0;34m(\u001b[0m\u001b[0mself\u001b[0m\u001b[0;34m)\u001b[0m\u001b[0;34m:\u001b[0m\u001b[0;34m\u001b[0m\u001b[0;34m\u001b[0m\u001b[0m\n",
      "\u001b[0;32m~/Desktop/projects/nepali_news_classifier_recommender/venv/lib/python3.9/site-packages/sklearn/svm/_base.py\u001b[0m in \u001b[0;36mpredict\u001b[0;34m(self, X)\u001b[0m\n\u001b[1;32m    622\u001b[0m             \u001b[0my\u001b[0m \u001b[0;34m=\u001b[0m \u001b[0mnp\u001b[0m\u001b[0;34m.\u001b[0m\u001b[0margmax\u001b[0m\u001b[0;34m(\u001b[0m\u001b[0mself\u001b[0m\u001b[0;34m.\u001b[0m\u001b[0mdecision_function\u001b[0m\u001b[0;34m(\u001b[0m\u001b[0mX\u001b[0m\u001b[0;34m)\u001b[0m\u001b[0;34m,\u001b[0m \u001b[0maxis\u001b[0m\u001b[0;34m=\u001b[0m\u001b[0;36m1\u001b[0m\u001b[0;34m)\u001b[0m\u001b[0;34m\u001b[0m\u001b[0;34m\u001b[0m\u001b[0m\n\u001b[1;32m    623\u001b[0m         \u001b[0;32melse\u001b[0m\u001b[0;34m:\u001b[0m\u001b[0;34m\u001b[0m\u001b[0;34m\u001b[0m\u001b[0m\n\u001b[0;32m--> 624\u001b[0;31m             \u001b[0my\u001b[0m \u001b[0;34m=\u001b[0m \u001b[0msuper\u001b[0m\u001b[0;34m(\u001b[0m\u001b[0;34m)\u001b[0m\u001b[0;34m.\u001b[0m\u001b[0mpredict\u001b[0m\u001b[0;34m(\u001b[0m\u001b[0mX\u001b[0m\u001b[0;34m)\u001b[0m\u001b[0;34m\u001b[0m\u001b[0;34m\u001b[0m\u001b[0m\n\u001b[0m\u001b[1;32m    625\u001b[0m         \u001b[0;32mreturn\u001b[0m \u001b[0mself\u001b[0m\u001b[0;34m.\u001b[0m\u001b[0mclasses_\u001b[0m\u001b[0;34m.\u001b[0m\u001b[0mtake\u001b[0m\u001b[0;34m(\u001b[0m\u001b[0mnp\u001b[0m\u001b[0;34m.\u001b[0m\u001b[0masarray\u001b[0m\u001b[0;34m(\u001b[0m\u001b[0my\u001b[0m\u001b[0;34m,\u001b[0m \u001b[0mdtype\u001b[0m\u001b[0;34m=\u001b[0m\u001b[0mnp\u001b[0m\u001b[0;34m.\u001b[0m\u001b[0mintp\u001b[0m\u001b[0;34m)\u001b[0m\u001b[0;34m)\u001b[0m\u001b[0;34m\u001b[0m\u001b[0;34m\u001b[0m\u001b[0m\n\u001b[1;32m    626\u001b[0m \u001b[0;34m\u001b[0m\u001b[0m\n",
      "\u001b[0;32m~/Desktop/projects/nepali_news_classifier_recommender/venv/lib/python3.9/site-packages/sklearn/svm/_base.py\u001b[0m in \u001b[0;36mpredict\u001b[0;34m(self, X)\u001b[0m\n\u001b[1;32m    342\u001b[0m         \u001b[0mX\u001b[0m \u001b[0;34m=\u001b[0m \u001b[0mself\u001b[0m\u001b[0;34m.\u001b[0m\u001b[0m_validate_for_predict\u001b[0m\u001b[0;34m(\u001b[0m\u001b[0mX\u001b[0m\u001b[0;34m)\u001b[0m\u001b[0;34m\u001b[0m\u001b[0;34m\u001b[0m\u001b[0m\n\u001b[1;32m    343\u001b[0m         \u001b[0mpredict\u001b[0m \u001b[0;34m=\u001b[0m \u001b[0mself\u001b[0m\u001b[0;34m.\u001b[0m\u001b[0m_sparse_predict\u001b[0m \u001b[0;32mif\u001b[0m \u001b[0mself\u001b[0m\u001b[0;34m.\u001b[0m\u001b[0m_sparse\u001b[0m \u001b[0;32melse\u001b[0m \u001b[0mself\u001b[0m\u001b[0;34m.\u001b[0m\u001b[0m_dense_predict\u001b[0m\u001b[0;34m\u001b[0m\u001b[0;34m\u001b[0m\u001b[0m\n\u001b[0;32m--> 344\u001b[0;31m         \u001b[0;32mreturn\u001b[0m \u001b[0mpredict\u001b[0m\u001b[0;34m(\u001b[0m\u001b[0mX\u001b[0m\u001b[0;34m)\u001b[0m\u001b[0;34m\u001b[0m\u001b[0;34m\u001b[0m\u001b[0m\n\u001b[0m\u001b[1;32m    345\u001b[0m \u001b[0;34m\u001b[0m\u001b[0m\n\u001b[1;32m    346\u001b[0m     \u001b[0;32mdef\u001b[0m \u001b[0m_dense_predict\u001b[0m\u001b[0;34m(\u001b[0m\u001b[0mself\u001b[0m\u001b[0;34m,\u001b[0m \u001b[0mX\u001b[0m\u001b[0;34m)\u001b[0m\u001b[0;34m:\u001b[0m\u001b[0;34m\u001b[0m\u001b[0;34m\u001b[0m\u001b[0m\n",
      "\u001b[0;32m~/Desktop/projects/nepali_news_classifier_recommender/venv/lib/python3.9/site-packages/sklearn/svm/_base.py\u001b[0m in \u001b[0;36m_sparse_predict\u001b[0;34m(self, X)\u001b[0m\n\u001b[1;32m    376\u001b[0m         \u001b[0mC\u001b[0m \u001b[0;34m=\u001b[0m \u001b[0;36m0.0\u001b[0m  \u001b[0;31m# C is not useful here\u001b[0m\u001b[0;34m\u001b[0m\u001b[0;34m\u001b[0m\u001b[0m\n\u001b[1;32m    377\u001b[0m \u001b[0;34m\u001b[0m\u001b[0m\n\u001b[0;32m--> 378\u001b[0;31m         return libsvm_sparse.libsvm_sparse_predict(\n\u001b[0m\u001b[1;32m    379\u001b[0m             \u001b[0mX\u001b[0m\u001b[0;34m.\u001b[0m\u001b[0mdata\u001b[0m\u001b[0;34m,\u001b[0m \u001b[0mX\u001b[0m\u001b[0;34m.\u001b[0m\u001b[0mindices\u001b[0m\u001b[0;34m,\u001b[0m \u001b[0mX\u001b[0m\u001b[0;34m.\u001b[0m\u001b[0mindptr\u001b[0m\u001b[0;34m,\u001b[0m\u001b[0;34m\u001b[0m\u001b[0;34m\u001b[0m\u001b[0m\n\u001b[1;32m    380\u001b[0m             \u001b[0mself\u001b[0m\u001b[0;34m.\u001b[0m\u001b[0msupport_vectors_\u001b[0m\u001b[0;34m.\u001b[0m\u001b[0mdata\u001b[0m\u001b[0;34m,\u001b[0m\u001b[0;34m\u001b[0m\u001b[0;34m\u001b[0m\u001b[0m\n",
      "\u001b[0;31mKeyboardInterrupt\u001b[0m: "
     ]
    }
   ],
   "source": [
    "print(\"Accuracy on train Set : \", svc_clf_no_feat_sel.score(X_train,y_train))\n",
    "print(\"Accuracy on test Set : \", svc_clf_no_feat_sel.score(X_test,y_test))"
   ]
  },
  {
   "cell_type": "code",
   "execution_count": null,
   "id": "a462812b",
   "metadata": {},
   "outputs": [],
   "source": []
  },
  {
   "cell_type": "code",
   "execution_count": 36,
   "id": "d30bb445",
   "metadata": {},
   "outputs": [
    {
     "data": {
      "text/plain": [
       "['svc_clf_pipeline.pkl']"
      ]
     },
     "execution_count": 36,
     "metadata": {},
     "output_type": "execute_result"
    }
   ],
   "source": [
    "import joblib\n",
    "\n",
    "joblib.dump(svc_clf, 'svc_clf_pipeline.pkl')\n"
   ]
  },
  {
   "cell_type": "code",
   "execution_count": null,
   "id": "07221d4a",
   "metadata": {},
   "outputs": [],
   "source": []
  },
  {
   "cell_type": "code",
   "execution_count": null,
   "id": "be12b03b",
   "metadata": {},
   "outputs": [],
   "source": []
  },
  {
   "cell_type": "markdown",
   "id": "7926a31d",
   "metadata": {},
   "source": [
    "### Random Forest Classifier"
   ]
  },
  {
   "cell_type": "code",
   "execution_count": null,
   "id": "81139fea",
   "metadata": {},
   "outputs": [],
   "source": [
    "from sklearn.ensemble import RandomForestClassifier"
   ]
  },
  {
   "cell_type": "code",
   "execution_count": null,
   "id": "bb6718d0",
   "metadata": {},
   "outputs": [],
   "source": [
    "rf_clf = Pipeline([\n",
    "    ('vectorizer',tfidfVectorizer),\n",
    "    ('chi2',SelectKBest(chi2,k=5000)),\n",
    "    ('clf',RandomForestClassifier(\n",
    "            n_estimators=2000, \n",
    "            max_depth=20, \n",
    "            min_samples_split=6, \n",
    "            min_samples_leaf=5, \n",
    "            bootstrap=True,\n",
    "            verbose=1,\n",
    "            n_jobs = -1\n",
    "        )\n",
    "    )\n",
    "])\n",
    "rf_clf_no_feat_sel = Pipeline([\n",
    "    ('vectorizer',tfidfVectorizer),\n",
    "    ('clf',RandomForestClassifier(\n",
    "            n_estimators=2000, \n",
    "            max_depth=20, \n",
    "            min_samples_split=6, \n",
    "            min_samples_leaf=5, \n",
    "            bootstrap=True,\n",
    "            verbose=1,\n",
    "            n_jobs = -1\n",
    "        )\n",
    "    )\n",
    "])"
   ]
  },
  {
   "cell_type": "code",
   "execution_count": null,
   "id": "e220f744",
   "metadata": {},
   "outputs": [],
   "source": [
    "rf_clf.fit(X_train,y_train)\n",
    "rf_clf_no_feat_sel.fit(X_train,y_train)"
   ]
  },
  {
   "cell_type": "code",
   "execution_count": null,
   "id": "f01952c5",
   "metadata": {},
   "outputs": [],
   "source": [
    "print(\"Accuracy on train Set : \", rf_clf.score(X_train,y_train))\n",
    "print(\"Accuracy on test Set : \", rf_clf.score(X_test,y_test))"
   ]
  },
  {
   "cell_type": "code",
   "execution_count": null,
   "id": "784a0138",
   "metadata": {},
   "outputs": [],
   "source": [
    "print(\"Accuracy on train Set : \", rf_clf_no_feat_sel.score(X_train,y_train))\n",
    "print(\"Accuracy on test Set : \", rf_clf_no_feat_sel.score(X_test,y_test))"
   ]
  },
  {
   "cell_type": "markdown",
   "id": "f2459c22",
   "metadata": {},
   "source": [
    "### Naive Bayes"
   ]
  },
  {
   "cell_type": "code",
   "execution_count": null,
   "id": "2c2dbdeb",
   "metadata": {},
   "outputs": [],
   "source": [
    "from sklearn.naive_bayes import MultinomialNB,BernoulliNB"
   ]
  },
  {
   "cell_type": "code",
   "execution_count": null,
   "id": "3db5fcd0",
   "metadata": {},
   "outputs": [],
   "source": [
    "bnb_clf = Pipeline([\n",
    "    ('vect', tfidfVectorizer),\n",
    "    ('clf', BernoulliNB(alpha=0.01))\n",
    "])\n",
    "\n",
    "mnb_clf = Pipeline([\n",
    "    ('vect', tfidfVectorizer),\n",
    "    ('clf', MultinomialNB(alpha=0.01, fit_prior=True))\n",
    "])"
   ]
  },
  {
   "cell_type": "code",
   "execution_count": null,
   "id": "76838959",
   "metadata": {},
   "outputs": [],
   "source": [
    "bnb_clf.fit(X_train,y_train)"
   ]
  },
  {
   "cell_type": "code",
   "execution_count": null,
   "id": "4875f95d",
   "metadata": {},
   "outputs": [],
   "source": [
    "print(\"Accuracy on train Set : \", bnb_clf.score(X_train,y_train))\n",
    "print(\"Accuracy on test Set : \", bnb_clf.score(X_test,y_test))"
   ]
  },
  {
   "cell_type": "code",
   "execution_count": null,
   "id": "e5f40750",
   "metadata": {},
   "outputs": [],
   "source": [
    "mnb_clf.fit(X_train,y_train)"
   ]
  },
  {
   "cell_type": "code",
   "execution_count": null,
   "id": "b944510c",
   "metadata": {},
   "outputs": [],
   "source": [
    "print(\"Accuracy on train Set : \", mnb_clf.score(X_train,y_train))\n",
    "print(\"Accuracy on test Set : \", mnb_clf.score(X_test,y_test))"
   ]
  },
  {
   "cell_type": "markdown",
   "id": "666c5084",
   "metadata": {},
   "source": [
    "## Classification Report\n"
   ]
  },
  {
   "cell_type": "code",
   "execution_count": null,
   "id": "59e88d9c",
   "metadata": {},
   "outputs": [],
   "source": [
    "from sklearn.metrics import classification_report"
   ]
  },
  {
   "cell_type": "markdown",
   "id": "53743b0b",
   "metadata": {},
   "source": [
    "#### SVM"
   ]
  },
  {
   "cell_type": "code",
   "execution_count": null,
   "id": "ee007ead",
   "metadata": {},
   "outputs": [],
   "source": []
  },
  {
   "cell_type": "code",
   "execution_count": null,
   "id": "cf3ff1da",
   "metadata": {},
   "outputs": [],
   "source": [
    "y_pred = svc_clf.predict(X_test)\n",
    "print(classification_report(y_test,y_pred))"
   ]
  },
  {
   "cell_type": "code",
   "execution_count": null,
   "id": "4bbe5cbf",
   "metadata": {},
   "outputs": [],
   "source": [
    "y_pred = svc_clf_no_feat_sel.predict(X_test)\n",
    "print(classification_report(y_test,y_pred))"
   ]
  },
  {
   "cell_type": "markdown",
   "id": "d843856f",
   "metadata": {},
   "source": [
    "### Naive Bayes"
   ]
  },
  {
   "cell_type": "code",
   "execution_count": null,
   "id": "f84455d3",
   "metadata": {},
   "outputs": [],
   "source": [
    "y_pred = bnb_clf.predict(X_test)\n",
    "print(classification_report(y_test,y_pred))"
   ]
  },
  {
   "cell_type": "code",
   "execution_count": null,
   "id": "e332a5a4",
   "metadata": {},
   "outputs": [],
   "source": [
    "y_pred = mnb_clf.predict(X_test)\n",
    "print(classification_report(y_test,y_pred))"
   ]
  },
  {
   "cell_type": "markdown",
   "id": "888d7e01",
   "metadata": {},
   "source": [
    "### Random Forest"
   ]
  },
  {
   "cell_type": "code",
   "execution_count": null,
   "id": "541baddb",
   "metadata": {},
   "outputs": [],
   "source": [
    "y_pred = rf_clf.predict(X_test)\n",
    "print(classification_report(y_test,y_pred))"
   ]
  },
  {
   "cell_type": "code",
   "execution_count": null,
   "id": "6e4e775d",
   "metadata": {},
   "outputs": [],
   "source": [
    "y_pred = rf_clf_no_feat_sel.predict(X_test)\n",
    "print(classification_report(y_test,y_pred))"
   ]
  },
  {
   "cell_type": "code",
   "execution_count": null,
   "id": "cba5abd9",
   "metadata": {},
   "outputs": [],
   "source": [
    "from sklearn.metrics import confusion_matrix, plot_confusion_matrix"
   ]
  },
  {
   "cell_type": "code",
   "execution_count": null,
   "id": "d1912131",
   "metadata": {
    "scrolled": false
   },
   "outputs": [],
   "source": [
    "plot_confusion_matrix(rf_clf_no_feat_sel,y_test,y_pred)"
   ]
  },
  {
   "cell_type": "code",
   "execution_count": null,
   "id": "18b20d7a",
   "metadata": {},
   "outputs": [],
   "source": [
    "best_classifier = svc_clf"
   ]
  },
  {
   "cell_type": "code",
   "execution_count": null,
   "id": "79b9c173",
   "metadata": {},
   "outputs": [],
   "source": [
    "best_classifier.named_steps['clf']"
   ]
  },
  {
   "cell_type": "code",
   "execution_count": null,
   "id": "de36ffd5",
   "metadata": {},
   "outputs": [],
   "source": [
    "import pickle\n",
    "with open('svc_clf_test_set_72_acc.pkl','wb') as f:\n",
    "    pickle.dump(best_classifier.named_steps['clf'], f) \n"
   ]
  },
  {
   "cell_type": "code",
   "execution_count": null,
   "id": "73ed458f",
   "metadata": {},
   "outputs": [],
   "source": [
    "with open('svc_clf_test_set_72_acc.pkl','rb') as f:\n",
    "    model = pickle.load(f)"
   ]
  },
  {
   "cell_type": "code",
   "execution_count": null,
   "id": "a8e424d5",
   "metadata": {},
   "outputs": [],
   "source": [
    "model"
   ]
  },
  {
   "cell_type": "code",
   "execution_count": 30,
   "id": "9c84c950",
   "metadata": {},
   "outputs": [],
   "source": [
    "import pickle\n",
    "with open('tfid_vectorizer.pkl','wb') as f:\n",
    "    pickle.dump(tfidfVectorizer, f) "
   ]
  },
  {
   "cell_type": "markdown",
   "id": "f80aaa7f",
   "metadata": {},
   "source": [
    "### Classification Task"
   ]
  },
  {
   "cell_type": "code",
   "execution_count": null,
   "id": "2bc55d24",
   "metadata": {},
   "outputs": [],
   "source": [
    "text = '''\n",
    "९ असार, काठमाडौं । युरोकप २०२० अन्तर्गत आज समूह चरणका अन्तिम चार खेल हुँदैछ । आजको खेलहरु पनि समूह चरणका खेल सकिनेछ र अन्तिम १६ को समीकरण तय हुनेछ ।\n",
    "अहिले चार समूहको विजेता र समूह विजेता अनि दुई उत्कृष्ट उपविजेताले अन्तिम १६ मा स्थान बनाएका छन् ।\n",
    "यस्तै समूह इ र एफबाट पनि अन्तिम १६ मा पुग्ने एक एक टिमको टुङ्गो लागेको छ ।\n",
    "आजको खेलपछि दुवै समूहको विजेता र उपविजेता अनि तेस्रो हुने मध्ये उत्कृष्ट चार टोलीको टुङ्गो लाग्नेछ ।\n",
    "आज समूह इ अन्तर्गत स्लोभाकिया र स्पेन तथा पोल्याण्ड र स्वीडेनबीचको खेल राति ९:४५ बजे सुरु हुनेछ ।\n",
    "स्पेनले घरेलु मैदान सेभियामा स्लोभाकियासँग खेल्नेछ । यसअघिका दुई खेल बराबरी खेलेको स्पेनलाई शीर्ष दुईमा रहन जितको आवश्यकता छ । स्लोभाकिया भने बराबरीले पनि नकआउट चरणमा पुग्न सक्नेछ ।\n",
    "उता स्वीडेन र पोल्याण्ड रुसको सेन्ट पिटर्सवर्गमा भिड्नेछन् । २ खेलबाट ४ अंक जोडेको स्वीडेनले नकआउटमा स्थानमा पक्का गरिसकेको छ । पोल्याण्डमा पराजित गरेमा स्वीडेन समूह विजेता बन्नेछ।\n",
    "यसैगरी राति १२:४५ बजे समूह एफको दुई महत्वपूर्ण खेल हुनेछ ।\n",
    "ग्रुप अफ डेथको रुपमा रहेको यस समूहमा विश्वकप विजेतार य रोपेली विजेतासहित तीन पूर्व विजेता छन् ।\n",
    "आज राति विश्व विजेता फ्रान्स र युरोपेली विजेता पोर्चुगलबीच बहुप्रतिक्षित भिडन्त हुनेछ । गत संस्करणमा फाइनल खेलेका यी दुई टोली यस पटक समूह चरणमै भिड्दैछन् ।\n",
    "यस्तै जर्मनीले घरेलु मैदानमा हंगेरीसँग खेल्नेछ ।\n",
    "फ्रान्स ४ अंकसहित शीर्ष स्थानमा छ र जस्तो नतिजा आए पनि नकआउटमा प्रवेश गर्नेछ । जर्मनी र पोर्चुगलको समान ३ र हंगेरीको १ अंक छ ।\n",
    "पोर्चुगललाई पराजित गरेमा फ्रान्स समूह विजेता बन्नेछ । यस्तै पोर्चुगललाई पनि फ्रान्सलाई हराउँदै समूह विजेता बन्ने अवसर छ तर त्यसका लागि जर्मनी र हंगेरीबीचको खेलको नतिजा कुर्नुपर्नेछ ।\n",
    "यदि फ्रान्स र हंगेरी विजयी भएमा भने पोर्चुगल अन्तिम स्थानमा हुनेछ । जर्मनीले हंगेरीलाई पराजित गरेमा र फ्रान्ससँग एक गोल अन्तरले हारेमा पनि पोर्चुगल उत्कृष्ट तेस्रो टिममध्ये एक हुँदै नकआउट चरणमा प्रवेश गर्नेछ।\n",
    "'''\n",
    "label = 'sports'"
   ]
  },
  {
   "cell_type": "code",
   "execution_count": null,
   "id": "1b72f340",
   "metadata": {},
   "outputs": [],
   "source": [
    "svc_clf.predict([text])"
   ]
  },
  {
   "cell_type": "code",
   "execution_count": null,
   "id": "79b9d88a",
   "metadata": {},
   "outputs": [],
   "source": [
    "mnb_clf.predict([text])"
   ]
  },
  {
   "cell_type": "code",
   "execution_count": null,
   "id": "928a8438",
   "metadata": {},
   "outputs": [],
   "source": [
    "bnb_clf.predict([text])"
   ]
  },
  {
   "cell_type": "code",
   "execution_count": null,
   "id": "99878bf5",
   "metadata": {},
   "outputs": [],
   "source": [
    "rf_clf.predict([text])"
   ]
  },
  {
   "cell_type": "code",
   "execution_count": null,
   "id": "7fad0bd1",
   "metadata": {},
   "outputs": [],
   "source": []
  },
  {
   "cell_type": "code",
   "execution_count": 37,
   "id": "c5768e21",
   "metadata": {},
   "outputs": [],
   "source": [
    "text = '''\n",
    "९ असार, काठमाडौं । नेपाल स्टक एक्सचेञ्ज (नेप्से) को दुई वटा वेवसाइटहरु सञ्चालनमा छन् । दुबै वेवसाइट (नयाँ र पुरानो) मा सेयर बजार प्रत्यक्ष हेर्न सकिन्छ । दुई वेवसाइटमा देखिने तथ्यांक एउटै हुन् ।\n",
    "तर बुधबारको कारोबारमा भने फरक देखियो । नेप्सेकेा पुरानो वेवसाइटमा सेयर कारोबार मापक नेप्से परिसूचक ५१.६५ अंकले बजार घट्यो । बधबार बजार २ हजार ८ सय ६२ दशमलव १८ विन्दुमा पुगेर बन्द भएको देखिन्छ । उता नयाँ वेवसाइटमा भने ५३.८८ अंकले घटेर २ हजार ८ सय ५९ दशमलव ९६ अंकमा झरेको छ \n",
    "यी दुई वेवसाइटमा कसरी फरक तथ्यांक देखियो त ? नेप्सको प्रवक्ता मुराहरी पराजुली भन्छन्, ‘यो प्राविधिक समस्या हो, सिस्टममा रिफ्रेस नभएर त्यस्तो देखिएको हुनसक्छ ।’ कारोबार बन्द हुने वित्तिकै र केहि मिनेटपछि भने तथ्यांक तलमाथि हुन्छ । अपडेट हुनलाई केही समय लाग्ने भएकाले यस्तो हुने गरेको उनले बताए ।\n",
    "तर बुधबार कारोबार बन्द भएको ४० मिनेटसम्म पनि यस्तो देखिनु प्राविधिक समस्या भएको र पुरानो वेवसाइटलाई विस्वास गर्नु पर्ने उनले बताए ।\n",
    "‘खासमा आधिकारिक भनेको नयाँ होइन पुरानै हो, यसरी तथ्यांक फरक परेको अवस्थामा पुरानोलाई आधार मान्नुपर्छ’ प्रवक्ता पराजुलीले भने । बुधबार आज सबै समूहका परिसूचक नकारात्मक रहे । यसमा पनि सबैभन्दा बढी गुमाउनेमा विकास बैंक समुहका लगानीकर्ता परे । जलविद्युत, जीवन बिमा र होटेल समुहमा समेत पहिरो गयो । सेन्सेटिभ इन्डेक्समा ७.३७ अंकको करेक्सन देखियो ।\n",
    "बुधबार कुल २१८ कम्पनीको ९१ हजार ७५ वटा कारोबार भएको छ । कुल १ करोड ९४ लाख १७ हजार ५ सय ३२ कित्ता सेयर किनबेच भएको दिन बुधबार कारोबार रकम भने साढे ८ अर्बमा खुम्चिएको छ ।\n",
    "बजार लगातार घटेको समयमा पनि कारोबार रकम १० अर्ब भन्दामाथि हुने गरेको थियो । आज ८ अर्ब ३६ करोड २६ लाख ७१ हजार ६ सय ८१ रुपैयाँ बराबरको कारोबार भएको छ ।\n",
    "'''\n",
    "label = 'Economy'"
   ]
  },
  {
   "cell_type": "code",
   "execution_count": null,
   "id": "b1fd0047",
   "metadata": {},
   "outputs": [],
   "source": []
  },
  {
   "cell_type": "code",
   "execution_count": 39,
   "id": "ed2ff41b",
   "metadata": {},
   "outputs": [
    {
     "data": {
      "text/plain": [
       "'Economy'"
      ]
     },
     "execution_count": 39,
     "metadata": {},
     "output_type": "execute_result"
    }
   ],
   "source": [
    "svc_clf.predict([text])[0]"
   ]
  },
  {
   "cell_type": "code",
   "execution_count": null,
   "id": "fc7c458b",
   "metadata": {},
   "outputs": [],
   "source": []
  },
  {
   "cell_type": "code",
   "execution_count": null,
   "id": "f61b85b1",
   "metadata": {},
   "outputs": [],
   "source": [
    "mnb_clf.predict([text])"
   ]
  },
  {
   "cell_type": "code",
   "execution_count": null,
   "id": "8f5ec530",
   "metadata": {},
   "outputs": [],
   "source": [
    "bnb_clf.predict([text])"
   ]
  },
  {
   "cell_type": "code",
   "execution_count": null,
   "id": "4cadc3fb",
   "metadata": {},
   "outputs": [],
   "source": [
    "rf_clf.predict([text])"
   ]
  },
  {
   "cell_type": "code",
   "execution_count": null,
   "id": "b3706bd6",
   "metadata": {},
   "outputs": [],
   "source": []
  },
  {
   "cell_type": "code",
   "execution_count": null,
   "id": "6f62f7da",
   "metadata": {},
   "outputs": [],
   "source": []
  }
 ],
 "metadata": {
  "kernelspec": {
   "display_name": "Python 3",
   "language": "python",
   "name": "python3"
  },
  "language_info": {
   "codemirror_mode": {
    "name": "ipython",
    "version": 3
   },
   "file_extension": ".py",
   "mimetype": "text/x-python",
   "name": "python",
   "nbconvert_exporter": "python",
   "pygments_lexer": "ipython3",
   "version": "3.9.5"
  }
 },
 "nbformat": 4,
 "nbformat_minor": 5
}
