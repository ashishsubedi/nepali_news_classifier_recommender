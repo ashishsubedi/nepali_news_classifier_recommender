{
 "cells": [
  {
   "cell_type": "markdown",
   "metadata": {},
   "source": [
    "# Content Based Recommendation"
   ]
  },
  {
   "cell_type": "code",
   "execution_count": 5,
   "metadata": {},
   "outputs": [],
   "source": [
    "import os\n",
    "import pandas as pd\n",
    "import numpy as np"
   ]
  },
  {
   "cell_type": "code",
   "execution_count": 6,
   "metadata": {},
   "outputs": [],
   "source": [
    "from sklearn.feature_extraction.text import TfidfVectorizer\n",
    "from sklearn.metrics.pairwise import linear_kernel\n",
    "from nltk.corpus import stopwords\n"
   ]
  },
  {
   "cell_type": "markdown",
   "metadata": {},
   "source": [
    "## Data Preprocessing"
   ]
  },
  {
   "cell_type": "code",
   "execution_count": 7,
   "metadata": {
    "scrolled": true
   },
   "outputs": [
    {
     "data": {
      "text/html": [
       "<div>\n",
       "<style scoped>\n",
       "    .dataframe tbody tr th:only-of-type {\n",
       "        vertical-align: middle;\n",
       "    }\n",
       "\n",
       "    .dataframe tbody tr th {\n",
       "        vertical-align: top;\n",
       "    }\n",
       "\n",
       "    .dataframe thead th {\n",
       "        text-align: right;\n",
       "    }\n",
       "</style>\n",
       "<table border=\"1\" class=\"dataframe\">\n",
       "  <thead>\n",
       "    <tr style=\"text-align: right;\">\n",
       "      <th></th>\n",
       "      <th>class</th>\n",
       "      <th>text</th>\n",
       "    </tr>\n",
       "    <tr>\n",
       "      <th>id</th>\n",
       "      <th></th>\n",
       "      <th></th>\n",
       "    </tr>\n",
       "  </thead>\n",
       "  <tbody>\n",
       "    <tr>\n",
       "      <th>0</th>\n",
       "      <td>Interview</td>\n",
       "      <td>﻿विडम्बना, ओलीको सत्ता सवारी पनि सिंहदरबारमा फ...</td>\n",
       "    </tr>\n",
       "    <tr>\n",
       "      <th>1</th>\n",
       "      <td>Interview</td>\n",
       "      <td>﻿नेपाली कांग्रेसको सभापतिमा रामचन्द्र पौडेलको ...</td>\n",
       "    </tr>\n",
       "    <tr>\n",
       "      <th>2</th>\n",
       "      <td>Interview</td>\n",
       "      <td>﻿\\nदुर्भाग्य नै भन्नुपर्छ हाम्रो प्राथमिकता पे...</td>\n",
       "    </tr>\n",
       "    <tr>\n",
       "      <th>3</th>\n",
       "      <td>Interview</td>\n",
       "      <td>﻿नयनराज पाण्डे, लेखक\\nविमोचन हुनै लागेको तपाईं...</td>\n",
       "    </tr>\n",
       "    <tr>\n",
       "      <th>4</th>\n",
       "      <td>Interview</td>\n",
       "      <td>﻿- भवन भट्ट, उपाध्यक्ष, गैर आवासीय नेपाली संघ\\...</td>\n",
       "    </tr>\n",
       "  </tbody>\n",
       "</table>\n",
       "</div>"
      ],
      "text/plain": [
       "        class                                               text\n",
       "id                                                              \n",
       "0   Interview  ﻿विडम्बना, ओलीको सत्ता सवारी पनि सिंहदरबारमा फ...\n",
       "1   Interview  ﻿नेपाली कांग्रेसको सभापतिमा रामचन्द्र पौडेलको ...\n",
       "2   Interview  ﻿\\nदुर्भाग्य नै भन्नुपर्छ हाम्रो प्राथमिकता पे...\n",
       "3   Interview  ﻿नयनराज पाण्डे, लेखक\\nविमोचन हुनै लागेको तपाईं...\n",
       "4   Interview  ﻿- भवन भट्ट, उपाध्यक्ष, गैर आवासीय नेपाली संघ\\..."
      ]
     },
     "execution_count": 7,
     "metadata": {},
     "output_type": "execute_result"
    }
   ],
   "source": [
    "DATA_DIR = os.path.abspath('./datasets/output/data_2.csv')\n",
    "df = pd.read_csv(DATA_DIR,index_col=0)\n",
    "df.head()\n"
   ]
  },
  {
   "cell_type": "code",
   "execution_count": null,
   "metadata": {},
   "outputs": [],
   "source": []
  },
  {
   "cell_type": "code",
   "execution_count": 8,
   "metadata": {},
   "outputs": [
    {
     "data": {
      "text/plain": [
       "(5475, 2)"
      ]
     },
     "execution_count": 8,
     "metadata": {},
     "output_type": "execute_result"
    }
   ],
   "source": [
    "df.shape"
   ]
  },
  {
   "cell_type": "code",
   "execution_count": 9,
   "metadata": {},
   "outputs": [
    {
     "data": {
      "text/html": [
       "<div>\n",
       "<style scoped>\n",
       "    .dataframe tbody tr th:only-of-type {\n",
       "        vertical-align: middle;\n",
       "    }\n",
       "\n",
       "    .dataframe tbody tr th {\n",
       "        vertical-align: top;\n",
       "    }\n",
       "\n",
       "    .dataframe thead th {\n",
       "        text-align: right;\n",
       "    }\n",
       "</style>\n",
       "<table border=\"1\" class=\"dataframe\">\n",
       "  <thead>\n",
       "    <tr style=\"text-align: right;\">\n",
       "      <th></th>\n",
       "      <th>class</th>\n",
       "      <th>text</th>\n",
       "      <th>id</th>\n",
       "    </tr>\n",
       "    <tr>\n",
       "      <th>id</th>\n",
       "      <th></th>\n",
       "      <th></th>\n",
       "      <th></th>\n",
       "    </tr>\n",
       "  </thead>\n",
       "  <tbody>\n",
       "    <tr>\n",
       "      <th>0</th>\n",
       "      <td>Interview</td>\n",
       "      <td>﻿विडम्बना, ओलीको सत्ता सवारी पनि सिंहदरबारमा फ...</td>\n",
       "      <td>0</td>\n",
       "    </tr>\n",
       "    <tr>\n",
       "      <th>1</th>\n",
       "      <td>Interview</td>\n",
       "      <td>﻿नेपाली कांग्रेसको सभापतिमा रामचन्द्र पौडेलको ...</td>\n",
       "      <td>1</td>\n",
       "    </tr>\n",
       "    <tr>\n",
       "      <th>2</th>\n",
       "      <td>Interview</td>\n",
       "      <td>﻿\\nदुर्भाग्य नै भन्नुपर्छ हाम्रो प्राथमिकता पे...</td>\n",
       "      <td>2</td>\n",
       "    </tr>\n",
       "    <tr>\n",
       "      <th>3</th>\n",
       "      <td>Interview</td>\n",
       "      <td>﻿नयनराज पाण्डे, लेखक\\nविमोचन हुनै लागेको तपाईं...</td>\n",
       "      <td>3</td>\n",
       "    </tr>\n",
       "    <tr>\n",
       "      <th>4</th>\n",
       "      <td>Interview</td>\n",
       "      <td>﻿- भवन भट्ट, उपाध्यक्ष, गैर आवासीय नेपाली संघ\\...</td>\n",
       "      <td>4</td>\n",
       "    </tr>\n",
       "    <tr>\n",
       "      <th>...</th>\n",
       "      <td>...</td>\n",
       "      <td>...</td>\n",
       "      <td>...</td>\n",
       "    </tr>\n",
       "    <tr>\n",
       "      <th>5470</th>\n",
       "      <td>Entertainment</td>\n",
       "      <td>﻿उनले ‘टिमवर्क’ र ‘लिडरसिप’ फिल्ममेकिङको महत्व...</td>\n",
       "      <td>5470</td>\n",
       "    </tr>\n",
       "    <tr>\n",
       "      <th>5471</th>\n",
       "      <td>Entertainment</td>\n",
       "      <td>रुपा बनिन् हेरिटेज क्वीन नेपाल\\n\\n\\nराजधानीको ...</td>\n",
       "      <td>5471</td>\n",
       "    </tr>\n",
       "    <tr>\n",
       "      <th>5472</th>\n",
       "      <td>Entertainment</td>\n",
       "      <td>﻿प्रकाश र किरणको अर्थ एउटै भए पनि कालो पोथी का...</td>\n",
       "      <td>5472</td>\n",
       "    </tr>\n",
       "    <tr>\n",
       "      <th>5473</th>\n",
       "      <td>Entertainment</td>\n",
       "      <td>दानापुर तालमा पर्यटक लोभिँदै\\n\\nअहिले पर्यटक ल...</td>\n",
       "      <td>5473</td>\n",
       "    </tr>\n",
       "    <tr>\n",
       "      <th>5474</th>\n",
       "      <td>Entertainment</td>\n",
       "      <td>﻿काठमाडौं । नेपाली कथानक चलचित्र ‘वडा नम्बर–६’...</td>\n",
       "      <td>5474</td>\n",
       "    </tr>\n",
       "  </tbody>\n",
       "</table>\n",
       "<p>5475 rows × 3 columns</p>\n",
       "</div>"
      ],
      "text/plain": [
       "              class                                               text    id\n",
       "id                                                                          \n",
       "0         Interview  ﻿विडम्बना, ओलीको सत्ता सवारी पनि सिंहदरबारमा फ...     0\n",
       "1         Interview  ﻿नेपाली कांग्रेसको सभापतिमा रामचन्द्र पौडेलको ...     1\n",
       "2         Interview  ﻿\\nदुर्भाग्य नै भन्नुपर्छ हाम्रो प्राथमिकता पे...     2\n",
       "3         Interview  ﻿नयनराज पाण्डे, लेखक\\nविमोचन हुनै लागेको तपाईं...     3\n",
       "4         Interview  ﻿- भवन भट्ट, उपाध्यक्ष, गैर आवासीय नेपाली संघ\\...     4\n",
       "...             ...                                                ...   ...\n",
       "5470  Entertainment  ﻿उनले ‘टिमवर्क’ र ‘लिडरसिप’ फिल्ममेकिङको महत्व...  5470\n",
       "5471  Entertainment  रुपा बनिन् हेरिटेज क्वीन नेपाल\\n\\n\\nराजधानीको ...  5471\n",
       "5472  Entertainment  ﻿प्रकाश र किरणको अर्थ एउटै भए पनि कालो पोथी का...  5472\n",
       "5473  Entertainment  दानापुर तालमा पर्यटक लोभिँदै\\n\\nअहिले पर्यटक ल...  5473\n",
       "5474  Entertainment  ﻿काठमाडौं । नेपाली कथानक चलचित्र ‘वडा नम्बर–६’...  5474\n",
       "\n",
       "[5475 rows x 3 columns]"
      ]
     },
     "execution_count": 9,
     "metadata": {},
     "output_type": "execute_result"
    }
   ],
   "source": [
    "df.dropna(inplace=True) # drop rows with invalid values\n",
    "\n",
    "df['id'] = df.index\n",
    "df"
   ]
  },
  {
   "cell_type": "code",
   "execution_count": 10,
   "metadata": {},
   "outputs": [
    {
     "data": {
      "text/plain": [
       "(5475, 3)"
      ]
     },
     "execution_count": 10,
     "metadata": {},
     "output_type": "execute_result"
    }
   ],
   "source": [
    "df.shape"
   ]
  },
  {
   "cell_type": "markdown",
   "metadata": {},
   "source": [
    "## Processing data"
   ]
  },
  {
   "cell_type": "code",
   "execution_count": 11,
   "metadata": {},
   "outputs": [
    {
     "name": "stderr",
     "output_type": "stream",
     "text": [
      "/home/ash/.local/lib/python3.9/site-packages/sklearn/feature_extraction/text.py:388: UserWarning: Your stop_words may be inconsistent with your preprocessing. Tokenizing the stop words generated tokens ['कम', 'से'] not in stop_words.\n",
      "  warnings.warn('Your stop_words may be inconsistent with '\n"
     ]
    }
   ],
   "source": [
    "nepali_stop_words = set(stopwords.words('nepali'))\n",
    "\n",
    "# tf = TfidfVectorizer(stop_words=nepali_stop_words,encoding='utf-8',decode_error='ignore')\n",
    "tf = TfidfVectorizer(tokenizer= lambda x: x.split(\" \"),\n",
    "                                  sublinear_tf=True, encoding='utf-8',\n",
    "                                  decode_error='replace',\n",
    "                                  max_df=0.5,\n",
    "                                  min_df=10,\n",
    "                                  stop_words=nepali_stop_words)\n",
    "\n",
    "tfidf_matrix = tf.fit_transform(df['text'])\n",
    "\n",
    "cosine_similarities = linear_kernel(tfidf_matrix, tfidf_matrix)\n",
    "\n",
    "results = {}"
   ]
  },
  {
   "cell_type": "code",
   "execution_count": 12,
   "metadata": {},
   "outputs": [
    {
     "data": {
      "text/plain": [
       "(5475, 5475)"
      ]
     },
     "execution_count": 12,
     "metadata": {},
     "output_type": "execute_result"
    }
   ],
   "source": [
    "cosine_similarities.shape"
   ]
  },
  {
   "cell_type": "code",
   "execution_count": 13,
   "metadata": {},
   "outputs": [
    {
     "name": "stdout",
     "output_type": "stream",
     "text": [
      "Completed!\n"
     ]
    }
   ],
   "source": [
    "for idx, row in df.iterrows():\n",
    "    try:\n",
    "\n",
    "        idx = int(idx)\n",
    "        similar_indices = cosine_similarities[idx].argsort()[:-100:-1]\n",
    "        similar_items = [(float(cosine_similarities[idx][i]), int(df['id'][i]), str(df['class'][i])) for i in similar_indices]\n",
    "        results[row['id']] = similar_items[1:]\n",
    "    except Exception as e: \n",
    "        print(\"ERROR\",idx, e)\n",
    "    \n",
    "print('Completed!')\n",
    "similar_indices = cosine_similarities[idx].argsort()[:-100:-1]"
   ]
  },
  {
   "cell_type": "code",
   "execution_count": 15,
   "metadata": {},
   "outputs": [
    {
     "data": {
      "text/plain": [
       "(99,)"
      ]
     },
     "execution_count": 15,
     "metadata": {},
     "output_type": "execute_result"
    }
   ],
   "source": [
    "similar_indices.shape"
   ]
  },
  {
   "cell_type": "raw",
   "metadata": {},
   "source": []
  },
  {
   "cell_type": "markdown",
   "metadata": {},
   "source": [
    "## Displaying Results"
   ]
  },
  {
   "cell_type": "code",
   "execution_count": 16,
   "metadata": {},
   "outputs": [
    {
     "name": "stdout",
     "output_type": "stream",
     "text": [
      "\n",
      "\n",
      "**Recommendation System**\n",
      "The given news '﻿राज्यकोषमा सरकारको स्वेच्छाचारिता रोक्न व्यवस्थापिका संसद्को सार्वजनिक लेखा समिति क्रियाशील भए पनि ...' is of Category: Interview\n",
      "\n",
      "The 10 most similar news in ascending order is given below: \n",
      "\n",
      "\n",
      "1) Category: Interview\n",
      "\n",
      "News: '﻿\n",
      "व्यवस्थापिका संसद्को अर्थ समितिका सभापति हुन्, सांसद प्रकाश ज्वाला । नेपाल स्रोत भएर पनि परिचालन गर्न नसक्दा विकासमा पछि परेको उनको बुझाइ छ । अहिले चर्चामा रहेको ‘फास्ट ट्रयाक’ भारतीय कम्पनीलाई दिन ...' (score:0.20815232111931387)\n",
      "\n",
      "\n",
      "2) Category: Business\n",
      "\n",
      "News: '﻿\n",
      "व्यवस्थापिका संसद्को अर्थ समितिका सभापति हुन्, सांसद प्रकाश ज्वाला । नेपाल स्रोत भएर पनि परिचालन गर्न नसक्दा विकासमा पछि परेको उनको बुझाइ छ । अहिले चर्चामा रहेको ‘फास्ट ट्रयाक’ भारतीय कम्पनीलाई दिन ...' (score:0.20815232111931387)\n",
      "\n",
      "\n",
      "3) Category: Business\n",
      "\n",
      "News: '﻿\n",
      "अर्थ मन्त्रालयको नेतृत्व सम्हालिसकेका पाका राजनीतिज्ञ हुन्, राष्ट्रिय प्रजातन्त्र पार्टीका वरिष्ठ नेता डा. प्रकाशचन्द्र लोहनी । अर्थतन्त्रका राम्रा जानकार मानिने लोहनी सरकारमा नभए पनि उनको पार्टी रा...' (score:0.1882963884399938)\n",
      "\n",
      "\n",
      "4) Category: Interview\n",
      "\n",
      "News: '﻿\n",
      "अर्थ मन्त्रालयको नेतृत्व सम्हालिसकेका पाका राजनीतिज्ञ हुन्, राष्ट्रिय प्रजातन्त्र पार्टीका वरिष्ठ नेता डा. प्रकाशचन्द्र लोहनी । अर्थतन्त्रका राम्रा जानकार मानिने लोहनी सरकारमा नभए पनि उनको पार्टी रा...' (score:0.1882963884399938)\n",
      "\n",
      "\n",
      "5) Category: Interview\n",
      "\n",
      "News: '﻿सरकारले बेपत्ता पारिएका व्यक्तिको छानबीन, सत्य निरुपण तथा मेलमिलाप आयोगको सम्बन्धमा व्यवस्था गर्न बनेको ऐन संशोधन गर्दैछ । द्वन्द्वपीडितले लामो समयदेखि संशोधन गर्न माग गरे पनि प्रधानमन्त्री केपी शर्म...' (score:0.1822560089310016)\n",
      "\n",
      "\n",
      "6) Category: Interview\n",
      "\n",
      "News: '﻿“राजनीतिमा अल्पदृष्टि र स्वार्थप्रेरित चञ्चलता काम लाग्दैन । कांग्रेसले आफू देशको शक्ति भएको दाबी गर्न अवश्य पाउँछ, तर व्यवहारमा पनि त्यस्तो देखिनु पर्‍यो नि !”\n",
      "जारी संघीय संविधान अनुरुप नै नेकपा एमा...' (score:0.1746415126306877)\n",
      "\n",
      "\n",
      "7) Category: Interview\n",
      "\n",
      "News: '﻿पहिलो संविधानसभामा संवैधानिक समितिका सभापति रहेका नीलाम्बर आचार्य संविधानवाद, लोकतन्त्र र यसका मूल्यमान्यतामा दक्खल राख्छन्। २०४७ सालको अन्तरिम सरकारमा कानूनमन्त्री रहेका आचार्यले श्रीलंकामा नेपाली र...' (score:0.17224516054455333)\n",
      "\n",
      "\n",
      "8) Category: Interview\n",
      "\n",
      "News: '﻿६ दशक लामो वामपन्थी राजनीतिमा सक्रिय भरतमोहन अधिकारी करीब तीन दशक सत्तारुढ नेकपा (एमाले) को स्थायी समितिमा रहे। वामपन्थी दलहरूको प्रतिनिधित्व गर्दै २०४७ सालको संविधान सुझाव आयोगका सदस्य भए। एमालेको त...' (score:0.16968045490809788)\n",
      "\n",
      "\n",
      "9) Category: Business\n",
      "\n",
      "News: '﻿\n",
      "हरिभक्त शर्मा\n",
      "अध्यक्ष, नेपाल उद्योग परिसंघ\n",
      "नेपाल उद्योग परिसंघका अध्यक्ष हरिभक्त शर्मा सकारात्मक सोच र आफ्ना विचार निर्धक्कसँग राख्न सक्ने उद्यमीका रूपमा परिचित छन् । परिसंघ स्थापनादेखि सक्रिय शर्मा...' (score:0.1680351133173549)\n",
      "\n",
      "\n",
      "10) Category: Interview\n",
      "\n",
      "News: '﻿\n",
      "हरिभक्त शर्मा\n",
      "अध्यक्ष, नेपाल उद्योग परिसंघ\n",
      "नेपाल उद्योग परिसंघका अध्यक्ष हरिभक्त शर्मा सकारात्मक सोच र आफ्ना विचार निर्धक्कसँग राख्न सक्ने उद्यमीका रूपमा परिचित छन् । परिसंघ स्थापनादेखि सक्रिय शर्मा...' (score:0.1680351133173549)\n"
     ]
    }
   ],
   "source": [
    "\n",
    "\n",
    "def item(id):\n",
    "\n",
    "    id = str(id)\n",
    "\n",
    "    return {\n",
    "        'text': df.loc[int(id)]['text'],\n",
    "        'class': df.loc[int(id)]['class']\n",
    "           }\n",
    "\n",
    "def recommender(item_id, num): \n",
    "    print(\"\\n\")\n",
    "    print(\"**Recommendation System**\")\n",
    "    print(\"The given news \" + \"'\"+ item(item_id)['text'][:100] + \"...\" + \"'\" + \" is of Category: \" + str(item(item_id)['class'][:100]))\n",
    "    \n",
    "    print(\"\\nThe \" + str(num) + \" most similar news in ascending order is given below: \")\n",
    "    \n",
    "    recs = results[int(item_id)][:num]\n",
    "    for index, rec in enumerate(recs):\n",
    "        print(\"\\n\")\n",
    "        print(str(index+1) + \") \" + \"Category: \" + str(rec[2]) + \"\\n\\n\" + \"News: \" + \"'\" + item(rec[1])['text'][:200] + \"...\" + \"'\" +\" (score:\" + str(rec[0]) + \")\")\n",
    "\n",
    "# Extract the news (that the user is currently interacting with) and provide 8 recommended news\n",
    "recommender(item_id=120, num=10)"
   ]
  },
  {
   "cell_type": "code",
   "execution_count": 17,
   "metadata": {},
   "outputs": [
    {
     "data": {
      "text/plain": [
       "['similarity_matrix.joblib']"
      ]
     },
     "execution_count": 17,
     "metadata": {},
     "output_type": "execute_result"
    }
   ],
   "source": [
    "import joblib\n",
    "joblib.dump(results,'similarity_matrix.joblib')"
   ]
  },
  {
   "cell_type": "code",
   "execution_count": null,
   "metadata": {},
   "outputs": [],
   "source": []
  },
  {
   "cell_type": "code",
   "execution_count": null,
   "metadata": {},
   "outputs": [],
   "source": []
  }
 ],
 "metadata": {
  "kernelspec": {
   "display_name": "Python 3",
   "language": "python",
   "name": "python3"
  },
  "language_info": {
   "codemirror_mode": {
    "name": "ipython",
    "version": 3
   },
   "file_extension": ".py",
   "mimetype": "text/x-python",
   "name": "python",
   "nbconvert_exporter": "python",
   "pygments_lexer": "ipython3",
   "version": "3.9.5"
  }
 },
 "nbformat": 4,
 "nbformat_minor": 2
}
