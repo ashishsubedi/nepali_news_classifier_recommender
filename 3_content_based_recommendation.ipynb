{
 "cells": [
  {
   "cell_type": "markdown",
   "metadata": {},
   "source": [
    "# Content Based Recommendation"
   ]
  },
  {
   "cell_type": "code",
   "execution_count": 1,
   "metadata": {},
   "outputs": [],
   "source": [
    "import os\n",
    "import pandas as pd\n",
    "import numpy as np"
   ]
  },
  {
   "cell_type": "code",
   "execution_count": 2,
   "metadata": {},
   "outputs": [],
   "source": [
    "from sklearn.feature_extraction.text import TfidfVectorizer\n",
    "from sklearn.metrics.pairwise import linear_kernel, cosine_similarity\n",
    "from nltk.corpus import stopwords\n"
   ]
  },
  {
   "cell_type": "markdown",
   "metadata": {},
   "source": [
    "## Data Preprocessing"
   ]
  },
  {
   "cell_type": "code",
   "execution_count": 3,
   "metadata": {
    "scrolled": true
   },
   "outputs": [
    {
     "data": {
      "text/html": [
       "<div>\n",
       "<style scoped>\n",
       "    .dataframe tbody tr th:only-of-type {\n",
       "        vertical-align: middle;\n",
       "    }\n",
       "\n",
       "    .dataframe tbody tr th {\n",
       "        vertical-align: top;\n",
       "    }\n",
       "\n",
       "    .dataframe thead th {\n",
       "        text-align: right;\n",
       "    }\n",
       "</style>\n",
       "<table border=\"1\" class=\"dataframe\">\n",
       "  <thead>\n",
       "    <tr style=\"text-align: right;\">\n",
       "      <th></th>\n",
       "      <th>class</th>\n",
       "      <th>text</th>\n",
       "    </tr>\n",
       "    <tr>\n",
       "      <th>id</th>\n",
       "      <th></th>\n",
       "      <th></th>\n",
       "    </tr>\n",
       "  </thead>\n",
       "  <tbody>\n",
       "    <tr>\n",
       "      <th>0</th>\n",
       "      <td>Interview</td>\n",
       "      <td>﻿विडम्बना, ओलीको सत्ता सवारी पनि सिंहदरबारमा फ...</td>\n",
       "    </tr>\n",
       "    <tr>\n",
       "      <th>1</th>\n",
       "      <td>Interview</td>\n",
       "      <td>﻿नेपाली कांग्रेसको सभापतिमा रामचन्द्र पौडेलको ...</td>\n",
       "    </tr>\n",
       "    <tr>\n",
       "      <th>2</th>\n",
       "      <td>Interview</td>\n",
       "      <td>﻿\\nदुर्भाग्य नै भन्नुपर्छ हाम्रो प्राथमिकता पे...</td>\n",
       "    </tr>\n",
       "    <tr>\n",
       "      <th>3</th>\n",
       "      <td>Interview</td>\n",
       "      <td>﻿नयनराज पाण्डे, लेखक\\nविमोचन हुनै लागेको तपाईं...</td>\n",
       "    </tr>\n",
       "    <tr>\n",
       "      <th>4</th>\n",
       "      <td>Interview</td>\n",
       "      <td>﻿- भवन भट्ट, उपाध्यक्ष, गैर आवासीय नेपाली संघ\\...</td>\n",
       "    </tr>\n",
       "  </tbody>\n",
       "</table>\n",
       "</div>"
      ],
      "text/plain": [
       "        class                                               text\n",
       "id                                                              \n",
       "0   Interview  ﻿विडम्बना, ओलीको सत्ता सवारी पनि सिंहदरबारमा फ...\n",
       "1   Interview  ﻿नेपाली कांग्रेसको सभापतिमा रामचन्द्र पौडेलको ...\n",
       "2   Interview  ﻿\\nदुर्भाग्य नै भन्नुपर्छ हाम्रो प्राथमिकता पे...\n",
       "3   Interview  ﻿नयनराज पाण्डे, लेखक\\nविमोचन हुनै लागेको तपाईं...\n",
       "4   Interview  ﻿- भवन भट्ट, उपाध्यक्ष, गैर आवासीय नेपाली संघ\\..."
      ]
     },
     "execution_count": 3,
     "metadata": {},
     "output_type": "execute_result"
    }
   ],
   "source": [
    "DATA_DIR = os.path.abspath('./datasets/output/data_2.csv')\n",
    "df = pd.read_csv(DATA_DIR,index_col=0)\n",
    "df.head()\n"
   ]
  },
  {
   "cell_type": "code",
   "execution_count": null,
   "metadata": {},
   "outputs": [],
   "source": []
  },
  {
   "cell_type": "code",
   "execution_count": 4,
   "metadata": {},
   "outputs": [
    {
     "data": {
      "text/plain": [
       "(5475, 2)"
      ]
     },
     "execution_count": 4,
     "metadata": {},
     "output_type": "execute_result"
    }
   ],
   "source": [
    "df.shape"
   ]
  },
  {
   "cell_type": "code",
   "execution_count": 5,
   "metadata": {},
   "outputs": [
    {
     "data": {
      "text/html": [
       "<div>\n",
       "<style scoped>\n",
       "    .dataframe tbody tr th:only-of-type {\n",
       "        vertical-align: middle;\n",
       "    }\n",
       "\n",
       "    .dataframe tbody tr th {\n",
       "        vertical-align: top;\n",
       "    }\n",
       "\n",
       "    .dataframe thead th {\n",
       "        text-align: right;\n",
       "    }\n",
       "</style>\n",
       "<table border=\"1\" class=\"dataframe\">\n",
       "  <thead>\n",
       "    <tr style=\"text-align: right;\">\n",
       "      <th></th>\n",
       "      <th>class</th>\n",
       "      <th>text</th>\n",
       "      <th>id</th>\n",
       "    </tr>\n",
       "    <tr>\n",
       "      <th>id</th>\n",
       "      <th></th>\n",
       "      <th></th>\n",
       "      <th></th>\n",
       "    </tr>\n",
       "  </thead>\n",
       "  <tbody>\n",
       "    <tr>\n",
       "      <th>0</th>\n",
       "      <td>Interview</td>\n",
       "      <td>﻿विडम्बना, ओलीको सत्ता सवारी पनि सिंहदरबारमा फ...</td>\n",
       "      <td>0</td>\n",
       "    </tr>\n",
       "    <tr>\n",
       "      <th>1</th>\n",
       "      <td>Interview</td>\n",
       "      <td>﻿नेपाली कांग्रेसको सभापतिमा रामचन्द्र पौडेलको ...</td>\n",
       "      <td>1</td>\n",
       "    </tr>\n",
       "    <tr>\n",
       "      <th>2</th>\n",
       "      <td>Interview</td>\n",
       "      <td>﻿\\nदुर्भाग्य नै भन्नुपर्छ हाम्रो प्राथमिकता पे...</td>\n",
       "      <td>2</td>\n",
       "    </tr>\n",
       "    <tr>\n",
       "      <th>3</th>\n",
       "      <td>Interview</td>\n",
       "      <td>﻿नयनराज पाण्डे, लेखक\\nविमोचन हुनै लागेको तपाईं...</td>\n",
       "      <td>3</td>\n",
       "    </tr>\n",
       "    <tr>\n",
       "      <th>4</th>\n",
       "      <td>Interview</td>\n",
       "      <td>﻿- भवन भट्ट, उपाध्यक्ष, गैर आवासीय नेपाली संघ\\...</td>\n",
       "      <td>4</td>\n",
       "    </tr>\n",
       "    <tr>\n",
       "      <th>...</th>\n",
       "      <td>...</td>\n",
       "      <td>...</td>\n",
       "      <td>...</td>\n",
       "    </tr>\n",
       "    <tr>\n",
       "      <th>5470</th>\n",
       "      <td>Entertainment</td>\n",
       "      <td>﻿उनले ‘टिमवर्क’ र ‘लिडरसिप’ फिल्ममेकिङको महत्व...</td>\n",
       "      <td>5470</td>\n",
       "    </tr>\n",
       "    <tr>\n",
       "      <th>5471</th>\n",
       "      <td>Entertainment</td>\n",
       "      <td>रुपा बनिन् हेरिटेज क्वीन नेपाल\\n\\n\\nराजधानीको ...</td>\n",
       "      <td>5471</td>\n",
       "    </tr>\n",
       "    <tr>\n",
       "      <th>5472</th>\n",
       "      <td>Entertainment</td>\n",
       "      <td>﻿प्रकाश र किरणको अर्थ एउटै भए पनि कालो पोथी का...</td>\n",
       "      <td>5472</td>\n",
       "    </tr>\n",
       "    <tr>\n",
       "      <th>5473</th>\n",
       "      <td>Entertainment</td>\n",
       "      <td>दानापुर तालमा पर्यटक लोभिँदै\\n\\nअहिले पर्यटक ल...</td>\n",
       "      <td>5473</td>\n",
       "    </tr>\n",
       "    <tr>\n",
       "      <th>5474</th>\n",
       "      <td>Entertainment</td>\n",
       "      <td>﻿काठमाडौं । नेपाली कथानक चलचित्र ‘वडा नम्बर–६’...</td>\n",
       "      <td>5474</td>\n",
       "    </tr>\n",
       "  </tbody>\n",
       "</table>\n",
       "<p>5475 rows × 3 columns</p>\n",
       "</div>"
      ],
      "text/plain": [
       "              class                                               text    id\n",
       "id                                                                          \n",
       "0         Interview  ﻿विडम्बना, ओलीको सत्ता सवारी पनि सिंहदरबारमा फ...     0\n",
       "1         Interview  ﻿नेपाली कांग्रेसको सभापतिमा रामचन्द्र पौडेलको ...     1\n",
       "2         Interview  ﻿\\nदुर्भाग्य नै भन्नुपर्छ हाम्रो प्राथमिकता पे...     2\n",
       "3         Interview  ﻿नयनराज पाण्डे, लेखक\\nविमोचन हुनै लागेको तपाईं...     3\n",
       "4         Interview  ﻿- भवन भट्ट, उपाध्यक्ष, गैर आवासीय नेपाली संघ\\...     4\n",
       "...             ...                                                ...   ...\n",
       "5470  Entertainment  ﻿उनले ‘टिमवर्क’ र ‘लिडरसिप’ फिल्ममेकिङको महत्व...  5470\n",
       "5471  Entertainment  रुपा बनिन् हेरिटेज क्वीन नेपाल\\n\\n\\nराजधानीको ...  5471\n",
       "5472  Entertainment  ﻿प्रकाश र किरणको अर्थ एउटै भए पनि कालो पोथी का...  5472\n",
       "5473  Entertainment  दानापुर तालमा पर्यटक लोभिँदै\\n\\nअहिले पर्यटक ल...  5473\n",
       "5474  Entertainment  ﻿काठमाडौं । नेपाली कथानक चलचित्र ‘वडा नम्बर–६’...  5474\n",
       "\n",
       "[5475 rows x 3 columns]"
      ]
     },
     "execution_count": 5,
     "metadata": {},
     "output_type": "execute_result"
    }
   ],
   "source": [
    "df.dropna(inplace=True) # drop rows with invalid values\n",
    "\n",
    "df['id'] = df.index\n",
    "df"
   ]
  },
  {
   "cell_type": "code",
   "execution_count": 6,
   "metadata": {},
   "outputs": [
    {
     "data": {
      "text/plain": [
       "(5475, 3)"
      ]
     },
     "execution_count": 6,
     "metadata": {},
     "output_type": "execute_result"
    }
   ],
   "source": [
    "df.shape"
   ]
  },
  {
   "cell_type": "markdown",
   "metadata": {},
   "source": [
    "## Processing data"
   ]
  },
  {
   "cell_type": "code",
   "execution_count": 7,
   "metadata": {},
   "outputs": [
    {
     "name": "stderr",
     "output_type": "stream",
     "text": [
      "/home/ash/Desktop/projects/nepali_news_classifier_recommender/venv/lib/python3.9/site-packages/sklearn/feature_extraction/text.py:388: UserWarning: Your stop_words may be inconsistent with your preprocessing. Tokenizing the stop words generated tokens ['कम', 'से'] not in stop_words.\n",
      "  warnings.warn('Your stop_words may be inconsistent with '\n"
     ]
    }
   ],
   "source": [
    "nepali_stop_words = set(stopwords.words('nepali'))\n",
    "\n",
    "# tf = TfidfVectorizer(stop_words=nepali_stop_words,encoding='utf-8',decode_error='ignore')\n",
    "tf = TfidfVectorizer(tokenizer= lambda x: x.split(\" \"),\n",
    "                                  sublinear_tf=True, encoding='utf-8',\n",
    "                                  decode_error='replace',\n",
    "                                  max_df=0.5,\n",
    "                                  min_df=10,\n",
    "                                  stop_words=nepali_stop_words)\n",
    "\n",
    "tfidf_matrix = tf.fit_transform(df['text'])\n"
   ]
  },
  {
   "cell_type": "code",
   "execution_count": 8,
   "metadata": {},
   "outputs": [],
   "source": [
    "# cosine_similarities = linear_kernel(tfidf_matrix, tfidf_matrix)\n",
    "cosine_similarities = cosine_similarity(tfidf_matrix, tfidf_matrix)\n",
    "\n",
    "results = {}"
   ]
  },
  {
   "cell_type": "code",
   "execution_count": 9,
   "metadata": {},
   "outputs": [
    {
     "data": {
      "text/plain": [
       "(5475, 5475)"
      ]
     },
     "execution_count": 9,
     "metadata": {},
     "output_type": "execute_result"
    }
   ],
   "source": [
    "cosine_similarities.shape"
   ]
  },
  {
   "cell_type": "code",
   "execution_count": 10,
   "metadata": {},
   "outputs": [
    {
     "name": "stdout",
     "output_type": "stream",
     "text": [
      "Completed!\n"
     ]
    }
   ],
   "source": [
    "for idx, row in df.iterrows():\n",
    "    try:\n",
    "\n",
    "        idx = int(idx)\n",
    "        similar_indices = cosine_similarities[idx].argsort()[:-100:-1]\n",
    "        similar_items = [(float(cosine_similarities[idx][i]), int(df['id'][i]), str(df['class'][i])) for i in similar_indices]\n",
    "        results[row['id']] = similar_items[1:]\n",
    "    except Exception as e: \n",
    "        print(\"ERROR\",idx, e)\n",
    "    \n",
    "print('Completed!')\n",
    "similar_indices = cosine_similarities[idx].argsort()[:-100:-1]"
   ]
  },
  {
   "cell_type": "code",
   "execution_count": 11,
   "metadata": {},
   "outputs": [
    {
     "data": {
      "text/plain": [
       "(99,)"
      ]
     },
     "execution_count": 11,
     "metadata": {},
     "output_type": "execute_result"
    }
   ],
   "source": [
    "similar_indices.shape"
   ]
  },
  {
   "cell_type": "raw",
   "metadata": {},
   "source": []
  },
  {
   "cell_type": "markdown",
   "metadata": {},
   "source": [
    "## Displaying Results"
   ]
  },
  {
   "cell_type": "code",
   "execution_count": 16,
   "metadata": {},
   "outputs": [
    {
     "name": "stdout",
     "output_type": "stream",
     "text": [
      "\n",
      "\n",
      "**Recommendation System**\n",
      "The given news '﻿स्थानीय प्राथमिक स्वास्थ्य केन्द्रको आँगनमा टाँगिएको पालभित्र गर्मीले उकुसमुकुस भएकी सुन्तली श्रेष्...' is of Category: Entertainment\n",
      "\n",
      "The 10 most similar news in ascending order is given below: \n",
      "\n",
      "\n",
      "1) Category: Blog\n",
      "\n",
      "News: '﻿\n",
      "गुल्मीको पुर्कोटदह गाविसमा सुत्केरी आमाको मृत्यु पछि दुई छोरी किरिया बसेका छन्।\n",
      "पुर्कोट दह– १ का दुर्गाप्रसाद भुसालकी पत्नी दुर्गा कुमारीको मृत्यु भएपछि किरियामा बसेका दुई छोरीले दागबत्ती पनि दिएका ...' (score:0.15266032942643035)\n",
      "\n",
      "\n",
      "2) Category: World\n",
      "\n",
      "News: '﻿जेठ ११   भारतमा अत्याधिक गर्मी तथा लुका कारण अहिलेसम्म ३ सय ५० जना भन्दा बढीको ज्यान गएको छ । भारतका केही क्षेत्रको तापक्रम ४८ डिग्रीसम्म पुगेको छ । अत्याधिक गर्मी तथा लुका कारण सबैभन्दा धेरै तेलंगना...' (score:0.13280034131950116)\n",
      "\n",
      "\n",
      "3) Category: World\n",
      "\n",
      "News: '﻿भारतमा प्रचण्ड गर्मीबाट मृत्यु हुनेको संख्या एक हजार नाघेको छ । भारतको दक्षिणी राज्य आन्ध्र प्रदेश र तेलंगानामा मात्र  १११८  जनाको मृत्यु भएको  छ । यी राज्यहरुमा तापक्रम ५० डिग्री सम्म पुगेको बताइएको...' (score:0.12823232801841764)\n",
      "\n",
      "\n",
      "4) Category: Entertainment\n",
      "\n",
      "News: '﻿योगगुरु रामदेवले अनुमति नै नदिई पतन्जली आर्युवेद प्रालिमार्फत नेपालमा लगानी गरिरहेको खुल्न आएको छ। कान्तिपुर दैनिकमा समाचार छ।\n",
      "लगानी गर्नुअगावै विदेशी लगानी र प्रविधि हस्तान्तरण ऐन २०४९ वा लगानी बोर्...' (score:0.12661322886609888)\n",
      "\n",
      "\n",
      "5) Category: Agriculture\n",
      "\n",
      "News: 'एक दशकअघि उच्च हिमाली भेकमा हलुवावेद नाम सुन्दा यो के हो भनेर सोध्ने गरिन्थ्यो। अनार फल त दारिमजस्तै हुँदो रहेछ, यो हाम्रो ठाउँमा फल्छ होला भनेर अड्कल काटिन्थ्यो। अमिलो लिन कालीकोट, दैलख र सुर्खेतसम्म...' (score:0.12623384484192243)\n",
      "\n",
      "\n",
      "6) Category: Literature\n",
      "\n",
      "News: 'धौली ६ वर्षकी भइन्। उनीसँगै उनको घरमा आमा र हजुरआमा मात्र हुनुहुन्छ। धौलीका बाबा भारतको बम्बैमा सुरक्षा गार्डको काम गर्नुहुन्छ। बासँग कुरा गर्नको लागि उनको आमासँग सानो मोबाइल फोन छ। शनिबार आयो कि आमाक...' (score:0.1140728304003144)\n",
      "\n",
      "\n",
      "7) Category: Blog\n",
      "\n",
      "News: '﻿\n",
      "मसिना १ की २८ वर्षीय सरिता पुन गत महिना सुत्केरी हुन मसिना स्वास्थ्य चौकी पुगिन्। स्वास्थ्यकर्मीले सहज र सरल रुपमा बच्चा जन्माउन सहयोग गरे ।\n",
      "त्यो भन्दा पहिला महिला स्वस्थ्य स्वयं सेविकाको सल्लाहमा उ...' (score:0.11098902987486317)\n",
      "\n",
      "\n",
      "8) Category: Entertainment\n",
      "\n",
      "News: '﻿नेपालमा १२ लाख ७५ हजार घरपरिवारका ७० लाख जनता गरिबीको रेखामुनि रहेको भनेर सरकारले पहिचान गरेको छ। नयाँ पत्रिका दैनिकमा समाचार छ।\n",
      "\n",
      "\t \n",
      "\n",
      "\tदिनमा १.९० डलर अर्थात् दुई सय एक रुपैयााभन्दा कम आम्दानी हुने व्...' (score:0.10390542531961862)\n",
      "\n",
      "\n",
      "9) Category: Entertainment\n",
      "\n",
      "News: '﻿मौसम पूर्वानुमान महाशाखाले आगामी जेठ तेस्रो सातासम्म नेपाल लगायत एसियाका अधिकांश मुलुकमा खडेरी कायम रहने जनाएको छ । अन्नपूर्ण दैनिकमा समाचार छ।\n",
      "\n",
      "\t \n",
      "\n",
      "\tविभागका मौसम विद् समीर श्रेष्ठका अनुसार प्रशान्त ...' (score:0.10284666126034699)\n",
      "\n",
      "\n",
      "10) Category: Entertainment\n",
      "\n",
      "News: '﻿बलिउडकी ‘हट’ अभिनेत्री सन्नी लियोनले आफ्नो करिअरको सुरुवातमा मोडलिङ गर्दा सबैले मोटी भन्ने गरेको खुलासा गरेकी छिन्। न्युयोर्क फेसन वीकमा र्‍याम्पमा उत्रिने पहिलो बलिउड अभिनेत्री बनेकी सन्नीले भर्खरै ...' (score:0.10020374824296749)\n"
     ]
    }
   ],
   "source": [
    "\n",
    "\n",
    "def item(id):\n",
    "\n",
    "    id = str(id)\n",
    "\n",
    "    return {\n",
    "        'text': df.loc[int(id)]['text'],\n",
    "        'class': df.loc[int(id)]['class']\n",
    "           }\n",
    "\n",
    "def recommender(item_id, num): \n",
    "    print(\"\\n\")\n",
    "    print(\"**Recommendation System**\")\n",
    "    print(\"The given news \" + \"'\"+ item(item_id)['text'][:100] + \"...\" + \"'\" + \" is of Category: \" + str(item(item_id)['class'][:100]))\n",
    "    \n",
    "    print(\"\\nThe \" + str(num) + \" most similar news in ascending order is given below: \")\n",
    "    \n",
    "    recs = results[int(item_id)][:num]\n",
    "    for index, rec in enumerate(recs):\n",
    "        print(\"\\n\")\n",
    "        print(str(index+1) + \") \" + \"Category: \" + str(rec[2]) + \"\\n\\n\" + \"News: \" + \"'\" + item(rec[1])['text'][:200] + \"...\" + \"'\" +\" (score:\" + str(rec[0]) + \")\")\n",
    "\n",
    "# Extract the news (that the user is currently interacting with) and provide 8 recommended news\n",
    "recommender(item_id=5000, num=10)"
   ]
  },
  {
   "cell_type": "code",
   "execution_count": 17,
   "metadata": {},
   "outputs": [
    {
     "data": {
      "text/plain": [
       "['similarity_matrix.joblib']"
      ]
     },
     "execution_count": 17,
     "metadata": {},
     "output_type": "execute_result"
    }
   ],
   "source": [
    "import joblib\n",
    "joblib.dump(results,'similarity_matrix.joblib')"
   ]
  },
  {
   "cell_type": "code",
   "execution_count": null,
   "metadata": {},
   "outputs": [],
   "source": []
  },
  {
   "cell_type": "code",
   "execution_count": null,
   "metadata": {},
   "outputs": [],
   "source": []
  }
 ],
 "metadata": {
  "kernelspec": {
   "display_name": "Python 3",
   "language": "python",
   "name": "python3"
  },
  "language_info": {
   "codemirror_mode": {
    "name": "ipython",
    "version": 3
   },
   "file_extension": ".py",
   "mimetype": "text/x-python",
   "name": "python",
   "nbconvert_exporter": "python",
   "pygments_lexer": "ipython3",
   "version": "3.9.5"
  }
 },
 "nbformat": 4,
 "nbformat_minor": 2
}
