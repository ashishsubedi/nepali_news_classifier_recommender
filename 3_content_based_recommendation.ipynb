{
 "cells": [
  {
   "cell_type": "markdown",
   "metadata": {},
   "source": [
    "# Content Based Recommendation"
   ]
  },
  {
   "cell_type": "code",
   "execution_count": 1,
   "metadata": {},
   "outputs": [],
   "source": [
    "import os\n",
    "import pandas as pd\n",
    "import numpy as np"
   ]
  },
  {
   "cell_type": "code",
   "execution_count": 3,
   "metadata": {},
   "outputs": [],
   "source": [
    "from IPython.display import Markdown, display\n",
    "from tqdm import tqdm\n",
    "from sklearn.feature_extraction.text import TfidfVectorizer\n",
    "from sklearn.metrics.pairwise import linear_kernel"
   ]
  },
  {
   "cell_type": "markdown",
   "metadata": {},
   "source": [
    "## Data Preprocessing"
   ]
  },
  {
   "cell_type": "code",
   "execution_count": 4,
   "metadata": {},
   "outputs": [],
   "source": [
    "DATA_DIR = os.path.abspath('./datasets/20_news')\n",
    "OUTPUT_DIR = os.path.join('./datasets/output')"
   ]
  },
  {
   "cell_type": "code",
   "execution_count": 5,
   "metadata": {},
   "outputs": [],
   "source": [
    "RAW_DATA_DIR = DATA_DIR\n",
    "OUTPUT_DIR = os.path.join('./datasets/output')"
   ]
  },
  {
   "cell_type": "code",
   "execution_count": 6,
   "metadata": {},
   "outputs": [],
   "source": [
    "classes = os.listdir(RAW_DATA_DIR)\n",
    "columns=['id','class','text']\n",
    "\n",
    "data_dict = {\n",
    "    'id':[],\n",
    "    'class':[],\n",
    "    'text': []\n",
    "}\n"
   ]
  },
  {
   "cell_type": "code",
   "execution_count": 7,
   "metadata": {},
   "outputs": [
    {
     "name": "stderr",
     "output_type": "stream",
     "text": [
      "\r",
      "  0%|          | 0/200 [00:00<?, ?it/s]"
     ]
    },
    {
     "name": "stdout",
     "output_type": "stream",
     "text": [
      "Agriculture 101 Failed to load\n",
      "Agriculture 102 Failed to load\n",
      "Agriculture 103 Failed to load\n",
      "Agriculture 104 Failed to load\n",
      "Agriculture 105 Failed to load\n",
      "Agriculture 106 Failed to load\n",
      "Agriculture 107 Failed to load\n",
      "Agriculture 108 Failed to load\n",
      "Agriculture 109 Failed to load\n",
      "Agriculture 110 Failed to load\n",
      "Agriculture 111 Failed to load\n",
      "Agriculture 112 Failed to load\n",
      "Agriculture 113 Failed to load\n",
      "Agriculture 114 Failed to load\n"
     ]
    },
    {
     "name": "stderr",
     "output_type": "stream",
     "text": [
      "\r",
      "  9%|▉         | 18/200 [00:00<00:01, 168.21it/s]"
     ]
    },
    {
     "name": "stdout",
     "output_type": "stream",
     "text": [
      "Agriculture 115 Failed to load\n",
      "Agriculture 116 Failed to load\n",
      "Agriculture 117 Failed to load\n",
      "Agriculture 118 Failed to load\n",
      "Agriculture 119 Failed to load\n",
      "Agriculture 120 Failed to load\n",
      "Agriculture 121 Failed to load\n",
      "Agriculture 122 Failed to load\n",
      "Agriculture 123 Failed to load\n",
      "Agriculture 124 Failed to load\n",
      "Agriculture 125 Failed to load\n",
      "Agriculture 126 Failed to load\n",
      "Agriculture 127 Failed to load\n"
     ]
    },
    {
     "name": "stderr",
     "output_type": "stream",
     "text": [
      "\r",
      " 16%|█▌        | 32/200 [00:00<00:01, 156.50it/s]"
     ]
    },
    {
     "name": "stdout",
     "output_type": "stream",
     "text": [
      "Agriculture 128 Failed to load\n",
      "Agriculture 129 Failed to load\n",
      "Agriculture 130 Failed to load\n",
      "Agriculture 131 Failed to load\n",
      "Agriculture 132 Failed to load\n",
      "Agriculture 133 Failed to load\n",
      "Agriculture 134 Failed to load\n",
      "Agriculture 135 Failed to load\n",
      "Agriculture 136 Failed to load\n",
      "Agriculture 137 Failed to load\n",
      "Agriculture 138 Failed to load\n",
      "Agriculture 139 Failed to load\n",
      "Agriculture 140 Failed to load\n"
     ]
    },
    {
     "name": "stderr",
     "output_type": "stream",
     "text": [
      "\r",
      " 24%|██▎       | 47/200 [00:00<00:00, 153.53it/s]"
     ]
    },
    {
     "name": "stdout",
     "output_type": "stream",
     "text": [
      "Agriculture 141 Failed to load\n",
      "Agriculture 142 Failed to load\n",
      "Agriculture 143 Failed to load\n",
      "Agriculture 144 Failed to load\n",
      "Agriculture 145 Failed to load\n",
      "Agriculture 146 Failed to load\n",
      "Agriculture 147 Failed to load\n",
      "Agriculture 148 Failed to load\n",
      "Agriculture 149 Failed to load\n",
      "Agriculture 150 Failed to load\n",
      "Agriculture 151 Failed to load\n",
      "Agriculture 152 Failed to load\n",
      "Agriculture 153 Failed to load\n"
     ]
    },
    {
     "name": "stderr",
     "output_type": "stream",
     "text": [
      "\r",
      " 30%|███       | 61/200 [00:00<00:00, 148.27it/s]"
     ]
    },
    {
     "name": "stdout",
     "output_type": "stream",
     "text": [
      "Agriculture 154 Failed to load\n",
      "Agriculture 155 Failed to load\n",
      "Agriculture 156 Failed to load\n",
      "Agriculture 157 Failed to load\n",
      "Agriculture 158 Failed to load\n",
      "Agriculture 159 Failed to load\n",
      "Agriculture 160 Failed to load\n",
      "Agriculture 161 Failed to load\n",
      "Agriculture 162 Failed to load\n",
      "Agriculture 163 Failed to load\n",
      "Agriculture 164 Failed to load\n",
      "Agriculture 165 Failed to load\n",
      "Agriculture 166 Failed to load\n"
     ]
    },
    {
     "name": "stderr",
     "output_type": "stream",
     "text": [
      "\r",
      " 38%|███▊      | 75/200 [00:00<00:00, 142.13it/s]"
     ]
    },
    {
     "name": "stdout",
     "output_type": "stream",
     "text": [
      "Agriculture 167 Failed to load\n",
      "Agriculture 168 Failed to load\n",
      "Agriculture 169 Failed to load\n",
      "Agriculture 170 Failed to load\n",
      "Agriculture 171 Failed to load\n",
      "Agriculture 172 Failed to load\n",
      "Agriculture 173 Failed to load\n",
      "Agriculture 174 Failed to load\n",
      "Agriculture 175 Failed to load\n",
      "Agriculture 176 Failed to load\n",
      "Agriculture 177 Failed to load\n",
      "Agriculture 178 Failed to load\n",
      "Agriculture 179 Failed to load\n"
     ]
    },
    {
     "name": "stderr",
     "output_type": "stream",
     "text": [
      "\r",
      " 45%|████▌     | 90/200 [00:00<00:00, 143.58it/s]"
     ]
    },
    {
     "name": "stdout",
     "output_type": "stream",
     "text": [
      "Agriculture 180 Failed to load\n",
      "Agriculture 181 Failed to load\n",
      "Agriculture 182 Failed to load\n",
      "Agriculture 183 Failed to load\n",
      "Agriculture 184 Failed to load\n",
      "Agriculture 185 Failed to load\n",
      "Agriculture 186 Failed to load\n",
      "Agriculture 187 Failed to load\n",
      "Agriculture 188 Failed to load\n",
      "Agriculture 189 Failed to load\n",
      "Agriculture 190 Failed to load\n",
      "Agriculture 191 Failed to load\n",
      "Agriculture 192 Failed to load\n"
     ]
    },
    {
     "name": "stderr",
     "output_type": "stream",
     "text": [
      "\r",
      " 52%|█████▏    | 104/200 [00:00<00:00, 140.77it/s]"
     ]
    },
    {
     "name": "stdout",
     "output_type": "stream",
     "text": [
      "Agriculture 193 Failed to load\n",
      "Agriculture 194 Failed to load\n",
      "Agriculture 195 Failed to load\n",
      "Agriculture 196 Failed to load\n",
      "Agriculture 197 Failed to load\n",
      "Agriculture 198 Failed to load\n",
      "Agriculture 199 Failed to load\n",
      "Agriculture 200 Failed to load\n"
     ]
    },
    {
     "name": "stderr",
     "output_type": "stream",
     "text": [
      "100%|██████████| 200/200 [00:00<00:00, 232.28it/s]\n",
      "  0%|          | 0/246 [00:00<?, ?it/s]"
     ]
    },
    {
     "name": "stdout",
     "output_type": "stream",
     "text": [
      "Automobiles 100 Failed to load\n",
      "Automobiles 101 Failed to load\n",
      "Automobiles 102 Failed to load\n",
      "Automobiles 103 Failed to load\n",
      "Automobiles 104 Failed to load\n",
      "Automobiles 105 Failed to load\n",
      "Automobiles 106 Failed to load\n",
      "Automobiles 107 Failed to load\n",
      "Automobiles 108 Failed to load\n",
      "Automobiles 109 Failed to load\n",
      "Automobiles 110 Failed to load\n",
      "Automobiles 111 Failed to load\n",
      "Automobiles 112 Failed to load\n",
      "Automobiles 113 Failed to load\n"
     ]
    },
    {
     "name": "stderr",
     "output_type": "stream",
     "text": [
      "\r",
      "  7%|▋         | 17/246 [00:00<00:01, 166.68it/s]"
     ]
    },
    {
     "name": "stdout",
     "output_type": "stream",
     "text": [
      "Automobiles 114 Failed to load\n",
      "Automobiles 115 Failed to load\n",
      "Automobiles 116 Failed to load\n",
      "Automobiles 117 Failed to load\n",
      "Automobiles 118 Failed to load\n",
      "Automobiles 119 Failed to load\n",
      "Automobiles 120 Failed to load\n",
      "Automobiles 121 Failed to load\n",
      "Automobiles 122 Failed to load\n",
      "Automobiles 123 Failed to load\n",
      "Automobiles 124 Failed to load\n",
      "Automobiles 125 Failed to load\n",
      "Automobiles 126 Failed to load\n",
      "Automobiles 127 Failed to load\n"
     ]
    },
    {
     "name": "stderr",
     "output_type": "stream",
     "text": [
      "\r",
      " 13%|█▎        | 32/246 [00:00<00:01, 158.74it/s]"
     ]
    },
    {
     "name": "stdout",
     "output_type": "stream",
     "text": [
      "Automobiles 128 Failed to load\n",
      "Automobiles 129 Failed to load\n",
      "Automobiles 130 Failed to load\n",
      "Automobiles 131 Failed to load\n",
      "Automobiles 132 Failed to load\n",
      "Automobiles 133 Failed to load\n",
      "Automobiles 134 Failed to load\n",
      "Automobiles 135 Failed to load\n",
      "Automobiles 136 Failed to load\n",
      "Automobiles 137 Failed to load\n",
      "Automobiles 138 Failed to load\n",
      "Automobiles 139 Failed to load\n",
      "Automobiles 140 Failed to load\n",
      "Automobiles 141 Failed to load\n"
     ]
    },
    {
     "name": "stderr",
     "output_type": "stream",
     "text": [
      "\r",
      " 20%|█▉        | 48/246 [00:00<00:01, 157.23it/s]"
     ]
    },
    {
     "name": "stdout",
     "output_type": "stream",
     "text": [
      "Automobiles 142 Failed to load\n",
      "Automobiles 143 Failed to load\n",
      "Automobiles 144 Failed to load\n",
      "Automobiles 145 Failed to load\n",
      "Automobiles 146 Failed to load\n",
      "Automobiles 147 Failed to load\n",
      "Automobiles 148 Failed to load\n",
      "Automobiles 149 Failed to load\n",
      "Automobiles 150 Failed to load\n",
      "Automobiles 151 Failed to load\n",
      "Automobiles 152 Failed to load\n",
      "Automobiles 153 Failed to load\n",
      "Automobiles 154 Failed to load\n",
      "Automobiles 155 Failed to load\n",
      "Automobiles 156 Failed to load\n",
      "Automobiles 157 Failed to load\n"
     ]
    },
    {
     "name": "stderr",
     "output_type": "stream",
     "text": [
      "\r",
      " 26%|██▋       | 65/246 [00:00<00:01, 160.40it/s]"
     ]
    },
    {
     "name": "stdout",
     "output_type": "stream",
     "text": [
      "Automobiles 158 Failed to load\n",
      "Automobiles 159 Failed to load\n",
      "Automobiles 160 Failed to load\n",
      "Automobiles 161 Failed to load\n",
      "Automobiles 162 Failed to load\n",
      "Automobiles 163 Failed to load\n",
      "Automobiles 164 Failed to load\n",
      "Automobiles 165 Failed to load\n",
      "Automobiles 166 Failed to load\n",
      "Automobiles 167 Failed to load\n",
      "Automobiles 168 Failed to load\n",
      "Automobiles 169 Failed to load\n",
      "Automobiles 170 Failed to load\n",
      "Automobiles 171 Failed to load\n",
      "Automobiles 172 Failed to load\n",
      "Automobiles 173 Failed to load\n",
      "Automobiles 174 Failed to load\n",
      "Automobiles 175 Failed to load\n",
      "Automobiles 176 Failed to load\n",
      "Automobiles 177 Failed to load\n",
      "Automobiles 178 Failed to load\n",
      "Automobiles 179 Failed to load\n"
     ]
    },
    {
     "name": "stderr",
     "output_type": "stream",
     "text": [
      "\r",
      " 36%|███▌      | 89/246 [00:00<00:00, 177.74it/s]"
     ]
    },
    {
     "name": "stdout",
     "output_type": "stream",
     "text": [
      "Automobiles 180 Failed to load\n",
      "Automobiles 181 Failed to load\n",
      "Automobiles 182 Failed to load\n",
      "Automobiles 183 Failed to load\n",
      "Automobiles 184 Failed to load\n",
      "Automobiles 185 Failed to load\n",
      "Automobiles 186 Failed to load\n",
      "Automobiles 187 Failed to load\n",
      "Automobiles 188 Failed to load\n",
      "Automobiles 189 Failed to load\n",
      "Automobiles 190 Failed to load\n",
      "Automobiles 191 Failed to load\n",
      "Automobiles 192 Failed to load\n",
      "Automobiles 193 Failed to load\n",
      "Automobiles 194 Failed to load\n",
      "Automobiles 195 Failed to load\n",
      "Automobiles 196 Failed to load\n"
     ]
    },
    {
     "name": "stderr",
     "output_type": "stream",
     "text": [
      "\r",
      " 65%|██████▌   | 161/246 [00:00<00:00, 229.62it/s]"
     ]
    },
    {
     "name": "stdout",
     "output_type": "stream",
     "text": [
      "Automobiles 34 Failed to load\n",
      "Automobiles 60 Failed to load\n",
      "Automobiles 66 Failed to load\n",
      "Automobiles 96 Failed to load\n",
      "Automobiles 97 Failed to load\n",
      "Automobiles 98 Failed to load\n",
      "Automobiles 99 Failed to load\n"
     ]
    },
    {
     "name": "stderr",
     "output_type": "stream",
     "text": [
      "100%|██████████| 246/246 [00:00<00:00, 356.52it/s]\n",
      "  0%|          | 0/617 [00:00<?, ?it/s]"
     ]
    },
    {
     "name": "stdout",
     "output_type": "stream",
     "text": [
      "Bank 100 Failed to load\n"
     ]
    },
    {
     "name": "stderr",
     "output_type": "stream",
     "text": [
      "\r",
      " 25%|██▍       | 153/617 [00:00<00:00, 1529.99it/s]"
     ]
    },
    {
     "name": "stdout",
     "output_type": "stream",
     "text": [
      "Bank 274 Failed to load\n",
      "Bank 285 Failed to load\n",
      "Bank 286 Failed to load\n",
      "Bank 311 Failed to load\n"
     ]
    },
    {
     "name": "stderr",
     "output_type": "stream",
     "text": [
      "\r",
      " 39%|███▊      | 238/617 [00:00<00:00, 1233.83it/s]"
     ]
    },
    {
     "name": "stdout",
     "output_type": "stream",
     "text": [
      "Bank 382 Failed to load\n"
     ]
    },
    {
     "name": "stderr",
     "output_type": "stream",
     "text": [
      "\r",
      " 55%|█████▌    | 342/617 [00:00<00:00, 1164.59it/s]"
     ]
    },
    {
     "name": "stdout",
     "output_type": "stream",
     "text": [
      "Bank 426 Failed to load\n",
      "Bank 427 Failed to load\n",
      "Bank 428 Failed to load\n",
      "Bank 429 Failed to load\n",
      "Bank 430 Failed to load\n",
      "Bank 431 Failed to load\n",
      "Bank 432 Failed to load\n",
      "Bank 433 Failed to load\n",
      "Bank 434 Failed to load\n",
      "Bank 435 Failed to load\n",
      "Bank 436 Failed to load\n",
      "Bank 437 Failed to load\n",
      "Bank 438 Failed to load\n",
      "Bank 439 Failed to load\n",
      "Bank 440 Failed to load\n",
      "Bank 441 Failed to load\n",
      "Bank 442 Failed to load\n",
      "Bank 443 Failed to load\n",
      "Bank 444 Failed to load\n",
      "Bank 445 Failed to load\n",
      "Bank 446 Failed to load\n",
      "Bank 447 Failed to load\n",
      "Bank 448 Failed to load\n",
      "Bank 449 Failed to load\n",
      "Bank 450 Failed to load\n",
      "Bank 451 Failed to load\n",
      "Bank 452 Failed to load\n",
      "Bank 453 Failed to load\n",
      "Bank 454 Failed to load\n",
      "Bank 455 Failed to load\n",
      "Bank 456 Failed to load\n",
      "Bank 457 Failed to load\n",
      "Bank 458 Failed to load\n",
      "Bank 459 Failed to load\n",
      "Bank 460 Failed to load\n",
      "Bank 461 Failed to load\n",
      "Bank 462 Failed to load\n",
      "Bank 463 Failed to load\n",
      "Bank 464 Failed to load\n",
      "Bank 465 Failed to load\n",
      "Bank 466 Failed to load\n",
      "Bank 467 Failed to load\n",
      "Bank 468 Failed to load\n",
      "Bank 469 Failed to load\n",
      "Bank 470 Failed to load\n",
      "Bank 471 Failed to load\n"
     ]
    },
    {
     "name": "stderr",
     "output_type": "stream",
     "text": [
      "\r",
      " 67%|██████▋   | 414/617 [00:00<00:00, 521.45it/s] "
     ]
    },
    {
     "name": "stdout",
     "output_type": "stream",
     "text": [
      "Bank 472 Failed to load\n",
      "Bank 473 Failed to load\n",
      "Bank 474 Failed to load\n",
      "Bank 475 Failed to load\n",
      "Bank 476 Failed to load\n",
      "Bank 477 Failed to load\n",
      "Bank 478 Failed to load\n",
      "Bank 479 Failed to load\n",
      "Bank 480 Failed to load\n",
      "Bank 481 Failed to load\n",
      "Bank 482 Failed to load\n",
      "Bank 483 Failed to load\n",
      "Bank 484 Failed to load\n",
      "Bank 485 Failed to load\n",
      "Bank 486 Failed to load\n",
      "Bank 487 Failed to load\n",
      "Bank 488 Failed to load\n",
      "Bank 489 Failed to load\n",
      "Bank 490 Failed to load\n",
      "Bank 491 Failed to load\n",
      "Bank 492 Failed to load\n",
      "Bank 493 Failed to load\n",
      "Bank 494 Failed to load\n",
      "Bank 495 Failed to load\n",
      "Bank 496 Failed to load\n",
      "Bank 497 Failed to load\n",
      "Bank 498 Failed to load\n",
      "Bank 499 Failed to load\n",
      "Bank 500 Failed to load\n",
      "Bank 501 Failed to load\n",
      "Bank 502 Failed to load\n",
      "Bank 503 Failed to load\n",
      "Bank 504 Failed to load\n",
      "Bank 505 Failed to load\n",
      "Bank 506 Failed to load\n",
      "Bank 507 Failed to load\n",
      "Bank 508 Failed to load\n",
      "Bank 509 Failed to load\n",
      "Bank 510 Failed to load\n",
      "Bank 511 Failed to load\n",
      "Bank 512 Failed to load\n",
      "Bank 513 Failed to load\n",
      "Bank 514 Failed to load\n",
      "Bank 515 Failed to load\n",
      "Bank 516 Failed to load\n",
      "Bank 517 Failed to load\n",
      "Bank 518 Failed to load\n",
      "Bank 519 Failed to load\n",
      "Bank 520 Failed to load\n",
      "Bank 521 Failed to load\n",
      "Bank 522 Failed to load\n"
     ]
    },
    {
     "name": "stderr",
     "output_type": "stream",
     "text": [
      "\r",
      " 76%|███████▋  | 471/617 [00:00<00:00, 333.89it/s]"
     ]
    },
    {
     "name": "stdout",
     "output_type": "stream",
     "text": [
      "Bank 523 Failed to load\n",
      "Bank 524 Failed to load\n",
      "Bank 525 Failed to load\n",
      "Bank 526 Failed to load\n",
      "Bank 527 Failed to load\n",
      "Bank 528 Failed to load\n",
      "Bank 529 Failed to load\n",
      "Bank 530 Failed to load\n",
      "Bank 531 Failed to load\n",
      "Bank 532 Failed to load\n",
      "Bank 533 Failed to load\n",
      "Bank 534 Failed to load\n",
      "Bank 535 Failed to load\n",
      "Bank 536 Failed to load\n",
      "Bank 537 Failed to load\n",
      "Bank 538 Failed to load\n",
      "Bank 539 Failed to load\n",
      "Bank 540 Failed to load\n",
      "Bank 541 Failed to load\n",
      "Bank 542 Failed to load\n",
      "Bank 543 Failed to load\n",
      "Bank 544 Failed to load\n",
      "Bank 545 Failed to load\n",
      "Bank 546 Failed to load\n",
      "Bank 547 Failed to load\n",
      "Bank 548 Failed to load\n",
      "Bank 549 Failed to load\n",
      "Bank 550 Failed to load\n",
      "Bank 551 Failed to load\n",
      "Bank 552 Failed to load\n",
      "Bank 553 Failed to load\n",
      "Bank 554 Failed to load\n",
      "Bank 555 Failed to load\n",
      "Bank 556 Failed to load\n",
      "Bank 557 Failed to load\n",
      "Bank 558 Failed to load\n",
      "Bank 559 Failed to load\n",
      "Bank 560 Failed to load\n",
      "Bank 561 Failed to load\n",
      "Bank 562 Failed to load\n",
      "Bank 563 Failed to load\n",
      "Bank 564 Failed to load\n"
     ]
    },
    {
     "name": "stderr",
     "output_type": "stream",
     "text": [
      "\r",
      " 84%|████████▍ | 517/617 [00:01<00:00, 288.51it/s]"
     ]
    },
    {
     "name": "stdout",
     "output_type": "stream",
     "text": [
      "Bank 565 Failed to load\n",
      "Bank 566 Failed to load\n",
      "Bank 567 Failed to load\n",
      "Bank 568 Failed to load\n",
      "Bank 569 Failed to load\n",
      "Bank 570 Failed to load\n",
      "Bank 571 Failed to load\n",
      "Bank 572 Failed to load\n",
      "Bank 573 Failed to load\n",
      "Bank 574 Failed to load\n",
      "Bank 575 Failed to load\n",
      "Bank 576 Failed to load\n",
      "Bank 577 Failed to load\n",
      "Bank 578 Failed to load\n",
      "Bank 579 Failed to load\n",
      "Bank 580 Failed to load\n",
      "Bank 581 Failed to load\n",
      "Bank 582 Failed to load\n",
      "Bank 583 Failed to load\n",
      "Bank 584 Failed to load\n",
      "Bank 585 Failed to load\n",
      "Bank 586 Failed to load\n",
      "Bank 587 Failed to load\n",
      "Bank 588 Failed to load\n",
      "Bank 589 Failed to load\n",
      "Bank 590 Failed to load\n",
      "Bank 591 Failed to load\n",
      "Bank 592 Failed to load\n",
      "Bank 593 Failed to load\n",
      "Bank 594 Failed to load\n",
      "Bank 595 Failed to load\n",
      "Bank 596 Failed to load\n",
      "Bank 597 Failed to load\n",
      "Bank 598 Failed to load\n",
      "Bank 599 Failed to load\n"
     ]
    },
    {
     "name": "stderr",
     "output_type": "stream",
     "text": [
      "\r",
      " 90%|█████████ | 556/617 [00:01<00:00, 265.62it/s]"
     ]
    },
    {
     "name": "stdout",
     "output_type": "stream",
     "text": [
      "Bank 600 Failed to load\n",
      "Bank 601 Failed to load\n",
      "Bank 602 Failed to load\n",
      "Bank 603 Failed to load\n",
      "Bank 604 Failed to load\n",
      "Bank 605 Failed to load\n",
      "Bank 606 Failed to load\n",
      "Bank 607 Failed to load\n",
      "Bank 608 Failed to load\n",
      "Bank 609 Failed to load\n",
      "Bank 610 Failed to load\n",
      "Bank 611 Failed to load\n",
      "Bank 612 Failed to load\n",
      "Bank 613 Failed to load\n",
      "Bank 614 Failed to load\n",
      "Bank 615 Failed to load\n",
      "Bank 616 Failed to load\n",
      "Bank 617 Failed to load\n",
      "Bank 67 Failed to load\n",
      "Bank 68 Failed to load\n",
      "Bank 69 Failed to load\n",
      "Bank 70 Failed to load\n",
      "Bank 71 Failed to load\n",
      "Bank 72 Failed to load\n",
      "Bank 73 Failed to load\n",
      "Bank 74 Failed to load\n"
     ]
    },
    {
     "name": "stderr",
     "output_type": "stream",
     "text": [
      "\r",
      " 96%|█████████▌| 590/617 [00:01<00:00, 261.94it/s]"
     ]
    },
    {
     "name": "stdout",
     "output_type": "stream",
     "text": [
      "Bank 89 Failed to load\n"
     ]
    },
    {
     "name": "stderr",
     "output_type": "stream",
     "text": [
      "100%|██████████| 617/617 [00:01<00:00, 419.73it/s]\n",
      " 68%|██████▊   | 177/259 [00:00<00:00, 1752.50it/s]"
     ]
    },
    {
     "name": "stdout",
     "output_type": "stream",
     "text": [
      "Blog 49 Failed to load\n"
     ]
    },
    {
     "name": "stderr",
     "output_type": "stream",
     "text": [
      "100%|██████████| 259/259 [00:00<00:00, 1532.58it/s]\n",
      "  0%|          | 0/307 [00:00<?, ?it/s]"
     ]
    },
    {
     "name": "stdout",
     "output_type": "stream",
     "text": [
      "Business 143 Failed to load\n",
      "Business 144 Failed to load\n",
      "Business 145 Failed to load\n",
      "Business 146 Failed to load\n",
      "Business 147 Failed to load\n",
      "Business 148 Failed to load\n",
      "Business 149 Failed to load\n",
      "Business 150 Failed to load\n",
      "Business 151 Failed to load\n",
      "Business 152 Failed to load\n",
      "Business 153 Failed to load\n"
     ]
    },
    {
     "name": "stderr",
     "output_type": "stream",
     "text": [
      "\r",
      " 20%|█▉        | 61/307 [00:00<00:00, 592.23it/s]"
     ]
    },
    {
     "name": "stdout",
     "output_type": "stream",
     "text": [
      "Business 154 Failed to load\n",
      "Business 155 Failed to load\n",
      "Business 156 Failed to load\n",
      "Business 157 Failed to load\n",
      "Business 158 Failed to load\n",
      "Business 160 Failed to load\n",
      "Business 162 Failed to load\n",
      "Business 164 Failed to load\n",
      "Business 166 Failed to load\n",
      "Business 168 Failed to load\n",
      "Business 170 Failed to load\n",
      "Business 172 Failed to load\n",
      "Business 174 Failed to load\n",
      "Business 176 Failed to load\n",
      "Business 178 Failed to load\n",
      "Business 180 Failed to load\n"
     ]
    },
    {
     "name": "stderr",
     "output_type": "stream",
     "text": [
      "\r",
      " 30%|██▉       | 91/307 [00:00<00:00, 454.13it/s]"
     ]
    },
    {
     "name": "stdout",
     "output_type": "stream",
     "text": [
      "Business 182 Failed to load\n",
      "Business 184 Failed to load\n",
      "Business 186 Failed to load\n",
      "Business 188 Failed to load\n",
      "Business 190 Failed to load\n",
      "Business 192 Failed to load\n",
      "Business 194 Failed to load\n",
      "Business 196 Failed to load\n",
      "Business 198 Failed to load\n",
      "Business 200 Failed to load\n",
      "Business 202 Failed to load\n",
      "Business 204 Failed to load\n",
      "Business 206 Failed to load\n",
      "Business 208 Failed to load\n",
      "Business 210 Failed to load\n",
      "Business 212 Failed to load\n"
     ]
    },
    {
     "name": "stderr",
     "output_type": "stream",
     "text": [
      "\r",
      " 41%|████▏     | 127/307 [00:00<00:00, 421.08it/s]"
     ]
    },
    {
     "name": "stdout",
     "output_type": "stream",
     "text": [
      "Business 214 Failed to load\n",
      "Business 216 Failed to load\n",
      "Business 218 Failed to load\n",
      "Business 220 Failed to load\n",
      "Business 222 Failed to load\n",
      "Business 224 Failed to load\n",
      "Business 226 Failed to load\n",
      "Business 228 Failed to load\n",
      "Business 230 Failed to load\n",
      "Business 232 Failed to load\n",
      "Business 234 Failed to load\n",
      "Business 236 Failed to load\n",
      "Business 238 Failed to load\n",
      "Business 240 Failed to load\n",
      "Business 242 Failed to load\n",
      "Business 244 Failed to load\n",
      "Business 246 Failed to load\n"
     ]
    },
    {
     "name": "stderr",
     "output_type": "stream",
     "text": [
      "\r",
      " 53%|█████▎    | 164/307 [00:00<00:00, 397.80it/s]"
     ]
    },
    {
     "name": "stdout",
     "output_type": "stream",
     "text": [
      "Business 248 Failed to load\n",
      "Business 250 Failed to load\n",
      "Business 252 Failed to load\n",
      "Business 254 Failed to load\n",
      "Business 256 Failed to load\n",
      "Business 258 Failed to load\n",
      "Business 259 Failed to load\n",
      "Business 260 Failed to load\n",
      "Business 261 Failed to load\n",
      "Business 262 Failed to load\n",
      "Business 263 Failed to load\n",
      "Business 264 Failed to load\n",
      "Business 265 Failed to load\n",
      "Business 266 Failed to load\n",
      "Business 267 Failed to load\n",
      "Business 268 Failed to load\n",
      "Business 269 Failed to load\n",
      "Business 270 Failed to load\n",
      "Business 271 Failed to load\n",
      "Business 272 Failed to load\n"
     ]
    },
    {
     "name": "stderr",
     "output_type": "stream",
     "text": [
      "\r",
      " 63%|██████▎   | 193/307 [00:00<00:00, 340.28it/s]"
     ]
    },
    {
     "name": "stdout",
     "output_type": "stream",
     "text": [
      "Business 273 Failed to load\n",
      "Business 274 Failed to load\n",
      "Business 275 Failed to load\n",
      "Business 276 Failed to load\n",
      "Business 277 Failed to load\n",
      "Business 278 Failed to load\n",
      "Business 279 Failed to load\n",
      "Business 280 Failed to load\n",
      "Business 281 Failed to load\n",
      "Business 282 Failed to load\n",
      "Business 283 Failed to load\n",
      "Business 284 Failed to load\n",
      "Business 285 Failed to load\n",
      "Business 286 Failed to load\n",
      "Business 287 Failed to load\n",
      "Business 288 Failed to load\n",
      "Business 289 Failed to load\n",
      "Business 290 Failed to load\n",
      "Business 291 Failed to load\n",
      "Business 292 Failed to load\n",
      "Business 293 Failed to load\n",
      "Business 294 Failed to load\n",
      "Business 295 Failed to load\n",
      "Business 296 Failed to load\n",
      "Business 297 Failed to load\n",
      "Business 298 Failed to load\n"
     ]
    },
    {
     "name": "stderr",
     "output_type": "stream",
     "text": [
      "\r",
      " 72%|███████▏  | 221/307 [00:00<00:00, 276.96it/s]"
     ]
    },
    {
     "name": "stdout",
     "output_type": "stream",
     "text": [
      "Business 299 Failed to load\n",
      "Business 300 Failed to load\n",
      "Business 301 Failed to load\n",
      "Business 302 Failed to load\n",
      "Business 303 Failed to load\n",
      "Business 304 Failed to load\n",
      "Business 305 Failed to load\n",
      "Business 306 Failed to load\n",
      "Business 307 Failed to load\n",
      "Business 51 Failed to load\n",
      "Business 62 Failed to load\n",
      "Business 64 Failed to load\n"
     ]
    },
    {
     "name": "stderr",
     "output_type": "stream",
     "text": [
      "\r",
      " 88%|████████▊ | 269/307 [00:00<00:00, 317.21it/s]"
     ]
    },
    {
     "name": "stdout",
     "output_type": "stream",
     "text": [
      "Business 85 Failed to load\n"
     ]
    },
    {
     "name": "stderr",
     "output_type": "stream",
     "text": [
      "100%|██████████| 307/307 [00:00<00:00, 376.67it/s]\n",
      "  0%|          | 0/600 [00:00<?, ?it/s]"
     ]
    },
    {
     "name": "stdout",
     "output_type": "stream",
     "text": [
      "Economy 1 Failed to load\n",
      "Economy 2 Failed to load\n"
     ]
    },
    {
     "name": "stderr",
     "output_type": "stream",
     "text": [
      "\r",
      " 19%|█▉        | 113/600 [00:00<00:00, 1129.98it/s]"
     ]
    },
    {
     "name": "stdout",
     "output_type": "stream",
     "text": [
      "Economy 226 Failed to load\n",
      "Economy 23 Failed to load\n",
      "Economy 233 Failed to load\n",
      "Economy 243 Failed to load\n",
      "Economy 263 Failed to load\n"
     ]
    },
    {
     "name": "stderr",
     "output_type": "stream",
     "text": [
      "\r",
      " 36%|███▋      | 219/600 [00:00<00:00, 1108.01it/s]"
     ]
    },
    {
     "name": "stdout",
     "output_type": "stream",
     "text": [
      "Economy 3 Failed to load\n",
      "Economy 322 Failed to load\n",
      "Economy 355 Failed to load\n",
      "Economy 390 Failed to load\n"
     ]
    },
    {
     "name": "stderr",
     "output_type": "stream",
     "text": [
      "\r",
      " 55%|█████▌    | 330/600 [00:00<00:00, 1105.33it/s]"
     ]
    },
    {
     "name": "stdout",
     "output_type": "stream",
     "text": [
      "Economy 4 Failed to load\n",
      "Economy 505 Failed to load\n",
      "Economy 506 Failed to load\n",
      "Economy 507 Failed to load\n"
     ]
    },
    {
     "name": "stderr",
     "output_type": "stream",
     "text": [
      "\r",
      " 76%|███████▌  | 454/600 [00:00<00:00, 1133.16it/s]"
     ]
    },
    {
     "name": "stdout",
     "output_type": "stream",
     "text": [
      "Economy 508 Failed to load\n",
      "Economy 509 Failed to load\n",
      "Economy 510 Failed to load\n",
      "Economy 511 Failed to load\n",
      "Economy 512 Failed to load\n",
      "Economy 513 Failed to load\n",
      "Economy 514 Failed to load\n",
      "Economy 515 Failed to load\n",
      "Economy 516 Failed to load\n",
      "Economy 517 Failed to load\n",
      "Economy 518 Failed to load\n",
      "Economy 519 Failed to load\n",
      "Economy 520 Failed to load\n",
      "Economy 521 Failed to load\n",
      "Economy 522 Failed to load\n",
      "Economy 523 Failed to load\n",
      "Economy 524 Failed to load\n",
      "Economy 525 Failed to load\n",
      "Economy 526 Failed to load\n",
      "Economy 527 Failed to load\n",
      "Economy 528 Failed to load\n",
      "Economy 529 Failed to load\n",
      "Economy 530 Failed to load\n",
      "Economy 531 Failed to load\n",
      "Economy 532 Failed to load\n",
      "Economy 533 Failed to load\n",
      "Economy 534 Failed to load\n",
      "Economy 535 Failed to load\n",
      "Economy 536 Failed to load\n",
      "Economy 537 Failed to load\n",
      "Economy 538 Failed to load\n",
      "Economy 539 Failed to load\n",
      "Economy 540 Failed to load\n",
      "Economy 541 Failed to load\n",
      "Economy 542 Failed to load\n",
      "Economy 543 Failed to load\n",
      "Economy 544 Failed to load\n",
      "Economy 545 Failed to load\n",
      "Economy 546 Failed to load\n",
      "Economy 547 Failed to load\n",
      "Economy 548 Failed to load\n",
      "Economy 549 Failed to load\n",
      "Economy 550 Failed to load\n",
      "Economy 551 Failed to load\n",
      "Economy 552 Failed to load\n",
      "Economy 553 Failed to load\n",
      "Economy 554 Failed to load\n",
      "Economy 555 Failed to load\n",
      "Economy 556 Failed to load\n",
      "Economy 557 Failed to load\n",
      "Economy 558 Failed to load\n",
      "Economy 559 Failed to load\n",
      "Economy 560 Failed to load\n",
      "Economy 562 Failed to load\n",
      "Economy 563 Failed to load\n",
      "Economy 564 Failed to load\n",
      "Economy 565 Failed to load\n",
      "Economy 566 Failed to load\n",
      "Economy 567 Failed to load\n",
      "Economy 568 Failed to load\n",
      "Economy 569 Failed to load\n",
      "Economy 570 Failed to load\n",
      "Economy 571 Failed to load\n",
      "Economy 572 Failed to load\n",
      "Economy 573 Failed to load\n",
      "Economy 574 Failed to load\n",
      "Economy 575 Failed to load\n",
      "Economy 576 Failed to load\n",
      "Economy 577 Failed to load\n",
      "Economy 578 Failed to load\n",
      "Economy 579 Failed to load\n",
      "Economy 580 Failed to load\n",
      "Economy 581 Failed to load\n",
      "Economy 582 Failed to load\n",
      "Economy 583 Failed to load\n",
      "Economy 584 Failed to load\n",
      "Economy 585 Failed to load\n",
      "Economy 586 Failed to load\n"
     ]
    },
    {
     "name": "stderr",
     "output_type": "stream",
     "text": [
      "\r",
      " 90%|█████████ | 541/600 [00:00<00:00, 474.52it/s] "
     ]
    },
    {
     "name": "stdout",
     "output_type": "stream",
     "text": [
      "Economy 587 Failed to load\n",
      "Economy 588 Failed to load\n",
      "Economy 589 Failed to load\n",
      "Economy 590 Failed to load\n",
      "Economy 591 Failed to load\n",
      "Economy 592 Failed to load\n",
      "Economy 593 Failed to load\n",
      "Economy 594 Failed to load\n",
      "Economy 595 Failed to load\n",
      "Economy 596 Failed to load\n",
      "Economy 597 Failed to load\n",
      "Economy 598 Failed to load\n",
      "Economy 599 Failed to load\n",
      "Economy 600 Failed to load\n",
      "Economy 81 Failed to load\n",
      "Economy 89 Failed to load\n"
     ]
    },
    {
     "name": "stderr",
     "output_type": "stream",
     "text": [
      "100%|██████████| 600/600 [00:00<00:00, 632.24it/s]\n",
      "  0%|          | 0/185 [00:00<?, ?it/s]"
     ]
    },
    {
     "name": "stdout",
     "output_type": "stream",
     "text": [
      "Education 137 Failed to load\n",
      "Education 138 Failed to load\n",
      "Education 139 Failed to load\n",
      "Education 140 Failed to load\n",
      "Education 141 Failed to load\n",
      "Education 142 Failed to load\n",
      "Education 143 Failed to load\n",
      "Education 144 Failed to load\n",
      "Education 146 Failed to load\n",
      "Education 147 Failed to load\n",
      "Education 149 Failed to load\n",
      "Education 150 Failed to load\n",
      "Education 151 Failed to load\n"
     ]
    },
    {
     "name": "stderr",
     "output_type": "stream",
     "text": [
      "\r",
      " 32%|███▏      | 59/185 [00:00<00:00, 578.44it/s]"
     ]
    },
    {
     "name": "stdout",
     "output_type": "stream",
     "text": [
      "Education 152 Failed to load\n",
      "Education 153 Failed to load\n",
      "Education 154 Failed to load\n",
      "Education 155 Failed to load\n",
      "Education 156 Failed to load\n",
      "Education 157 Failed to load\n",
      "Education 158 Failed to load\n",
      "Education 159 Failed to load\n",
      "Education 161 Failed to load\n",
      "Education 162 Failed to load\n",
      "Education 163 Failed to load\n",
      "Education 164 Failed to load\n",
      "Education 165 Failed to load\n",
      "Education 166 Failed to load\n",
      "Education 167 Failed to load\n",
      "Education 168 Failed to load\n",
      "Education 169 Failed to load\n",
      "Education 171 Failed to load\n"
     ]
    },
    {
     "name": "stderr",
     "output_type": "stream",
     "text": [
      "\r",
      " 44%|████▍     | 81/185 [00:00<00:00, 380.47it/s]"
     ]
    },
    {
     "name": "stdout",
     "output_type": "stream",
     "text": [
      "Education 172 Failed to load\n",
      "Education 173 Failed to load\n",
      "Education 174 Failed to load\n",
      "Education 175 Failed to load\n",
      "Education 176 Failed to load\n",
      "Education 177 Failed to load\n",
      "Education 178 Failed to load\n",
      "Education 179 Failed to load\n",
      "Education 180 Failed to load\n",
      "Education 181 Failed to load\n",
      "Education 182 Failed to load\n",
      "Education 183 Failed to load\n",
      "Education 184 Failed to load\n",
      "Education 185 Failed to load\n",
      "Education 20 Failed to load\n"
     ]
    },
    {
     "name": "stderr",
     "output_type": "stream",
     "text": [
      "100%|██████████| 185/185 [00:00<00:00, 533.14it/s]\n",
      "  0%|          | 0/304 [00:00<?, ?it/s]"
     ]
    },
    {
     "name": "stdout",
     "output_type": "stream",
     "text": [
      "Employment 103 Failed to load\n",
      "Employment 105 Failed to load\n",
      "Employment 122 Failed to load\n",
      "Employment 143 Failed to load\n",
      "Employment 205 Failed to load\n"
     ]
    },
    {
     "name": "stderr",
     "output_type": "stream",
     "text": [
      "\r",
      " 39%|███▉      | 119/304 [00:00<00:00, 1178.48it/s]"
     ]
    },
    {
     "name": "stdout",
     "output_type": "stream",
     "text": [
      "Employment 206 Failed to load\n",
      "Employment 207 Failed to load\n",
      "Employment 208 Failed to load\n",
      "Employment 209 Failed to load\n",
      "Employment 210 Failed to load\n",
      "Employment 211 Failed to load\n",
      "Employment 212 Failed to load\n",
      "Employment 213 Failed to load\n",
      "Employment 214 Failed to load\n",
      "Employment 215 Failed to load\n",
      "Employment 216 Failed to load\n",
      "Employment 217 Failed to load\n",
      "Employment 218 Failed to load\n",
      "Employment 219 Failed to load\n",
      "Employment 220 Failed to load\n",
      "Employment 221 Failed to load\n",
      "Employment 222 Failed to load\n",
      "Employment 223 Failed to load\n",
      "Employment 224 Failed to load\n",
      "Employment 225 Failed to load\n",
      "Employment 226 Failed to load\n",
      "Employment 227 Failed to load\n",
      "Employment 228 Failed to load\n",
      "Employment 229 Failed to load\n",
      "Employment 230 Failed to load\n",
      "Employment 231 Failed to load\n",
      "Employment 232 Failed to load\n",
      "Employment 233 Failed to load\n",
      "Employment 234 Failed to load\n",
      "Employment 235 Failed to load\n",
      "Employment 236 Failed to load\n",
      "Employment 237 Failed to load\n",
      "Employment 238 Failed to load\n"
     ]
    },
    {
     "name": "stderr",
     "output_type": "stream",
     "text": [
      "\r",
      " 51%|█████     | 155/304 [00:00<00:00, 471.93it/s] "
     ]
    },
    {
     "name": "stdout",
     "output_type": "stream",
     "text": [
      "Employment 239 Failed to load\n",
      "Employment 240 Failed to load\n",
      "Employment 241 Failed to load\n",
      "Employment 242 Failed to load\n",
      "Employment 243 Failed to load\n",
      "Employment 244 Failed to load\n",
      "Employment 245 Failed to load\n",
      "Employment 246 Failed to load\n",
      "Employment 247 Failed to load\n",
      "Employment 248 Failed to load\n",
      "Employment 249 Failed to load\n",
      "Employment 250 Failed to load\n",
      "Employment 251 Failed to load\n",
      "Employment 252 Failed to load\n",
      "Employment 253 Failed to load\n",
      "Employment 254 Failed to load\n",
      "Employment 255 Failed to load\n",
      "Employment 256 Failed to load\n",
      "Employment 257 Failed to load\n",
      "Employment 258 Failed to load\n",
      "Employment 259 Failed to load\n",
      "Employment 260 Failed to load\n",
      "Employment 261 Failed to load\n",
      "Employment 262 Failed to load\n",
      "Employment 263 Failed to load\n",
      "Employment 264 Failed to load\n",
      "Employment 265 Failed to load\n",
      "Employment 266 Failed to load\n"
     ]
    },
    {
     "name": "stderr",
     "output_type": "stream",
     "text": [
      "\r",
      " 61%|██████    | 186/304 [00:00<00:00, 333.04it/s]"
     ]
    },
    {
     "name": "stdout",
     "output_type": "stream",
     "text": [
      "Employment 267 Failed to load\n",
      "Employment 268 Failed to load\n",
      "Employment 269 Failed to load\n",
      "Employment 27 Failed to load\n",
      "Employment 270 Failed to load\n",
      "Employment 271 Failed to load\n",
      "Employment 272 Failed to load\n",
      "Employment 273 Failed to load\n",
      "Employment 274 Failed to load\n",
      "Employment 275 Failed to load\n",
      "Employment 276 Failed to load\n",
      "Employment 277 Failed to load\n",
      "Employment 278 Failed to load\n",
      "Employment 279 Failed to load\n",
      "Employment 280 Failed to load\n",
      "Employment 281 Failed to load\n",
      "Employment 283 Failed to load\n",
      "Employment 284 Failed to load\n",
      "Employment 285 Failed to load\n",
      "Employment 286 Failed to load\n",
      "Employment 287 Failed to load\n",
      "Employment 288 Failed to load\n",
      "Employment 289 Failed to load\n",
      "Employment 290 Failed to load\n",
      "Employment 291 Failed to load\n"
     ]
    },
    {
     "name": "stderr",
     "output_type": "stream",
     "text": [
      "\r",
      " 70%|███████   | 214/304 [00:00<00:00, 280.96it/s]"
     ]
    },
    {
     "name": "stdout",
     "output_type": "stream",
     "text": [
      "Employment 292 Failed to load\n",
      "Employment 293 Failed to load\n",
      "Employment 294 Failed to load\n",
      "Employment 295 Failed to load\n",
      "Employment 296 Failed to load\n",
      "Employment 297 Failed to load\n",
      "Employment 298 Failed to load\n",
      "Employment 299 Failed to load\n",
      "Employment 300 Failed to load\n",
      "Employment 301 Failed to load\n",
      "Employment 302 Failed to load\n",
      "Employment 303 Failed to load\n",
      "Employment 304 Failed to load\n"
     ]
    },
    {
     "name": "stderr",
     "output_type": "stream",
     "text": [
      "\r",
      " 88%|████████▊ | 266/304 [00:00<00:00, 325.31it/s]"
     ]
    },
    {
     "name": "stdout",
     "output_type": "stream",
     "text": [
      "Employment 88 Failed to load\n"
     ]
    },
    {
     "name": "stderr",
     "output_type": "stream",
     "text": [
      "100%|██████████| 304/304 [00:00<00:00, 428.18it/s]\n",
      "  0%|          | 0/634 [00:00<?, ?it/s]"
     ]
    },
    {
     "name": "stdout",
     "output_type": "stream",
     "text": [
      "Entertainment 1 Failed to load\n",
      "Entertainment 101 Failed to load\n",
      "Entertainment 168 Failed to load\n",
      "Entertainment 2 Failed to load\n"
     ]
    },
    {
     "name": "stderr",
     "output_type": "stream",
     "text": [
      "\r",
      " 21%|██        | 132/634 [00:00<00:00, 1306.95it/s]"
     ]
    },
    {
     "name": "stdout",
     "output_type": "stream",
     "text": [
      "Entertainment 3 Failed to load\n"
     ]
    },
    {
     "name": "stderr",
     "output_type": "stream",
     "text": [
      "\r",
      " 42%|████▏     | 264/634 [00:00<00:00, 1310.74it/s]"
     ]
    },
    {
     "name": "stdout",
     "output_type": "stream",
     "text": [
      "Entertainment 364 Failed to load\n",
      "Entertainment 4 Failed to load\n",
      "Entertainment 402 Failed to load\n"
     ]
    },
    {
     "name": "stderr",
     "output_type": "stream",
     "text": [
      "\r",
      " 60%|██████    | 382/634 [00:00<00:00, 1264.59it/s]"
     ]
    },
    {
     "name": "stdout",
     "output_type": "stream",
     "text": [
      "Entertainment 505 Failed to load\n",
      "Entertainment 506 Failed to load\n",
      "Entertainment 507 Failed to load\n",
      "Entertainment 508 Failed to load\n",
      "Entertainment 509 Failed to load\n",
      "Entertainment 510 Failed to load\n",
      "Entertainment 511 Failed to load\n",
      "Entertainment 512 Failed to load\n",
      "Entertainment 513 Failed to load\n",
      "Entertainment 514 Failed to load\n",
      "Entertainment 515 Failed to load\n",
      "Entertainment 516 Failed to load\n"
     ]
    },
    {
     "name": "stderr",
     "output_type": "stream",
     "text": [
      "\r",
      " 73%|███████▎  | 464/634 [00:00<00:00, 1011.23it/s]"
     ]
    },
    {
     "name": "stdout",
     "output_type": "stream",
     "text": [
      "Entertainment 517 Failed to load\n",
      "Entertainment 518 Failed to load\n",
      "Entertainment 519 Failed to load\n",
      "Entertainment 520 Failed to load\n",
      "Entertainment 521 Failed to load\n",
      "Entertainment 522 Failed to load\n",
      "Entertainment 523 Failed to load\n",
      "Entertainment 524 Failed to load\n",
      "Entertainment 525 Failed to load\n",
      "Entertainment 526 Failed to load\n",
      "Entertainment 527 Failed to load\n",
      "Entertainment 528 Failed to load\n",
      "Entertainment 529 Failed to load\n",
      "Entertainment 530 Failed to load\n",
      "Entertainment 531 Failed to load\n",
      "Entertainment 532 Failed to load\n",
      "Entertainment 533 Failed to load\n",
      "Entertainment 534 Failed to load\n",
      "Entertainment 535 Failed to load\n",
      "Entertainment 536 Failed to load\n",
      "Entertainment 537 Failed to load\n",
      "Entertainment 538 Failed to load\n",
      "Entertainment 539 Failed to load\n",
      "Entertainment 540 Failed to load\n",
      "Entertainment 541 Failed to load\n",
      "Entertainment 542 Failed to load\n",
      "Entertainment 543 Failed to load\n",
      "Entertainment 544 Failed to load\n",
      "Entertainment 545 Failed to load\n",
      "Entertainment 546 Failed to load\n",
      "Entertainment 547 Failed to load\n",
      "Entertainment 548 Failed to load\n",
      "Entertainment 549 Failed to load\n",
      "Entertainment 550 Failed to load\n",
      "Entertainment 551 Failed to load\n",
      "Entertainment 552 Failed to load\n",
      "Entertainment 553 Failed to load\n",
      "Entertainment 554 Failed to load\n",
      "Entertainment 555 Failed to load\n",
      "Entertainment 556 Failed to load\n",
      "Entertainment 557 Failed to load\n",
      "Entertainment 558 Failed to load\n",
      "Entertainment 559 Failed to load\n",
      "Entertainment 560 Failed to load\n",
      "Entertainment 561 Failed to load\n",
      "Entertainment 562 Failed to load\n",
      "Entertainment 563 Failed to load\n",
      "Entertainment 564 Failed to load\n",
      "Entertainment 565 Failed to load\n",
      "Entertainment 566 Failed to load\n",
      "Entertainment 567 Failed to load\n",
      "Entertainment 568 Failed to load\n",
      "Entertainment 569 Failed to load\n",
      "Entertainment 570 Failed to load\n",
      "Entertainment 571 Failed to load\n",
      "Entertainment 572 Failed to load\n",
      "Entertainment 573 Failed to load\n",
      "Entertainment 574 Failed to load\n",
      "Entertainment 575 Failed to load\n",
      "Entertainment 576 Failed to load\n",
      "Entertainment 577 Failed to load\n",
      "Entertainment 578 Failed to load\n",
      "Entertainment 579 Failed to load\n",
      "Entertainment 580 Failed to load\n",
      "Entertainment 581 Failed to load\n",
      "Entertainment 582 Failed to load\n",
      "Entertainment 583 Failed to load\n",
      "Entertainment 584 Failed to load\n",
      "Entertainment 585 Failed to load\n"
     ]
    },
    {
     "name": "stderr",
     "output_type": "stream",
     "text": [
      "\r",
      " 86%|████████▌ | 543/634 [00:00<00:00, 438.68it/s] "
     ]
    },
    {
     "name": "stdout",
     "output_type": "stream",
     "text": [
      "Entertainment 84 Failed to load\n"
     ]
    },
    {
     "name": "stderr",
     "output_type": "stream",
     "text": [
      "100%|██████████| 634/634 [00:00<00:00, 700.55it/s]\n",
      "  0%|          | 0/180 [00:00<?, ?it/s]"
     ]
    },
    {
     "name": "stdout",
     "output_type": "stream",
     "text": [
      "Health 1 Failed to load\n",
      "Health 10 Failed to load\n",
      "Health 100 Failed to load\n",
      "Health 101 Failed to load\n",
      "Health 102 Failed to load\n",
      "Health 103 Failed to load\n",
      "Health 104 Failed to load\n",
      "Health 105 Failed to load\n",
      "Health 106 Failed to load\n",
      "Health 107 Failed to load\n",
      "Health 108 Failed to load\n",
      "Health 109 Failed to load\n",
      "Health 11 Failed to load\n",
      "Health 110 Failed to load\n",
      "Health 111 Failed to load\n",
      "Health 112 Failed to load\n",
      "Health 113 Failed to load\n",
      "Health 114 Failed to load\n",
      "Health 115 Failed to load\n"
     ]
    },
    {
     "name": "stderr",
     "output_type": "stream",
     "text": [
      "\r",
      " 11%|█         | 19/180 [00:00<00:00, 188.11it/s]"
     ]
    },
    {
     "name": "stdout",
     "output_type": "stream",
     "text": [
      "Health 116 Failed to load\n",
      "Health 117 Failed to load\n",
      "Health 118 Failed to load\n",
      "Health 119 Failed to load\n",
      "Health 12 Failed to load\n",
      "Health 120 Failed to load\n",
      "Health 121 Failed to load\n",
      "Health 122 Failed to load\n",
      "Health 123 Failed to load\n",
      "Health 124 Failed to load\n",
      "Health 125 Failed to load\n",
      "Health 126 Failed to load\n",
      "Health 127 Failed to load\n",
      "Health 128 Failed to load\n",
      "Health 129 Failed to load\n",
      "Health 13 Failed to load\n",
      "Health 130 Failed to load\n",
      "Health 131 Failed to load\n",
      "Health 132 Failed to load\n"
     ]
    },
    {
     "name": "stderr",
     "output_type": "stream",
     "text": [
      "\r",
      " 21%|██        | 38/180 [00:00<00:00, 188.12it/s]"
     ]
    },
    {
     "name": "stdout",
     "output_type": "stream",
     "text": [
      "Health 133 Failed to load\n",
      "Health 134 Failed to load\n",
      "Health 135 Failed to load\n",
      "Health 136 Failed to load\n",
      "Health 137 Failed to load\n",
      "Health 138 Failed to load\n",
      "Health 139 Failed to load\n",
      "Health 14 Failed to load\n",
      "Health 140 Failed to load\n",
      "Health 141 Failed to load\n",
      "Health 142 Failed to load\n",
      "Health 143 Failed to load\n",
      "Health 144 Failed to load\n",
      "Health 145 Failed to load\n",
      "Health 146 Failed to load\n",
      "Health 147 Failed to load\n",
      "Health 148 Failed to load\n",
      "Health 149 Failed to load\n",
      "Health 15 Failed to load\n"
     ]
    },
    {
     "name": "stderr",
     "output_type": "stream",
     "text": [
      "\r",
      " 32%|███▏      | 57/180 [00:00<00:00, 187.56it/s]"
     ]
    },
    {
     "name": "stdout",
     "output_type": "stream",
     "text": [
      "Health 150 Failed to load\n",
      "Health 151 Failed to load\n",
      "Health 152 Failed to load\n",
      "Health 153 Failed to load\n",
      "Health 154 Failed to load\n",
      "Health 155 Failed to load\n",
      "Health 156 Failed to load\n",
      "Health 157 Failed to load\n",
      "Health 158 Failed to load\n",
      "Health 159 Failed to load\n",
      "Health 16 Failed to load\n",
      "Health 160 Failed to load\n",
      "Health 161 Failed to load\n",
      "Health 162 Failed to load\n",
      "Health 163 Failed to load\n",
      "Health 164 Failed to load\n",
      "Health 165 Failed to load\n",
      "Health 166 Failed to load\n",
      "Health 167 Failed to load\n",
      "Health 168 Failed to load\n"
     ]
    },
    {
     "name": "stderr",
     "output_type": "stream",
     "text": [
      "\r",
      " 43%|████▎     | 77/180 [00:00<00:00, 188.96it/s]"
     ]
    },
    {
     "name": "stdout",
     "output_type": "stream",
     "text": [
      "Health 169 Failed to load\n",
      "Health 17 Failed to load\n",
      "Health 170 Failed to load\n",
      "Health 171 Failed to load\n",
      "Health 172 Failed to load\n",
      "Health 173 Failed to load\n",
      "Health 174 Failed to load\n",
      "Health 175 Failed to load\n",
      "Health 176 Failed to load\n",
      "Health 177 Failed to load\n",
      "Health 178 Failed to load\n",
      "Health 179 Failed to load\n",
      "Health 18 Failed to load\n",
      "Health 180 Failed to load\n",
      "Health 19 Failed to load\n",
      "Health 2 Failed to load\n",
      "Health 20 Failed to load\n",
      "Health 21 Failed to load\n",
      "Health 22 Failed to load\n"
     ]
    },
    {
     "name": "stderr",
     "output_type": "stream",
     "text": [
      "\r",
      " 53%|█████▎    | 96/180 [00:00<00:00, 188.71it/s]"
     ]
    },
    {
     "name": "stdout",
     "output_type": "stream",
     "text": [
      "Health 23 Failed to load\n",
      "Health 24 Failed to load\n",
      "Health 25 Failed to load\n",
      "Health 26 Failed to load\n",
      "Health 27 Failed to load\n",
      "Health 28 Failed to load\n",
      "Health 29 Failed to load\n",
      "Health 3 Failed to load\n",
      "Health 30 Failed to load\n",
      "Health 31 Failed to load\n",
      "Health 32 Failed to load\n",
      "Health 33 Failed to load\n",
      "Health 34 Failed to load\n",
      "Health 35 Failed to load\n",
      "Health 36 Failed to load\n",
      "Health 37 Failed to load\n",
      "Health 38 Failed to load\n",
      "Health 39 Failed to load\n"
     ]
    },
    {
     "name": "stderr",
     "output_type": "stream",
     "text": [
      "\r",
      " 63%|██████▎   | 114/180 [00:00<00:00, 186.01it/s]"
     ]
    },
    {
     "name": "stdout",
     "output_type": "stream",
     "text": [
      "Health 4 Failed to load\n",
      "Health 40 Failed to load\n",
      "Health 41 Failed to load\n",
      "Health 42 Failed to load\n",
      "Health 43 Failed to load\n",
      "Health 44 Failed to load\n",
      "Health 45 Failed to load\n",
      "Health 46 Failed to load\n",
      "Health 47 Failed to load\n",
      "Health 48 Failed to load\n",
      "Health 49 Failed to load\n",
      "Health 5 Failed to load\n",
      "Health 50 Failed to load\n",
      "Health 51 Failed to load\n",
      "Health 52 Failed to load\n",
      "Health 53 Failed to load\n",
      "Health 54 Failed to load\n",
      "Health 55 Failed to load\n",
      "Health 56 Failed to load\n",
      "Health 57 Failed to load\n",
      "Health 58 Failed to load\n"
     ]
    },
    {
     "name": "stderr",
     "output_type": "stream",
     "text": [
      "\r",
      " 75%|███████▌  | 135/180 [00:00<00:00, 189.47it/s]"
     ]
    },
    {
     "name": "stdout",
     "output_type": "stream",
     "text": [
      "Health 59 Failed to load\n",
      "Health 6 Failed to load\n",
      "Health 60 Failed to load\n",
      "Health 61 Failed to load\n",
      "Health 62 Failed to load\n",
      "Health 63 Failed to load\n",
      "Health 64 Failed to load\n",
      "Health 65 Failed to load\n",
      "Health 66 Failed to load\n",
      "Health 67 Failed to load\n",
      "Health 68 Failed to load\n",
      "Health 69 Failed to load\n",
      "Health 7 Failed to load\n",
      "Health 70 Failed to load\n",
      "Health 71 Failed to load\n",
      "Health 72 Failed to load\n",
      "Health 73 Failed to load\n",
      "Health 74 Failed to load\n",
      "Health 75 Failed to load\n"
     ]
    },
    {
     "name": "stderr",
     "output_type": "stream",
     "text": [
      "\r",
      " 86%|████████▌ | 154/180 [00:00<00:00, 189.07it/s]"
     ]
    },
    {
     "name": "stdout",
     "output_type": "stream",
     "text": [
      "Health 76 Failed to load\n",
      "Health 77 Failed to load\n",
      "Health 78 Failed to load\n",
      "Health 79 Failed to load\n",
      "Health 8 Failed to load\n",
      "Health 80 Failed to load\n",
      "Health 81 Failed to load\n",
      "Health 82 Failed to load\n",
      "Health 83 Failed to load\n",
      "Health 84 Failed to load\n",
      "Health 85 Failed to load\n",
      "Health 86 Failed to load\n",
      "Health 87 Failed to load\n",
      "Health 88 Failed to load\n",
      "Health 89 Failed to load\n",
      "Health 9 Failed to load\n",
      "Health 90 Failed to load\n",
      "Health 91 Failed to load\n",
      "Health 92 Failed to load\n",
      "Health 93 Failed to load\n"
     ]
    },
    {
     "name": "stderr",
     "output_type": "stream",
     "text": [
      "\r",
      " 97%|█████████▋| 174/180 [00:00<00:00, 189.49it/s]"
     ]
    },
    {
     "name": "stdout",
     "output_type": "stream",
     "text": [
      "Health 94 Failed to load\n",
      "Health 95 Failed to load\n",
      "Health 96 Failed to load\n",
      "Health 97 Failed to load\n",
      "Health 98 Failed to load\n",
      "Health 99 Failed to load\n"
     ]
    },
    {
     "name": "stderr",
     "output_type": "stream",
     "text": [
      "100%|██████████| 180/180 [00:00<00:00, 188.48it/s]\n",
      "  0%|          | 0/330 [00:00<?, ?it/s]"
     ]
    },
    {
     "name": "stdout",
     "output_type": "stream",
     "text": [
      "Interview 1 Failed to load\n",
      "Interview 109 Failed to load\n",
      "Interview 122 Failed to load\n",
      "Interview 125 Failed to load\n",
      "Interview 159 Failed to load\n"
     ]
    },
    {
     "name": "stderr",
     "output_type": "stream",
     "text": [
      "\r",
      " 28%|██▊       | 93/330 [00:00<00:00, 930.00it/s]"
     ]
    },
    {
     "name": "stdout",
     "output_type": "stream",
     "text": [
      "Interview 2 Failed to load\n",
      "Interview 234 Failed to load\n",
      "Interview 235 Failed to load\n",
      "Interview 236 Failed to load\n",
      "Interview 237 Failed to load\n",
      "Interview 238 Failed to load\n",
      "Interview 239 Failed to load\n",
      "Interview 240 Failed to load\n",
      "Interview 241 Failed to load\n",
      "Interview 242 Failed to load\n",
      "Interview 243 Failed to load\n"
     ]
    },
    {
     "name": "stderr",
     "output_type": "stream",
     "text": [
      "\r",
      " 49%|████▉     | 161/330 [00:00<00:00, 819.45it/s]"
     ]
    },
    {
     "name": "stdout",
     "output_type": "stream",
     "text": [
      "Interview 244 Failed to load\n",
      "Interview 245 Failed to load\n",
      "Interview 246 Failed to load\n",
      "Interview 247 Failed to load\n",
      "Interview 248 Failed to load\n",
      "Interview 249 Failed to load\n",
      "Interview 250 Failed to load\n",
      "Interview 251 Failed to load\n",
      "Interview 252 Failed to load\n",
      "Interview 253 Failed to load\n",
      "Interview 254 Failed to load\n",
      "Interview 255 Failed to load\n",
      "Interview 256 Failed to load\n",
      "Interview 257 Failed to load\n",
      "Interview 258 Failed to load\n",
      "Interview 259 Failed to load\n",
      "Interview 260 Failed to load\n",
      "Interview 261 Failed to load\n",
      "Interview 262 Failed to load\n",
      "Interview 263 Failed to load\n",
      "Interview 264 Failed to load\n",
      "Interview 265 Failed to load\n",
      "Interview 266 Failed to load\n",
      "Interview 267 Failed to load\n",
      "Interview 268 Failed to load\n",
      "Interview 269 Failed to load\n",
      "Interview 270 Failed to load\n",
      "Interview 271 Failed to load\n",
      "Interview 272 Failed to load\n",
      "Interview 273 Failed to load\n",
      "Interview 274 Failed to load\n",
      "Interview 275 Failed to load\n",
      "Interview 276 Failed to load\n",
      "Interview 277 Failed to load\n",
      "Interview 278 Failed to load\n",
      "Interview 279 Failed to load\n"
     ]
    },
    {
     "name": "stderr",
     "output_type": "stream",
     "text": [
      "\r",
      " 61%|██████    | 200/330 [00:00<00:00, 439.12it/s]"
     ]
    },
    {
     "name": "stdout",
     "output_type": "stream",
     "text": [
      "Interview 280 Failed to load\n",
      "Interview 281 Failed to load\n",
      "Interview 282 Failed to load\n",
      "Interview 283 Failed to load\n",
      "Interview 284 Failed to load\n",
      "Interview 285 Failed to load\n",
      "Interview 286 Failed to load\n",
      "Interview 287 Failed to load\n",
      "Interview 288 Failed to load\n",
      "Interview 289 Failed to load\n",
      "Interview 290 Failed to load\n",
      "Interview 291 Failed to load\n",
      "Interview 292 Failed to load\n",
      "Interview 293 Failed to load\n",
      "Interview 294 Failed to load\n",
      "Interview 295 Failed to load\n",
      "Interview 296 Failed to load\n",
      "Interview 297 Failed to load\n",
      "Interview 298 Failed to load\n",
      "Interview 299 Failed to load\n",
      "Interview 3 Failed to load\n",
      "Interview 300 Failed to load\n",
      "Interview 301 Failed to load\n",
      "Interview 302 Failed to load\n",
      "Interview 303 Failed to load\n",
      "Interview 304 Failed to load\n",
      "Interview 305 Failed to load\n",
      "Interview 306 Failed to load\n",
      "Interview 307 Failed to load\n",
      "Interview 308 Failed to load\n",
      "Interview 309 Failed to load\n"
     ]
    },
    {
     "name": "stderr",
     "output_type": "stream",
     "text": [
      "\r",
      " 71%|███████   | 234/330 [00:00<00:00, 334.63it/s]"
     ]
    },
    {
     "name": "stdout",
     "output_type": "stream",
     "text": [
      "Interview 310 Failed to load\n",
      "Interview 311 Failed to load\n",
      "Interview 312 Failed to load\n",
      "Interview 313 Failed to load\n",
      "Interview 314 Failed to load\n",
      "Interview 315 Failed to load\n",
      "Interview 316 Failed to load\n",
      "Interview 317 Failed to load\n",
      "Interview 318 Failed to load\n",
      "Interview 319 Failed to load\n",
      "Interview 320 Failed to load\n",
      "Interview 321 Failed to load\n",
      "Interview 322 Failed to load\n",
      "Interview 323 Failed to load\n",
      "Interview 324 Failed to load\n",
      "Interview 325 Failed to load\n",
      "Interview 326 Failed to load\n",
      "Interview 327 Failed to load\n",
      "Interview 328 Failed to load\n",
      "Interview 329 Failed to load\n",
      "Interview 330 Failed to load\n"
     ]
    },
    {
     "name": "stderr",
     "output_type": "stream",
     "text": [
      "\r",
      " 80%|████████  | 264/330 [00:00<00:00, 305.65it/s]"
     ]
    },
    {
     "name": "stdout",
     "output_type": "stream",
     "text": [
      "Interview 4 Failed to load\n",
      "Interview 8 Failed to load\n"
     ]
    },
    {
     "name": "stderr",
     "output_type": "stream",
     "text": [
      "100%|██████████| 330/330 [00:00<00:00, 453.29it/s]\n",
      "  0%|          | 0/251 [00:00<?, ?it/s]"
     ]
    },
    {
     "name": "stdout",
     "output_type": "stream",
     "text": [
      "Literature 110 Failed to load\n",
      "Literature 111 Failed to load\n",
      "Literature 112 Failed to load\n",
      "Literature 113 Failed to load\n",
      "Literature 114 Failed to load\n",
      "Literature 115 Failed to load\n",
      "Literature 116 Failed to load\n",
      "Literature 117 Failed to load\n",
      "Literature 118 Failed to load\n",
      "Literature 119 Failed to load\n",
      "Literature 120 Failed to load\n",
      "Literature 121 Failed to load\n",
      "Literature 122 Failed to load\n",
      "Literature 123 Failed to load\n",
      "Literature 124 Failed to load\n",
      "Literature 125 Failed to load\n",
      "Literature 126 Failed to load\n",
      "Literature 127 Failed to load\n"
     ]
    },
    {
     "name": "stderr",
     "output_type": "stream",
     "text": [
      "\r",
      " 13%|█▎        | 32/251 [00:00<00:00, 307.70it/s]"
     ]
    },
    {
     "name": "stdout",
     "output_type": "stream",
     "text": [
      "Literature 128 Failed to load\n",
      "Literature 129 Failed to load\n",
      "Literature 130 Failed to load\n",
      "Literature 131 Failed to load\n",
      "Literature 132 Failed to load\n",
      "Literature 133 Failed to load\n",
      "Literature 134 Failed to load\n",
      "Literature 135 Failed to load\n",
      "Literature 136 Failed to load\n",
      "Literature 137 Failed to load\n",
      "Literature 138 Failed to load\n",
      "Literature 139 Failed to load\n",
      "Literature 140 Failed to load\n",
      "Literature 141 Failed to load\n",
      "Literature 142 Failed to load\n",
      "Literature 143 Failed to load\n",
      "Literature 144 Failed to load\n",
      "Literature 145 Failed to load\n",
      "Literature 146 Failed to load\n"
     ]
    },
    {
     "name": "stderr",
     "output_type": "stream",
     "text": [
      "\r",
      " 21%|██        | 53/251 [00:00<00:00, 267.95it/s]"
     ]
    },
    {
     "name": "stdout",
     "output_type": "stream",
     "text": [
      "Literature 147 Failed to load\n",
      "Literature 148 Failed to load\n",
      "Literature 149 Failed to load\n",
      "Literature 150 Failed to load\n",
      "Literature 151 Failed to load\n",
      "Literature 152 Failed to load\n",
      "Literature 153 Failed to load\n",
      "Literature 154 Failed to load\n",
      "Literature 155 Failed to load\n",
      "Literature 156 Failed to load\n",
      "Literature 157 Failed to load\n"
     ]
    },
    {
     "name": "stderr",
     "output_type": "stream",
     "text": [
      "\r",
      " 55%|█████▍    | 137/251 [00:00<00:00, 336.75it/s]"
     ]
    },
    {
     "name": "stdout",
     "output_type": "stream",
     "text": [
      "Literature 89 Failed to load\n",
      "Literature 90 Failed to load\n",
      "Literature 91 Failed to load\n",
      "Literature 92 Failed to load\n",
      "Literature 93 Failed to load\n"
     ]
    },
    {
     "name": "stderr",
     "output_type": "stream",
     "text": [
      "100%|██████████| 251/251 [00:00<00:00, 603.34it/s]\n",
      "100%|██████████| 111/111 [00:00<00:00, 1681.20it/s]\n",
      "  0%|          | 0/500 [00:00<?, ?it/s]"
     ]
    },
    {
     "name": "stdout",
     "output_type": "stream",
     "text": [
      "Opinion 104 Failed to load\n",
      "Opinion 119 Failed to load\n",
      "Opinion 121 Failed to load\n",
      "Opinion 126 Failed to load\n",
      "Opinion 142 Failed to load\n"
     ]
    },
    {
     "name": "stderr",
     "output_type": "stream",
     "text": [
      "\r",
      " 10%|█         | 52/500 [00:00<00:00, 519.98it/s]"
     ]
    },
    {
     "name": "stdout",
     "output_type": "stream",
     "text": [
      "Opinion 152 Failed to load\n",
      "Opinion 186 Failed to load\n",
      "Opinion 188 Failed to load\n",
      "Opinion 199 Failed to load\n",
      "Opinion 200 Failed to load\n"
     ]
    },
    {
     "name": "stderr",
     "output_type": "stream",
     "text": [
      "\r",
      " 23%|██▎       | 114/500 [00:00<00:00, 544.99it/s]"
     ]
    },
    {
     "name": "stdout",
     "output_type": "stream",
     "text": [
      "Opinion 206 Failed to load\n",
      "Opinion 210 Failed to load\n"
     ]
    },
    {
     "name": "stderr",
     "output_type": "stream",
     "text": [
      "\r",
      " 40%|███▉      | 198/500 [00:00<00:00, 609.16it/s]"
     ]
    },
    {
     "name": "stdout",
     "output_type": "stream",
     "text": [
      "Opinion 31 Failed to load\n"
     ]
    },
    {
     "name": "stderr",
     "output_type": "stream",
     "text": [
      "\r",
      " 56%|█████▋    | 282/500 [00:00<00:00, 662.33it/s]"
     ]
    },
    {
     "name": "stdout",
     "output_type": "stream",
     "text": [
      "Opinion 353 Failed to load\n",
      "Opinion 358 Failed to load\n",
      "Opinion 369 Failed to load\n",
      "Opinion 381 Failed to load\n",
      "Opinion 406 Failed to load\n"
     ]
    },
    {
     "name": "stderr",
     "output_type": "stream",
     "text": [
      "\r",
      " 72%|███████▏  | 362/500 [00:00<00:00, 696.57it/s]"
     ]
    },
    {
     "name": "stdout",
     "output_type": "stream",
     "text": [
      "Opinion 432 Failed to load\n",
      "Opinion 455 Failed to load\n",
      "Opinion 469 Failed to load\n",
      "Opinion 474 Failed to load\n",
      "Opinion 479 Failed to load\n"
     ]
    },
    {
     "name": "stderr",
     "output_type": "stream",
     "text": [
      "\r",
      " 89%|████████▉ | 447/500 [00:00<00:00, 736.45it/s]"
     ]
    },
    {
     "name": "stdout",
     "output_type": "stream",
     "text": [
      "Opinion 70 Failed to load\n",
      "Opinion 78 Failed to load\n",
      "Opinion 91 Failed to load\n"
     ]
    },
    {
     "name": "stderr",
     "output_type": "stream",
     "text": [
      "100%|██████████| 500/500 [00:00<00:00, 749.62it/s]\n",
      "  0%|          | 0/550 [00:00<?, ?it/s]"
     ]
    },
    {
     "name": "stdout",
     "output_type": "stream",
     "text": [
      "Politics 1 Failed to load\n",
      "Politics 177 Failed to load\n",
      "Politics 179 Failed to load\n",
      "Politics 2 Failed to load\n"
     ]
    },
    {
     "name": "stderr",
     "output_type": "stream",
     "text": [
      "\r",
      " 21%|██        | 113/550 [00:00<00:00, 1118.39it/s]"
     ]
    },
    {
     "name": "stdout",
     "output_type": "stream",
     "text": [
      "Politics 3 Failed to load\n"
     ]
    },
    {
     "name": "stderr",
     "output_type": "stream",
     "text": [
      "\r",
      " 43%|████▎     | 235/550 [00:00<00:00, 1143.93it/s]"
     ]
    },
    {
     "name": "stdout",
     "output_type": "stream",
     "text": [
      "Politics 316 Failed to load\n",
      "Politics 4 Failed to load\n"
     ]
    },
    {
     "name": "stderr",
     "output_type": "stream",
     "text": [
      "\r",
      " 61%|██████▏   | 338/550 [00:00<00:00, 1107.15it/s]"
     ]
    },
    {
     "name": "stdout",
     "output_type": "stream",
     "text": [
      "Politics 426 Failed to load\n"
     ]
    },
    {
     "name": "stderr",
     "output_type": "stream",
     "text": [
      "\r",
      " 77%|███████▋  | 425/550 [00:00<00:00, 1023.45it/s]"
     ]
    },
    {
     "name": "stdout",
     "output_type": "stream",
     "text": [
      "Politics 511 Failed to load\n",
      "Politics 522 Failed to load\n"
     ]
    },
    {
     "name": "stderr",
     "output_type": "stream",
     "text": [
      "100%|██████████| 550/550 [00:00<00:00, 1080.54it/s]\n",
      "  0%|          | 0/353 [00:00<?, ?it/s]"
     ]
    },
    {
     "name": "stdout",
     "output_type": "stream",
     "text": [
      "Society 10 Failed to load\n",
      "Society 11 Failed to load\n",
      "Society 12 Failed to load\n",
      "Society 13 Failed to load\n",
      "Society 14 Failed to load\n",
      "Society 15 Failed to load\n",
      "Society 16 Failed to load\n",
      "Society 17 Failed to load\n",
      "Society 18 Failed to load\n"
     ]
    },
    {
     "name": "stderr",
     "output_type": "stream",
     "text": [
      "\r",
      " 27%|██▋       | 97/353 [00:00<00:00, 960.30it/s]"
     ]
    },
    {
     "name": "stdout",
     "output_type": "stream",
     "text": [
      "Society 19 Failed to load\n",
      "Society 20 Failed to load\n",
      "Society 21 Failed to load\n",
      "Society 22 Failed to load\n",
      "Society 23 Failed to load\n",
      "Society 24 Failed to load\n",
      "Society 25 Failed to load\n",
      "Society 254 Failed to load\n",
      "Society 255 Failed to load\n",
      "Society 256 Failed to load\n",
      "Society 257 Failed to load\n"
     ]
    },
    {
     "name": "stderr",
     "output_type": "stream",
     "text": [
      "\r",
      " 50%|████▉     | 176/353 [00:00<00:00, 898.91it/s]"
     ]
    },
    {
     "name": "stdout",
     "output_type": "stream",
     "text": [
      "Society 258 Failed to load\n",
      "Society 259 Failed to load\n",
      "Society 26 Failed to load\n",
      "Society 260 Failed to load\n",
      "Society 261 Failed to load\n",
      "Society 262 Failed to load\n",
      "Society 263 Failed to load\n",
      "Society 264 Failed to load\n",
      "Society 265 Failed to load\n",
      "Society 266 Failed to load\n",
      "Society 267 Failed to load\n",
      "Society 268 Failed to load\n",
      "Society 269 Failed to load\n",
      "Society 27 Failed to load\n",
      "Society 270 Failed to load\n",
      "Society 271 Failed to load\n",
      "Society 272 Failed to load\n",
      "Society 273 Failed to load\n",
      "Society 274 Failed to load\n",
      "Society 275 Failed to load\n",
      "Society 276 Failed to load\n",
      "Society 277 Failed to load\n",
      "Society 278 Failed to load\n",
      "Society 279 Failed to load\n",
      "Society 28 Failed to load\n",
      "Society 280 Failed to load\n",
      "Society 281 Failed to load\n",
      "Society 282 Failed to load\n",
      "Society 283 Failed to load\n",
      "Society 284 Failed to load\n",
      "Society 285 Failed to load\n",
      "Society 286 Failed to load\n",
      "Society 287 Failed to load\n",
      "Society 288 Failed to load\n",
      "Society 289 Failed to load\n",
      "Society 29 Failed to load\n",
      "Society 290 Failed to load\n",
      "Society 291 Failed to load\n",
      "Society 292 Failed to load\n",
      "Society 293 Failed to load\n",
      "Society 294 Failed to load\n",
      "Society 295 Failed to load\n",
      "Society 296 Failed to load\n",
      "Society 297 Failed to load\n"
     ]
    },
    {
     "name": "stderr",
     "output_type": "stream",
     "text": [
      "\r",
      " 62%|██████▏   | 220/353 [00:00<00:00, 351.54it/s]"
     ]
    },
    {
     "name": "stdout",
     "output_type": "stream",
     "text": [
      "Society 298 Failed to load\n",
      "Society 299 Failed to load\n",
      "Society 3 Failed to load\n",
      "Society 30 Failed to load\n",
      "Society 300 Failed to load\n",
      "Society 301 Failed to load\n",
      "Society 302 Failed to load\n",
      "Society 303 Failed to load\n",
      "Society 304 Failed to load\n",
      "Society 305 Failed to load\n",
      "Society 306 Failed to load\n",
      "Society 307 Failed to load\n",
      "Society 308 Failed to load\n",
      "Society 309 Failed to load\n",
      "Society 31 Failed to load\n",
      "Society 310 Failed to load\n",
      "Society 311 Failed to load\n",
      "Society 312 Failed to load\n",
      "Society 313 Failed to load\n",
      "Society 314 Failed to load\n",
      "Society 315 Failed to load\n",
      "Society 316 Failed to load\n",
      "Society 317 Failed to load\n",
      "Society 318 Failed to load\n",
      "Society 319 Failed to load\n",
      "Society 32 Failed to load\n",
      "Society 320 Failed to load\n",
      "Society 321 Failed to load\n",
      "Society 322 Failed to load\n",
      "Society 323 Failed to load\n",
      "Society 324 Failed to load\n",
      "Society 325 Failed to load\n",
      "Society 326 Failed to load\n",
      "Society 327 Failed to load\n",
      "Society 328 Failed to load\n"
     ]
    },
    {
     "name": "stderr",
     "output_type": "stream",
     "text": [
      "\r",
      " 72%|███████▏  | 255/353 [00:00<00:00, 278.90it/s]"
     ]
    },
    {
     "name": "stdout",
     "output_type": "stream",
     "text": [
      "Society 329 Failed to load\n",
      "Society 33 Failed to load\n",
      "Society 330 Failed to load\n",
      "Society 331 Failed to load\n",
      "Society 332 Failed to load\n",
      "Society 333 Failed to load\n",
      "Society 334 Failed to load\n",
      "Society 335 Failed to load\n",
      "Society 336 Failed to load\n",
      "Society 337 Failed to load\n",
      "Society 338 Failed to load\n",
      "Society 339 Failed to load\n",
      "Society 34 Failed to load\n",
      "Society 340 Failed to load\n",
      "Society 341 Failed to load\n",
      "Society 342 Failed to load\n",
      "Society 343 Failed to load\n",
      "Society 344 Failed to load\n",
      "Society 345 Failed to load\n",
      "Society 346 Failed to load\n",
      "Society 347 Failed to load\n",
      "Society 348 Failed to load\n",
      "Society 349 Failed to load\n",
      "Society 35 Failed to load\n",
      "Society 350 Failed to load\n",
      "Society 351 Failed to load\n",
      "Society 352 Failed to load\n",
      "Society 353 Failed to load\n",
      "Society 36 Failed to load\n",
      "Society 37 Failed to load\n",
      "Society 38 Failed to load\n"
     ]
    },
    {
     "name": "stderr",
     "output_type": "stream",
     "text": [
      "\r",
      " 81%|████████  | 286/353 [00:00<00:00, 248.78it/s]"
     ]
    },
    {
     "name": "stdout",
     "output_type": "stream",
     "text": [
      "Society 39 Failed to load\n",
      "Society 4 Failed to load\n",
      "Society 40 Failed to load\n",
      "Society 41 Failed to load\n",
      "Society 42 Failed to load\n",
      "Society 43 Failed to load\n",
      "Society 44 Failed to load\n",
      "Society 45 Failed to load\n",
      "Society 46 Failed to load\n",
      "Society 47 Failed to load\n",
      "Society 48 Failed to load\n",
      "Society 49 Failed to load\n",
      "Society 5 Failed to load\n",
      "Society 50 Failed to load\n",
      "Society 51 Failed to load\n",
      "Society 52 Failed to load\n",
      "Society 53 Failed to load\n",
      "Society 54 Failed to load\n",
      "Society 55 Failed to load\n",
      "Society 56 Failed to load\n",
      "Society 57 Failed to load\n",
      "Society 58 Failed to load\n",
      "Society 59 Failed to load\n",
      "Society 6 Failed to load\n",
      "Society 60 Failed to load\n",
      "Society 61 Failed to load\n",
      "Society 62 Failed to load\n",
      "Society 63 Failed to load\n"
     ]
    },
    {
     "name": "stderr",
     "output_type": "stream",
     "text": [
      "\r",
      " 89%|████████▉ | 314/353 [00:00<00:00, 226.20it/s]"
     ]
    },
    {
     "name": "stdout",
     "output_type": "stream",
     "text": [
      "Society 64 Failed to load\n",
      "Society 65 Failed to load\n",
      "Society 66 Failed to load\n",
      "Society 67 Failed to load\n",
      "Society 7 Failed to load\n",
      "Society 8 Failed to load\n",
      "Society 9 Failed to load\n"
     ]
    },
    {
     "name": "stderr",
     "output_type": "stream",
     "text": [
      "100%|██████████| 353/353 [00:01<00:00, 334.28it/s]\n",
      "  0%|          | 0/700 [00:00<?, ?it/s]"
     ]
    },
    {
     "name": "stdout",
     "output_type": "stream",
     "text": [
      "Sports 139 Failed to load\n",
      "Sports 172 Failed to load\n"
     ]
    },
    {
     "name": "stderr",
     "output_type": "stream",
     "text": [
      " 30%|███       | 210/700 [00:00<00:00, 1030.03it/s]"
     ]
    },
    {
     "name": "stdout",
     "output_type": "stream",
     "text": [
      "Sports 384 Failed to load\n"
     ]
    },
    {
     "name": "stderr",
     "output_type": "stream",
     "text": [
      "100%|██████████| 700/700 [00:00<00:00, 1301.12it/s]\n",
      "  0%|          | 0/118 [00:00<?, ?it/s]"
     ]
    },
    {
     "name": "stdout",
     "output_type": "stream",
     "text": [
      "Technology 108 Failed to load\n",
      "Technology 109 Failed to load\n",
      "Technology 111 Failed to load\n",
      "Technology 112 Failed to load\n",
      "Technology 113 Failed to load\n",
      "Technology 114 Failed to load\n",
      "Technology 115 Failed to load\n",
      "Technology 116 Failed to load\n",
      "Technology 117 Failed to load\n",
      "Technology 118 Failed to load\n",
      "Technology 3 Failed to load\n",
      "Technology 34 Failed to load\n"
     ]
    },
    {
     "name": "stderr",
     "output_type": "stream",
     "text": [
      "\r",
      " 40%|███▉      | 47/118 [00:00<00:00, 439.26it/s]"
     ]
    },
    {
     "name": "stdout",
     "output_type": "stream",
     "text": [
      "Technology 38 Failed to load\n",
      "Technology 51 Failed to load\n",
      "Technology 78 Failed to load\n"
     ]
    },
    {
     "name": "stderr",
     "output_type": "stream",
     "text": [
      "100%|██████████| 118/118 [00:00<00:00, 621.06it/s]\n",
      "  0%|          | 0/265 [00:00<?, ?it/s]"
     ]
    },
    {
     "name": "stdout",
     "output_type": "stream",
     "text": [
      "Tourism 138 Failed to load\n",
      "Tourism 141 Failed to load\n",
      "Tourism 142 Failed to load\n"
     ]
    },
    {
     "name": "stderr",
     "output_type": "stream",
     "text": [
      "\r",
      " 43%|████▎     | 113/265 [00:00<00:00, 1118.79it/s]"
     ]
    },
    {
     "name": "stdout",
     "output_type": "stream",
     "text": [
      "Tourism 265 Failed to load\n"
     ]
    },
    {
     "name": "stderr",
     "output_type": "stream",
     "text": [
      "100%|██████████| 265/265 [00:00<00:00, 1204.56it/s]\n",
      "  0%|          | 0/313 [00:00<?, ?it/s]"
     ]
    },
    {
     "name": "stdout",
     "output_type": "stream",
     "text": [
      "World 1 Failed to load\n",
      "World 2 Failed to load\n"
     ]
    },
    {
     "name": "stderr",
     "output_type": "stream",
     "text": [
      "\r",
      " 36%|███▌      | 113/313 [00:00<00:00, 1118.86it/s]"
     ]
    },
    {
     "name": "stdout",
     "output_type": "stream",
     "text": [
      "World 213 Failed to load\n",
      "World 217 Failed to load\n",
      "World 218 Failed to load\n",
      "World 219 Failed to load\n",
      "World 220 Failed to load\n",
      "World 221 Failed to load\n",
      "World 222 Failed to load\n",
      "World 223 Failed to load\n",
      "World 224 Failed to load\n",
      "World 225 Failed to load\n",
      "World 226 Failed to load\n",
      "World 227 Failed to load\n",
      "World 228 Failed to load\n",
      "World 229 Failed to load\n",
      "World 230 Failed to load\n"
     ]
    },
    {
     "name": "stderr",
     "output_type": "stream",
     "text": [
      "\r",
      " 47%|████▋     | 147/313 [00:00<00:00, 655.49it/s] "
     ]
    },
    {
     "name": "stdout",
     "output_type": "stream",
     "text": [
      "World 231 Failed to load\n",
      "World 232 Failed to load\n",
      "World 233 Failed to load\n",
      "World 234 Failed to load\n",
      "World 235 Failed to load\n",
      "World 236 Failed to load\n",
      "World 237 Failed to load\n",
      "World 238 Failed to load\n",
      "World 239 Failed to load\n",
      "World 240 Failed to load\n",
      "World 241 Failed to load\n",
      "World 242 Failed to load\n",
      "World 243 Failed to load\n",
      "World 244 Failed to load\n",
      "World 245 Failed to load\n",
      "World 246 Failed to load\n",
      "World 247 Failed to load\n",
      "World 248 Failed to load\n",
      "World 249 Failed to load\n",
      "World 250 Failed to load\n",
      "World 251 Failed to load\n",
      "World 252 Failed to load\n",
      "World 253 Failed to load\n",
      "World 254 Failed to load\n",
      "World 255 Failed to load\n",
      "World 256 Failed to load\n",
      "World 257 Failed to load\n",
      "World 258 Failed to load\n",
      "World 259 Failed to load\n",
      "World 260 Failed to load\n",
      "World 261 Failed to load\n"
     ]
    },
    {
     "name": "stderr",
     "output_type": "stream",
     "text": [
      "\r",
      " 58%|█████▊    | 181/313 [00:00<00:00, 390.76it/s]"
     ]
    },
    {
     "name": "stdout",
     "output_type": "stream",
     "text": [
      "World 262 Failed to load\n",
      "World 263 Failed to load\n",
      "World 264 Failed to load\n",
      "World 265 Failed to load\n",
      "World 266 Failed to load\n",
      "World 267 Failed to load\n",
      "World 268 Failed to load\n",
      "World 269 Failed to load\n",
      "World 270 Failed to load\n",
      "World 271 Failed to load\n",
      "World 272 Failed to load\n",
      "World 273 Failed to load\n",
      "World 274 Failed to load\n",
      "World 275 Failed to load\n",
      "World 276 Failed to load\n",
      "World 277 Failed to load\n",
      "World 278 Failed to load\n",
      "World 279 Failed to load\n",
      "World 280 Failed to load\n",
      "World 281 Failed to load\n",
      "World 282 Failed to load\n",
      "World 283 Failed to load\n",
      "World 284 Failed to load\n",
      "World 285 Failed to load\n",
      "World 286 Failed to load\n",
      "World 287 Failed to load\n",
      "World 288 Failed to load\n",
      "World 289 Failed to load\n"
     ]
    },
    {
     "name": "stderr",
     "output_type": "stream",
     "text": [
      "\r",
      " 67%|██████▋   | 211/313 [00:00<00:00, 307.56it/s]"
     ]
    },
    {
     "name": "stdout",
     "output_type": "stream",
     "text": [
      "World 290 Failed to load\n",
      "World 291 Failed to load\n",
      "World 292 Failed to load\n",
      "World 293 Failed to load\n",
      "World 294 Failed to load\n",
      "World 295 Failed to load\n",
      "World 296 Failed to load\n",
      "World 297 Failed to load\n",
      "World 298 Failed to load\n",
      "World 299 Failed to load\n",
      "World 3 Failed to load\n",
      "World 300 Failed to load\n",
      "World 301 Failed to load\n",
      "World 302 Failed to load\n",
      "World 303 Failed to load\n",
      "World 304 Failed to load\n",
      "World 305 Failed to load\n",
      "World 306 Failed to load\n",
      "World 307 Failed to load\n",
      "World 308 Failed to load\n",
      "World 309 Failed to load\n",
      "World 310 Failed to load\n",
      "World 311 Failed to load\n",
      "World 312 Failed to load\n"
     ]
    },
    {
     "name": "stderr",
     "output_type": "stream",
     "text": [
      "\r",
      " 76%|███████▌  | 238/313 [00:00<00:00, 272.86it/s]"
     ]
    },
    {
     "name": "stdout",
     "output_type": "stream",
     "text": [
      "World 313 Failed to load\n",
      "World 4 Failed to load\n",
      "World 65 Failed to load\n",
      "World 78 Failed to load\n"
     ]
    },
    {
     "name": "stderr",
     "output_type": "stream",
     "text": [
      "100%|██████████| 313/313 [00:00<00:00, 444.61it/s]\n"
     ]
    }
   ],
   "source": [
    "for label in classes:\n",
    "    files = os.path.join(RAW_DATA_DIR,label)\n",
    "    for f in tqdm(os.listdir(files)):\n",
    "        id_ = f.split('.')[0]\n",
    "        try:\n",
    "            with open(os.path.join(files,f),encoding='utf-8') as content:\n",
    "                text = content.read().strip()\n",
    "            #Adding corresponding data to the dictionary\n",
    "            data_dict['id'].append(id_)\n",
    "            data_dict['class'].append(label)\n",
    "            data_dict['text'].append(text)\n",
    "        except:\n",
    "            print(label,id_,\"Failed to load\")\n"
   ]
  },
  {
   "cell_type": "code",
   "execution_count": 8,
   "metadata": {},
   "outputs": [
    {
     "data": {
      "text/html": [
       "<div>\n",
       "<style scoped>\n",
       "    .dataframe tbody tr th:only-of-type {\n",
       "        vertical-align: middle;\n",
       "    }\n",
       "\n",
       "    .dataframe tbody tr th {\n",
       "        vertical-align: top;\n",
       "    }\n",
       "\n",
       "    .dataframe thead th {\n",
       "        text-align: right;\n",
       "    }\n",
       "</style>\n",
       "<table border=\"1\" class=\"dataframe\">\n",
       "  <thead>\n",
       "    <tr style=\"text-align: right;\">\n",
       "      <th></th>\n",
       "      <th>id</th>\n",
       "      <th>class</th>\n",
       "      <th>text</th>\n",
       "    </tr>\n",
       "  </thead>\n",
       "  <tbody>\n",
       "    <tr>\n",
       "      <th>0</th>\n",
       "      <td>1</td>\n",
       "      <td>Agriculture</td>\n",
       "      <td>﻿काठमाडौंमा पहिलो पटक स्ट्रबेरीको व्यवसायिक खे...</td>\n",
       "    </tr>\n",
       "    <tr>\n",
       "      <th>1</th>\n",
       "      <td>10</td>\n",
       "      <td>Agriculture</td>\n",
       "      <td>जिल्लाका किसानले लगाएको अदुवामा गानो कुहिने, ग...</td>\n",
       "    </tr>\n",
       "    <tr>\n",
       "      <th>2</th>\n",
       "      <td>100</td>\n",
       "      <td>Agriculture</td>\n",
       "      <td>काभ्रेपलाञ्चोकमा कृषकले एसआरआई प्रविधिमा गरेको...</td>\n",
       "    </tr>\n",
       "    <tr>\n",
       "      <th>3</th>\n",
       "      <td>11</td>\n",
       "      <td>Agriculture</td>\n",
       "      <td>राजधानीमा यतिबेला तरकारीको मूल्य आकासिएको छ। क...</td>\n",
       "    </tr>\n",
       "    <tr>\n",
       "      <th>4</th>\n",
       "      <td>12</td>\n",
       "      <td>Agriculture</td>\n",
       "      <td>पाल पोल्ट्री तथा लाइभस्टक क्षेत्रको समग्र विका...</td>\n",
       "    </tr>\n",
       "    <tr>\n",
       "      <th>5</th>\n",
       "      <td>13</td>\n",
       "      <td>Agriculture</td>\n",
       "      <td>माग अनुसारको आपूर्ति नभएपछि तरकारीको मुल्य दोब...</td>\n",
       "    </tr>\n",
       "    <tr>\n",
       "      <th>6</th>\n",
       "      <td>14</td>\n",
       "      <td>Agriculture</td>\n",
       "      <td>नेपाल र चीनबीचको सम्झौतासँगै शुरु भएको परियोजन...</td>\n",
       "    </tr>\n",
       "    <tr>\n",
       "      <th>7</th>\n",
       "      <td>15</td>\n",
       "      <td>Agriculture</td>\n",
       "      <td>यस वर्ष अम्बामा देशैभर अम्बामा रोग देखा पर्‍यो...</td>\n",
       "    </tr>\n",
       "    <tr>\n",
       "      <th>8</th>\n",
       "      <td>16</td>\n",
       "      <td>Agriculture</td>\n",
       "      <td>लैँचीको कारोबार ठप्प भएपछि चाडबाडका लागि खर्च ...</td>\n",
       "    </tr>\n",
       "    <tr>\n",
       "      <th>9</th>\n",
       "      <td>17</td>\n",
       "      <td>Agriculture</td>\n",
       "      <td>बदलिँदो मौसमका कारण मोरङमा उन्नत जातको धानबाली...</td>\n",
       "    </tr>\n",
       "    <tr>\n",
       "      <th>10</th>\n",
       "      <td>18</td>\n",
       "      <td>Agriculture</td>\n",
       "      <td>बजारमा तरकारी मूल्य आकासिएको छ। व्यापारीहरूले ...</td>\n",
       "    </tr>\n",
       "    <tr>\n",
       "      <th>11</th>\n",
       "      <td>19</td>\n",
       "      <td>Agriculture</td>\n",
       "      <td>हाम्रो घरबाट दैनिक फोहर निस्कछ। कति काम नलाग्न...</td>\n",
       "    </tr>\n",
       "    <tr>\n",
       "      <th>12</th>\n",
       "      <td>2</td>\n",
       "      <td>Agriculture</td>\n",
       "      <td>केही समययता तरकारीमा बढेको मूल्य वृद्धि नियन्त...</td>\n",
       "    </tr>\n",
       "    <tr>\n",
       "      <th>13</th>\n",
       "      <td>20</td>\n",
       "      <td>Agriculture</td>\n",
       "      <td>बडिगाड नदीले वर्षेनी खेतीयोग्य जमिन कटान गर्दै...</td>\n",
       "    </tr>\n",
       "    <tr>\n",
       "      <th>14</th>\n",
       "      <td>21</td>\n",
       "      <td>Agriculture</td>\n",
       "      <td>पाँचथर फिदिम–१ का केशव नेम्वाङले वैदेशिक रोजगा...</td>\n",
       "    </tr>\n",
       "    <tr>\n",
       "      <th>15</th>\n",
       "      <td>22</td>\n",
       "      <td>Agriculture</td>\n",
       "      <td>दुई पात एक सुइरोको चिया नै सबैभन्दा गतिलो भनेर...</td>\n",
       "    </tr>\n",
       "    <tr>\n",
       "      <th>16</th>\n",
       "      <td>23</td>\n",
       "      <td>Agriculture</td>\n",
       "      <td>मुख्य नगदेबालीको रूपमा रहेको अदुवामा रोग लाग्न...</td>\n",
       "    </tr>\n",
       "    <tr>\n",
       "      <th>17</th>\n",
       "      <td>24</td>\n",
       "      <td>Agriculture</td>\n",
       "      <td>खसी बोकाका लागि भारतीय बजारमा निर्भर रहेको नेप...</td>\n",
       "    </tr>\n",
       "    <tr>\n",
       "      <th>18</th>\n",
       "      <td>25</td>\n",
       "      <td>Agriculture</td>\n",
       "      <td>कञ्चनपुरको बेदकोट नगरपालिका–९ सुन्दरपुरका इन्द...</td>\n",
       "    </tr>\n",
       "    <tr>\n",
       "      <th>19</th>\n",
       "      <td>26</td>\n",
       "      <td>Agriculture</td>\n",
       "      <td>हाँका एक व्यक्तिले १० बिगाहा जमिनमा व्यावसायिक...</td>\n",
       "    </tr>\n",
       "    <tr>\n",
       "      <th>20</th>\n",
       "      <td>27</td>\n",
       "      <td>Agriculture</td>\n",
       "      <td>जिल्लामा उत्पादित अलैंचीको मूल्यमा निरन्तर गिर...</td>\n",
       "    </tr>\n",
       "    <tr>\n",
       "      <th>21</th>\n",
       "      <td>28</td>\n",
       "      <td>Agriculture</td>\n",
       "      <td>पशुपालनको क्षेत्रमा काम गर्दै गरेको अन्तर्राष्...</td>\n",
       "    </tr>\n",
       "    <tr>\n",
       "      <th>22</th>\n",
       "      <td>29</td>\n",
       "      <td>Agriculture</td>\n",
       "      <td>मानव शरिरलाई आवश्यक पर्ने ९० भन्दा बढी किसिमको...</td>\n",
       "    </tr>\n",
       "    <tr>\n",
       "      <th>23</th>\n",
       "      <td>3</td>\n",
       "      <td>Agriculture</td>\n",
       "      <td>जिल्लाबाट वर्षेनी युवा रोजगारीका लागि विदेसिने...</td>\n",
       "    </tr>\n",
       "    <tr>\n",
       "      <th>24</th>\n",
       "      <td>30</td>\n",
       "      <td>Agriculture</td>\n",
       "      <td>यो वर्ष पर्वतमा ४० टन लप्सी प्रशोधन गरिएको छ।\\...</td>\n",
       "    </tr>\n",
       "    <tr>\n",
       "      <th>25</th>\n",
       "      <td>31</td>\n",
       "      <td>Agriculture</td>\n",
       "      <td>फलेवास हिमालपारिको जिल्ला मुस्ताङबाट ट्रकमा ल्...</td>\n",
       "    </tr>\n",
       "    <tr>\n",
       "      <th>26</th>\n",
       "      <td>32</td>\n",
       "      <td>Agriculture</td>\n",
       "      <td>मानव शरिरलाई आवश्यक पर्ने ९० भन्दा बढी किसिमको...</td>\n",
       "    </tr>\n",
       "    <tr>\n",
       "      <th>27</th>\n",
       "      <td>33</td>\n",
       "      <td>Agriculture</td>\n",
       "      <td>यो वर्ष पर्वतमा ४० टन लप्सी प्रशोधन गरिएको छ।\\...</td>\n",
       "    </tr>\n",
       "    <tr>\n",
       "      <th>28</th>\n",
       "      <td>34</td>\n",
       "      <td>Agriculture</td>\n",
       "      <td>फलेवास हिमालपारिको जिल्ला मुस्ताङबाट ट्रकमा ल्...</td>\n",
       "    </tr>\n",
       "    <tr>\n",
       "      <th>29</th>\n",
       "      <td>35</td>\n",
       "      <td>Agriculture</td>\n",
       "      <td>स्वदेश तथा विदेशका विभिन्न क्षेत्रको जागिर अनु...</td>\n",
       "    </tr>\n",
       "    <tr>\n",
       "      <th>...</th>\n",
       "      <td>...</td>\n",
       "      <td>...</td>\n",
       "      <td>...</td>\n",
       "    </tr>\n",
       "    <tr>\n",
       "      <th>5446</th>\n",
       "      <td>71</td>\n",
       "      <td>World</td>\n",
       "      <td>﻿\\nअर्जेन्टिनाको उत्तरी प्रान्त लारिओजामा दुई ...</td>\n",
       "    </tr>\n",
       "    <tr>\n",
       "      <th>5447</th>\n",
       "      <td>72</td>\n",
       "      <td>World</td>\n",
       "      <td>﻿काठमाडौँ, २९ फागुन - संसदको सामाजिक न्याय तथा...</td>\n",
       "    </tr>\n",
       "    <tr>\n",
       "      <th>5448</th>\n",
       "      <td>73</td>\n",
       "      <td>World</td>\n",
       "      <td>﻿नेपालमा आएको भुकम्पले छिमेकमा पनि असर गर्यो। ...</td>\n",
       "    </tr>\n",
       "    <tr>\n",
       "      <th>5449</th>\n",
       "      <td>74</td>\n",
       "      <td>World</td>\n",
       "      <td>﻿ स्विट्जल्यान्डमा शनिबार राति अन्धाधुन्ध गोली...</td>\n",
       "    </tr>\n",
       "    <tr>\n",
       "      <th>5450</th>\n",
       "      <td>75</td>\n",
       "      <td>World</td>\n",
       "      <td>﻿भारतले २९० किलोमिटर दुरी सम्म मार हान्न सक्ने...</td>\n",
       "    </tr>\n",
       "    <tr>\n",
       "      <th>5451</th>\n",
       "      <td>76</td>\n",
       "      <td>World</td>\n",
       "      <td>﻿उत्तर कोरियाका रक्षा मन्त्रीलाई फाँसी दिइएको ...</td>\n",
       "    </tr>\n",
       "    <tr>\n",
       "      <th>5452</th>\n",
       "      <td>77</td>\n",
       "      <td>World</td>\n",
       "      <td>﻿भूगर्भविदहरुले ठूलो भूकम्प आएपछि स-साना पराकम...</td>\n",
       "    </tr>\n",
       "    <tr>\n",
       "      <th>5453</th>\n",
       "      <td>79</td>\n",
       "      <td>World</td>\n",
       "      <td>﻿एक साता अघि नेपालमा गएको विनाशकारी महाभूकम्प ...</td>\n",
       "    </tr>\n",
       "    <tr>\n",
       "      <th>5454</th>\n",
       "      <td>8</td>\n",
       "      <td>World</td>\n",
       "      <td>﻿श्रावण १० काठमाण्डौं । इजरायली र प्यलेस्टायन्...</td>\n",
       "    </tr>\n",
       "    <tr>\n",
       "      <th>5455</th>\n",
       "      <td>80</td>\n",
       "      <td>World</td>\n",
       "      <td>﻿अन्तर्राष्ट्रिय मानवअधिकारवादी संस्थाले इण्डो...</td>\n",
       "    </tr>\n",
       "    <tr>\n",
       "      <th>5456</th>\n",
       "      <td>81</td>\n",
       "      <td>World</td>\n",
       "      <td>﻿६ जना अमेरिकी मरीन तथा २ जना नेपाली सैनिकको ह...</td>\n",
       "    </tr>\n",
       "    <tr>\n",
       "      <th>5457</th>\n",
       "      <td>82</td>\n",
       "      <td>World</td>\n",
       "      <td>﻿काठमाडौं । संसारकै सबैभन्दा शक्तिशाली देश अमे...</td>\n",
       "    </tr>\n",
       "    <tr>\n",
       "      <th>5458</th>\n",
       "      <td>83</td>\n",
       "      <td>World</td>\n",
       "      <td>﻿चीनले राष्ट्रपति सी जिनपिङको नेतृत्वमा बनाइएक...</td>\n",
       "    </tr>\n",
       "    <tr>\n",
       "      <th>5459</th>\n",
       "      <td>84</td>\n",
       "      <td>World</td>\n",
       "      <td>﻿काठमाडौं: नेपालमा उडान भर्दै आएका एयरलाइन्सहर...</td>\n",
       "    </tr>\n",
       "    <tr>\n",
       "      <th>5460</th>\n",
       "      <td>85</td>\n",
       "      <td>World</td>\n",
       "      <td>﻿एजेन्सी : विवादित दक्षिणी चीन सागरमाथि युएस स...</td>\n",
       "    </tr>\n",
       "    <tr>\n",
       "      <th>5461</th>\n",
       "      <td>86</td>\n",
       "      <td>World</td>\n",
       "      <td>﻿आयरल्याण्डमा भएको एक ऐतिहासिक जनमत संग्रहमा स...</td>\n",
       "    </tr>\n",
       "    <tr>\n",
       "      <th>5462</th>\n",
       "      <td>87</td>\n",
       "      <td>World</td>\n",
       "      <td>﻿जेठ ११   भारतमा अत्याधिक गर्मी तथा लुका कारण ...</td>\n",
       "    </tr>\n",
       "    <tr>\n",
       "      <th>5463</th>\n",
       "      <td>88</td>\n",
       "      <td>World</td>\n",
       "      <td>﻿भारतीय प्रधानमन्त्री नरेन्द्र मोदीको चीन भ्रम...</td>\n",
       "    </tr>\n",
       "    <tr>\n",
       "      <th>5464</th>\n",
       "      <td>89</td>\n",
       "      <td>World</td>\n",
       "      <td>﻿भारतमा प्रचण्ड गर्मीबाट मृत्यु हुनेको संख्या ...</td>\n",
       "    </tr>\n",
       "    <tr>\n",
       "      <th>5465</th>\n",
       "      <td>9</td>\n",
       "      <td>World</td>\n",
       "      <td>﻿श्रावण १२, काठमाण्डौं । भर्खरै प्राप्त समाचार...</td>\n",
       "    </tr>\n",
       "    <tr>\n",
       "      <th>5466</th>\n",
       "      <td>90</td>\n",
       "      <td>World</td>\n",
       "      <td>﻿इराकमा सरकारी सेनाले इस्लामिक स्टेट उग्रवादीह...</td>\n",
       "    </tr>\n",
       "    <tr>\n",
       "      <th>5467</th>\n",
       "      <td>91</td>\n",
       "      <td>World</td>\n",
       "      <td>﻿उत्तर कोरियाली नेता किम जोङ उनले केही दिनअघि ...</td>\n",
       "    </tr>\n",
       "    <tr>\n",
       "      <th>5468</th>\n",
       "      <td>92</td>\n",
       "      <td>World</td>\n",
       "      <td>﻿संयुक्त राज्य अमेरिकाका राष्ट्रपति बराक ओबामा...</td>\n",
       "    </tr>\n",
       "    <tr>\n",
       "      <th>5469</th>\n",
       "      <td>93</td>\n",
       "      <td>World</td>\n",
       "      <td>﻿यति भन्न सक्छौ कि भूकम्प पृथ्वीमा आउँछ तर यसक...</td>\n",
       "    </tr>\n",
       "    <tr>\n",
       "      <th>5470</th>\n",
       "      <td>94</td>\n",
       "      <td>World</td>\n",
       "      <td>﻿अमेरिकाको अलास्का तटीय क्षेत्रमा ६ दशमलव ८ रे...</td>\n",
       "    </tr>\n",
       "    <tr>\n",
       "      <th>5471</th>\n",
       "      <td>95</td>\n",
       "      <td>World</td>\n",
       "      <td>﻿दिनहुजसो भुकम्पका धक्का महसुस भइरहने जापानमा ...</td>\n",
       "    </tr>\n",
       "    <tr>\n",
       "      <th>5472</th>\n",
       "      <td>96</td>\n",
       "      <td>World</td>\n",
       "      <td>﻿संसारका मुख्य शक्तिहरुका बोली र व्यवहारमा कडा...</td>\n",
       "    </tr>\n",
       "    <tr>\n",
       "      <th>5473</th>\n",
       "      <td>97</td>\n",
       "      <td>World</td>\n",
       "      <td>﻿शुक्रबार मात्र ज्वालामुखि बिस्फोट भएको जापानम...</td>\n",
       "    </tr>\n",
       "    <tr>\n",
       "      <th>5474</th>\n",
       "      <td>98</td>\n",
       "      <td>World</td>\n",
       "      <td>﻿बेइजिङ, जेठ १६ (एजेन्सी)   एक अध्ययनका अनुसार...</td>\n",
       "    </tr>\n",
       "    <tr>\n",
       "      <th>5475</th>\n",
       "      <td>99</td>\n",
       "      <td>World</td>\n",
       "      <td>﻿काठमाडौं, जेठ १८   मलेसिया एयरलाइन्सले आफू टा...</td>\n",
       "    </tr>\n",
       "  </tbody>\n",
       "</table>\n",
       "<p>5476 rows × 3 columns</p>\n",
       "</div>"
      ],
      "text/plain": [
       "       id        class                                               text\n",
       "0       1  Agriculture  ﻿काठमाडौंमा पहिलो पटक स्ट्रबेरीको व्यवसायिक खे...\n",
       "1      10  Agriculture  जिल्लाका किसानले लगाएको अदुवामा गानो कुहिने, ग...\n",
       "2     100  Agriculture  काभ्रेपलाञ्चोकमा कृषकले एसआरआई प्रविधिमा गरेको...\n",
       "3      11  Agriculture  राजधानीमा यतिबेला तरकारीको मूल्य आकासिएको छ। क...\n",
       "4      12  Agriculture  पाल पोल्ट्री तथा लाइभस्टक क्षेत्रको समग्र विका...\n",
       "5      13  Agriculture  माग अनुसारको आपूर्ति नभएपछि तरकारीको मुल्य दोब...\n",
       "6      14  Agriculture  नेपाल र चीनबीचको सम्झौतासँगै शुरु भएको परियोजन...\n",
       "7      15  Agriculture  यस वर्ष अम्बामा देशैभर अम्बामा रोग देखा पर्‍यो...\n",
       "8      16  Agriculture  लैँचीको कारोबार ठप्प भएपछि चाडबाडका लागि खर्च ...\n",
       "9      17  Agriculture  बदलिँदो मौसमका कारण मोरङमा उन्नत जातको धानबाली...\n",
       "10     18  Agriculture  बजारमा तरकारी मूल्य आकासिएको छ। व्यापारीहरूले ...\n",
       "11     19  Agriculture  हाम्रो घरबाट दैनिक फोहर निस्कछ। कति काम नलाग्न...\n",
       "12      2  Agriculture  केही समययता तरकारीमा बढेको मूल्य वृद्धि नियन्त...\n",
       "13     20  Agriculture  बडिगाड नदीले वर्षेनी खेतीयोग्य जमिन कटान गर्दै...\n",
       "14     21  Agriculture  पाँचथर फिदिम–१ का केशव नेम्वाङले वैदेशिक रोजगा...\n",
       "15     22  Agriculture  दुई पात एक सुइरोको चिया नै सबैभन्दा गतिलो भनेर...\n",
       "16     23  Agriculture  मुख्य नगदेबालीको रूपमा रहेको अदुवामा रोग लाग्न...\n",
       "17     24  Agriculture  खसी बोकाका लागि भारतीय बजारमा निर्भर रहेको नेप...\n",
       "18     25  Agriculture  कञ्चनपुरको बेदकोट नगरपालिका–९ सुन्दरपुरका इन्द...\n",
       "19     26  Agriculture  हाँका एक व्यक्तिले १० बिगाहा जमिनमा व्यावसायिक...\n",
       "20     27  Agriculture  जिल्लामा उत्पादित अलैंचीको मूल्यमा निरन्तर गिर...\n",
       "21     28  Agriculture  पशुपालनको क्षेत्रमा काम गर्दै गरेको अन्तर्राष्...\n",
       "22     29  Agriculture  मानव शरिरलाई आवश्यक पर्ने ९० भन्दा बढी किसिमको...\n",
       "23      3  Agriculture  जिल्लाबाट वर्षेनी युवा रोजगारीका लागि विदेसिने...\n",
       "24     30  Agriculture  यो वर्ष पर्वतमा ४० टन लप्सी प्रशोधन गरिएको छ।\\...\n",
       "25     31  Agriculture  फलेवास हिमालपारिको जिल्ला मुस्ताङबाट ट्रकमा ल्...\n",
       "26     32  Agriculture  मानव शरिरलाई आवश्यक पर्ने ९० भन्दा बढी किसिमको...\n",
       "27     33  Agriculture  यो वर्ष पर्वतमा ४० टन लप्सी प्रशोधन गरिएको छ।\\...\n",
       "28     34  Agriculture  फलेवास हिमालपारिको जिल्ला मुस्ताङबाट ट्रकमा ल्...\n",
       "29     35  Agriculture  स्वदेश तथा विदेशका विभिन्न क्षेत्रको जागिर अनु...\n",
       "...   ...          ...                                                ...\n",
       "5446   71        World  ﻿\\nअर्जेन्टिनाको उत्तरी प्रान्त लारिओजामा दुई ...\n",
       "5447   72        World  ﻿काठमाडौँ, २९ फागुन - संसदको सामाजिक न्याय तथा...\n",
       "5448   73        World  ﻿नेपालमा आएको भुकम्पले छिमेकमा पनि असर गर्यो। ...\n",
       "5449   74        World  ﻿ स्विट्जल्यान्डमा शनिबार राति अन्धाधुन्ध गोली...\n",
       "5450   75        World  ﻿भारतले २९० किलोमिटर दुरी सम्म मार हान्न सक्ने...\n",
       "5451   76        World  ﻿उत्तर कोरियाका रक्षा मन्त्रीलाई फाँसी दिइएको ...\n",
       "5452   77        World  ﻿भूगर्भविदहरुले ठूलो भूकम्प आएपछि स-साना पराकम...\n",
       "5453   79        World  ﻿एक साता अघि नेपालमा गएको विनाशकारी महाभूकम्प ...\n",
       "5454    8        World  ﻿श्रावण १० काठमाण्डौं । इजरायली र प्यलेस्टायन्...\n",
       "5455   80        World  ﻿अन्तर्राष्ट्रिय मानवअधिकारवादी संस्थाले इण्डो...\n",
       "5456   81        World  ﻿६ जना अमेरिकी मरीन तथा २ जना नेपाली सैनिकको ह...\n",
       "5457   82        World  ﻿काठमाडौं । संसारकै सबैभन्दा शक्तिशाली देश अमे...\n",
       "5458   83        World  ﻿चीनले राष्ट्रपति सी जिनपिङको नेतृत्वमा बनाइएक...\n",
       "5459   84        World  ﻿काठमाडौं: नेपालमा उडान भर्दै आएका एयरलाइन्सहर...\n",
       "5460   85        World  ﻿एजेन्सी : विवादित दक्षिणी चीन सागरमाथि युएस स...\n",
       "5461   86        World  ﻿आयरल्याण्डमा भएको एक ऐतिहासिक जनमत संग्रहमा स...\n",
       "5462   87        World  ﻿जेठ ११   भारतमा अत्याधिक गर्मी तथा लुका कारण ...\n",
       "5463   88        World  ﻿भारतीय प्रधानमन्त्री नरेन्द्र मोदीको चीन भ्रम...\n",
       "5464   89        World  ﻿भारतमा प्रचण्ड गर्मीबाट मृत्यु हुनेको संख्या ...\n",
       "5465    9        World  ﻿श्रावण १२, काठमाण्डौं । भर्खरै प्राप्त समाचार...\n",
       "5466   90        World  ﻿इराकमा सरकारी सेनाले इस्लामिक स्टेट उग्रवादीह...\n",
       "5467   91        World  ﻿उत्तर कोरियाली नेता किम जोङ उनले केही दिनअघि ...\n",
       "5468   92        World  ﻿संयुक्त राज्य अमेरिकाका राष्ट्रपति बराक ओबामा...\n",
       "5469   93        World  ﻿यति भन्न सक्छौ कि भूकम्प पृथ्वीमा आउँछ तर यसक...\n",
       "5470   94        World  ﻿अमेरिकाको अलास्का तटीय क्षेत्रमा ६ दशमलव ८ रे...\n",
       "5471   95        World  ﻿दिनहुजसो भुकम्पका धक्का महसुस भइरहने जापानमा ...\n",
       "5472   96        World  ﻿संसारका मुख्य शक्तिहरुका बोली र व्यवहारमा कडा...\n",
       "5473   97        World  ﻿शुक्रबार मात्र ज्वालामुखि बिस्फोट भएको जापानम...\n",
       "5474   98        World  ﻿बेइजिङ, जेठ १६ (एजेन्सी)   एक अध्ययनका अनुसार...\n",
       "5475   99        World  ﻿काठमाडौं, जेठ १८   मलेसिया एयरलाइन्सले आफू टा...\n",
       "\n",
       "[5476 rows x 3 columns]"
      ]
     },
     "execution_count": 8,
     "metadata": {},
     "output_type": "execute_result"
    }
   ],
   "source": [
    "df = pd.DataFrame(data_dict,columns=columns)\n",
    "df.columns\n",
    "df"
   ]
  },
  {
   "cell_type": "code",
   "execution_count": 9,
   "metadata": {},
   "outputs": [],
   "source": [
    "df.dropna(inplace=True) # drop rows with invalid values"
   ]
  },
  {
   "cell_type": "markdown",
   "metadata": {},
   "source": [
    "## Processing data"
   ]
  },
  {
   "cell_type": "code",
   "execution_count": 11,
   "metadata": {},
   "outputs": [],
   "source": [
    "from nltk.corpus import stopwords\n",
    "from sklearn.feature_extraction.text import TfidfVectorizer\n",
    "from sklearn.metrics.pairwise import linear_kernel"
   ]
  },
  {
   "cell_type": "code",
   "execution_count": 12,
   "metadata": {},
   "outputs": [
    {
     "name": "stderr",
     "output_type": "stream",
     "text": [
      "E:\\Anaconda\\lib\\site-packages\\sklearn\\feature_extraction\\text.py:301: UserWarning: Your stop_words may be inconsistent with your preprocessing. Tokenizing the stop words generated tokens ['कम', 'से'] not in stop_words.\n",
      "  'stop_words.' % sorted(inconsistent))\n",
      "E:\\Anaconda\\lib\\site-packages\\sklearn\\metrics\\pairwise.py:54: DeprecationWarning: `np.float` is a deprecated alias for the builtin `float`. To silence this warning, use `float` by itself. Doing this will not modify any behavior and is safe. If you specifically wanted the numpy scalar type, use `np.float64` here.\n",
      "Deprecated in NumPy 1.20; for more details and guidance: https://numpy.org/devdocs/release/1.20.0-notes.html#deprecations\n",
      "  dtype = np.float\n"
     ]
    }
   ],
   "source": [
    "nepali_stop_words = set(stopwords.words('nepali'))\n",
    "\n",
    "tf = TfidfVectorizer(stop_words=nepali_stop_words,encoding='utf-8',decode_error='ignore')\n",
    "tf = TfidfVectorizer(tokenizer= lambda x: x.split(\" \"),\n",
    "                                  sublinear_tf=True, encoding='utf-8',\n",
    "                                  decode_error='ignore',\n",
    "                                  max_df=0.5,\n",
    "                                  min_df=10,\n",
    "                                  stop_words=nepali_stop_words)\n",
    "\n",
    "tfidf_matrix = tf.fit_transform(df['text'])\n",
    "\n",
    "cosine_similarities = linear_kernel(tfidf_matrix, tfidf_matrix)\n",
    "\n",
    "results = {}"
   ]
  },
  {
   "cell_type": "code",
   "execution_count": 13,
   "metadata": {},
   "outputs": [
    {
     "name": "stdout",
     "output_type": "stream",
     "text": [
      "Completed!\n"
     ]
    }
   ],
   "source": [
    "for idx, row in df.iterrows():\n",
    "    idx = int(idx)\n",
    "    similar_indices = cosine_similarities[idx].argsort()[:-100:-1]\n",
    "    similar_items = [(cosine_similarities[idx][i], df['id'][i]) for i in similar_indices]\n",
    "\n",
    "    results[row['id']] = similar_items[1:]\n",
    "    \n",
    "print('Completed!')\n",
    "similar_indices = cosine_similarities[idx].argsort()[:-100:-1]"
   ]
  },
  {
   "cell_type": "markdown",
   "metadata": {},
   "source": [
    "## Displaying Results"
   ]
  },
  {
   "cell_type": "code",
   "execution_count": 14,
   "metadata": {},
   "outputs": [
    {
     "name": "stdout",
     "output_type": "stream",
     "text": [
      "\n",
      "\n"
     ]
    },
    {
     "data": {
      "text/markdown": [
       "**Recommendation System**"
      ],
      "text/plain": [
       "<IPython.core.display.Markdown object>"
      ]
     },
     "metadata": {},
     "output_type": "display_data"
    },
    {
     "name": "stdout",
     "output_type": "stream",
     "text": [
      "10 news similar to 'डिष्टिलरी उद्योगबाट छाडिएको दूषित पानीले रौतहटको दक्षिणी भेगका सयौं बिगाहा जग्गामा लगाइएको धानबाली न...'\n",
      "\n",
      "\n",
      "1) 'अलैँचीको बिरुवा विक्री गरेर राम्रो कमाइ गर्ने उद्देश्यले पूर्वी पहाडी जिल्लाका कृषकले व्यावसायिक रुपमै अलैँचीको बिरुवा उमारे पनि सोचेअनुरुप यस वर्ष बिरुवा विक्री नभएकामा चिन्तित छन् ।\n",
      "अलैँची खेतीको वि...' (score:0.29983569577803443)\n",
      "\n",
      "\n",
      "2) '﻿नेपालका लागि टिभिएसका दुई पांगे्र सवारीको आधिकारिक वितरक जगदम्बा मोटर्सले टिभिएस अपाचे आरटिआर २०० ४भी सार्वजनिक गरेको छ।\n",
      "\n",
      "रेस इडिसन २.० नाम दिइएको अपाचे आटिआर २०० ४भीमा एन्टी रिजर्भ टर्क स्लिप्पर क्ल...' (score:0.2127590569849505)\n",
      "\n",
      "\n",
      "3) 'सन् २०१० मा रोजगारीको क्रममा कतार पुगेका खेम पौडेलले बालुवा नै बालुवा भएको ठाउँमा कलकलाउँदो हरियाली, तरकारी फलफूलको उत्पादन देखे। त्यो देखेर उनको मनमा प्रश्न उब्जियो, माटो, पानी  मल केही पनि नभएको ठाउ...' (score:0.19362969967347377)\n",
      "\n",
      "\n",
      "4) '﻿पदम सिंह\n",
      "बाजुरा, २ चैत – द्वन्द्वकालमा विस्थापित भएकोे कोल्टीमा राष्ट्रिय वाणिज्य बैंकको शाखा पुनःस्थापना नहुँदा त्यस क्षेत्रका ११ गाविस र हुम्ला, जुम्ला कालिकोट, मुगुका स्थानीयलाई समस्या भएको छ ।\n",
      "जि...' (score:0.18420128330435329)\n",
      "\n",
      "\n",
      "5) 'काभ्रेपलाञ्चोकमा उत्पादन हुने विभिन्न कृषि उपजको औसत मूल्य घट्दै गएको छ ।\n",
      "जिल्लाको पाँचखाल, बल्थली, कुशादेवी, भकुण्डबेँसी र महादेवस्थानबाट नियमित संकलन हुने विभिन्न अन्नबाली तथा नगदेबालीको मूल्य कृषकल...' (score:0.16065337252733522)\n",
      "\n",
      "\n",
      "6) '﻿\n",
      "८ माघ, काठमाडौं । बैंकहरुले फेरि बिजुली भएको समयमा मात्रै बैंकिङ सेवा दिने तयारी गरेका छन् ।\n",
      "राष्ट्र बैंकको मौखिक निर्देशनपछि लोडसेडिङ तालिका टाँस्न छोडेका बैंक तथा वित्तीय संस्थाहरुले फेरि लोडेसेडि...' (score:0.16050602309871398)\n",
      "\n",
      "\n",
      "7) '﻿भुवन पौडेल\n",
      "काठमाडौं, ४ माघ- नाकाबन्दीले मुलुकको समग्र अर्थतन्त्र नकारात्मक देखिए पनि सेयर बजारले भने नयाँ उचाइ बनाएको छ । गत भदौपछि लगातार घट्न थालेको नेपाल स्टक एक्सचेन्ज(नेप्से) परिसूचक आइतबार १ हज...' (score:0.15478625313239833)\n",
      "\n",
      "\n",
      "8) '﻿नेपालका लागि टिभिएसका दुई पांगे्र सवारीको आधिकारिक वितरक जगदम्बा मोटर्सले टिभिएस अपाचे आरटिआर २०० ४भी सार्वजनिक गरेको छ।\n",
      "\n",
      "रेस इडिसन २.० नाम दिइएको अपाचे आटिआर २०० ४भीमा एन्टी रिजर्भ टर्क स्लिप्पर क्ल...' (score:0.15083326754391116)\n",
      "\n",
      "\n",
      "9) '﻿काठमाडौ, १७ फागुन – नेपाल राष्ट्र बैंकले भूकम्पपीडितका लागि छुट्ट्याइएको सहुलियत कर्जा प्रक्रियालाई सरलीकरण गर्ने भएको छ । पीडितका लागि छुट्ट्याइएको २ प्रतिशत ब्याजदरको कर्जा जम्मा २ वटा मात्रै प्रवा...' (score:0.14797637595214813)\n",
      "\n",
      "\n",
      "10) '﻿नेपालका लागि टिभिएसका दुई पांगे्र सवारीको आधिकारिक वितरक जगदम्बा मोटर्सले टिभिएस अपाचे आरटिआर २०० ४भी सार्वजनिक गरेको छ।\n",
      "\n",
      "रेस इडिसन २.० नाम दिइएको अपाचे आटिआर २०० ४भीमा एन्टी रिजर्भ टर्क स्लिप्पर क्ल...' (score:0.14358451037531347)\n"
     ]
    }
   ],
   "source": [
    "def printBold(string):\n",
    "    display(Markdown(string))\n",
    "\n",
    "def item(id):\n",
    "    id = str(id)\n",
    "    return df.loc[df['id'] == id]['text'].tolist()[0].split(' - ')[0]\n",
    "\n",
    "def recommender(item_id, num): \n",
    "    print(\"\\n\")\n",
    "    printBold(\"**Recommendation System**\")\n",
    "    print(str(num) + \" news similar to \" + \"'\"+ item(item_id)[:100] + \"...\" + \"'\" )\n",
    "\n",
    "    recs = results[str(item_id)][:num]\n",
    "    for index, rec in enumerate(recs):\n",
    "        print(\"\\n\")\n",
    "        print(str(index+1) + \") \" + \"'\"+ item(rec[1])[:200] + \"...\" + \"'\" + \" (score:\" + str(rec[0]) + \")\")\n",
    "\n",
    "# Extract the news (that the user is currently interacting with) and provide 8 recommended news\n",
    "recommender(item_id=69, num=10)"
   ]
  }
 ],
 "metadata": {
  "kernelspec": {
   "display_name": "Python 3",
   "language": "python",
   "name": "python3"
  },
  "language_info": {
   "codemirror_mode": {
    "name": "ipython",
    "version": 3
   },
   "file_extension": ".py",
   "mimetype": "text/x-python",
   "name": "python",
   "nbconvert_exporter": "python",
   "pygments_lexer": "ipython3",
   "version": "3.7.3"
  }
 },
 "nbformat": 4,
 "nbformat_minor": 2
}
